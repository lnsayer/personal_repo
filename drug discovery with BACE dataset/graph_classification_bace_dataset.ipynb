{
  "nbformat": 4,
  "nbformat_minor": 0,
  "metadata": {
    "colab": {
      "provenance": [],
      "authorship_tag": "ABX9TyNiQhGQpIX1neitVw2rtzCH",
      "include_colab_link": true
    },
    "kernelspec": {
      "name": "python3",
      "display_name": "Python 3"
    },
    "language_info": {
      "name": "python"
    }
  },
  "cells": [
    {
      "cell_type": "markdown",
      "metadata": {
        "id": "view-in-github",
        "colab_type": "text"
      },
      "source": [
        "<a href=\"https://colab.research.google.com/github/lnsayer/personal_repo/blob/main/drug%20discovery%20with%20BACE%20dataset/graph_classification_bace_dataset.ipynb\" target=\"_parent\"><img src=\"https://colab.research.google.com/assets/colab-badge.svg\" alt=\"Open In Colab\"/></a>"
      ]
    },
    {
      "cell_type": "code",
      "source": [
        "# Install necessary packages\n",
        "!pip install rdkit\n",
        "!pip install torch_geometric\n",
        "!pip install deepchem\n",
        "!pip install networkx"
      ],
      "metadata": {
        "colab": {
          "base_uri": "https://localhost:8080/"
        },
        "id": "axXnWUEc_e4p",
        "outputId": "c7b9e915-f632-4729-a504-542f44e52024"
      },
      "execution_count": null,
      "outputs": [
        {
          "output_type": "stream",
          "name": "stdout",
          "text": [
            "Collecting rdkit\n",
            "  Downloading rdkit-2023.9.6-cp310-cp310-manylinux_2_17_x86_64.manylinux2014_x86_64.whl (34.9 MB)\n",
            "\u001b[2K     \u001b[90m━━━━━━━━━━━━━━━━━━━━━━━━━━━━━━━━━━━━━━━━\u001b[0m \u001b[32m34.9/34.9 MB\u001b[0m \u001b[31m16.6 MB/s\u001b[0m eta \u001b[36m0:00:00\u001b[0m\n",
            "\u001b[?25hRequirement already satisfied: numpy in /usr/local/lib/python3.10/dist-packages (from rdkit) (1.25.2)\n",
            "Requirement already satisfied: Pillow in /usr/local/lib/python3.10/dist-packages (from rdkit) (9.4.0)\n"
          ]
        }
      ]
    },
    {
      "cell_type": "code",
      "execution_count": null,
      "metadata": {
        "id": "SEOOvseDz99l"
      },
      "outputs": [],
      "source": [
        "# Import necessary modules\n",
        "import requests\n",
        "from pathlib import Path\n",
        "import os.path as osp\n",
        "\n",
        "from rdkit import Chem\n",
        "from rdkit.Chem import Draw\n",
        "\n",
        "import torch\n",
        "import torch_geometric\n",
        "from torch_geometric.data import InMemoryDataset\n",
        "from torch_geometric.data import Dataset\n",
        "from torch_geometric.data import Data\n",
        "from torch_geometric.loader import DataLoader\n",
        "\n",
        "import deepchem as dc\n",
        "from deepchem.feat.graph_data import GraphData\n",
        "\n",
        "import numpy as np\n",
        "import pandas as pd\n",
        "import matplotlib.pyplot as plt\n",
        "\n",
        "import networkx as nx"
      ]
    },
    {
      "cell_type": "code",
      "source": [
        "# Specify Paths to where data is stored (will have raw and processed files)\n",
        "data_path = Path(\"data/\")\n",
        "bace_path = data_path / \"raw\"\n",
        "\n",
        "print(type(bace_path))\n",
        "print(bace_path)"
      ],
      "metadata": {
        "id": "mYmKzoV11Bt3"
      },
      "execution_count": null,
      "outputs": []
    },
    {
      "cell_type": "code",
      "source": [
        "# Check if Bace csv file has been downloaded, if not, download it\n",
        "if bace_path.is_dir():\n",
        "  print(f\"{bace_path} is already a directory\")\n",
        "else:\n",
        "  print(f\"{bace_path} is not a directory, creating one\")\n",
        "  bace_path.mkdir(parents=True, exist_ok=True)\n",
        "\n",
        "  with open(bace_path / \"bace.csv\", \"wb\") as f:\n",
        "    request = requests.get(\"https://raw.githubusercontent.com/lnsayer/personal_repo/main/drug%20discovery%20with%20BACE%20dataset/data/bace.csv\")\n",
        "    print(\"Downloading data\")\n",
        "    f.write(request.content)"
      ],
      "metadata": {
        "id": "ks0Nb2ZM4jwj"
      },
      "execution_count": null,
      "outputs": []
    },
    {
      "cell_type": "code",
      "source": [
        "# Turn CSV file into a dataframe and resave it without unnecessary columns\n",
        "bace_df = pd.read_csv(bace_path/ \"bace.csv\")\n",
        "bace_df = bace_df[[\"mol\", \"CID\", \"Class\", \"Model\", \"pIC50\"]]\n",
        "bace_df.to_csv(bace_path/\"bace.csv\")\n",
        "\n",
        "bace_df"
      ],
      "metadata": {
        "id": "QGSRTJ4X44Bs"
      },
      "execution_count": null,
      "outputs": []
    },
    {
      "cell_type": "code",
      "source": [
        "# Visualise one of the molecules from its SMILE input\n",
        "inhibitor = bace_df[\"mol\"][0]\n",
        "\n",
        "m = Chem.MolFromSmiles(inhibitor)\n",
        "\n",
        "img = Draw.MolToImage(m)\n",
        "\n",
        "display(img)"
      ],
      "metadata": {
        "id": "AAicW09A97b_"
      },
      "execution_count": null,
      "outputs": []
    },
    {
      "cell_type": "code",
      "source": [
        "# Display five random molecules with their SMILES molecules\n",
        "\n",
        "# Create axes and sample SMILES molecules\n",
        "fig, ax = plt.subplots(ncols=5, nrows=1, figsize = (18,6))\n",
        "mols = bace_df.sample(n=5, random_state=42)[\"mol\"]\n",
        "\n",
        "for i in range(len(mols)):\n",
        "\n",
        "  # Convert each molecule to an image\n",
        "  mol = mols.iloc[i]\n",
        "  m = Chem.MolFromSmiles(mol)\n",
        "  img = Draw.MolToImage(m)\n",
        "\n",
        "  # Plot each molecule\n",
        "  ax[i].imshow(img)\n",
        "  ax[i].axis(False);\n",
        "\n",
        "  # Divide the SMILE input into three parts\n",
        "  first_part = mol[:int(len(mol)/3)]\n",
        "  second_part = mol[int(len(mol)//3):int(2*len(mol)//3)]\n",
        "  third_part = mol[int(2*len(mol)//3):]\n",
        "\n",
        "  assert len(mol) == len(first_part)+len(second_part)+len(third_part)\n",
        "\n",
        "  first_title = first_part + \"\\n\"\n",
        "  second_title = second_part + \"\\n\"\n",
        "  third_title = third_part + \"\\n\"\n",
        "\n",
        "  # Title each plot with its respective SMILE input\n",
        "  ax[i].set_title(first_title+second_title+third_title)"
      ],
      "metadata": {
        "id": "FiM-wR6mDlbv"
      },
      "execution_count": null,
      "outputs": []
    },
    {
      "cell_type": "code",
      "source": [
        "# Test converting a molecule into a graph using MolGraphConvFeaturizer and to_pyg_graph\n",
        "\n",
        "# Select first molecule\n",
        "mol = bace_df[\"mol\"][1]\n",
        "\n",
        "# Instantiate MolGraphConvFeaturizer class\n",
        "featurizer=dc.feat.MolGraphConvFeaturizer(use_edges=True)\n",
        "\n",
        "# Convert SMILES molecule into a DeepChem graph\n",
        "out = featurizer.featurize(datapoints=mol)\n",
        "\n",
        "# Convert into torch geometric graph\n",
        "pyg_out = GraphData.to_pyg_graph(out[0])\n",
        "pyg_out.y = torch.tensor([bace_df[\"Class\"][0]])\n",
        "\n",
        "print(pyg_out)\n",
        "\n",
        "\n"
      ],
      "metadata": {
        "id": "REwBMkJ8DwOa"
      },
      "execution_count": null,
      "outputs": []
    },
    {
      "cell_type": "code",
      "source": [
        "# Custom torch geometric Dataset class to store the samples and their corresponding labels\n",
        "\n",
        "class MoleculeDataset(Dataset):\n",
        "  def __init__(self, root, csv_file, transform=None, pre_transform=None, pre_filter=None):\n",
        "    \"\"\"\n",
        "    root = Where the dataset should be stored. This folder is split\n",
        "    into raw_dir (downloaded dataset) and processed_dir(processed data).\n",
        "    \"\"\"\n",
        "    self.csv_file = csv_file\n",
        "    super().__init__(root, transform, pre_transform, pre_filter)\n",
        "\n",
        "  @property\n",
        "  def raw_file_names(self):\n",
        "    \"\"\"\n",
        "    If this file exists in raw_dir, the download is not triggered/\n",
        "    (the download function is not implemented here)\n",
        "    \"\"\"\n",
        "    return self.csv_file\n",
        "\n",
        "  @property\n",
        "  def processed_file_names(self):\n",
        "    \"\"\"\n",
        "    If these files are found in raw_dir, processing is skipped\n",
        "    \"\"\"\n",
        "    self.data = pd.read_csv(self.raw_paths[0]).reset_index()\n",
        "\n",
        "    return [f'data_{i}.pt' for i in list(self.data.index)]\n",
        "\n",
        "  def download(self):\n",
        "    \"\"\"\n",
        "    No need to download the csv file as it is already downloaded\n",
        "    \"\"\"\n",
        "    pass\n",
        "\n",
        "  def process(self):\n",
        "    \"\"\"\n",
        "    I used Deepchem's MolGraphConvFeaturizer to create a graph and then convert that to a torch graph with to_pyg_graph.\n",
        "    \"\"\"\n",
        "    self.data = pd.read_csv(self.raw_paths[0]).reset_index()\n",
        "    featurizer=dc.feat.MolGraphConvFeaturizer(use_edges=True)\n",
        "\n",
        "    for idx, row in self.data.iterrows():\n",
        "      # Featurize molecule and convert to torch graph\n",
        "      smiles = row['mol']\n",
        "      label = row['Class']\n",
        "\n",
        "      out = featurizer.featurize(smiles)\n",
        "      pyg_out = GraphData.to_pyg_graph(out[0])\n",
        "      pyg_out.y = torch.tensor([label])\n",
        "      pyg_out.smiles = smiles\n",
        "\n",
        "      # data = Data(x=pyg_out.x, edge_index=pyg_out.edge_index, edge_attr=pyg_out.edge_attr,\n",
        "      #            y=torch.tensor([label]), dtype = torch.float)\n",
        "\n",
        "      torch.save(pyg_out, osp.join(self.processed_dir, f'data_{idx}.pt'))\n",
        "\n",
        "  def len(self):\n",
        "    \"\"\"\n",
        "    Returns number of samples in the dataset\n",
        "    \"\"\"\n",
        "    return len(self.processed_file_names)\n",
        "\n",
        "  def get(self, idx):\n",
        "    \"\"\"\n",
        "    Loads a single graph\n",
        "    \"\"\"\n",
        "    data = torch.load(osp.join(self.processed_dir, f'data_{idx}.pt'))\n",
        "    return data"
      ],
      "metadata": {
        "id": "FfYq6ypbx8XO"
      },
      "execution_count": null,
      "outputs": []
    },
    {
      "cell_type": "code",
      "source": [
        "# Instantiate the dataset from the BACE CSV file\n",
        "dataset = MoleculeDataset(root = \"data/\", csv_file = \"bace.csv\")\n",
        "len(dataset)"
      ],
      "metadata": {
        "id": "TDUd7BUl-TaU"
      },
      "execution_count": null,
      "outputs": []
    },
    {
      "cell_type": "code",
      "source": [
        "# Create a dataloader from the dataset\n",
        "dataloader = DataLoader(dataset, batch_size=32, shuffle=True)\n",
        "\n",
        "print(f\"Number of batches: {len(dataloader)}\")\n",
        "print(f\"Number of samples: {len(dataset)}\")"
      ],
      "metadata": {
        "id": "DITcTGVx_F3d"
      },
      "execution_count": null,
      "outputs": []
    },
    {
      "cell_type": "code",
      "source": [
        "# Load a single graph\n",
        "dataset[0]"
      ],
      "metadata": {
        "id": "NuE_wWzICdlN"
      },
      "execution_count": null,
      "outputs": []
    },
    {
      "cell_type": "code",
      "source": [
        "fig, ax = plt.subplots(ncols=2, nrows=1, figsize = (14,6))\n",
        "\n",
        "g = torch_geometric.utils.to_networkx(dataset[0], to_undirected=True)\n",
        "nx.draw(g, ax = ax[0])\n",
        "ax[1].draw()\n",
        "\n",
        "mol = mols.iloc[i]\n",
        "m = Chem.MolFromSmiles(mol)\n",
        "img = Draw.MolToImage(m)"
      ],
      "metadata": {
        "id": "WCWU18-2vusz"
      },
      "execution_count": null,
      "outputs": []
    }
  ]
}