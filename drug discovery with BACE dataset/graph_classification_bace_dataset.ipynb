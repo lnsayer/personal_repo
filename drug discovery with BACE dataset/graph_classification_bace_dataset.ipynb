{
  "nbformat": 4,
  "nbformat_minor": 0,
  "metadata": {
    "colab": {
      "provenance": [],
      "gpuType": "T4",
      "machine_shape": "hm",
      "mount_file_id": "1dO7AtA4jMAzA1geCKr6PnMvzPcCUAJpz",
      "authorship_tag": "ABX9TyOnMI6cjoLCHdjtgbqWi+pY",
      "include_colab_link": true
    },
    "kernelspec": {
      "name": "python3",
      "display_name": "Python 3"
    },
    "language_info": {
      "name": "python"
    },
    "accelerator": "GPU",
    "widgets": {
      "application/vnd.jupyter.widget-state+json": {
        "42e451bd627b48b4877c2bf1b1b0227b": {
          "model_module": "@jupyter-widgets/controls",
          "model_name": "HBoxModel",
          "model_module_version": "1.5.0",
          "state": {
            "_dom_classes": [],
            "_model_module": "@jupyter-widgets/controls",
            "_model_module_version": "1.5.0",
            "_model_name": "HBoxModel",
            "_view_count": null,
            "_view_module": "@jupyter-widgets/controls",
            "_view_module_version": "1.5.0",
            "_view_name": "HBoxView",
            "box_style": "",
            "children": [
              "IPY_MODEL_1951c6d9b2394208ae1f9de656db68aa",
              "IPY_MODEL_2d7d1d1864904f2dafa4d4fbd79d87c2",
              "IPY_MODEL_bae0a5d7f6ef4cdd831f009e4bed9c2d"
            ],
            "layout": "IPY_MODEL_d1f4d73eb1fc436884265aa47eb05c6b"
          }
        },
        "1951c6d9b2394208ae1f9de656db68aa": {
          "model_module": "@jupyter-widgets/controls",
          "model_name": "HTMLModel",
          "model_module_version": "1.5.0",
          "state": {
            "_dom_classes": [],
            "_model_module": "@jupyter-widgets/controls",
            "_model_module_version": "1.5.0",
            "_model_name": "HTMLModel",
            "_view_count": null,
            "_view_module": "@jupyter-widgets/controls",
            "_view_module_version": "1.5.0",
            "_view_name": "HTMLView",
            "description": "",
            "description_tooltip": null,
            "layout": "IPY_MODEL_1d4da6a0c2fc427f89aaf408aa1e3b8d",
            "placeholder": "​",
            "style": "IPY_MODEL_d9755adc2c84462ab474a5ede8e35652",
            "value": " 35%"
          }
        },
        "2d7d1d1864904f2dafa4d4fbd79d87c2": {
          "model_module": "@jupyter-widgets/controls",
          "model_name": "FloatProgressModel",
          "model_module_version": "1.5.0",
          "state": {
            "_dom_classes": [],
            "_model_module": "@jupyter-widgets/controls",
            "_model_module_version": "1.5.0",
            "_model_name": "FloatProgressModel",
            "_view_count": null,
            "_view_module": "@jupyter-widgets/controls",
            "_view_module_version": "1.5.0",
            "_view_name": "ProgressView",
            "bar_style": "danger",
            "description": "",
            "description_tooltip": null,
            "layout": "IPY_MODEL_0244f2a73d1d4d57b8f36b36f85993d8",
            "max": 100,
            "min": 0,
            "orientation": "horizontal",
            "style": "IPY_MODEL_95a42d1892da41888dd0519fa25eb6d6",
            "value": 35
          }
        },
        "bae0a5d7f6ef4cdd831f009e4bed9c2d": {
          "model_module": "@jupyter-widgets/controls",
          "model_name": "HTMLModel",
          "model_module_version": "1.5.0",
          "state": {
            "_dom_classes": [],
            "_model_module": "@jupyter-widgets/controls",
            "_model_module_version": "1.5.0",
            "_model_name": "HTMLModel",
            "_view_count": null,
            "_view_module": "@jupyter-widgets/controls",
            "_view_module_version": "1.5.0",
            "_view_name": "HTMLView",
            "description": "",
            "description_tooltip": null,
            "layout": "IPY_MODEL_754d462f553e4d929a7f7dfad51f5063",
            "placeholder": "​",
            "style": "IPY_MODEL_b9a549a78930417aa0af403e7f9a6c7d",
            "value": " 35/100 [01:27&lt;03:53,  3.60s/it]"
          }
        },
        "d1f4d73eb1fc436884265aa47eb05c6b": {
          "model_module": "@jupyter-widgets/base",
          "model_name": "LayoutModel",
          "model_module_version": "1.2.0",
          "state": {
            "_model_module": "@jupyter-widgets/base",
            "_model_module_version": "1.2.0",
            "_model_name": "LayoutModel",
            "_view_count": null,
            "_view_module": "@jupyter-widgets/base",
            "_view_module_version": "1.2.0",
            "_view_name": "LayoutView",
            "align_content": null,
            "align_items": null,
            "align_self": null,
            "border": null,
            "bottom": null,
            "display": null,
            "flex": null,
            "flex_flow": null,
            "grid_area": null,
            "grid_auto_columns": null,
            "grid_auto_flow": null,
            "grid_auto_rows": null,
            "grid_column": null,
            "grid_gap": null,
            "grid_row": null,
            "grid_template_areas": null,
            "grid_template_columns": null,
            "grid_template_rows": null,
            "height": null,
            "justify_content": null,
            "justify_items": null,
            "left": null,
            "margin": null,
            "max_height": null,
            "max_width": null,
            "min_height": null,
            "min_width": null,
            "object_fit": null,
            "object_position": null,
            "order": null,
            "overflow": null,
            "overflow_x": null,
            "overflow_y": null,
            "padding": null,
            "right": null,
            "top": null,
            "visibility": null,
            "width": null
          }
        },
        "1d4da6a0c2fc427f89aaf408aa1e3b8d": {
          "model_module": "@jupyter-widgets/base",
          "model_name": "LayoutModel",
          "model_module_version": "1.2.0",
          "state": {
            "_model_module": "@jupyter-widgets/base",
            "_model_module_version": "1.2.0",
            "_model_name": "LayoutModel",
            "_view_count": null,
            "_view_module": "@jupyter-widgets/base",
            "_view_module_version": "1.2.0",
            "_view_name": "LayoutView",
            "align_content": null,
            "align_items": null,
            "align_self": null,
            "border": null,
            "bottom": null,
            "display": null,
            "flex": null,
            "flex_flow": null,
            "grid_area": null,
            "grid_auto_columns": null,
            "grid_auto_flow": null,
            "grid_auto_rows": null,
            "grid_column": null,
            "grid_gap": null,
            "grid_row": null,
            "grid_template_areas": null,
            "grid_template_columns": null,
            "grid_template_rows": null,
            "height": null,
            "justify_content": null,
            "justify_items": null,
            "left": null,
            "margin": null,
            "max_height": null,
            "max_width": null,
            "min_height": null,
            "min_width": null,
            "object_fit": null,
            "object_position": null,
            "order": null,
            "overflow": null,
            "overflow_x": null,
            "overflow_y": null,
            "padding": null,
            "right": null,
            "top": null,
            "visibility": null,
            "width": null
          }
        },
        "d9755adc2c84462ab474a5ede8e35652": {
          "model_module": "@jupyter-widgets/controls",
          "model_name": "DescriptionStyleModel",
          "model_module_version": "1.5.0",
          "state": {
            "_model_module": "@jupyter-widgets/controls",
            "_model_module_version": "1.5.0",
            "_model_name": "DescriptionStyleModel",
            "_view_count": null,
            "_view_module": "@jupyter-widgets/base",
            "_view_module_version": "1.2.0",
            "_view_name": "StyleView",
            "description_width": ""
          }
        },
        "0244f2a73d1d4d57b8f36b36f85993d8": {
          "model_module": "@jupyter-widgets/base",
          "model_name": "LayoutModel",
          "model_module_version": "1.2.0",
          "state": {
            "_model_module": "@jupyter-widgets/base",
            "_model_module_version": "1.2.0",
            "_model_name": "LayoutModel",
            "_view_count": null,
            "_view_module": "@jupyter-widgets/base",
            "_view_module_version": "1.2.0",
            "_view_name": "LayoutView",
            "align_content": null,
            "align_items": null,
            "align_self": null,
            "border": null,
            "bottom": null,
            "display": null,
            "flex": null,
            "flex_flow": null,
            "grid_area": null,
            "grid_auto_columns": null,
            "grid_auto_flow": null,
            "grid_auto_rows": null,
            "grid_column": null,
            "grid_gap": null,
            "grid_row": null,
            "grid_template_areas": null,
            "grid_template_columns": null,
            "grid_template_rows": null,
            "height": null,
            "justify_content": null,
            "justify_items": null,
            "left": null,
            "margin": null,
            "max_height": null,
            "max_width": null,
            "min_height": null,
            "min_width": null,
            "object_fit": null,
            "object_position": null,
            "order": null,
            "overflow": null,
            "overflow_x": null,
            "overflow_y": null,
            "padding": null,
            "right": null,
            "top": null,
            "visibility": null,
            "width": null
          }
        },
        "95a42d1892da41888dd0519fa25eb6d6": {
          "model_module": "@jupyter-widgets/controls",
          "model_name": "ProgressStyleModel",
          "model_module_version": "1.5.0",
          "state": {
            "_model_module": "@jupyter-widgets/controls",
            "_model_module_version": "1.5.0",
            "_model_name": "ProgressStyleModel",
            "_view_count": null,
            "_view_module": "@jupyter-widgets/base",
            "_view_module_version": "1.2.0",
            "_view_name": "StyleView",
            "bar_color": null,
            "description_width": ""
          }
        },
        "754d462f553e4d929a7f7dfad51f5063": {
          "model_module": "@jupyter-widgets/base",
          "model_name": "LayoutModel",
          "model_module_version": "1.2.0",
          "state": {
            "_model_module": "@jupyter-widgets/base",
            "_model_module_version": "1.2.0",
            "_model_name": "LayoutModel",
            "_view_count": null,
            "_view_module": "@jupyter-widgets/base",
            "_view_module_version": "1.2.0",
            "_view_name": "LayoutView",
            "align_content": null,
            "align_items": null,
            "align_self": null,
            "border": null,
            "bottom": null,
            "display": null,
            "flex": null,
            "flex_flow": null,
            "grid_area": null,
            "grid_auto_columns": null,
            "grid_auto_flow": null,
            "grid_auto_rows": null,
            "grid_column": null,
            "grid_gap": null,
            "grid_row": null,
            "grid_template_areas": null,
            "grid_template_columns": null,
            "grid_template_rows": null,
            "height": null,
            "justify_content": null,
            "justify_items": null,
            "left": null,
            "margin": null,
            "max_height": null,
            "max_width": null,
            "min_height": null,
            "min_width": null,
            "object_fit": null,
            "object_position": null,
            "order": null,
            "overflow": null,
            "overflow_x": null,
            "overflow_y": null,
            "padding": null,
            "right": null,
            "top": null,
            "visibility": null,
            "width": null
          }
        },
        "b9a549a78930417aa0af403e7f9a6c7d": {
          "model_module": "@jupyter-widgets/controls",
          "model_name": "DescriptionStyleModel",
          "model_module_version": "1.5.0",
          "state": {
            "_model_module": "@jupyter-widgets/controls",
            "_model_module_version": "1.5.0",
            "_model_name": "DescriptionStyleModel",
            "_view_count": null,
            "_view_module": "@jupyter-widgets/base",
            "_view_module_version": "1.2.0",
            "_view_name": "StyleView",
            "description_width": ""
          }
        }
      }
    }
  },
  "cells": [
    {
      "cell_type": "markdown",
      "metadata": {
        "id": "view-in-github",
        "colab_type": "text"
      },
      "source": [
        "<a href=\"https://colab.research.google.com/github/lnsayer/personal_repo/blob/main/drug%20discovery%20with%20BACE%20dataset/graph_classification_bace_dataset.ipynb\" target=\"_parent\"><img src=\"https://colab.research.google.com/assets/colab-badge.svg\" alt=\"Open In Colab\"/></a>"
      ]
    },
    {
      "cell_type": "code",
      "source": [
        "# Installed rdkit, torch_geometric, deepchem, networkx, torchmetrics into google drive with pip. With this resource https://netraneupane.medium.com/how-to-install-libraries-permanently-in-google-colab-fb15a585d8a5\n",
        "# This method ends up taking around 200s, whilst installing the libraries themselves takes around 100s which is more efficient."
      ],
      "metadata": {
        "id": "1WumodaT-k2o"
      },
      "execution_count": 5,
      "outputs": []
    },
    {
      "cell_type": "code",
      "source": [
        "from timeit import default_timer as timer"
      ],
      "metadata": {
        "id": "1_v6cSwg1k-v"
      },
      "execution_count": 6,
      "outputs": []
    },
    {
      "cell_type": "code",
      "source": [
        "start_time = timer()\n",
        "rd_kit_start_time = timer()\n",
        "!pip install rdkit\n",
        "rd_kit_end_time = timer()\n",
        "\n",
        "torch_geometric_start_time = timer()\n",
        "!pip install torch_geometric\n",
        "torch_geometric_end_time = timer()\n",
        "\n",
        "deep_chem_start_time = timer()\n",
        "!pip install deepchem\n",
        "deep_chem_end_time = timer()\n",
        "\n",
        "networkx_start_time = timer()\n",
        "!pip install networkx\n",
        "networkx_end_time = timer()\n",
        "\n",
        "torchmetrics_start_time = timer()\n",
        "!pip install torchmetrics\n",
        "torchmetrics_end_time = timer()\n",
        "\n",
        "end_time = timer()\n",
        "\n",
        "print(f\"Time for cell to run: {end_time-start_time:.4f}\")\n",
        "print(f\"rd_kit time: {rd_kit_end_time-rd_kit_start_time:.4f}\")\n",
        "print(f\"torch_geometric time: {torch_geometric_end_time-torch_geometric_start_time:.4f}\")\n",
        "print(f\"deep_chem time: {deep_chem_end_time-deep_chem_start_time:.4f}\")\n",
        "print(f\"networkx time: {networkx_end_time-networkx_start_time:.4f}\")\n",
        "print(f\"torchmetrics time: {torchmetrics_end_time-torchmetrics_start_time:.4f}\")"
      ],
      "metadata": {
        "colab": {
          "base_uri": "https://localhost:8080/"
        },
        "id": "yKrL_PQOJoPO",
        "outputId": "77b53fda-e06f-49d5-8a51-b848beb1de18"
      },
      "execution_count": 7,
      "outputs": [
        {
          "output_type": "stream",
          "name": "stdout",
          "text": [
            "Requirement already satisfied: rdkit in /usr/local/lib/python3.10/dist-packages (2024.3.1)\n",
            "Requirement already satisfied: numpy in /usr/local/lib/python3.10/dist-packages (from rdkit) (1.25.2)\n",
            "Requirement already satisfied: Pillow in /usr/local/lib/python3.10/dist-packages (from rdkit) (9.4.0)\n",
            "Requirement already satisfied: torch_geometric in /usr/local/lib/python3.10/dist-packages (2.5.3)\n",
            "Requirement already satisfied: tqdm in /usr/local/lib/python3.10/dist-packages (from torch_geometric) (4.66.4)\n",
            "Requirement already satisfied: numpy in /usr/local/lib/python3.10/dist-packages (from torch_geometric) (1.25.2)\n",
            "Requirement already satisfied: scipy in /usr/local/lib/python3.10/dist-packages (from torch_geometric) (1.11.4)\n",
            "Requirement already satisfied: fsspec in /usr/local/lib/python3.10/dist-packages (from torch_geometric) (2023.6.0)\n",
            "Requirement already satisfied: jinja2 in /usr/local/lib/python3.10/dist-packages (from torch_geometric) (3.1.4)\n",
            "Requirement already satisfied: aiohttp in /usr/local/lib/python3.10/dist-packages (from torch_geometric) (3.9.5)\n",
            "Requirement already satisfied: requests in /usr/local/lib/python3.10/dist-packages (from torch_geometric) (2.31.0)\n",
            "Requirement already satisfied: pyparsing in /usr/local/lib/python3.10/dist-packages (from torch_geometric) (3.1.2)\n",
            "Requirement already satisfied: scikit-learn in /usr/local/lib/python3.10/dist-packages (from torch_geometric) (1.2.2)\n",
            "Requirement already satisfied: psutil>=5.8.0 in /usr/local/lib/python3.10/dist-packages (from torch_geometric) (5.9.5)\n",
            "Requirement already satisfied: aiosignal>=1.1.2 in /usr/local/lib/python3.10/dist-packages (from aiohttp->torch_geometric) (1.3.1)\n",
            "Requirement already satisfied: attrs>=17.3.0 in /usr/local/lib/python3.10/dist-packages (from aiohttp->torch_geometric) (23.2.0)\n",
            "Requirement already satisfied: frozenlist>=1.1.1 in /usr/local/lib/python3.10/dist-packages (from aiohttp->torch_geometric) (1.4.1)\n",
            "Requirement already satisfied: multidict<7.0,>=4.5 in /usr/local/lib/python3.10/dist-packages (from aiohttp->torch_geometric) (6.0.5)\n",
            "Requirement already satisfied: yarl<2.0,>=1.0 in /usr/local/lib/python3.10/dist-packages (from aiohttp->torch_geometric) (1.9.4)\n",
            "Requirement already satisfied: async-timeout<5.0,>=4.0 in /usr/local/lib/python3.10/dist-packages (from aiohttp->torch_geometric) (4.0.3)\n",
            "Requirement already satisfied: MarkupSafe>=2.0 in /usr/local/lib/python3.10/dist-packages (from jinja2->torch_geometric) (2.1.5)\n",
            "Requirement already satisfied: charset-normalizer<4,>=2 in /usr/local/lib/python3.10/dist-packages (from requests->torch_geometric) (3.3.2)\n",
            "Requirement already satisfied: idna<4,>=2.5 in /usr/local/lib/python3.10/dist-packages (from requests->torch_geometric) (3.7)\n",
            "Requirement already satisfied: urllib3<3,>=1.21.1 in /usr/local/lib/python3.10/dist-packages (from requests->torch_geometric) (2.0.7)\n",
            "Requirement already satisfied: certifi>=2017.4.17 in /usr/local/lib/python3.10/dist-packages (from requests->torch_geometric) (2024.6.2)\n",
            "Requirement already satisfied: joblib>=1.1.1 in /usr/local/lib/python3.10/dist-packages (from scikit-learn->torch_geometric) (1.4.2)\n",
            "Requirement already satisfied: threadpoolctl>=2.0.0 in /usr/local/lib/python3.10/dist-packages (from scikit-learn->torch_geometric) (3.5.0)\n",
            "Requirement already satisfied: deepchem in /usr/local/lib/python3.10/dist-packages (2.8.0)\n",
            "Requirement already satisfied: joblib in /usr/local/lib/python3.10/dist-packages (from deepchem) (1.4.2)\n",
            "Requirement already satisfied: numpy>=1.21 in /usr/local/lib/python3.10/dist-packages (from deepchem) (1.25.2)\n",
            "Requirement already satisfied: pandas in /usr/local/lib/python3.10/dist-packages (from deepchem) (2.0.3)\n",
            "Requirement already satisfied: scikit-learn in /usr/local/lib/python3.10/dist-packages (from deepchem) (1.2.2)\n",
            "Requirement already satisfied: sympy in /usr/local/lib/python3.10/dist-packages (from deepchem) (1.12.1)\n",
            "Requirement already satisfied: scipy>=1.10.1 in /usr/local/lib/python3.10/dist-packages (from deepchem) (1.11.4)\n",
            "Requirement already satisfied: rdkit in /usr/local/lib/python3.10/dist-packages (from deepchem) (2024.3.1)\n",
            "Requirement already satisfied: python-dateutil>=2.8.2 in /usr/local/lib/python3.10/dist-packages (from pandas->deepchem) (2.8.2)\n",
            "Requirement already satisfied: pytz>=2020.1 in /usr/local/lib/python3.10/dist-packages (from pandas->deepchem) (2023.4)\n",
            "Requirement already satisfied: tzdata>=2022.1 in /usr/local/lib/python3.10/dist-packages (from pandas->deepchem) (2024.1)\n",
            "Requirement already satisfied: Pillow in /usr/local/lib/python3.10/dist-packages (from rdkit->deepchem) (9.4.0)\n",
            "Requirement already satisfied: threadpoolctl>=2.0.0 in /usr/local/lib/python3.10/dist-packages (from scikit-learn->deepchem) (3.5.0)\n",
            "Requirement already satisfied: mpmath<1.4.0,>=1.1.0 in /usr/local/lib/python3.10/dist-packages (from sympy->deepchem) (1.3.0)\n",
            "Requirement already satisfied: six>=1.5 in /usr/local/lib/python3.10/dist-packages (from python-dateutil>=2.8.2->pandas->deepchem) (1.16.0)\n",
            "Requirement already satisfied: networkx in /usr/local/lib/python3.10/dist-packages (3.3)\n",
            "Requirement already satisfied: torchmetrics in /usr/local/lib/python3.10/dist-packages (1.4.0.post0)\n",
            "Requirement already satisfied: numpy>1.20.0 in /usr/local/lib/python3.10/dist-packages (from torchmetrics) (1.25.2)\n",
            "Requirement already satisfied: packaging>17.1 in /usr/local/lib/python3.10/dist-packages (from torchmetrics) (24.1)\n",
            "Requirement already satisfied: torch>=1.10.0 in /usr/local/lib/python3.10/dist-packages (from torchmetrics) (2.3.0+cu121)\n",
            "Requirement already satisfied: lightning-utilities>=0.8.0 in /usr/local/lib/python3.10/dist-packages (from torchmetrics) (0.11.3.post0)\n",
            "Requirement already satisfied: setuptools in /usr/local/lib/python3.10/dist-packages (from lightning-utilities>=0.8.0->torchmetrics) (67.7.2)\n",
            "Requirement already satisfied: typing-extensions in /usr/local/lib/python3.10/dist-packages (from lightning-utilities>=0.8.0->torchmetrics) (4.12.2)\n",
            "Requirement already satisfied: filelock in /usr/local/lib/python3.10/dist-packages (from torch>=1.10.0->torchmetrics) (3.15.4)\n",
            "Requirement already satisfied: sympy in /usr/local/lib/python3.10/dist-packages (from torch>=1.10.0->torchmetrics) (1.12.1)\n",
            "Requirement already satisfied: networkx in /usr/local/lib/python3.10/dist-packages (from torch>=1.10.0->torchmetrics) (3.3)\n",
            "Requirement already satisfied: jinja2 in /usr/local/lib/python3.10/dist-packages (from torch>=1.10.0->torchmetrics) (3.1.4)\n",
            "Requirement already satisfied: fsspec in /usr/local/lib/python3.10/dist-packages (from torch>=1.10.0->torchmetrics) (2023.6.0)\n",
            "Requirement already satisfied: nvidia-cuda-nvrtc-cu12==12.1.105 in /usr/local/lib/python3.10/dist-packages (from torch>=1.10.0->torchmetrics) (12.1.105)\n",
            "Requirement already satisfied: nvidia-cuda-runtime-cu12==12.1.105 in /usr/local/lib/python3.10/dist-packages (from torch>=1.10.0->torchmetrics) (12.1.105)\n",
            "Requirement already satisfied: nvidia-cuda-cupti-cu12==12.1.105 in /usr/local/lib/python3.10/dist-packages (from torch>=1.10.0->torchmetrics) (12.1.105)\n",
            "Requirement already satisfied: nvidia-cudnn-cu12==8.9.2.26 in /usr/local/lib/python3.10/dist-packages (from torch>=1.10.0->torchmetrics) (8.9.2.26)\n",
            "Requirement already satisfied: nvidia-cublas-cu12==12.1.3.1 in /usr/local/lib/python3.10/dist-packages (from torch>=1.10.0->torchmetrics) (12.1.3.1)\n",
            "Requirement already satisfied: nvidia-cufft-cu12==11.0.2.54 in /usr/local/lib/python3.10/dist-packages (from torch>=1.10.0->torchmetrics) (11.0.2.54)\n",
            "Requirement already satisfied: nvidia-curand-cu12==10.3.2.106 in /usr/local/lib/python3.10/dist-packages (from torch>=1.10.0->torchmetrics) (10.3.2.106)\n",
            "Requirement already satisfied: nvidia-cusolver-cu12==11.4.5.107 in /usr/local/lib/python3.10/dist-packages (from torch>=1.10.0->torchmetrics) (11.4.5.107)\n",
            "Requirement already satisfied: nvidia-cusparse-cu12==12.1.0.106 in /usr/local/lib/python3.10/dist-packages (from torch>=1.10.0->torchmetrics) (12.1.0.106)\n",
            "Requirement already satisfied: nvidia-nccl-cu12==2.20.5 in /usr/local/lib/python3.10/dist-packages (from torch>=1.10.0->torchmetrics) (2.20.5)\n",
            "Requirement already satisfied: nvidia-nvtx-cu12==12.1.105 in /usr/local/lib/python3.10/dist-packages (from torch>=1.10.0->torchmetrics) (12.1.105)\n",
            "Requirement already satisfied: triton==2.3.0 in /usr/local/lib/python3.10/dist-packages (from torch>=1.10.0->torchmetrics) (2.3.0)\n",
            "Requirement already satisfied: nvidia-nvjitlink-cu12 in /usr/local/lib/python3.10/dist-packages (from nvidia-cusolver-cu12==11.4.5.107->torch>=1.10.0->torchmetrics) (12.5.82)\n",
            "Requirement already satisfied: MarkupSafe>=2.0 in /usr/local/lib/python3.10/dist-packages (from jinja2->torch>=1.10.0->torchmetrics) (2.1.5)\n",
            "Requirement already satisfied: mpmath<1.4.0,>=1.1.0 in /usr/local/lib/python3.10/dist-packages (from sympy->torch>=1.10.0->torchmetrics) (1.3.0)\n",
            "Time for cell to run: 24.6053\n",
            "rd_kit time: 4.9205\n",
            "torch_geometric time: 4.8210\n",
            "deep_chem time: 4.9208\n",
            "networkx time: 4.9199\n",
            "torchmetrics time: 5.0229\n"
          ]
        }
      ]
    },
    {
      "cell_type": "code",
      "execution_count": 8,
      "metadata": {
        "id": "SEOOvseDz99l"
      },
      "outputs": [],
      "source": [
        "# Import necessary modules\n",
        "import requests\n",
        "from pathlib import Path\n",
        "import os.path as osp\n",
        "\n",
        "from rdkit import Chem\n",
        "from rdkit.Chem import Draw\n",
        "\n",
        "import torch\n",
        "import torch_geometric\n",
        "from torch_geometric.data import InMemoryDataset, Dataset, Data\n",
        "from torch_geometric.loader import DataLoader\n",
        "from torch_geometric.nn import GCNConv, global_mean_pool, GraphConv, GATConv, MLP, GINConv, global_max_pool, SAGPooling, TopKPooling, GINEConv\n",
        "from torch.nn import Linear, ReLU, Dropout, Softmax\n",
        "import torch.nn as nn\n",
        "import torch.nn.functional as F\n",
        "from torchmetrics.classification import BinaryAUROC, BinaryPrecision, BinaryRecall\n",
        "\n",
        "\n",
        "import deepchem as dc\n",
        "from deepchem.feat.graph_data import GraphData\n",
        "\n",
        "import numpy as np\n",
        "import pandas as pd\n",
        "import matplotlib.pyplot as plt\n",
        "from sklearn.metrics import classification_report, roc_auc_score\n",
        "from pandas import DataFrame\n",
        "\n",
        "import networkx as nx\n",
        "\n",
        "import random\n",
        "\n",
        "from tqdm.auto import tqdm\n",
        "from timeit import default_timer as timer\n",
        "\n",
        "from IPython.display import Javascript\n",
        "import pickle"
      ]
    },
    {
      "cell_type": "code",
      "source": [
        "import os\n",
        "google_drive_path = Path(\"drive/MyDrive\")\n",
        "# Prints all subdirectories (takes ages)\n",
        "for dirpath, dirnames, filenames in os.walk(google_drive_path):\n",
        "  print(f\"There are {len(dirnames)} directories and {len(filenames)} files in '{dirpath}'.\")"
      ],
      "metadata": {
        "id": "WCLTL0Uga9q-",
        "colab": {
          "base_uri": "https://localhost:8080/"
        },
        "outputId": "13984c53-3c53-4314-bd9f-0d15d4a87620"
      },
      "execution_count": 9,
      "outputs": [
        {
          "output_type": "stream",
          "name": "stdout",
          "text": [
            "There are 9 directories and 27 files in 'drive/MyDrive'.\n",
            "There are 3 directories and 103 files in 'drive/MyDrive/Peru 2019 Expedition'.\n",
            "There are 1 directories and 0 files in 'drive/MyDrive/Peru 2019 Expedition/Alex's Photos'.\n",
            "There are 0 directories and 418 files in 'drive/MyDrive/Peru 2019 Expedition/Alex's Photos/Peru 2019'.\n",
            "There are 0 directories and 0 files in 'drive/MyDrive/Peru 2019 Expedition/Emilie'.\n",
            "There are 0 directories and 0 files in 'drive/MyDrive/Peru 2019 Expedition/Groña'.\n",
            "There are 0 directories and 2 files in 'drive/MyDrive/Private'.\n",
            "There are 0 directories and 50 files in 'drive/MyDrive/Old phone photos'.\n",
            "There are 0 directories and 37 files in 'drive/MyDrive/Go_pro_gorge_du_verdon_2016'.\n",
            "There are 0 directories and 35 files in 'drive/MyDrive/Colab Notebooks'.\n",
            "There are 0 directories and 6 files in 'drive/MyDrive/udemy_ml_course_data'.\n",
            "There are 3 directories and 0 files in 'drive/MyDrive/bace_graph_project'.\n",
            "There are 2 directories and 0 files in 'drive/MyDrive/bace_graph_project/data'.\n",
            "There are 0 directories and 1 files in 'drive/MyDrive/bace_graph_project/data/raw'.\n",
            "There are 0 directories and 1515 files in 'drive/MyDrive/bace_graph_project/data/processed'.\n",
            "There are 2 directories and 0 files in 'drive/MyDrive/bace_graph_project/models'.\n",
            "There are 0 directories and 21 files in 'drive/MyDrive/bace_graph_project/models/gcn_models'.\n",
            "There are 0 directories and 0 files in 'drive/MyDrive/bace_graph_project/models/.ipynb_checkpoints'.\n",
            "There are 0 directories and 0 files in 'drive/MyDrive/bace_graph_project/.ipynb_checkpoints'.\n",
            "There are 0 directories and 0 files in 'drive/MyDrive/.ipynb_checkpoints'.\n"
          ]
        }
      ]
    },
    {
      "cell_type": "code",
      "source": [
        "bace_project_path = google_drive_path / \"bace_graph_project\"\n",
        "bace_raw_path = bace_project_path / \"data/raw\""
      ],
      "metadata": {
        "id": "fTvJbcHlcELa"
      },
      "execution_count": 10,
      "outputs": []
    },
    {
      "cell_type": "code",
      "source": [
        "# Check if Bace csv file has been downloaded, if not, download it\n",
        "if bace_raw_path.is_dir():\n",
        "  print(f\"{bace_raw_path} is already a directory\")\n",
        "else:\n",
        "  print(f\"{bace_raw_path} is not a directory, creating one\")\n",
        "  bace_raw_path.mkdir(parents=True, exist_ok=True)\n",
        "\n",
        "  with open(bace_raw_path / \"bace.csv\", \"wb\") as f:\n",
        "    request = requests.get(\"https://raw.githubusercontent.com/lnsayer/personal_repo/main/drug%20discovery%20with%20BACE%20dataset/data/bace.csv\")\n",
        "    print(\"Downloading data\")\n",
        "    f.write(request.content)"
      ],
      "metadata": {
        "colab": {
          "base_uri": "https://localhost:8080/"
        },
        "id": "i4w5ed6mcovr",
        "outputId": "5175d59c-caf8-4066-cfa5-3113e7634558"
      },
      "execution_count": 11,
      "outputs": [
        {
          "output_type": "stream",
          "name": "stdout",
          "text": [
            "drive/MyDrive/bace_graph_project/data/raw is already a directory\n"
          ]
        }
      ]
    },
    {
      "cell_type": "code",
      "source": [
        "# If want to download bace csv straight into colab\n",
        "data_path = Path(\"data/\")\n",
        "bace_path = data_path / \"raw\"\n",
        "\n",
        "if bace_path.is_dir():\n",
        "  print(f\"{bace_path} is already a directory\")\n",
        "else:\n",
        "  print(f\"{bace_path} is not a directory, creating one\")\n",
        "  bace_path.mkdir(parents=True, exist_ok=True)\n",
        "\n",
        "  with open(bace_path / \"bace.csv\", \"wb\") as f:\n",
        "    request = requests.get(\"https://raw.githubusercontent.com/lnsayer/personal_repo/main/drug%20discovery%20with%20BACE%20dataset/data/bace.csv\")\n",
        "    print(\"Downloading data\")\n",
        "    f.write(request.content)"
      ],
      "metadata": {
        "colab": {
          "base_uri": "https://localhost:8080/"
        },
        "id": "M7AtzC8Zc7wU",
        "outputId": "c4ecfb55-0522-4e00-e88d-47ab73760d4f"
      },
      "execution_count": 12,
      "outputs": [
        {
          "output_type": "stream",
          "name": "stdout",
          "text": [
            "data/raw is not a directory, creating one\n",
            "Downloading data\n"
          ]
        }
      ]
    },
    {
      "cell_type": "code",
      "source": [
        "bace_raw_path"
      ],
      "metadata": {
        "colab": {
          "base_uri": "https://localhost:8080/"
        },
        "id": "ipVPDMIgmjCI",
        "outputId": "5f79566a-4a95-438a-8895-edd0faaf2b69"
      },
      "execution_count": 13,
      "outputs": [
        {
          "output_type": "execute_result",
          "data": {
            "text/plain": [
              "PosixPath('drive/MyDrive/bace_graph_project/data/raw')"
            ]
          },
          "metadata": {},
          "execution_count": 13
        }
      ]
    },
    {
      "cell_type": "code",
      "source": [
        "# Turn CSV file into a dataframe and resave it without unnecessary columns\n",
        "bace_df = pd.read_csv(bace_raw_path/ \"bace.csv\")\n",
        "bace_df = bace_df[[\"mol\", \"CID\", \"Class\", \"Model\", \"pIC50\"]]\n",
        "bace_df.to_csv(bace_raw_path/\"bace.csv\")\n",
        "\n",
        "bace_df"
      ],
      "metadata": {
        "id": "QGSRTJ4X44Bs",
        "colab": {
          "base_uri": "https://localhost:8080/",
          "height": 424
        },
        "outputId": "e1b288a6-8593-436d-9cdb-cb05782a4904"
      },
      "execution_count": 14,
      "outputs": [
        {
          "output_type": "execute_result",
          "data": {
            "text/plain": [
              "                                                    mol        CID  Class  \\\n",
              "0     O1CC[C@@H](NC(=O)[C@@H](Cc2cc3cc(ccc3nc2N)-c2c...     BACE_1      1   \n",
              "1     Fc1cc(cc(F)c1)C[C@H](NC(=O)[C@@H](N1CC[C@](NC(...     BACE_2      1   \n",
              "2     S1(=O)(=O)N(c2cc(cc3c2n(cc3CC)CC1)C(=O)N[C@H](...     BACE_3      1   \n",
              "3     S1(=O)(=O)C[C@@H](Cc2cc(O[C@H](COCC)C(F)(F)F)c...     BACE_4      1   \n",
              "4     S1(=O)(=O)N(c2cc(cc3c2n(cc3CC)CC1)C(=O)N[C@H](...     BACE_5      1   \n",
              "...                                                 ...        ...    ...   \n",
              "1508          Clc1cc2nc(n(c2cc1)C(CC(=O)NCC1CCOCC1)CC)N  BACE_1543      0   \n",
              "1509          Clc1cc2nc(n(c2cc1)C(CC(=O)NCc1ncccc1)CC)N  BACE_1544      0   \n",
              "1510             Brc1cc(ccc1)C1CC1C=1N=C(N)N(C)C(=O)C=1  BACE_1545      0   \n",
              "1511       O=C1N(C)C(=NC(=C1)C1CC1c1cc(ccc1)-c1ccccc1)N  BACE_1546      0   \n",
              "1512                Clc1cc2nc(n(c2cc1)CCCC(=O)NCC1CC1)N  BACE_1547      0   \n",
              "\n",
              "      Model     pIC50  \n",
              "0     Train  9.154901  \n",
              "1     Train  8.853872  \n",
              "2     Train  8.698970  \n",
              "3     Train  8.698970  \n",
              "4     Train  8.698970  \n",
              "...     ...       ...  \n",
              "1508   Test  3.000000  \n",
              "1509   Test  3.000000  \n",
              "1510   Test  2.953115  \n",
              "1511   Test  2.733298  \n",
              "1512   Test  2.544546  \n",
              "\n",
              "[1513 rows x 5 columns]"
            ],
            "text/html": [
              "\n",
              "  <div id=\"df-3da7f94b-132a-42b6-97fd-9ed3cf5b55ea\" class=\"colab-df-container\">\n",
              "    <div>\n",
              "<style scoped>\n",
              "    .dataframe tbody tr th:only-of-type {\n",
              "        vertical-align: middle;\n",
              "    }\n",
              "\n",
              "    .dataframe tbody tr th {\n",
              "        vertical-align: top;\n",
              "    }\n",
              "\n",
              "    .dataframe thead th {\n",
              "        text-align: right;\n",
              "    }\n",
              "</style>\n",
              "<table border=\"1\" class=\"dataframe\">\n",
              "  <thead>\n",
              "    <tr style=\"text-align: right;\">\n",
              "      <th></th>\n",
              "      <th>mol</th>\n",
              "      <th>CID</th>\n",
              "      <th>Class</th>\n",
              "      <th>Model</th>\n",
              "      <th>pIC50</th>\n",
              "    </tr>\n",
              "  </thead>\n",
              "  <tbody>\n",
              "    <tr>\n",
              "      <th>0</th>\n",
              "      <td>O1CC[C@@H](NC(=O)[C@@H](Cc2cc3cc(ccc3nc2N)-c2c...</td>\n",
              "      <td>BACE_1</td>\n",
              "      <td>1</td>\n",
              "      <td>Train</td>\n",
              "      <td>9.154901</td>\n",
              "    </tr>\n",
              "    <tr>\n",
              "      <th>1</th>\n",
              "      <td>Fc1cc(cc(F)c1)C[C@H](NC(=O)[C@@H](N1CC[C@](NC(...</td>\n",
              "      <td>BACE_2</td>\n",
              "      <td>1</td>\n",
              "      <td>Train</td>\n",
              "      <td>8.853872</td>\n",
              "    </tr>\n",
              "    <tr>\n",
              "      <th>2</th>\n",
              "      <td>S1(=O)(=O)N(c2cc(cc3c2n(cc3CC)CC1)C(=O)N[C@H](...</td>\n",
              "      <td>BACE_3</td>\n",
              "      <td>1</td>\n",
              "      <td>Train</td>\n",
              "      <td>8.698970</td>\n",
              "    </tr>\n",
              "    <tr>\n",
              "      <th>3</th>\n",
              "      <td>S1(=O)(=O)C[C@@H](Cc2cc(O[C@H](COCC)C(F)(F)F)c...</td>\n",
              "      <td>BACE_4</td>\n",
              "      <td>1</td>\n",
              "      <td>Train</td>\n",
              "      <td>8.698970</td>\n",
              "    </tr>\n",
              "    <tr>\n",
              "      <th>4</th>\n",
              "      <td>S1(=O)(=O)N(c2cc(cc3c2n(cc3CC)CC1)C(=O)N[C@H](...</td>\n",
              "      <td>BACE_5</td>\n",
              "      <td>1</td>\n",
              "      <td>Train</td>\n",
              "      <td>8.698970</td>\n",
              "    </tr>\n",
              "    <tr>\n",
              "      <th>...</th>\n",
              "      <td>...</td>\n",
              "      <td>...</td>\n",
              "      <td>...</td>\n",
              "      <td>...</td>\n",
              "      <td>...</td>\n",
              "    </tr>\n",
              "    <tr>\n",
              "      <th>1508</th>\n",
              "      <td>Clc1cc2nc(n(c2cc1)C(CC(=O)NCC1CCOCC1)CC)N</td>\n",
              "      <td>BACE_1543</td>\n",
              "      <td>0</td>\n",
              "      <td>Test</td>\n",
              "      <td>3.000000</td>\n",
              "    </tr>\n",
              "    <tr>\n",
              "      <th>1509</th>\n",
              "      <td>Clc1cc2nc(n(c2cc1)C(CC(=O)NCc1ncccc1)CC)N</td>\n",
              "      <td>BACE_1544</td>\n",
              "      <td>0</td>\n",
              "      <td>Test</td>\n",
              "      <td>3.000000</td>\n",
              "    </tr>\n",
              "    <tr>\n",
              "      <th>1510</th>\n",
              "      <td>Brc1cc(ccc1)C1CC1C=1N=C(N)N(C)C(=O)C=1</td>\n",
              "      <td>BACE_1545</td>\n",
              "      <td>0</td>\n",
              "      <td>Test</td>\n",
              "      <td>2.953115</td>\n",
              "    </tr>\n",
              "    <tr>\n",
              "      <th>1511</th>\n",
              "      <td>O=C1N(C)C(=NC(=C1)C1CC1c1cc(ccc1)-c1ccccc1)N</td>\n",
              "      <td>BACE_1546</td>\n",
              "      <td>0</td>\n",
              "      <td>Test</td>\n",
              "      <td>2.733298</td>\n",
              "    </tr>\n",
              "    <tr>\n",
              "      <th>1512</th>\n",
              "      <td>Clc1cc2nc(n(c2cc1)CCCC(=O)NCC1CC1)N</td>\n",
              "      <td>BACE_1547</td>\n",
              "      <td>0</td>\n",
              "      <td>Test</td>\n",
              "      <td>2.544546</td>\n",
              "    </tr>\n",
              "  </tbody>\n",
              "</table>\n",
              "<p>1513 rows × 5 columns</p>\n",
              "</div>\n",
              "    <div class=\"colab-df-buttons\">\n",
              "\n",
              "  <div class=\"colab-df-container\">\n",
              "    <button class=\"colab-df-convert\" onclick=\"convertToInteractive('df-3da7f94b-132a-42b6-97fd-9ed3cf5b55ea')\"\n",
              "            title=\"Convert this dataframe to an interactive table.\"\n",
              "            style=\"display:none;\">\n",
              "\n",
              "  <svg xmlns=\"http://www.w3.org/2000/svg\" height=\"24px\" viewBox=\"0 -960 960 960\">\n",
              "    <path d=\"M120-120v-720h720v720H120Zm60-500h600v-160H180v160Zm220 220h160v-160H400v160Zm0 220h160v-160H400v160ZM180-400h160v-160H180v160Zm440 0h160v-160H620v160ZM180-180h160v-160H180v160Zm440 0h160v-160H620v160Z\"/>\n",
              "  </svg>\n",
              "    </button>\n",
              "\n",
              "  <style>\n",
              "    .colab-df-container {\n",
              "      display:flex;\n",
              "      gap: 12px;\n",
              "    }\n",
              "\n",
              "    .colab-df-convert {\n",
              "      background-color: #E8F0FE;\n",
              "      border: none;\n",
              "      border-radius: 50%;\n",
              "      cursor: pointer;\n",
              "      display: none;\n",
              "      fill: #1967D2;\n",
              "      height: 32px;\n",
              "      padding: 0 0 0 0;\n",
              "      width: 32px;\n",
              "    }\n",
              "\n",
              "    .colab-df-convert:hover {\n",
              "      background-color: #E2EBFA;\n",
              "      box-shadow: 0px 1px 2px rgba(60, 64, 67, 0.3), 0px 1px 3px 1px rgba(60, 64, 67, 0.15);\n",
              "      fill: #174EA6;\n",
              "    }\n",
              "\n",
              "    .colab-df-buttons div {\n",
              "      margin-bottom: 4px;\n",
              "    }\n",
              "\n",
              "    [theme=dark] .colab-df-convert {\n",
              "      background-color: #3B4455;\n",
              "      fill: #D2E3FC;\n",
              "    }\n",
              "\n",
              "    [theme=dark] .colab-df-convert:hover {\n",
              "      background-color: #434B5C;\n",
              "      box-shadow: 0px 1px 3px 1px rgba(0, 0, 0, 0.15);\n",
              "      filter: drop-shadow(0px 1px 2px rgba(0, 0, 0, 0.3));\n",
              "      fill: #FFFFFF;\n",
              "    }\n",
              "  </style>\n",
              "\n",
              "    <script>\n",
              "      const buttonEl =\n",
              "        document.querySelector('#df-3da7f94b-132a-42b6-97fd-9ed3cf5b55ea button.colab-df-convert');\n",
              "      buttonEl.style.display =\n",
              "        google.colab.kernel.accessAllowed ? 'block' : 'none';\n",
              "\n",
              "      async function convertToInteractive(key) {\n",
              "        const element = document.querySelector('#df-3da7f94b-132a-42b6-97fd-9ed3cf5b55ea');\n",
              "        const dataTable =\n",
              "          await google.colab.kernel.invokeFunction('convertToInteractive',\n",
              "                                                    [key], {});\n",
              "        if (!dataTable) return;\n",
              "\n",
              "        const docLinkHtml = 'Like what you see? Visit the ' +\n",
              "          '<a target=\"_blank\" href=https://colab.research.google.com/notebooks/data_table.ipynb>data table notebook</a>'\n",
              "          + ' to learn more about interactive tables.';\n",
              "        element.innerHTML = '';\n",
              "        dataTable['output_type'] = 'display_data';\n",
              "        await google.colab.output.renderOutput(dataTable, element);\n",
              "        const docLink = document.createElement('div');\n",
              "        docLink.innerHTML = docLinkHtml;\n",
              "        element.appendChild(docLink);\n",
              "      }\n",
              "    </script>\n",
              "  </div>\n",
              "\n",
              "\n",
              "<div id=\"df-0a8e1c29-4931-44a6-b747-4f29db0f40dd\">\n",
              "  <button class=\"colab-df-quickchart\" onclick=\"quickchart('df-0a8e1c29-4931-44a6-b747-4f29db0f40dd')\"\n",
              "            title=\"Suggest charts\"\n",
              "            style=\"display:none;\">\n",
              "\n",
              "<svg xmlns=\"http://www.w3.org/2000/svg\" height=\"24px\"viewBox=\"0 0 24 24\"\n",
              "     width=\"24px\">\n",
              "    <g>\n",
              "        <path d=\"M19 3H5c-1.1 0-2 .9-2 2v14c0 1.1.9 2 2 2h14c1.1 0 2-.9 2-2V5c0-1.1-.9-2-2-2zM9 17H7v-7h2v7zm4 0h-2V7h2v10zm4 0h-2v-4h2v4z\"/>\n",
              "    </g>\n",
              "</svg>\n",
              "  </button>\n",
              "\n",
              "<style>\n",
              "  .colab-df-quickchart {\n",
              "      --bg-color: #E8F0FE;\n",
              "      --fill-color: #1967D2;\n",
              "      --hover-bg-color: #E2EBFA;\n",
              "      --hover-fill-color: #174EA6;\n",
              "      --disabled-fill-color: #AAA;\n",
              "      --disabled-bg-color: #DDD;\n",
              "  }\n",
              "\n",
              "  [theme=dark] .colab-df-quickchart {\n",
              "      --bg-color: #3B4455;\n",
              "      --fill-color: #D2E3FC;\n",
              "      --hover-bg-color: #434B5C;\n",
              "      --hover-fill-color: #FFFFFF;\n",
              "      --disabled-bg-color: #3B4455;\n",
              "      --disabled-fill-color: #666;\n",
              "  }\n",
              "\n",
              "  .colab-df-quickchart {\n",
              "    background-color: var(--bg-color);\n",
              "    border: none;\n",
              "    border-radius: 50%;\n",
              "    cursor: pointer;\n",
              "    display: none;\n",
              "    fill: var(--fill-color);\n",
              "    height: 32px;\n",
              "    padding: 0;\n",
              "    width: 32px;\n",
              "  }\n",
              "\n",
              "  .colab-df-quickchart:hover {\n",
              "    background-color: var(--hover-bg-color);\n",
              "    box-shadow: 0 1px 2px rgba(60, 64, 67, 0.3), 0 1px 3px 1px rgba(60, 64, 67, 0.15);\n",
              "    fill: var(--button-hover-fill-color);\n",
              "  }\n",
              "\n",
              "  .colab-df-quickchart-complete:disabled,\n",
              "  .colab-df-quickchart-complete:disabled:hover {\n",
              "    background-color: var(--disabled-bg-color);\n",
              "    fill: var(--disabled-fill-color);\n",
              "    box-shadow: none;\n",
              "  }\n",
              "\n",
              "  .colab-df-spinner {\n",
              "    border: 2px solid var(--fill-color);\n",
              "    border-color: transparent;\n",
              "    border-bottom-color: var(--fill-color);\n",
              "    animation:\n",
              "      spin 1s steps(1) infinite;\n",
              "  }\n",
              "\n",
              "  @keyframes spin {\n",
              "    0% {\n",
              "      border-color: transparent;\n",
              "      border-bottom-color: var(--fill-color);\n",
              "      border-left-color: var(--fill-color);\n",
              "    }\n",
              "    20% {\n",
              "      border-color: transparent;\n",
              "      border-left-color: var(--fill-color);\n",
              "      border-top-color: var(--fill-color);\n",
              "    }\n",
              "    30% {\n",
              "      border-color: transparent;\n",
              "      border-left-color: var(--fill-color);\n",
              "      border-top-color: var(--fill-color);\n",
              "      border-right-color: var(--fill-color);\n",
              "    }\n",
              "    40% {\n",
              "      border-color: transparent;\n",
              "      border-right-color: var(--fill-color);\n",
              "      border-top-color: var(--fill-color);\n",
              "    }\n",
              "    60% {\n",
              "      border-color: transparent;\n",
              "      border-right-color: var(--fill-color);\n",
              "    }\n",
              "    80% {\n",
              "      border-color: transparent;\n",
              "      border-right-color: var(--fill-color);\n",
              "      border-bottom-color: var(--fill-color);\n",
              "    }\n",
              "    90% {\n",
              "      border-color: transparent;\n",
              "      border-bottom-color: var(--fill-color);\n",
              "    }\n",
              "  }\n",
              "</style>\n",
              "\n",
              "  <script>\n",
              "    async function quickchart(key) {\n",
              "      const quickchartButtonEl =\n",
              "        document.querySelector('#' + key + ' button');\n",
              "      quickchartButtonEl.disabled = true;  // To prevent multiple clicks.\n",
              "      quickchartButtonEl.classList.add('colab-df-spinner');\n",
              "      try {\n",
              "        const charts = await google.colab.kernel.invokeFunction(\n",
              "            'suggestCharts', [key], {});\n",
              "      } catch (error) {\n",
              "        console.error('Error during call to suggestCharts:', error);\n",
              "      }\n",
              "      quickchartButtonEl.classList.remove('colab-df-spinner');\n",
              "      quickchartButtonEl.classList.add('colab-df-quickchart-complete');\n",
              "    }\n",
              "    (() => {\n",
              "      let quickchartButtonEl =\n",
              "        document.querySelector('#df-0a8e1c29-4931-44a6-b747-4f29db0f40dd button');\n",
              "      quickchartButtonEl.style.display =\n",
              "        google.colab.kernel.accessAllowed ? 'block' : 'none';\n",
              "    })();\n",
              "  </script>\n",
              "</div>\n",
              "\n",
              "  <div id=\"id_b5e77ab1-9866-43a1-acde-5028663f9683\">\n",
              "    <style>\n",
              "      .colab-df-generate {\n",
              "        background-color: #E8F0FE;\n",
              "        border: none;\n",
              "        border-radius: 50%;\n",
              "        cursor: pointer;\n",
              "        display: none;\n",
              "        fill: #1967D2;\n",
              "        height: 32px;\n",
              "        padding: 0 0 0 0;\n",
              "        width: 32px;\n",
              "      }\n",
              "\n",
              "      .colab-df-generate:hover {\n",
              "        background-color: #E2EBFA;\n",
              "        box-shadow: 0px 1px 2px rgba(60, 64, 67, 0.3), 0px 1px 3px 1px rgba(60, 64, 67, 0.15);\n",
              "        fill: #174EA6;\n",
              "      }\n",
              "\n",
              "      [theme=dark] .colab-df-generate {\n",
              "        background-color: #3B4455;\n",
              "        fill: #D2E3FC;\n",
              "      }\n",
              "\n",
              "      [theme=dark] .colab-df-generate:hover {\n",
              "        background-color: #434B5C;\n",
              "        box-shadow: 0px 1px 3px 1px rgba(0, 0, 0, 0.15);\n",
              "        filter: drop-shadow(0px 1px 2px rgba(0, 0, 0, 0.3));\n",
              "        fill: #FFFFFF;\n",
              "      }\n",
              "    </style>\n",
              "    <button class=\"colab-df-generate\" onclick=\"generateWithVariable('bace_df')\"\n",
              "            title=\"Generate code using this dataframe.\"\n",
              "            style=\"display:none;\">\n",
              "\n",
              "  <svg xmlns=\"http://www.w3.org/2000/svg\" height=\"24px\"viewBox=\"0 0 24 24\"\n",
              "       width=\"24px\">\n",
              "    <path d=\"M7,19H8.4L18.45,9,17,7.55,7,17.6ZM5,21V16.75L18.45,3.32a2,2,0,0,1,2.83,0l1.4,1.43a1.91,1.91,0,0,1,.58,1.4,1.91,1.91,0,0,1-.58,1.4L9.25,21ZM18.45,9,17,7.55Zm-12,3A5.31,5.31,0,0,0,4.9,8.1,5.31,5.31,0,0,0,1,6.5,5.31,5.31,0,0,0,4.9,4.9,5.31,5.31,0,0,0,6.5,1,5.31,5.31,0,0,0,8.1,4.9,5.31,5.31,0,0,0,12,6.5,5.46,5.46,0,0,0,6.5,12Z\"/>\n",
              "  </svg>\n",
              "    </button>\n",
              "    <script>\n",
              "      (() => {\n",
              "      const buttonEl =\n",
              "        document.querySelector('#id_b5e77ab1-9866-43a1-acde-5028663f9683 button.colab-df-generate');\n",
              "      buttonEl.style.display =\n",
              "        google.colab.kernel.accessAllowed ? 'block' : 'none';\n",
              "\n",
              "      buttonEl.onclick = () => {\n",
              "        google.colab.notebook.generateWithVariable('bace_df');\n",
              "      }\n",
              "      })();\n",
              "    </script>\n",
              "  </div>\n",
              "\n",
              "    </div>\n",
              "  </div>\n"
            ],
            "application/vnd.google.colaboratory.intrinsic+json": {
              "type": "dataframe",
              "variable_name": "bace_df",
              "summary": "{\n  \"name\": \"bace_df\",\n  \"rows\": 1513,\n  \"fields\": [\n    {\n      \"column\": \"mol\",\n      \"properties\": {\n        \"dtype\": \"string\",\n        \"num_unique_values\": 1513,\n        \"samples\": [\n          \"s1nc(cc1)-c1cc2c(OC(CC23N=C(N)N(C)C3=O)(C)C)cc1\",\n          \"FC(F)Oc1ccc(cc1)[C@@]1(N=C(N)N(C)C1=O)c1cc(ccc1)\\\\C=C\\\\CCCO\",\n          \"S1(=O)(=O)N(CCCC1)c1cc(cc(NCC)c1)C(=O)NC(Cc1ccccc1)C(O)C[NH2+]C1CC1\"\n        ],\n        \"semantic_type\": \"\",\n        \"description\": \"\"\n      }\n    },\n    {\n      \"column\": \"CID\",\n      \"properties\": {\n        \"dtype\": \"string\",\n        \"num_unique_values\": 1513,\n        \"samples\": [\n          \"BACE_1034\",\n          \"BACE_649\",\n          \"BACE_839\"\n        ],\n        \"semantic_type\": \"\",\n        \"description\": \"\"\n      }\n    },\n    {\n      \"column\": \"Class\",\n      \"properties\": {\n        \"dtype\": \"number\",\n        \"std\": 0,\n        \"min\": 0,\n        \"max\": 1,\n        \"num_unique_values\": 2,\n        \"samples\": [\n          0,\n          1\n        ],\n        \"semantic_type\": \"\",\n        \"description\": \"\"\n      }\n    },\n    {\n      \"column\": \"Model\",\n      \"properties\": {\n        \"dtype\": \"category\",\n        \"num_unique_values\": 3,\n        \"samples\": [\n          \"Train\",\n          \"Valid\"\n        ],\n        \"semantic_type\": \"\",\n        \"description\": \"\"\n      }\n    },\n    {\n      \"column\": \"pIC50\",\n      \"properties\": {\n        \"dtype\": \"number\",\n        \"std\": 1.342416931106123,\n        \"min\": 2.5445461,\n        \"max\": 10.522879,\n        \"num_unique_values\": 651,\n        \"samples\": [\n          3.4689045,\n          7.167491\n        ],\n        \"semantic_type\": \"\",\n        \"description\": \"\"\n      }\n    }\n  ]\n}"
            }
          },
          "metadata": {},
          "execution_count": 14
        }
      ]
    },
    {
      "cell_type": "code",
      "source": [
        "# Visualise one of the molecules from its SMILE input\n",
        "inhibitor = bace_df[\"mol\"][0]\n",
        "\n",
        "m = Chem.MolFromSmiles(inhibitor)\n",
        "\n",
        "img = Draw.MolToImage(m)\n",
        "\n",
        "display(img)"
      ],
      "metadata": {
        "id": "AAicW09A97b_",
        "colab": {
          "base_uri": "https://localhost:8080/",
          "height": 317
        },
        "outputId": "b07879a6-6780-4c0f-9a11-eefee1d00574"
      },
      "execution_count": 15,
      "outputs": [
        {
          "output_type": "display_data",
          "data": {
            "text/plain": [
              "<PIL.PngImagePlugin.PngImageFile image mode=RGB size=300x300>"
            ],
            "image/png": "[encoded data removed]"
          },
          "metadata": {}
        }
      ]
    },
    {
      "cell_type": "code",
      "source": [
        "# Display five random molecules with their SMILES molecules\n",
        "\n",
        "# Create axes and sample SMILES molecules\n",
        "fig, ax = plt.subplots(ncols=5, nrows=1, figsize = (18,6))\n",
        "mols = bace_df.sample(n=5, random_state=42)[\"mol\"]\n",
        "\n",
        "for i in range(len(mols)):\n",
        "\n",
        "  # Convert each molecule to an image\n",
        "  mol = mols.iloc[i]\n",
        "  m = Chem.MolFromSmiles(mol)\n",
        "  img = Draw.MolToImage(m)\n",
        "\n",
        "  # Plot each molecule\n",
        "  ax[i].imshow(img)\n",
        "  ax[i].axis(False);\n",
        "\n",
        "  # Divide the SMILE input into three parts\n",
        "  first_part = mol[:int(len(mol)/3)]\n",
        "  second_part = mol[int(len(mol)//3):int(2*len(mol)//3)]\n",
        "  third_part = mol[int(2*len(mol)//3):]\n",
        "\n",
        "  assert len(mol) == len(first_part)+len(second_part)+len(third_part)\n",
        "\n",
        "  first_title = first_part + \"\\n\"\n",
        "  second_title = second_part + \"\\n\"\n",
        "  third_title = third_part + \"\\n\"\n",
        "\n",
        "  # Title each plot with its respective SMILE input\n",
        "  ax[i].set_title(first_title+second_title+third_title)"
      ],
      "metadata": {
        "id": "FiM-wR6mDlbv",
        "colab": {
          "base_uri": "https://localhost:8080/",
          "height": 342
        },
        "outputId": "d6cc713d-14ae-46e7-b2b7-80dd87d22973"
      },
      "execution_count": 16,
      "outputs": [
        {
          "output_type": "display_data",
          "data": {
            "text/plain": [
              "<Figure size 1800x600 with 5 Axes>"
            ],
            "image/png": "[encoded data removed]"
          },
          "metadata": {}
        }
      ]
    },
    {
      "cell_type": "code",
      "source": [
        "# Test converting a molecule into a graph using MolGraphConvFeaturizer and to_pyg_graph\n",
        "\n",
        "# Select first molecule\n",
        "mol = bace_df[\"mol\"][1]\n",
        "\n",
        "# Instantiate MolGraphConvFeaturizer class\n",
        "featurizer=dc.feat.MolGraphConvFeaturizer(use_edges=True)\n",
        "\n",
        "# Convert SMILES molecule into a DeepChem graph\n",
        "out = featurizer.featurize(datapoints=mol)\n",
        "\n",
        "# Convert into torch geometric graph\n",
        "pyg_out = GraphData.to_pyg_graph(out[0])\n",
        "pyg_out.y = torch.tensor([bace_df[\"Class\"][0]])\n",
        "\n",
        "print(pyg_out)"
      ],
      "metadata": {
        "id": "REwBMkJ8DwOa",
        "colab": {
          "base_uri": "https://localhost:8080/"
        },
        "outputId": "d9ee0add-1dd6-406c-aecf-45487e998cb6"
      },
      "execution_count": 17,
      "outputs": [
        {
          "output_type": "stream",
          "name": "stdout",
          "text": [
            "Data(x=[47, 30], edge_index=[2, 100], edge_attr=[100, 11], y=[1])\n"
          ]
        }
      ]
    },
    {
      "cell_type": "code",
      "source": [
        "# Custom torch geometric Dataset class to store the samples and their corresponding labels\n",
        "\n",
        "class MoleculeDataset(Dataset):\n",
        "  def __init__(self, root, csv_file, transform=None, pre_transform=None, pre_filter=None):\n",
        "    \"\"\"\n",
        "    root = Where the dataset should be stored. This folder is split\n",
        "    into raw_dir (downloaded dataset) and processed_dir(processed data).\n",
        "    \"\"\"\n",
        "    self.csv_file = csv_file\n",
        "    super().__init__(root, transform, pre_transform, pre_filter)\n",
        "\n",
        "  @property\n",
        "  def raw_file_names(self):\n",
        "    \"\"\"\n",
        "    If this file exists in raw_dir, the download is not triggered/\n",
        "    (the download function is not implemented here)\n",
        "    \"\"\"\n",
        "    return self.csv_file\n",
        "\n",
        "  @property\n",
        "  def processed_file_names(self):\n",
        "    \"\"\"\n",
        "    If these files are found in raw_dir, processing is skipped\n",
        "    \"\"\"\n",
        "    self.data = pd.read_csv(self.raw_paths[0]).reset_index()\n",
        "\n",
        "    return [f'data_{i}.pt' for i in list(self.data.index)]\n",
        "\n",
        "  def download(self):\n",
        "    \"\"\"\n",
        "    No need to download the csv file as it is already downloaded\n",
        "    \"\"\"\n",
        "    pass\n",
        "\n",
        "  def process(self):\n",
        "    \"\"\"\n",
        "    I used Deepchem's MolGraphConvFeaturizer to create a graph and then convert that to a torch graph with to_pyg_graph.\n",
        "    \"\"\"\n",
        "    self.data = pd.read_csv(self.raw_paths[0]).reset_index()\n",
        "    featurizer=dc.feat.MolGraphConvFeaturizer(use_edges=True)\n",
        "\n",
        "    for idx, row in self.data.iterrows():\n",
        "      # Featurize molecule and convert to torch graph\n",
        "      smiles = row['mol']\n",
        "      label = row['Class']\n",
        "      pic50 = row['pIC50']\n",
        "\n",
        "      out = featurizer.featurize(smiles)\n",
        "      pyg_out = GraphData.to_pyg_graph(out[0])\n",
        "      pyg_out.Class = torch.tensor([label])\n",
        "      pyg_out.smiles = smiles\n",
        "      pyg_out.pic50 = pic50\n",
        "\n",
        "      # data = Data(x=pyg_out.x, edge_index=pyg_out.edge_index, edge_attr=pyg_out.edge_attr,\n",
        "      #            y=torch.tensor([label]), dtype = torch.float)\n",
        "\n",
        "      torch.save(pyg_out, osp.join(self.processed_dir, f'data_{idx}.pt'))\n",
        "\n",
        "  def len(self):\n",
        "    \"\"\"\n",
        "    Returns number of samples in the dataset\n",
        "    \"\"\"\n",
        "    return len(self.processed_file_names)\n",
        "\n",
        "  def get(self, idx):\n",
        "    \"\"\"\n",
        "    Loads a single graph\n",
        "    \"\"\"\n",
        "    data = torch.load(osp.join(self.processed_dir, f'data_{idx}.pt'))\n",
        "    return data"
      ],
      "metadata": {
        "id": "FfYq6ypbx8XO"
      },
      "execution_count": 18,
      "outputs": []
    },
    {
      "cell_type": "code",
      "source": [
        "# Instantiate the dataset from the BACE CSV file\n",
        "start_time = timer()\n",
        "# original_dataset = MoleculeDataset(root = \"drive/MyDrive/bace_graph_project/data/\", csv_file = \"bace.csv\").shuffle()\n",
        "original_dataset = MoleculeDataset(root = \"data/\", csv_file = \"bace.csv\").shuffle()\n",
        "dataset = original_dataset\n",
        "end_time = timer()\n",
        "print(f\"Processing dataset took {end_time-start_time:.4f}s\")\n",
        "\n",
        "train_indices = int(0.8*len(dataset))\n",
        "\n",
        "train_dataset = dataset[:train_indices]\n",
        "test_dataset = dataset[train_indices:]\n",
        "\n",
        "\n",
        "print(f\"Total dataset samples: {len(dataset)}\\nTrain dataset samples: {len(train_dataset)}\\nTest dataset samples: {len(test_dataset)}\")"
      ],
      "metadata": {
        "id": "TDUd7BUl-TaU",
        "colab": {
          "base_uri": "https://localhost:8080/"
        },
        "outputId": "f559e20f-ff40-4a11-bb1f-81f7444dfcbe"
      },
      "execution_count": 19,
      "outputs": [
        {
          "output_type": "stream",
          "name": "stderr",
          "text": [
            "Processing...\n",
            "Done!\n"
          ]
        },
        {
          "output_type": "stream",
          "name": "stdout",
          "text": [
            "Processing dataset took 19.9693s\n",
            "Total dataset samples: 1513\n",
            "Train dataset samples: 1210\n",
            "Test dataset samples: 303\n"
          ]
        }
      ]
    },
    {
      "cell_type": "code",
      "source": [
        "# Calculate average nodes and edges in the graphs\n",
        "avg_nodes = 0\n",
        "avg_edges = 0\n",
        "\"\"\"\n",
        "for i in tqdm(range(len(original_dataset))):\n",
        "  avg_nodes+=original_dataset[i].x.shape[0]\n",
        "  avg_edges+=original_dataset[i].edge_index.shape[1]\n",
        "avg_nodes = avg_nodes/len(original_dataset)\n",
        "avg_edges = avg_edges/len(original_dataset)\n",
        "print(f\"avg nodes: {avg_nodes:.4f}, avg_edges: {avg_edges:.4f}\")\n",
        "\"\"\"\n",
        "# Computation takes a long time, results:\n",
        "print(\"avg nodes: 34.0892, avg_edges: 73.7184\")"
      ],
      "metadata": {
        "id": "oyIrC15qyqW_",
        "colab": {
          "base_uri": "https://localhost:8080/"
        },
        "outputId": "c90dd87e-1fb6-44ac-9d2f-60bc1862e117"
      },
      "execution_count": 20,
      "outputs": [
        {
          "output_type": "stream",
          "name": "stdout",
          "text": [
            "avg nodes: 34.0892, avg_edges: 73.7184\n"
          ]
        }
      ]
    },
    {
      "cell_type": "code",
      "source": [
        "num_workers = 4\n",
        "# Create a dataloader from the dataset\n",
        "train_dataloader = DataLoader(train_dataset, batch_size=32, shuffle=True, num_workers=num_workers)\n",
        "test_dataloader = DataLoader(test_dataset, batch_size=32, shuffle=True, num_workers=num_workers)\n",
        "\n",
        "print(f\"Number of batches: {len(train_dataloader)}\")\n",
        "print(f\"Number of samples: {len(train_dataset)}\")"
      ],
      "metadata": {
        "id": "DITcTGVx_F3d",
        "colab": {
          "base_uri": "https://localhost:8080/"
        },
        "outputId": "250b1725-f6a3-4176-a685-72f54c10f4c9"
      },
      "execution_count": 21,
      "outputs": [
        {
          "output_type": "stream",
          "name": "stdout",
          "text": [
            "Number of batches: 38\n",
            "Number of samples: 1210\n"
          ]
        }
      ]
    },
    {
      "cell_type": "code",
      "source": [
        "# Load a single graph\n",
        "\n",
        "print(f\"Number of nodes in graph is: {train_dataset[0].x.shape[0]}\")\n",
        "print(f\"Number of features for each node is {train_dataset[0].num_features}\")\n",
        "print(f\"Number of edges is {train_dataset[0].edge_index.shape[1]}\")\n",
        "print(f\"Data object is {train_dataset[0]}\\n\")"
      ],
      "metadata": {
        "id": "NuE_wWzICdlN",
        "colab": {
          "base_uri": "https://localhost:8080/"
        },
        "outputId": "53e67145-7529-4841-dcc3-e46d6172ebbf"
      },
      "execution_count": 22,
      "outputs": [
        {
          "output_type": "stream",
          "name": "stdout",
          "text": [
            "Number of nodes in graph is: 39\n",
            "Number of features for each node is 30\n",
            "Number of edges is 82\n",
            "Data object is Data(x=[39, 30], edge_index=[2, 82], edge_attr=[82, 11], Class=[1], smiles='S(=O)(=O)(NC1CCC([NH2+]CC(O)C(NC(=O)C)Cc2cc(F)cc(F)c2)(CC1)c1cc(ccc1)C(C)(C)C)C', pic50=6.3979402)\n",
            "\n"
          ]
        }
      ]
    },
    {
      "cell_type": "code",
      "source": [
        "# Node features for one the graphs. This class is a featurizer of general graph convolution networks for molecules.\n",
        "# The default node(atom) and edge(bond) representations are based on WeaveNet paper.\n",
        "\n",
        "# train_dataset[0].x"
      ],
      "metadata": {
        "id": "xl2qeyeVrL5A"
      },
      "execution_count": 23,
      "outputs": []
    },
    {
      "cell_type": "code",
      "source": [
        "# See the format for a batch\n",
        "print(next(iter(train_dataloader)))"
      ],
      "metadata": {
        "id": "IRpeAGqacSdI",
        "colab": {
          "base_uri": "https://localhost:8080/"
        },
        "outputId": "14c09477-716e-4233-f07d-d7d07c767270"
      },
      "execution_count": 24,
      "outputs": [
        {
          "output_type": "stream",
          "name": "stderr",
          "text": [
            "/usr/lib/python3.10/multiprocessing/popen_fork.py:66: RuntimeWarning: os.fork() was called. os.fork() is incompatible with multithreaded code, and JAX is multithreaded, so this will likely lead to a deadlock.\n",
            "  self.pid = os.fork()\n"
          ]
        },
        {
          "output_type": "stream",
          "name": "stdout",
          "text": [
            "DataBatch(x=[1110, 30], edge_index=[2, 2392], edge_attr=[2392, 11], Class=[32], smiles=[32], pic50=[32], batch=[1110], ptr=[33])\n"
          ]
        }
      ]
    },
    {
      "cell_type": "code",
      "source": [
        "np.random.seed(44)\n",
        "\n",
        "fig, ax = plt.subplots(ncols=2, nrows=1, figsize = (14,6))\n",
        "\n",
        "g = torch_geometric.utils.to_networkx(train_dataset[0], to_undirected=True)\n",
        "nx.draw(g, ax = ax[0])\n",
        "\n",
        "mol = dataset[0].smiles\n",
        "m = Chem.MolFromSmiles(mol)\n",
        "img = Draw.MolToImage(m)\n",
        "\n",
        "ax[1].imshow(img)\n",
        "ax[1].axis(False);"
      ],
      "metadata": {
        "id": "WCWU18-2vusz",
        "colab": {
          "base_uri": "https://localhost:8080/",
          "height": 499
        },
        "outputId": "7334ae4f-bf8d-424d-9620-0852989e8153"
      },
      "execution_count": 25,
      "outputs": [
        {
          "output_type": "display_data",
          "data": {
            "text/plain": [
              "<Figure size 1400x600 with 2 Axes>"
            ],
            "image/png": "[encoded data removed]"
          },
          "metadata": {}
        }
      ]
    },
    {
      "cell_type": "code",
      "source": [
        "# Print 5 batches\n",
        "i = 0\n",
        "for batch in train_dataloader:\n",
        "  while i <5:\n",
        "    print(i, batch)\n",
        "    i+=1"
      ],
      "metadata": {
        "id": "VEM4-gL9HAYZ",
        "colab": {
          "base_uri": "https://localhost:8080/"
        },
        "outputId": "80d42125-101c-4206-8456-70f9d3a8f1a8"
      },
      "execution_count": 26,
      "outputs": [
        {
          "output_type": "stream",
          "name": "stdout",
          "text": [
            "0 DataBatch(x=[985, 30], edge_index=[2, 2142], edge_attr=[2142, 11], Class=[32], smiles=[32], pic50=[32], batch=[985], ptr=[33])\n",
            "1 DataBatch(x=[985, 30], edge_index=[2, 2142], edge_attr=[2142, 11], Class=[32], smiles=[32], pic50=[32], batch=[985], ptr=[33])\n",
            "2 DataBatch(x=[985, 30], edge_index=[2, 2142], edge_attr=[2142, 11], Class=[32], smiles=[32], pic50=[32], batch=[985], ptr=[33])\n",
            "3 DataBatch(x=[985, 30], edge_index=[2, 2142], edge_attr=[2142, 11], Class=[32], smiles=[32], pic50=[32], batch=[985], ptr=[33])\n",
            "4 DataBatch(x=[985, 30], edge_index=[2, 2142], edge_attr=[2142, 11], Class=[32], smiles=[32], pic50=[32], batch=[985], ptr=[33])\n"
          ]
        }
      ]
    },
    {
      "cell_type": "code",
      "source": [
        "start_time = timer()\n",
        "for idx, batch in enumerate(train_dataloader):\n",
        "  pass\n",
        "end_time = timer()\n",
        "print(end_time-start_time)"
      ],
      "metadata": {
        "colab": {
          "base_uri": "https://localhost:8080/"
        },
        "id": "hS1D5z0vVfe0",
        "outputId": "060e7ef6-b4a6-4d5b-f92d-942cd7172ae3"
      },
      "execution_count": 27,
      "outputs": [
        {
          "output_type": "stream",
          "name": "stdout",
          "text": [
            "0.5499933080000119\n"
          ]
        }
      ]
    },
    {
      "cell_type": "code",
      "source": [
        "# Create tensor of the average of the node features for all 1210 training samples\n",
        "\n",
        "a = torch.tensor(())\n",
        "for idx, data in enumerate(train_dataloader):\n",
        "  x = global_mean_pool(data.x, data.batch)\n",
        "  a = torch.cat((a, x), 0)\n"
      ],
      "metadata": {
        "id": "Tr3r1Txf5XYD"
      },
      "execution_count": 28,
      "outputs": []
    },
    {
      "cell_type": "code",
      "source": [
        "\n",
        "print(a.shape)\n",
        "df = pd.DataFrame(a.numpy())\n",
        "# display(df)\n",
        "corr = df.corr()\n",
        "# corr.style.background_gradient(cmap='coolwarm')\n"
      ],
      "metadata": {
        "id": "AUXCBkyW_HzM",
        "colab": {
          "base_uri": "https://localhost:8080/"
        },
        "outputId": "7b343ad1-c742-4904-870f-066c5ef58037"
      },
      "execution_count": 29,
      "outputs": [
        {
          "output_type": "stream",
          "name": "stdout",
          "text": [
            "torch.Size([1210, 30])\n"
          ]
        }
      ]
    },
    {
      "cell_type": "code",
      "source": [
        "class GCNClassifier(torch.nn.Module):\n",
        "  \"\"\"\n",
        "  Standard GCN graph classifier\n",
        "  \"\"\"\n",
        "  def __init__(self, in_channels:int, hidden_channels:int, out_channels:int, pool_method:torch_geometric.nn.pool):\n",
        "    super().__init__()\n",
        "    # Convolutional Layers\n",
        "    self.conv1 = GCNConv(in_channels, hidden_channels)\n",
        "\n",
        "    self.conv2 = GCNConv(hidden_channels, hidden_channels)\n",
        "\n",
        "    self.conv3 = GCNConv(hidden_channels, hidden_channels)\n",
        "\n",
        "    # Linear layer used in classification\n",
        "    self.lin = Linear(hidden_channels, out_channels)\n",
        "\n",
        "  def forward(self, data):\n",
        "    # Obtain node embeddings\n",
        "    x, edge_index, batch, edge_attr = data.x, data.edge_index, data.batch, data.edge_attr\n",
        "\n",
        "    x = self.conv1(x, edge_index)\n",
        "    x = F.leaky_relu(x)\n",
        "    x = self.conv2(x, edge_index)\n",
        "    x = F.leaky_relu(x)\n",
        "    x = self.conv3(x, edge_index)\n",
        "\n",
        "    # Aggregate node embeddings\n",
        "    x = pool_method(x, batch)\n",
        "\n",
        "    # Regularisation\n",
        "    x = F.dropout(x)\n",
        "\n",
        "    # Classification\n",
        "    x = self.lin(x)\n",
        "\n",
        "    x = F.softmax(x, dim=1)\n",
        "\n",
        "    return x\n",
        "\n",
        "GCNClassifier(7, 64, 2, global_mean_pool)"
      ],
      "metadata": {
        "id": "6s5AgpJDG2UK",
        "colab": {
          "base_uri": "https://localhost:8080/"
        },
        "outputId": "410d664e-3443-4701-beb9-c8e318c4d2f0"
      },
      "execution_count": 30,
      "outputs": [
        {
          "output_type": "execute_result",
          "data": {
            "text/plain": [
              "GCNClassifier(\n",
              "  (conv1): GCNConv(7, 64)\n",
              "  (conv2): GCNConv(64, 64)\n",
              "  (conv3): GCNConv(64, 64)\n",
              "  (lin): Linear(in_features=64, out_features=2, bias=True)\n",
              ")"
            ]
          },
          "metadata": {},
          "execution_count": 30
        }
      ]
    },
    {
      "cell_type": "code",
      "source": [
        "class GraphConvClassifier(GCNClassifier):\n",
        "  \"\"\"\n",
        "  Same architecture as GCN Classifier however use GraphConv layers\n",
        "  \"\"\"\n",
        "  def __init__(self, in_channels:int, hidden_channels:int, out_channels:int,  pool_method:torch_geometric.nn.pool):\n",
        "    super().__init__(in_channels, hidden_channels, out_channels, pool_method)\n",
        "    self.conv1 = GraphConv(in_channels, hidden_channels)\n",
        "\n",
        "    self.conv2 = GraphConv(hidden_channels, hidden_channels)\n",
        "\n",
        "    self.conv3 = GraphConv(hidden_channels, hidden_channels)\n",
        "GraphConvClassifier(7, 64, 2, global_mean_pool)"
      ],
      "metadata": {
        "id": "p5IuuM4RZbq1",
        "colab": {
          "base_uri": "https://localhost:8080/"
        },
        "outputId": "bcda4ef6-cbd1-4a1b-af02-b7cd7e234dd5"
      },
      "execution_count": 31,
      "outputs": [
        {
          "output_type": "execute_result",
          "data": {
            "text/plain": [
              "GraphConvClassifier(\n",
              "  (conv1): GraphConv(7, 64)\n",
              "  (conv2): GraphConv(64, 64)\n",
              "  (conv3): GraphConv(64, 64)\n",
              "  (lin): Linear(in_features=64, out_features=2, bias=True)\n",
              ")"
            ]
          },
          "metadata": {},
          "execution_count": 31
        }
      ]
    },
    {
      "cell_type": "code",
      "source": [
        "class GATClassifier(torch.nn.Module):\n",
        "  \"\"\"\n",
        "  GAT Convolutional graph classifier\n",
        "  \"\"\"\n",
        "  def __init__(self, in_channels:int, hidden_channels:int, out_channels:int, heads:int, pool_method:torch_geometric.nn.pool,\n",
        "               use_edge_attr:bool):\n",
        "    super().__init__()\n",
        "    # Convolutional Layers\n",
        "    self.conv1 = GATConv(in_channels,\n",
        "                         hidden_channels,\n",
        "                         heads,\n",
        "                         concat = True)\n",
        "    self.conv2 = GATConv(hidden_channels*heads,\n",
        "                         hidden_channels,\n",
        "                         heads,\n",
        "                         concat=True)\n",
        "    self.conv3 = GATConv(hidden_channels*heads,\n",
        "                         hidden_channels,\n",
        "                         1,\n",
        "                         concat=False)\n",
        "    self.lin = Linear(hidden_channels, out_channels)\n",
        "\n",
        "  def forward(self, data):\n",
        "    # Obtain node embeddings\n",
        "    x, edge_index, batch, edge_attr = data.x, data.edge_index, data.batch, data.edge_attr\n",
        "\n",
        "    # can use edge attributes\n",
        "    if use_edge_attr:\n",
        "      x = self.conv1(x, edge_index, edge_attr)\n",
        "      x = F.leaky_relu(x)\n",
        "      x = self.conv2(x, edge_index, edge_attr)\n",
        "      x = F.leaky_relu(x)\n",
        "      x = self.conv3(x, edge_index, edge_attr)\n",
        "\n",
        "    # not using edge attributes\n",
        "    else:\n",
        "      x = self.conv1(x, edge_index)\n",
        "      x = F.leaky_relu(x)\n",
        "      x = self.conv2(x, edge_index)\n",
        "      x = F.leaky_relu(x)\n",
        "      x = self.conv3(x, edge_index)\n",
        "\n",
        "    # Aggregate node embeddings\n",
        "    x = pool_method(x, batch)\n",
        "\n",
        "    # Regularisation\n",
        "    x = F.dropout(x)\n",
        "\n",
        "    # Classification\n",
        "    x = self.lin(x)\n",
        "\n",
        "    x = F.softmax(x, dim=1)\n",
        "\n",
        "    return x\n",
        "\n",
        "GATClassifier(30, 64, 2, 8, global_max_pool, True)"
      ],
      "metadata": {
        "id": "HvALPddqsKQy",
        "colab": {
          "base_uri": "https://localhost:8080/"
        },
        "outputId": "3ad94e6d-c604-4983-9bd2-af6514bb4100"
      },
      "execution_count": 32,
      "outputs": [
        {
          "output_type": "execute_result",
          "data": {
            "text/plain": [
              "GATClassifier(\n",
              "  (conv1): GATConv(30, 64, heads=8)\n",
              "  (conv2): GATConv(512, 64, heads=8)\n",
              "  (conv3): GATConv(512, 64, heads=1)\n",
              "  (lin): Linear(in_features=64, out_features=2, bias=True)\n",
              ")"
            ]
          },
          "metadata": {},
          "execution_count": 32
        }
      ]
    },
    {
      "cell_type": "code",
      "source": [
        "type(GINConv(nn))"
      ],
      "metadata": {
        "id": "KmxAhtPZgerK",
        "colab": {
          "base_uri": "https://localhost:8080/",
          "height": 187
        },
        "outputId": "20f3fdb7-886b-49eb-f216-f46de8afacc5"
      },
      "execution_count": 33,
      "outputs": [
        {
          "output_type": "execute_result",
          "data": {
            "text/plain": [
              "torch_geometric.nn.conv.gin_conv.GINConv"
            ],
            "text/html": [
              "<div style=\"max-width:800px; border: 1px solid var(--colab-border-color);\"><style>\n",
              "      pre.function-repr-contents {\n",
              "        overflow-x: auto;\n",
              "        padding: 8px 12px;\n",
              "        max-height: 500px;\n",
              "      }\n",
              "\n",
              "      pre.function-repr-contents.function-repr-contents-collapsed {\n",
              "        cursor: pointer;\n",
              "        max-height: 100px;\n",
              "      }\n",
              "    </style>\n",
              "    <pre style=\"white-space: initial; background:\n",
              "         var(--colab-secondary-surface-color); padding: 8px 12px;\n",
              "         border-bottom: 1px solid var(--colab-border-color);\"><b>torch_geometric.nn.conv.gin_conv.GINConv</b><br/>def _wrapped_call_impl(*args, **kwargs)</pre><pre class=\"function-repr-contents function-repr-contents-collapsed\" style=\"\"><a class=\"filepath\" style=\"display:none\" href=\"#\">/usr/local/lib/python3.10/dist-packages/torch_geometric/nn/conv/gin_conv.py</a>The graph isomorphism operator from the `&quot;How Powerful are\n",
              "Graph Neural Networks?&quot; &lt;https://arxiv.org/abs/1810.00826&gt;`_ paper.\n",
              "\n",
              ".. math::\n",
              "    \\mathbf{x}^{\\prime}_i = h_{\\mathbf{\\Theta}} \\left( (1 + \\epsilon) \\cdot\n",
              "    \\mathbf{x}_i + \\sum_{j \\in \\mathcal{N}(i)} \\mathbf{x}_j \\right)\n",
              "\n",
              "or\n",
              "\n",
              ".. math::\n",
              "    \\mathbf{X}^{\\prime} = h_{\\mathbf{\\Theta}} \\left( \\left( \\mathbf{A} +\n",
              "    (1 + \\epsilon) \\cdot \\mathbf{I} \\right) \\cdot \\mathbf{X} \\right),\n",
              "\n",
              "here :math:`h_{\\mathbf{\\Theta}}` denotes a neural network, *.i.e.* an MLP.\n",
              "\n",
              "Args:\n",
              "    nn (torch.nn.Module): A neural network :math:`h_{\\mathbf{\\Theta}}` that\n",
              "        maps node features :obj:`x` of shape :obj:`[-1, in_channels]` to\n",
              "        shape :obj:`[-1, out_channels]`, *e.g.*, defined by\n",
              "        :class:`torch.nn.Sequential`.\n",
              "    eps (float, optional): (Initial) :math:`\\epsilon`-value.\n",
              "        (default: :obj:`0.`)\n",
              "    train_eps (bool, optional): If set to :obj:`True`, :math:`\\epsilon`\n",
              "        will be a trainable parameter. (default: :obj:`False`)\n",
              "    **kwargs (optional): Additional arguments of\n",
              "        :class:`torch_geometric.nn.conv.MessagePassing`.\n",
              "\n",
              "Shapes:\n",
              "    - **input:**\n",
              "      node features :math:`(|\\mathcal{V}|, F_{in})` or\n",
              "      :math:`((|\\mathcal{V_s}|, F_{s}), (|\\mathcal{V_t}|, F_{t}))`\n",
              "      if bipartite,\n",
              "      edge indices :math:`(2, |\\mathcal{E}|)`\n",
              "    - **output:** node features :math:`(|\\mathcal{V}|, F_{out})` or\n",
              "      :math:`(|\\mathcal{V}_t|, F_{out})` if bipartite</pre>\n",
              "      <script>\n",
              "      if (google.colab.kernel.accessAllowed && google.colab.files && google.colab.files.view) {\n",
              "        for (const element of document.querySelectorAll('.filepath')) {\n",
              "          element.style.display = 'block'\n",
              "          element.onclick = (event) => {\n",
              "            event.preventDefault();\n",
              "            event.stopPropagation();\n",
              "            google.colab.files.view(element.textContent, 19);\n",
              "          };\n",
              "        }\n",
              "      }\n",
              "      for (const element of document.querySelectorAll('.function-repr-contents')) {\n",
              "        element.onclick = (event) => {\n",
              "          event.preventDefault();\n",
              "          event.stopPropagation();\n",
              "          element.classList.toggle('function-repr-contents-collapsed');\n",
              "        };\n",
              "      }\n",
              "      </script>\n",
              "      </div>"
            ]
          },
          "metadata": {},
          "execution_count": 33
        }
      ]
    },
    {
      "cell_type": "code",
      "source": [
        "class GINConvClassifier(torch.nn.Module):\n",
        "  \"\"\"\n",
        "  Applies the graph isomorphism operator\n",
        "  \"\"\"\n",
        "  def __init__(self, in_channels, hidden_channels, out_channels, num_layers, pool_method: torch_geometric.nn.pool):\n",
        "    super().__init__()\n",
        "\n",
        "    self.convs = torch.nn.ModuleList()\n",
        "    self.conv = GINConv\n",
        "\n",
        "    for _ in range(num_layers):\n",
        "      mlp = MLP([in_channels, hidden_channels, hidden_channels])\n",
        "      self.convs.append(self.conv(nn=mlp, train_eps=False))\n",
        "      in_channels = hidden_channels\n",
        "\n",
        "    self.mlp = MLP([hidden_channels, hidden_channels, out_channels], norm = None, dropout = 0.5)\n",
        "\n",
        "  def forward(self, data):\n",
        "    x, edge_index, batch = data.x, data.edge_index, data.batch\n",
        "    for conv in self.convs:\n",
        "      x = conv(x, edge_index).relu()\n",
        "    x = pool_method(x, batch)\n",
        "    return self.mlp(x)\n",
        "\n",
        "GINConvClassifier(30, 64, 2, 3, global_mean_pool)"
      ],
      "metadata": {
        "id": "bZmVxXvjw5hg",
        "colab": {
          "base_uri": "https://localhost:8080/"
        },
        "outputId": "99812c47-a52a-4fcc-ca75-ca1546dfb365"
      },
      "execution_count": 34,
      "outputs": [
        {
          "output_type": "execute_result",
          "data": {
            "text/plain": [
              "GINConvClassifier(\n",
              "  (convs): ModuleList(\n",
              "    (0): GINConv(nn=MLP(30, 64, 64))\n",
              "    (1-2): 2 x GINConv(nn=MLP(64, 64, 64))\n",
              "  )\n",
              "  (mlp): MLP(64, 64, 2)\n",
              ")"
            ]
          },
          "metadata": {},
          "execution_count": 34
        }
      ]
    },
    {
      "cell_type": "code",
      "source": [
        "class GINEConvClassifier(torch.nn.Module):\n",
        "  \"\"\"\n",
        "  Applies the graph isomorphism operator\n",
        "  \"\"\"\n",
        "  def __init__(self, in_channels, hidden_channels, out_channels, num_layers, pool_method: torch_geometric.nn.pool,\n",
        "               use_edge_attr:bool, edge_dim:int):\n",
        "    super().__init__()\n",
        "\n",
        "    self.convs = torch.nn.ModuleList()\n",
        "    self.conv = GINEConv\n",
        "    self.use_edge_attr = use_edge_attr\n",
        "    self.edge_dim = edge_dim\n",
        "\n",
        "    for _ in range(num_layers):\n",
        "      mlp = MLP([in_channels, hidden_channels, hidden_channels])\n",
        "      self.convs.append(self.conv(nn=mlp, train_eps=False, edge_dim=self.edge_dim))\n",
        "      in_channels = hidden_channels\n",
        "\n",
        "    self.mlp = MLP([hidden_channels, hidden_channels, out_channels], norm = None, dropout = 0.5)\n",
        "\n",
        "  def forward(self, data):\n",
        "    x, edge_index, batch, edge_attr = data.x, data.edge_index, data.batch, data.edge_attr\n",
        "    for conv in self.convs:\n",
        "      if self.use_edge_attr:\n",
        "        x = conv(x, edge_index, edge_attr).relu()\n",
        "      else:\n",
        "        x = conv(x, edge_index).relu()\n",
        "\n",
        "    x = pool_method(x, batch)\n",
        "    return self.mlp(x)\n",
        "\n",
        "GINEConvClassifier(30, 64, 2, 3, global_mean_pool, True, dataset[0].edge_attr.shape[1])"
      ],
      "metadata": {
        "id": "DYljeP0Kcpc5",
        "colab": {
          "base_uri": "https://localhost:8080/"
        },
        "outputId": "46320dd7-b519-4346-c356-ca3f15b97a04"
      },
      "execution_count": 35,
      "outputs": [
        {
          "output_type": "execute_result",
          "data": {
            "text/plain": [
              "GINEConvClassifier(\n",
              "  (convs): ModuleList(\n",
              "    (0): GINEConv(nn=MLP(30, 64, 64))\n",
              "    (1-2): 2 x GINEConv(nn=MLP(64, 64, 64))\n",
              "  )\n",
              "  (mlp): MLP(64, 64, 2)\n",
              ")"
            ]
          },
          "metadata": {},
          "execution_count": 35
        }
      ]
    },
    {
      "cell_type": "code",
      "source": [
        "dataset[2].edge_attr.shape[1]"
      ],
      "metadata": {
        "id": "GkMzFgbjYkfH",
        "colab": {
          "base_uri": "https://localhost:8080/"
        },
        "outputId": "ea11bc92-2034-4175-ddaf-5c9b38f66f6e"
      },
      "execution_count": 36,
      "outputs": [
        {
          "output_type": "execute_result",
          "data": {
            "text/plain": [
              "11"
            ]
          },
          "metadata": {},
          "execution_count": 36
        }
      ]
    },
    {
      "cell_type": "code",
      "source": [
        "device = \"cuda\" if torch.cuda.is_available() else \"cpu\"\n",
        "# auroc_metric = BinaryAUROC(thresholds=100).to(device)\n",
        "auroc_metric = BinaryAUROC().to(device)\n",
        "\n",
        "\n",
        "def train_step(model:torch.nn.Module,\n",
        "               dataloader: torch.utils.data.DataLoader,\n",
        "               loss_fn: torch.nn.Module,\n",
        "               optimizer: torch.optim.Optimizer):\n",
        "\n",
        "  # Send model to device\n",
        "\n",
        "  model.to(device)\n",
        "  model.train()\n",
        "\n",
        "\n",
        "  train_loss, train_acc, train_auc, scikit_train_auc = 0, 0, 0, 0\n",
        "\n",
        "\n",
        "  auc_time = 0\n",
        "  scikit_auc_time = 0\n",
        "  out_time = 0\n",
        "  loss_time = 0\n",
        "  optimizer_time = 0\n",
        "  section_time = 0\n",
        "  dataloader_loop_time = 0\n",
        "  inside_loop_time = 0\n",
        "\n",
        "\n",
        "  loop_start_time = timer()\n",
        "  # Loop over the batches\n",
        "  for idx, batch in enumerate(dataloader):\n",
        "    # print(f\"entered {idx} loop of train step\")\n",
        "    inside_loop_start_time = timer()\n",
        "    if idx > 1:\n",
        "      dataloader_loop_end_time = timer()\n",
        "      dataloader_loop_time += dataloader_loop_end_time-dataloader_loop_start_time\n",
        "\n",
        "    section_start_time = timer()\n",
        "    to_device_start_time = timer()\n",
        "    batch = batch.to(device)\n",
        "    to_device_end_time = timer()\n",
        "\n",
        "    # Optimizer zero grad\n",
        "    optimizer.zero_grad()\n",
        "\n",
        "\n",
        "    # Forward pass\n",
        "    out_start_time = timer()\n",
        "    out = model(batch)\n",
        "    out_end_time = timer()\n",
        "    out_time+=out_end_time-out_start_time\n",
        "\n",
        "\n",
        "    # Calculate the loss\n",
        "    loss = loss_fn(out, batch.Class)\n",
        "    train_loss += loss.item()\n",
        "\n",
        "    # Calculate the label predictions\n",
        "    label_preds = torch.argmax(out, dim=1)\n",
        "    # Calculate accuracy\n",
        "    train_acc += (label_preds == batch.Class).sum()\n",
        "\n",
        "    # Calculate the torchmetrics AUC\n",
        "    auc_start_time = timer()\n",
        "    train_auc += auroc_metric(out[:,1], batch.Class).item()\n",
        "    # print(len(auroc_metric.thresholds))\n",
        "    # train_auc += 0.03\n",
        "    auc_end_time = timer()\n",
        "    auc_time += auc_end_time-auc_start_time\n",
        "\n",
        "    # Calculate the scikitlearn's AUC\n",
        "    scikit_auc_start_time = timer()\n",
        "    scikit_train_auc += roc_auc_score(batch.Class.detach().cpu().numpy(), out[:,1].detach().cpu().numpy())\n",
        "    scikit_auc_end_time = timer()\n",
        "    scikit_auc_time += scikit_auc_end_time-scikit_auc_start_time\n",
        "\n",
        "\n",
        "    # Loss backward\n",
        "    loss_start_time = timer()\n",
        "    loss.backward()\n",
        "    loss_end_time = timer()\n",
        "    loss_time += loss_end_time-loss_start_time\n",
        "\n",
        "    # Optimizer step\n",
        "    optimizer_start_time = timer()\n",
        "    optimizer.step()\n",
        "    optimizer_end_time = timer()\n",
        "    optimizer_time = optimizer_end_time-optimizer_start_time\n",
        "    section_end_time = timer()\n",
        "    section_time+=section_end_time-section_start_time\n",
        "    dataloader_loop_start_time = timer()\n",
        "    inside_loop_end_time = timer()\n",
        "    inside_loop_time += inside_loop_end_time-inside_loop_start_time\n",
        "\n",
        "\n",
        "  loop_end_time = timer()\n",
        "  # print(f\"Section time is {section_time:.4f}\")\n",
        "  # print(f\"Dataloader loop time is {dataloader_loop_time:.4f}\")\n",
        "\n",
        "  # Adjust metrics to get average loss and accuracy per batch\n",
        "  train_loss = train_loss/len(dataloader.dataset)\n",
        "  train_acc = train_acc/len(dataloader.dataset)\n",
        "  train_auc = train_auc/len(dataloader)\n",
        "  scikit_train_auc = scikit_train_auc/len(dataloader)\n",
        "  print(f\"AUC calculation time: {auc_time:.4f}s, Scikit-learn AUC time: {scikit_auc_time:.4f}, Forward pass: {out_time:.4f}s, Loss time: {loss_time:.4f}, Optimizer time: {optimizer_time:.4f}, To device time: {to_device_end_time-to_device_start_time:.4f}\\n\")\n",
        "\n",
        "\n",
        "  #print(f\"Train outside loop time is {loop_end_time-loop_start_time:.4f}, inside loop time is {inside_loop_time:.4f}\")\n",
        "\n",
        "  return train_loss, train_acc, train_auc, scikit_train_auc"
      ],
      "metadata": {
        "id": "Qqw12LguVMMa"
      },
      "execution_count": 218,
      "outputs": []
    },
    {
      "cell_type": "code",
      "source": [
        "def test_step(model:torch.nn.Module,\n",
        "               dataloader: torch.utils.data.DataLoader,\n",
        "               loss_fn: torch.nn.Module,\n",
        "               optimizer: torch.optim.Optimizer):\n",
        "  # Put model in eval mode\n",
        "  model.eval()\n",
        "\n",
        "  test_loss, test_acc, test_auc = 0, 0, 0\n",
        "\n",
        "  # Turn on torch inference manager\n",
        "  with torch.inference_mode():\n",
        "    # Loop through data batches\n",
        "    for idx, batch in enumerate(dataloader):\n",
        "      # print(f\"entered test step {idx} batch loop\")\n",
        "      batch = batch.to(device)\n",
        "\n",
        "      # Forward pass\n",
        "      out = model(batch)\n",
        "\n",
        "      # Calculate the loss\n",
        "      loss = loss_fn(out, batch.Class)\n",
        "      test_loss += loss.item()\n",
        "\n",
        "      # Calculate the label predictions\n",
        "      label_preds = torch.argmax(out, dim=1)\n",
        "      # Calculate accuracy\n",
        "      test_acc += (label_preds == batch.Class).sum()/len(label_preds)\n",
        "\n",
        "      # Calculate the AUC\n",
        "      test_auc += auroc_metric(out[:,1], batch.Class).item()\n",
        "\n",
        "    # Adjust metrics to get average loss and accuracy per batch\n",
        "    test_loss = test_loss/len(dataloader)\n",
        "    test_acc = test_acc/len(dataloader)\n",
        "    test_auc = test_auc/len(dataloader)\n",
        "\n",
        "    return test_loss, test_acc, test_auc"
      ],
      "metadata": {
        "id": "but5rpUge8QH"
      },
      "execution_count": 219,
      "outputs": []
    },
    {
      "cell_type": "code",
      "source": [
        "def moving_average(values, window_size):\n",
        "    if len(values) < window_size:\n",
        "        return None\n",
        "    return sum(values[-window_size:]) / window_size"
      ],
      "metadata": {
        "id": "_im9hw6BtAK3"
      },
      "execution_count": 220,
      "outputs": []
    },
    {
      "cell_type": "code",
      "source": [
        "# Take in various parameters required for training and test steps\n",
        "def train(model: torch.nn.Module,\n",
        "          train_dataloader: torch.utils.data.DataLoader,\n",
        "          test_dataloader: torch.utils.data.DataLoader,\n",
        "          optimizer: torch.optim.Optimizer,\n",
        "          loss_fn: torch.nn.Module = torch.nn.CrossEntropyLoss(),\n",
        "          epochs: int =5,\n",
        "          model_save_path: str = None,\n",
        "          window_size: int=10,\n",
        "          patience: int=10):\n",
        "\n",
        "\n",
        "  # 2. Create empty results dictionary\n",
        "  results = {\"epoch\": [],\n",
        "             \"train_loss\": [],\n",
        "             \"train_acc\": [],\n",
        "             \"train_auc\": [],\n",
        "             \"test_loss\": [],\n",
        "             \"test_acc\": [],\n",
        "             \"test_auc\": [],\n",
        "             \"saved_epochs\": [],\n",
        "             \"test_loss_mov_avg\": [],\n",
        "             \"test_auc_mov_avg\": []}\n",
        "  # 3. Loop through training and testing steps for a number of epochs\n",
        "  best_moving_loss_avg = float('inf')\n",
        "  best_moving_auc_avg = 0\n",
        "\n",
        "  for i in tqdm(range(epochs)):\n",
        "\n",
        "    start_time = timer()\n",
        "    train_step_start_time = timer()\n",
        "    train_loss, train_acc, train_auc, scikit_train_auc = train_step(model,\n",
        "                                       train_dataloader,\n",
        "                                       loss_fn,\n",
        "                                       optimizer)\n",
        "    train_step_end_time = timer()\n",
        "    test_step_start_time = timer()\n",
        "    test_loss, test_acc, test_auc = test_step(model,\n",
        "                                    test_dataloader,\n",
        "                                    loss_fn,\n",
        "                                    optimizer)\n",
        "    test_step_end_time = timer()\n",
        "    # print(f\"Train step time is {train_step_end_time-train_step_start_time:.4f}s, Test step time is {test_step_end_time-test_step_start_time:.4f}s\\n\")\n",
        "\n",
        "    # 4. Print out what's happening\n",
        "    print(f\"Epoch: {i}, Train loss: {train_loss:.4f}, Train acc: {train_acc:.4f}, Train AUC: {train_auc:.4f}, Sciki_train AUC: {scikit_train_auc:.4f}, Test loss: {test_loss:.4f}, Test acc: {test_acc:.4f}, Test auc: {test_auc:.4f}\")\n",
        "    # 5. Update results dictionary\n",
        "    append_start_time = timer()\n",
        "    results[\"epoch\"].append(i)\n",
        "    results[\"train_loss\"].append(round(train_loss, 4))\n",
        "    results[\"train_acc\"].append(round(train_acc.item(), 4))\n",
        "    results[\"train_auc\"].append(round(train_auc, 4))\n",
        "    results[\"test_loss\"].append(round(test_loss, 4))\n",
        "    results[\"test_acc\"].append(round(test_acc.item(), 4))\n",
        "    results[\"test_auc\"].append(round(test_auc, 4))\n",
        "    append_end_time = timer()\n",
        "    # print(f\"append time is{append_end_time-append_start_time:.4f}\")\n",
        "    \"\"\"\n",
        "    # 6. If model_save_path provided, save the model to its path\n",
        "    if model_save_path:\n",
        "      save_start_time = timer()\n",
        "      if i > 5 and results[\"test_loss\"][-1] < np.mean(results[\"test_loss\"][-5:-1]) and results[\"test_auc\"][-1] > np.mean(results[\"test_auc\"][-5:-1]):\n",
        "        print(f\"Saving model to: {model_save_path}\")\n",
        "        results[\"saved_model_epoch\"] = i\n",
        "        torch.save(obj=model.state_dict(), # only saving the state_dict() only saves the models learned parameters\n",
        "                    f=model_save_path)\n",
        "      save_end_time = timer()\n",
        "      # print(f\"Saving time took {save_end_time-save_start_time:.4f} seconds\")\n",
        "      end_time  = timer()\n",
        "      print(f\"Epoch took {end_time-start_time:.2f} seconds\")\n",
        "  print(f\"Saved model epoch is {results['saved_model_epoch']}\")\n",
        "    \"\"\"\n",
        "\n",
        "    # 6 If model_save_path provided, save the model to its path based on whether test loss and test AUC have improved\n",
        "    save_timer_start = timer()\n",
        "    if model_save_path:\n",
        "      current_moving_loss_avg = moving_average(results[\"test_loss\"], window_size)\n",
        "      if current_moving_loss_avg is not None:\n",
        "        results[\"test_loss_mov_avg\"].append(round(current_moving_loss_avg, 4))\n",
        "      else:\n",
        "        results[\"test_loss_mov_avg\"].append(None)\n",
        "\n",
        "\n",
        "      current_moving_auc_avg = moving_average(results[\"test_auc\"], window_size)\n",
        "      if current_moving_auc_avg is not None:\n",
        "        results[\"test_auc_mov_avg\"].append(round(current_moving_auc_avg, 4))\n",
        "      else:\n",
        "        results[\"test_auc_mov_avg\"].append(None)\n",
        "\n",
        "      if current_moving_loss_avg is not None and current_moving_auc_avg is not None:\n",
        "        if current_moving_loss_avg < best_moving_loss_avg*0.99 and current_moving_auc_avg > 1.01*best_moving_auc_avg:\n",
        "          results[\"saved_epochs\"].append(i)\n",
        "          # torch.save(obj=model.state_dict(), # only saving the state_dict() only saves the models learned parameters\n",
        "          #          f=model_save_path)\n",
        "          print(f\"Saved model at epoch {i} with current average test loss: {current_moving_loss_avg:.4f} and previous best: {best_moving_loss_avg:.4f}\")\n",
        "          print(f\"Saved model at epoch {i} with current average AUC loss: {current_moving_auc_avg:.4f} and previous best: {best_moving_auc_avg:.4f}\")\n",
        "          best_moving_loss_avg = current_moving_loss_avg\n",
        "          best_moving_auc_avg = current_moving_auc_avg\n",
        "\n",
        "      if len(results[\"test_loss\"]) > window_size + patience and len(results[\"test_loss\"]) > window_size + patience:\n",
        "        if min(results[\"test_loss\"][-patience:]) > best_moving_loss_avg and max(results[\"test_auc\"][-patience:]) > best_moving_auc_avg:\n",
        "            print(\"Early stopping\")\n",
        "            break\n",
        "    save_timer_end = timer()\n",
        "    end_time  = timer()\n",
        "    print(f\"Epoch took {end_time-start_time:.2f} seconds\")\n",
        "    # print(f\"Time to save loop : {save_timer_end-save_timer_start:.4f}\")\n",
        "\n",
        "\n",
        "\n",
        "  # 7. Return the filled results at the end of the epochs\n",
        "\n",
        "  return results"
      ],
      "metadata": {
        "id": "o2chTxER2o2B"
      },
      "execution_count": 221,
      "outputs": []
    },
    {
      "cell_type": "code",
      "source": [
        "# Create model directory in drive to save models into\n",
        "print(f\"bace_project path: {bace_project_path}\")\n",
        "bace_models_path = bace_project_path / \"models\"\n",
        "print(f\"bace_models_path: {bace_models_path}\\n\")\n",
        "\n",
        "if bace_models_path.is_dir():\n",
        "  print(f\"{bace_models_path} is already a directory\")\n",
        "else:\n",
        "  print(f\"{bace_models_path} is not a directory, creating one\")\n",
        "  bace_models_path.mkdir(parents=True, exist_ok=True)"
      ],
      "metadata": {
        "id": "538YflN9mj0A",
        "colab": {
          "base_uri": "https://localhost:8080/"
        },
        "outputId": "c505b3eb-0f39-4240-df69-0d080db1a490"
      },
      "execution_count": 222,
      "outputs": [
        {
          "output_type": "stream",
          "name": "stdout",
          "text": [
            "bace_project path: drive/MyDrive/bace_graph_project\n",
            "bace_models_path: drive/MyDrive/bace_graph_project/models\n",
            "\n",
            "drive/MyDrive/bace_graph_project/models is already a directory\n"
          ]
        }
      ]
    },
    {
      "cell_type": "code",
      "source": [
        "# GCN Classifier Training Run\n",
        "\n",
        "display(Javascript('''google.colab.output.setIframeHeight(0, true, {maxHeight: 300})'''))\n",
        "\n",
        "torch.manual_seed(42)\n",
        "\n",
        "# Number of features of the graphs\n",
        "num_features = next(iter(train_dataloader)).x.shape[1]\n",
        "num_hidden_channels = 128\n",
        "num_out_channels = 2\n",
        "# with global mean pooling, best is around 100 epochs\n",
        "nb_epochs = 100\n",
        "pool_method = global_mean_pool\n",
        "\n",
        "# Instantiating GCN Classifier\n",
        "model = GCNClassifier(num_features, num_hidden_channels, num_out_channels, pool_method)\n",
        "\n",
        "# Instantiate optimizer and loss function\n",
        "adam_optimizer = torch.optim.Adam(model.parameters(), lr=0.001)\n",
        "sgd_optimizer = torch.optim.SGD(model.parameters())\n",
        "criterion = torch.nn.CrossEntropyLoss()\n",
        "\n",
        "\n",
        "\n",
        "bace_gcn_models_path = bace_models_path / \"gcn_models\"\n",
        "\n",
        "\n",
        "if bace_gcn_models_path.is_dir():\n",
        "  print(f\"{bace_gcn_models_path} is already a directory\")\n",
        "else:\n",
        "  print(f\"{bace_gcn_models_path} is not a directory, creating one\")\n",
        "  bace_gcn_models_path.mkdir(parents=True, exist_ok=True)\n",
        "\n",
        "\n",
        "for i in range(1):\n",
        "  model_save_name = f\"{i}_{num_hidden_channels}_{nb_epochs}_{pool_method.__name__}.pth\"\n",
        "  model_save_path  = bace_gcn_models_path / model_save_name\n",
        "  results = train(model,\n",
        "      train_dataloader,\n",
        "      test_dataloader,\n",
        "      adam_optimizer,\n",
        "      loss_fn = criterion,\n",
        "      epochs = nb_epochs,\n",
        "      model_save_path = model_save_path)\n",
        "  with open(bace_gcn_models_path/f\"{i}_{num_hidden_channels}_{nb_epochs}_{pool_method.__name__}_results.pkl\", 'wb') as f:\n",
        "    print(\"entered with open pickle\")\n",
        "    pickle.dump(results, f)\n",
        "\n",
        "\n",
        "\n",
        "\"\"\"\n",
        "results = train(model,\n",
        "      train_dataloader,\n",
        "      test_dataloader,\n",
        "      adam_optimizer,\n",
        "      loss_fn = criterion,\n",
        "      epochs = nb_epochs)\n",
        "\"\"\"\n"
      ],
      "metadata": {
        "id": "9HBC4UR65h7U",
        "colab": {
          "base_uri": "https://localhost:8080/",
          "height": 300,
          "referenced_widgets": [
            "42e451bd627b48b4877c2bf1b1b0227b",
            "1951c6d9b2394208ae1f9de656db68aa",
            "2d7d1d1864904f2dafa4d4fbd79d87c2",
            "bae0a5d7f6ef4cdd831f009e4bed9c2d",
            "d1f4d73eb1fc436884265aa47eb05c6b",
            "1d4da6a0c2fc427f89aaf408aa1e3b8d",
            "d9755adc2c84462ab474a5ede8e35652",
            "0244f2a73d1d4d57b8f36b36f85993d8",
            "95a42d1892da41888dd0519fa25eb6d6",
            "754d462f553e4d929a7f7dfad51f5063",
            "b9a549a78930417aa0af403e7f9a6c7d"
          ]
        },
        "outputId": "37c3d1eb-1a20-4d6d-fbf3-553991f49876"
      },
      "execution_count": 223,
      "outputs": [
        {
          "output_type": "display_data",
          "data": {
            "text/plain": [
              "<IPython.core.display.Javascript object>"
            ],
            "application/javascript": [
              "google.colab.output.setIframeHeight(0, true, {maxHeight: 300})"
            ]
          },
          "metadata": {}
        },
        {
          "output_type": "stream",
          "name": "stdout",
          "text": [
            "drive/MyDrive/bace_graph_project/models/gcn_models is already a directory\n"
          ]
        },
        {
          "output_type": "display_data",
          "data": {
            "text/plain": [
              "  0%|          | 0/100 [00:00<?, ?it/s]"
            ],
            "application/vnd.jupyter.widget-view+json": {
              "version_major": 2,
              "version_minor": 0,
              "model_id": "42e451bd627b48b4877c2bf1b1b0227b"
            }
          },
          "metadata": {}
        },
        {
          "output_type": "stream",
          "name": "stdout",
          "text": [
            "AUC calculation time: 0.0767s, Scikit-learn AUC time: 0.0574, Forward pass: 0.1254s, Loss time: 0.0490, Optimizer time: 0.0005, To device time: 0.0007\n",
            "\n"
          ]
        },
        {
          "output_type": "stream",
          "name": "stderr",
          "text": [
            "/usr/lib/python3.10/multiprocessing/popen_fork.py:66: RuntimeWarning: os.fork() was called. os.fork() is incompatible with multithreaded code, and JAX is multithreaded, so this will likely lead to a deadlock.\n",
            "  self.pid = os.fork()\n"
          ]
        },
        {
          "output_type": "stream",
          "name": "stdout",
          "text": [
            "Epoch: 0, Train loss: 0.0218, Train acc: 0.5430, Train AUC: 0.5088, Sciki_train AUC: 0.5088, Test loss: 0.6883, Test acc: 0.5315, Test auc: 0.6129\n",
            "Epoch took 1.27 seconds\n",
            "AUC calculation time: 0.1390s, Scikit-learn AUC time: 0.0597, Forward pass: 0.1278s, Loss time: 0.0512, Optimizer time: 0.0005, To device time: 0.0007\n",
            "\n"
          ]
        },
        {
          "output_type": "stream",
          "name": "stderr",
          "text": [
            "/usr/lib/python3.10/multiprocessing/popen_fork.py:66: RuntimeWarning: os.fork() was called. os.fork() is incompatible with multithreaded code, and JAX is multithreaded, so this will likely lead to a deadlock.\n",
            "  self.pid = os.fork()\n"
          ]
        },
        {
          "output_type": "stream",
          "name": "stdout",
          "text": [
            "Epoch: 1, Train loss: 0.0215, Train acc: 0.5446, Train AUC: 0.5669, Sciki_train AUC: 0.5669, Test loss: 0.6880, Test acc: 0.5310, Test auc: 0.5776\n",
            "Epoch took 1.38 seconds\n",
            "AUC calculation time: 0.1988s, Scikit-learn AUC time: 0.0592, Forward pass: 0.1218s, Loss time: 0.0431, Optimizer time: 0.0007, To device time: 0.0007\n",
            "\n"
          ]
        },
        {
          "output_type": "stream",
          "name": "stderr",
          "text": [
            "/usr/lib/python3.10/multiprocessing/popen_fork.py:66: RuntimeWarning: os.fork() was called. os.fork() is incompatible with multithreaded code, and JAX is multithreaded, so this will likely lead to a deadlock.\n",
            "  self.pid = os.fork()\n"
          ]
        },
        {
          "output_type": "stream",
          "name": "stdout",
          "text": [
            "Epoch: 2, Train loss: 0.0214, Train acc: 0.5512, Train AUC: 0.6093, Sciki_train AUC: 0.6093, Test loss: 0.6808, Test acc: 0.5731, Test auc: 0.6073\n",
            "Epoch took 1.35 seconds\n",
            "AUC calculation time: 0.2435s, Scikit-learn AUC time: 0.0547, Forward pass: 0.1177s, Loss time: 0.0478, Optimizer time: 0.0005, To device time: 0.0007\n",
            "\n"
          ]
        },
        {
          "output_type": "stream",
          "name": "stderr",
          "text": [
            "/usr/lib/python3.10/multiprocessing/popen_fork.py:66: RuntimeWarning: os.fork() was called. os.fork() is incompatible with multithreaded code, and JAX is multithreaded, so this will likely lead to a deadlock.\n",
            "  self.pid = os.fork()\n"
          ]
        },
        {
          "output_type": "stream",
          "name": "stdout",
          "text": [
            "Epoch: 3, Train loss: 0.0212, Train acc: 0.5686, Train AUC: 0.6259, Sciki_train AUC: 0.6259, Test loss: 0.6643, Test acc: 0.5850, Test auc: 0.6690\n",
            "Epoch took 1.43 seconds\n",
            "AUC calculation time: 0.3068s, Scikit-learn AUC time: 0.0549, Forward pass: 0.1181s, Loss time: 0.0435, Optimizer time: 0.0005, To device time: 0.0007\n",
            "\n"
          ]
        },
        {
          "output_type": "stream",
          "name": "stderr",
          "text": [
            "/usr/lib/python3.10/multiprocessing/popen_fork.py:66: RuntimeWarning: os.fork() was called. os.fork() is incompatible with multithreaded code, and JAX is multithreaded, so this will likely lead to a deadlock.\n",
            "  self.pid = os.fork()\n"
          ]
        },
        {
          "output_type": "stream",
          "name": "stdout",
          "text": [
            "Epoch: 4, Train loss: 0.0210, Train acc: 0.5942, Train AUC: 0.6446, Sciki_train AUC: 0.6446, Test loss: 0.6487, Test acc: 0.6233, Test auc: 0.7047\n",
            "Epoch took 1.49 seconds\n",
            "AUC calculation time: 0.3629s, Scikit-learn AUC time: 0.0587, Forward pass: 0.1174s, Loss time: 0.0438, Optimizer time: 0.0005, To device time: 0.0007\n",
            "\n"
          ]
        },
        {
          "output_type": "stream",
          "name": "stderr",
          "text": [
            "/usr/lib/python3.10/multiprocessing/popen_fork.py:66: RuntimeWarning: os.fork() was called. os.fork() is incompatible with multithreaded code, and JAX is multithreaded, so this will likely lead to a deadlock.\n",
            "  self.pid = os.fork()\n"
          ]
        },
        {
          "output_type": "stream",
          "name": "stdout",
          "text": [
            "Epoch: 5, Train loss: 0.0208, Train acc: 0.6008, Train AUC: 0.6689, Sciki_train AUC: 0.6689, Test loss: 0.6480, Test acc: 0.6042, Test auc: 0.7034\n",
            "Epoch took 1.61 seconds\n",
            "AUC calculation time: 0.4287s, Scikit-learn AUC time: 0.0546, Forward pass: 0.1216s, Loss time: 0.0466, Optimizer time: 0.0004, To device time: 0.0006\n",
            "\n"
          ]
        },
        {
          "output_type": "stream",
          "name": "stderr",
          "text": [
            "/usr/lib/python3.10/multiprocessing/popen_fork.py:66: RuntimeWarning: os.fork() was called. os.fork() is incompatible with multithreaded code, and JAX is multithreaded, so this will likely lead to a deadlock.\n",
            "  self.pid = os.fork()\n"
          ]
        },
        {
          "output_type": "stream",
          "name": "stdout",
          "text": [
            "Epoch: 6, Train loss: 0.0204, Train acc: 0.6132, Train AUC: 0.6727, Sciki_train AUC: 0.6727, Test loss: 0.6405, Test acc: 0.6194, Test auc: 0.6862\n",
            "Epoch took 1.60 seconds\n",
            "AUC calculation time: 0.4607s, Scikit-learn AUC time: 0.0524, Forward pass: 0.1115s, Loss time: 0.0481, Optimizer time: 0.0004, To device time: 0.0006\n",
            "\n"
          ]
        },
        {
          "output_type": "stream",
          "name": "stderr",
          "text": [
            "/usr/lib/python3.10/multiprocessing/popen_fork.py:66: RuntimeWarning: os.fork() was called. os.fork() is incompatible with multithreaded code, and JAX is multithreaded, so this will likely lead to a deadlock.\n",
            "  self.pid = os.fork()\n"
          ]
        },
        {
          "output_type": "stream",
          "name": "stdout",
          "text": [
            "Epoch: 7, Train loss: 0.0201, Train acc: 0.6355, Train AUC: 0.7067, Sciki_train AUC: 0.7067, Test loss: 0.6429, Test acc: 0.6213, Test auc: 0.6904\n",
            "Epoch took 1.67 seconds\n",
            "AUC calculation time: 0.5166s, Scikit-learn AUC time: 0.0540, Forward pass: 0.1155s, Loss time: 0.0482, Optimizer time: 0.0004, To device time: 0.0006\n",
            "\n"
          ]
        },
        {
          "output_type": "stream",
          "name": "stderr",
          "text": [
            "/usr/lib/python3.10/multiprocessing/popen_fork.py:66: RuntimeWarning: os.fork() was called. os.fork() is incompatible with multithreaded code, and JAX is multithreaded, so this will likely lead to a deadlock.\n",
            "  self.pid = os.fork()\n"
          ]
        },
        {
          "output_type": "stream",
          "name": "stdout",
          "text": [
            "Epoch: 8, Train loss: 0.0200, Train acc: 0.6339, Train AUC: 0.7101, Sciki_train AUC: 0.7101, Test loss: 0.6319, Test acc: 0.6421, Test auc: 0.7205\n",
            "Epoch took 1.76 seconds\n",
            "AUC calculation time: 0.6573s, Scikit-learn AUC time: 0.0571, Forward pass: 0.1381s, Loss time: 0.0473, Optimizer time: 0.0005, To device time: 0.0007\n",
            "\n"
          ]
        },
        {
          "output_type": "stream",
          "name": "stderr",
          "text": [
            "/usr/lib/python3.10/multiprocessing/popen_fork.py:66: RuntimeWarning: os.fork() was called. os.fork() is incompatible with multithreaded code, and JAX is multithreaded, so this will likely lead to a deadlock.\n",
            "  self.pid = os.fork()\n"
          ]
        },
        {
          "output_type": "stream",
          "name": "stdout",
          "text": [
            "Epoch: 9, Train loss: 0.0198, Train acc: 0.6355, Train AUC: 0.7348, Sciki_train AUC: 0.7348, Test loss: 0.6292, Test acc: 0.6671, Test auc: 0.6990\n",
            "Saved model at epoch 9 with current average test loss: 0.6563 and previous best: inf\n",
            "Saved model at epoch 9 with current average AUC loss: 0.6671 and previous best: 0.0000\n",
            "Epoch took 2.04 seconds\n",
            "AUC calculation time: 0.6101s, Scikit-learn AUC time: 0.0520, Forward pass: 0.1105s, Loss time: 0.0438, Optimizer time: 0.0005, To device time: 0.0006\n",
            "\n"
          ]
        },
        {
          "output_type": "stream",
          "name": "stderr",
          "text": [
            "/usr/lib/python3.10/multiprocessing/popen_fork.py:66: RuntimeWarning: os.fork() was called. os.fork() is incompatible with multithreaded code, and JAX is multithreaded, so this will likely lead to a deadlock.\n",
            "  self.pid = os.fork()\n"
          ]
        },
        {
          "output_type": "stream",
          "name": "stdout",
          "text": [
            "Epoch: 10, Train loss: 0.0196, Train acc: 0.6669, Train AUC: 0.7271, Sciki_train AUC: 0.7271, Test loss: 0.6219, Test acc: 0.6448, Test auc: 0.7250\n",
            "Saved model at epoch 10 with current average test loss: 0.6496 and previous best: 0.6563\n",
            "Saved model at epoch 10 with current average AUC loss: 0.6783 and previous best: 0.6671\n",
            "Epoch took 1.85 seconds\n",
            "AUC calculation time: 1.0488s, Scikit-learn AUC time: 0.0531, Forward pass: 0.1138s, Loss time: 0.0454, Optimizer time: 0.0005, To device time: 0.0008\n",
            "\n"
          ]
        },
        {
          "output_type": "stream",
          "name": "stderr",
          "text": [
            "/usr/lib/python3.10/multiprocessing/popen_fork.py:66: RuntimeWarning: os.fork() was called. os.fork() is incompatible with multithreaded code, and JAX is multithreaded, so this will likely lead to a deadlock.\n",
            "  self.pid = os.fork()\n"
          ]
        },
        {
          "output_type": "stream",
          "name": "stdout",
          "text": [
            "Epoch: 11, Train loss: 0.0194, Train acc: 0.6810, Train AUC: 0.7392, Sciki_train AUC: 0.7392, Test loss: 0.6370, Test acc: 0.6100, Test auc: 0.7260\n",
            "Epoch took 2.89 seconds\n",
            "AUC calculation time: 0.7388s, Scikit-learn AUC time: 0.0527, Forward pass: 0.1147s, Loss time: 0.0446, Optimizer time: 0.0005, To device time: 0.0006\n",
            "\n"
          ]
        },
        {
          "output_type": "stream",
          "name": "stderr",
          "text": [
            "/usr/lib/python3.10/multiprocessing/popen_fork.py:66: RuntimeWarning: os.fork() was called. os.fork() is incompatible with multithreaded code, and JAX is multithreaded, so this will likely lead to a deadlock.\n",
            "  self.pid = os.fork()\n"
          ]
        },
        {
          "output_type": "stream",
          "name": "stdout",
          "text": [
            "Epoch: 12, Train loss: 0.0191, Train acc: 0.6802, Train AUC: 0.7490, Sciki_train AUC: 0.7490, Test loss: 0.6177, Test acc: 0.6640, Test auc: 0.7367\n",
            "Saved model at epoch 12 with current average test loss: 0.6382 and previous best: 0.6496\n",
            "Saved model at epoch 12 with current average AUC loss: 0.7061 and previous best: 0.6783\n",
            "Epoch took 2.01 seconds\n",
            "AUC calculation time: 0.7887s, Scikit-learn AUC time: 0.0537, Forward pass: 0.1140s, Loss time: 0.0461, Optimizer time: 0.0004, To device time: 0.0006\n",
            "\n"
          ]
        },
        {
          "output_type": "stream",
          "name": "stderr",
          "text": [
            "/usr/lib/python3.10/multiprocessing/popen_fork.py:66: RuntimeWarning: os.fork() was called. os.fork() is incompatible with multithreaded code, and JAX is multithreaded, so this will likely lead to a deadlock.\n",
            "  self.pid = os.fork()\n"
          ]
        },
        {
          "output_type": "stream",
          "name": "stdout",
          "text": [
            "Epoch: 13, Train loss: 0.0188, Train acc: 0.6835, Train AUC: 0.7732, Sciki_train AUC: 0.7732, Test loss: 0.6113, Test acc: 0.6698, Test auc: 0.7408\n",
            "Epoch took 2.11 seconds\n",
            "AUC calculation time: 0.8704s, Scikit-learn AUC time: 0.0568, Forward pass: 0.1203s, Loss time: 0.0471, Optimizer time: 0.0006, To device time: 0.0007\n",
            "\n"
          ]
        },
        {
          "output_type": "stream",
          "name": "stderr",
          "text": [
            "/usr/lib/python3.10/multiprocessing/popen_fork.py:66: RuntimeWarning: os.fork() was called. os.fork() is incompatible with multithreaded code, and JAX is multithreaded, so this will likely lead to a deadlock.\n",
            "  self.pid = os.fork()\n"
          ]
        },
        {
          "output_type": "stream",
          "name": "stdout",
          "text": [
            "Epoch: 14, Train loss: 0.0189, Train acc: 0.6868, Train AUC: 0.7748, Sciki_train AUC: 0.7748, Test loss: 0.6127, Test acc: 0.6635, Test auc: 0.7316\n",
            "Saved model at epoch 14 with current average test loss: 0.6293 and previous best: 0.6382\n",
            "Saved model at epoch 14 with current average AUC loss: 0.7160 and previous best: 0.7061\n",
            "Epoch took 2.25 seconds\n",
            "AUC calculation time: 0.9927s, Scikit-learn AUC time: 0.0541, Forward pass: 0.1299s, Loss time: 0.0471, Optimizer time: 0.0005, To device time: 0.0007\n",
            "\n"
          ]
        },
        {
          "output_type": "stream",
          "name": "stderr",
          "text": [
            "/usr/lib/python3.10/multiprocessing/popen_fork.py:66: RuntimeWarning: os.fork() was called. os.fork() is incompatible with multithreaded code, and JAX is multithreaded, so this will likely lead to a deadlock.\n",
            "  self.pid = os.fork()\n"
          ]
        },
        {
          "output_type": "stream",
          "name": "stdout",
          "text": [
            "Epoch: 15, Train loss: 0.0187, Train acc: 0.6926, Train AUC: 0.7815, Sciki_train AUC: 0.7815, Test loss: 0.6248, Test acc: 0.6631, Test auc: 0.7325\n",
            "Epoch took 2.40 seconds\n",
            "AUC calculation time: 1.0153s, Scikit-learn AUC time: 0.0549, Forward pass: 0.1276s, Loss time: 0.0475, Optimizer time: 0.0005, To device time: 0.0008\n",
            "\n"
          ]
        },
        {
          "output_type": "stream",
          "name": "stderr",
          "text": [
            "/usr/lib/python3.10/multiprocessing/popen_fork.py:66: RuntimeWarning: os.fork() was called. os.fork() is incompatible with multithreaded code, and JAX is multithreaded, so this will likely lead to a deadlock.\n",
            "  self.pid = os.fork()\n"
          ]
        },
        {
          "output_type": "stream",
          "name": "stdout",
          "text": [
            "Epoch: 16, Train loss: 0.0185, Train acc: 0.7107, Train AUC: 0.7751, Sciki_train AUC: 0.7751, Test loss: 0.6140, Test acc: 0.6721, Test auc: 0.7424\n",
            "Epoch took 2.42 seconds\n",
            "AUC calculation time: 1.0085s, Scikit-learn AUC time: 0.0528, Forward pass: 0.1162s, Loss time: 0.0448, Optimizer time: 0.0005, To device time: 0.0008\n",
            "\n"
          ]
        },
        {
          "output_type": "stream",
          "name": "stderr",
          "text": [
            "/usr/lib/python3.10/multiprocessing/popen_fork.py:66: RuntimeWarning: os.fork() was called. os.fork() is incompatible with multithreaded code, and JAX is multithreaded, so this will likely lead to a deadlock.\n",
            "  self.pid = os.fork()\n"
          ]
        },
        {
          "output_type": "stream",
          "name": "stdout",
          "text": [
            "Epoch: 17, Train loss: 0.0184, Train acc: 0.7091, Train AUC: 0.7818, Sciki_train AUC: 0.7818, Test loss: 0.6234, Test acc: 0.6627, Test auc: 0.7393\n",
            "Saved model at epoch 17 with current average test loss: 0.6224 and previous best: 0.6293\n",
            "Saved model at epoch 17 with current average AUC loss: 0.7294 and previous best: 0.7160\n",
            "Epoch took 2.37 seconds\n",
            "AUC calculation time: 1.0773s, Scikit-learn AUC time: 0.0544, Forward pass: 0.1168s, Loss time: 0.0461, Optimizer time: 0.0008, To device time: 0.0007\n",
            "\n"
          ]
        },
        {
          "output_type": "stream",
          "name": "stderr",
          "text": [
            "/usr/lib/python3.10/multiprocessing/popen_fork.py:66: RuntimeWarning: os.fork() was called. os.fork() is incompatible with multithreaded code, and JAX is multithreaded, so this will likely lead to a deadlock.\n",
            "  self.pid = os.fork()\n"
          ]
        },
        {
          "output_type": "stream",
          "name": "stdout",
          "text": [
            "Epoch: 18, Train loss: 0.0184, Train acc: 0.7124, Train AUC: 0.7866, Sciki_train AUC: 0.7866, Test loss: 0.6496, Test acc: 0.6248, Test auc: 0.7557\n",
            "Epoch took 2.44 seconds\n",
            "AUC calculation time: 1.1211s, Scikit-learn AUC time: 0.0549, Forward pass: 0.1193s, Loss time: 0.0476, Optimizer time: 0.0005, To device time: 0.0007\n",
            "\n"
          ]
        },
        {
          "output_type": "stream",
          "name": "stderr",
          "text": [
            "/usr/lib/python3.10/multiprocessing/popen_fork.py:66: RuntimeWarning: os.fork() was called. os.fork() is incompatible with multithreaded code, and JAX is multithreaded, so this will likely lead to a deadlock.\n",
            "  self.pid = os.fork()\n"
          ]
        },
        {
          "output_type": "stream",
          "name": "stdout",
          "text": [
            "Epoch: 19, Train loss: 0.0186, Train acc: 0.7041, Train AUC: 0.7949, Sciki_train AUC: 0.7949, Test loss: 0.6037, Test acc: 0.6819, Test auc: 0.7424\n",
            "Epoch took 2.49 seconds\n",
            "AUC calculation time: 1.1744s, Scikit-learn AUC time: 0.0568, Forward pass: 0.1256s, Loss time: 0.0498, Optimizer time: 0.0005, To device time: 0.0007\n",
            "\n"
          ]
        },
        {
          "output_type": "stream",
          "name": "stderr",
          "text": [
            "/usr/lib/python3.10/multiprocessing/popen_fork.py:66: RuntimeWarning: os.fork() was called. os.fork() is incompatible with multithreaded code, and JAX is multithreaded, so this will likely lead to a deadlock.\n",
            "  self.pid = os.fork()\n"
          ]
        },
        {
          "output_type": "stream",
          "name": "stdout",
          "text": [
            "Epoch: 20, Train loss: 0.0180, Train acc: 0.7215, Train AUC: 0.7972, Sciki_train AUC: 0.7972, Test loss: 0.6020, Test acc: 0.6706, Test auc: 0.7473\n",
            "Epoch took 2.65 seconds\n",
            "AUC calculation time: 1.6983s, Scikit-learn AUC time: 0.0577, Forward pass: 0.1192s, Loss time: 0.0484, Optimizer time: 0.0005, To device time: 0.0007\n",
            "\n"
          ]
        },
        {
          "output_type": "stream",
          "name": "stderr",
          "text": [
            "/usr/lib/python3.10/multiprocessing/popen_fork.py:66: RuntimeWarning: os.fork() was called. os.fork() is incompatible with multithreaded code, and JAX is multithreaded, so this will likely lead to a deadlock.\n",
            "  self.pid = os.fork()\n"
          ]
        },
        {
          "output_type": "stream",
          "name": "stdout",
          "text": [
            "Epoch: 21, Train loss: 0.0182, Train acc: 0.7198, Train AUC: 0.7968, Sciki_train AUC: 0.7968, Test loss: 0.6068, Test acc: 0.6890, Test auc: 0.7561\n",
            "Epoch took 3.16 seconds\n",
            "AUC calculation time: 1.2731s, Scikit-learn AUC time: 0.0532, Forward pass: 0.1186s, Loss time: 0.0461, Optimizer time: 0.0006, To device time: 0.0007\n",
            "\n"
          ]
        },
        {
          "output_type": "stream",
          "name": "stderr",
          "text": [
            "/usr/lib/python3.10/multiprocessing/popen_fork.py:66: RuntimeWarning: os.fork() was called. os.fork() is incompatible with multithreaded code, and JAX is multithreaded, so this will likely lead to a deadlock.\n",
            "  self.pid = os.fork()\n"
          ]
        },
        {
          "output_type": "stream",
          "name": "stdout",
          "text": [
            "Epoch: 22, Train loss: 0.0181, Train acc: 0.7198, Train AUC: 0.7998, Sciki_train AUC: 0.7998, Test loss: 0.5960, Test acc: 0.6831, Test auc: 0.7601\n",
            "Saved model at epoch 22 with current average test loss: 0.6144 and previous best: 0.6224\n",
            "Saved model at epoch 22 with current average AUC loss: 0.7448 and previous best: 0.7294\n",
            "Epoch took 2.69 seconds\n",
            "AUC calculation time: 1.3443s, Scikit-learn AUC time: 0.0557, Forward pass: 0.1176s, Loss time: 0.0473, Optimizer time: 0.0005, To device time: 0.0007\n",
            "\n"
          ]
        },
        {
          "output_type": "stream",
          "name": "stderr",
          "text": [
            "/usr/lib/python3.10/multiprocessing/popen_fork.py:66: RuntimeWarning: os.fork() was called. os.fork() is incompatible with multithreaded code, and JAX is multithreaded, so this will likely lead to a deadlock.\n",
            "  self.pid = os.fork()\n"
          ]
        },
        {
          "output_type": "stream",
          "name": "stdout",
          "text": [
            "Epoch: 23, Train loss: 0.0176, Train acc: 0.7562, Train AUC: 0.8006, Sciki_train AUC: 0.8006, Test loss: 0.6048, Test acc: 0.7006, Test auc: 0.7592\n",
            "Epoch took 2.85 seconds\n",
            "AUC calculation time: 1.4534s, Scikit-learn AUC time: 0.0555, Forward pass: 0.1274s, Loss time: 0.0464, Optimizer time: 0.0005, To device time: 0.0007\n",
            "\n"
          ]
        },
        {
          "output_type": "stream",
          "name": "stderr",
          "text": [
            "/usr/lib/python3.10/multiprocessing/popen_fork.py:66: RuntimeWarning: os.fork() was called. os.fork() is incompatible with multithreaded code, and JAX is multithreaded, so this will likely lead to a deadlock.\n",
            "  self.pid = os.fork()\n"
          ]
        },
        {
          "output_type": "stream",
          "name": "stdout",
          "text": [
            "Epoch: 24, Train loss: 0.0175, Train acc: 0.7463, Train AUC: 0.8128, Sciki_train AUC: 0.8128, Test loss: 0.5893, Test acc: 0.7269, Test auc: 0.7592\n",
            "Epoch took 2.95 seconds\n",
            "AUC calculation time: 1.8979s, Scikit-learn AUC time: 0.0569, Forward pass: 0.1180s, Loss time: 0.0481, Optimizer time: 0.0005, To device time: 0.0007\n",
            "\n"
          ]
        },
        {
          "output_type": "stream",
          "name": "stderr",
          "text": [
            "/usr/lib/python3.10/multiprocessing/popen_fork.py:66: RuntimeWarning: os.fork() was called. os.fork() is incompatible with multithreaded code, and JAX is multithreaded, so this will likely lead to a deadlock.\n",
            "  self.pid = os.fork()\n"
          ]
        },
        {
          "output_type": "stream",
          "name": "stdout",
          "text": [
            "Epoch: 25, Train loss: 0.0174, Train acc: 0.7512, Train AUC: 0.8080, Sciki_train AUC: 0.8080, Test loss: 0.5856, Test acc: 0.7019, Test auc: 0.7756\n",
            "Saved model at epoch 25 with current average test loss: 0.6075 and previous best: 0.6144\n",
            "Saved model at epoch 25 with current average AUC loss: 0.7537 and previous best: 0.7448\n",
            "Epoch took 3.42 seconds\n",
            "AUC calculation time: 1.4890s, Scikit-learn AUC time: 0.0538, Forward pass: 0.1181s, Loss time: 0.0462, Optimizer time: 0.0005, To device time: 0.0007\n",
            "\n"
          ]
        },
        {
          "output_type": "stream",
          "name": "stderr",
          "text": [
            "/usr/lib/python3.10/multiprocessing/popen_fork.py:66: RuntimeWarning: os.fork() was called. os.fork() is incompatible with multithreaded code, and JAX is multithreaded, so this will likely lead to a deadlock.\n",
            "  self.pid = os.fork()\n"
          ]
        },
        {
          "output_type": "stream",
          "name": "stdout",
          "text": [
            "Epoch: 26, Train loss: 0.0176, Train acc: 0.7380, Train AUC: 0.8185, Sciki_train AUC: 0.8185, Test loss: 0.5973, Test acc: 0.6988, Test auc: 0.7789\n",
            "Epoch took 3.02 seconds\n",
            "AUC calculation time: 1.4953s, Scikit-learn AUC time: 0.0540, Forward pass: 0.1128s, Loss time: 0.0469, Optimizer time: 0.0005, To device time: 0.0007\n",
            "\n"
          ]
        },
        {
          "output_type": "stream",
          "name": "stderr",
          "text": [
            "/usr/lib/python3.10/multiprocessing/popen_fork.py:66: RuntimeWarning: os.fork() was called. os.fork() is incompatible with multithreaded code, and JAX is multithreaded, so this will likely lead to a deadlock.\n",
            "  self.pid = os.fork()\n"
          ]
        },
        {
          "output_type": "stream",
          "name": "stdout",
          "text": [
            "Epoch: 27, Train loss: 0.0173, Train acc: 0.7686, Train AUC: 0.8129, Sciki_train AUC: 0.8129, Test loss: 0.5830, Test acc: 0.7077, Test auc: 0.7799\n",
            "Epoch took 2.96 seconds\n",
            "AUC calculation time: 1.6391s, Scikit-learn AUC time: 0.0581, Forward pass: 0.1254s, Loss time: 0.0477, Optimizer time: 0.0006, To device time: 0.0007\n",
            "\n"
          ]
        },
        {
          "output_type": "stream",
          "name": "stderr",
          "text": [
            "/usr/lib/python3.10/multiprocessing/popen_fork.py:66: RuntimeWarning: os.fork() was called. os.fork() is incompatible with multithreaded code, and JAX is multithreaded, so this will likely lead to a deadlock.\n",
            "  self.pid = os.fork()\n"
          ]
        },
        {
          "output_type": "stream",
          "name": "stdout",
          "text": [
            "Epoch: 28, Train loss: 0.0172, Train acc: 0.7595, Train AUC: 0.8190, Sciki_train AUC: 0.8190, Test loss: 0.6126, Test acc: 0.6729, Test auc: 0.7584\n",
            "Saved model at epoch 28 with current average test loss: 0.5981 and previous best: 0.6075\n",
            "Saved model at epoch 28 with current average AUC loss: 0.7617 and previous best: 0.7537\n",
            "Epoch took 3.23 seconds\n",
            "AUC calculation time: 2.1016s, Scikit-learn AUC time: 0.0550, Forward pass: 0.1210s, Loss time: 0.0487, Optimizer time: 0.0004, To device time: 0.0007\n",
            "\n"
          ]
        },
        {
          "output_type": "stream",
          "name": "stderr",
          "text": [
            "/usr/lib/python3.10/multiprocessing/popen_fork.py:66: RuntimeWarning: os.fork() was called. os.fork() is incompatible with multithreaded code, and JAX is multithreaded, so this will likely lead to a deadlock.\n",
            "  self.pid = os.fork()\n"
          ]
        },
        {
          "output_type": "stream",
          "name": "stdout",
          "text": [
            "Epoch: 29, Train loss: 0.0171, Train acc: 0.7620, Train AUC: 0.8222, Sciki_train AUC: 0.8222, Test loss: 0.5997, Test acc: 0.6917, Test auc: 0.7844\n",
            "Epoch took 3.65 seconds\n",
            "AUC calculation time: 1.6820s, Scikit-learn AUC time: 0.0558, Forward pass: 0.1150s, Loss time: 0.0472, Optimizer time: 0.0005, To device time: 0.0007\n",
            "\n"
          ]
        },
        {
          "output_type": "stream",
          "name": "stderr",
          "text": [
            "/usr/lib/python3.10/multiprocessing/popen_fork.py:66: RuntimeWarning: os.fork() was called. os.fork() is incompatible with multithreaded code, and JAX is multithreaded, so this will likely lead to a deadlock.\n",
            "  self.pid = os.fork()\n"
          ]
        },
        {
          "output_type": "stream",
          "name": "stdout",
          "text": [
            "Epoch: 30, Train loss: 0.0174, Train acc: 0.7545, Train AUC: 0.8252, Sciki_train AUC: 0.8252, Test loss: 0.5916, Test acc: 0.7050, Test auc: 0.7919\n",
            "Epoch took 3.21 seconds\n",
            "AUC calculation time: 1.7326s, Scikit-learn AUC time: 0.0539, Forward pass: 0.1165s, Loss time: 0.0465, Optimizer time: 0.0005, To device time: 0.0006\n",
            "\n"
          ]
        },
        {
          "output_type": "stream",
          "name": "stderr",
          "text": [
            "/usr/lib/python3.10/multiprocessing/popen_fork.py:66: RuntimeWarning: os.fork() was called. os.fork() is incompatible with multithreaded code, and JAX is multithreaded, so this will likely lead to a deadlock.\n",
            "  self.pid = os.fork()\n"
          ]
        },
        {
          "output_type": "stream",
          "name": "stdout",
          "text": [
            "Epoch: 31, Train loss: 0.0175, Train acc: 0.7496, Train AUC: 0.8343, Sciki_train AUC: 0.8343, Test loss: 0.5847, Test acc: 0.7042, Test auc: 0.7737\n",
            "Epoch took 3.74 seconds\n",
            "AUC calculation time: 1.9264s, Scikit-learn AUC time: 0.0598, Forward pass: 0.1339s, Loss time: 0.0497, Optimizer time: 0.0007, To device time: 0.0007\n",
            "\n"
          ]
        },
        {
          "output_type": "stream",
          "name": "stderr",
          "text": [
            "/usr/lib/python3.10/multiprocessing/popen_fork.py:66: RuntimeWarning: os.fork() was called. os.fork() is incompatible with multithreaded code, and JAX is multithreaded, so this will likely lead to a deadlock.\n",
            "  self.pid = os.fork()\n"
          ]
        },
        {
          "output_type": "stream",
          "name": "stdout",
          "text": [
            "Epoch: 32, Train loss: 0.0170, Train acc: 0.7719, Train AUC: 0.8313, Sciki_train AUC: 0.8313, Test loss: 0.5902, Test acc: 0.7175, Test auc: 0.7868\n",
            "Epoch took 3.57 seconds\n",
            "AUC calculation time: 1.8717s, Scikit-learn AUC time: 0.0573, Forward pass: 0.1204s, Loss time: 0.0485, Optimizer time: 0.0006, To device time: 0.0007\n",
            "\n"
          ]
        },
        {
          "output_type": "stream",
          "name": "stderr",
          "text": [
            "/usr/lib/python3.10/multiprocessing/popen_fork.py:66: RuntimeWarning: os.fork() was called. os.fork() is incompatible with multithreaded code, and JAX is multithreaded, so this will likely lead to a deadlock.\n",
            "  self.pid = os.fork()\n"
          ]
        },
        {
          "output_type": "stream",
          "name": "stdout",
          "text": [
            "Epoch: 33, Train loss: 0.0171, Train acc: 0.7587, Train AUC: 0.8329, Sciki_train AUC: 0.8329, Test loss: 0.5826, Test acc: 0.7042, Test auc: 0.7856\n",
            "Saved model at epoch 33 with current average test loss: 0.5917 and previous best: 0.5981\n",
            "Saved model at epoch 33 with current average AUC loss: 0.7774 and previous best: 0.7617\n",
            "Epoch took 3.48 seconds\n",
            "AUC calculation time: 2.3323s, Scikit-learn AUC time: 0.0556, Forward pass: 0.1184s, Loss time: 0.0473, Optimizer time: 0.0006, To device time: 0.0007\n",
            "\n"
          ]
        },
        {
          "output_type": "stream",
          "name": "stderr",
          "text": [
            "/usr/lib/python3.10/multiprocessing/popen_fork.py:66: RuntimeWarning: os.fork() was called. os.fork() is incompatible with multithreaded code, and JAX is multithreaded, so this will likely lead to a deadlock.\n",
            "  self.pid = os.fork()\n"
          ]
        },
        {
          "output_type": "stream",
          "name": "stdout",
          "text": [
            "Epoch: 34, Train loss: 0.0169, Train acc: 0.7711, Train AUC: 0.8312, Sciki_train AUC: 0.8312, Test loss: 0.5945, Test acc: 0.6913, Test auc: 0.8024\n",
            "Epoch took 3.94 seconds\n"
          ]
        },
        {
          "output_type": "error",
          "ename": "KeyboardInterrupt",
          "evalue": "",
          "traceback": [
            "\u001b[0;31m---------------------------------------------------------------------------\u001b[0m",
            "\u001b[0;31mKeyboardInterrupt\u001b[0m                         Traceback (most recent call last)",
            "\u001b[0;32m<ipython-input-223-f6d7da96f4e1>\u001b[0m in \u001b[0;36m<cell line: 35>\u001b[0;34m()\u001b[0m\n\u001b[1;32m     36\u001b[0m   \u001b[0mmodel_save_name\u001b[0m \u001b[0;34m=\u001b[0m \u001b[0;34mf\"{i}_{num_hidden_channels}_{nb_epochs}_{pool_method.__name__}.pth\"\u001b[0m\u001b[0;34m\u001b[0m\u001b[0;34m\u001b[0m\u001b[0m\n\u001b[1;32m     37\u001b[0m   \u001b[0mmodel_save_path\u001b[0m  \u001b[0;34m=\u001b[0m \u001b[0mbace_gcn_models_path\u001b[0m \u001b[0;34m/\u001b[0m \u001b[0mmodel_save_name\u001b[0m\u001b[0;34m\u001b[0m\u001b[0;34m\u001b[0m\u001b[0m\n\u001b[0;32m---> 38\u001b[0;31m   results = train(model,\n\u001b[0m\u001b[1;32m     39\u001b[0m       \u001b[0mtrain_dataloader\u001b[0m\u001b[0;34m,\u001b[0m\u001b[0;34m\u001b[0m\u001b[0;34m\u001b[0m\u001b[0m\n\u001b[1;32m     40\u001b[0m       \u001b[0mtest_dataloader\u001b[0m\u001b[0;34m,\u001b[0m\u001b[0;34m\u001b[0m\u001b[0;34m\u001b[0m\u001b[0m\n",
            "\u001b[0;32m<ipython-input-221-892175b0e002>\u001b[0m in \u001b[0;36mtrain\u001b[0;34m(model, train_dataloader, test_dataloader, optimizer, loss_fn, epochs, model_save_path, window_size, patience)\u001b[0m\n\u001b[1;32m     30\u001b[0m     \u001b[0mstart_time\u001b[0m \u001b[0;34m=\u001b[0m \u001b[0mtimer\u001b[0m\u001b[0;34m(\u001b[0m\u001b[0;34m)\u001b[0m\u001b[0;34m\u001b[0m\u001b[0;34m\u001b[0m\u001b[0m\n\u001b[1;32m     31\u001b[0m     \u001b[0mtrain_step_start_time\u001b[0m \u001b[0;34m=\u001b[0m \u001b[0mtimer\u001b[0m\u001b[0;34m(\u001b[0m\u001b[0;34m)\u001b[0m\u001b[0;34m\u001b[0m\u001b[0;34m\u001b[0m\u001b[0m\n\u001b[0;32m---> 32\u001b[0;31m     train_loss, train_acc, train_auc, scikit_train_auc = train_step(model,\n\u001b[0m\u001b[1;32m     33\u001b[0m                                        \u001b[0mtrain_dataloader\u001b[0m\u001b[0;34m,\u001b[0m\u001b[0;34m\u001b[0m\u001b[0;34m\u001b[0m\u001b[0m\n\u001b[1;32m     34\u001b[0m                                        \u001b[0mloss_fn\u001b[0m\u001b[0;34m,\u001b[0m\u001b[0;34m\u001b[0m\u001b[0;34m\u001b[0m\u001b[0m\n",
            "\u001b[0;32m<ipython-input-218-8252b9e8d523>\u001b[0m in \u001b[0;36mtrain_step\u001b[0;34m(model, dataloader, loss_fn, optimizer)\u001b[0m\n\u001b[1;32m     64\u001b[0m     \u001b[0;31m# Calculate the torchmetrics AUC\u001b[0m\u001b[0;34m\u001b[0m\u001b[0;34m\u001b[0m\u001b[0m\n\u001b[1;32m     65\u001b[0m     \u001b[0mauc_start_time\u001b[0m \u001b[0;34m=\u001b[0m \u001b[0mtimer\u001b[0m\u001b[0;34m(\u001b[0m\u001b[0;34m)\u001b[0m\u001b[0;34m\u001b[0m\u001b[0;34m\u001b[0m\u001b[0m\n\u001b[0;32m---> 66\u001b[0;31m     \u001b[0mtrain_auc\u001b[0m \u001b[0;34m+=\u001b[0m \u001b[0mauroc_metric\u001b[0m\u001b[0;34m(\u001b[0m\u001b[0mout\u001b[0m\u001b[0;34m[\u001b[0m\u001b[0;34m:\u001b[0m\u001b[0;34m,\u001b[0m\u001b[0;36m1\u001b[0m\u001b[0;34m]\u001b[0m\u001b[0;34m,\u001b[0m \u001b[0mbatch\u001b[0m\u001b[0;34m.\u001b[0m\u001b[0mClass\u001b[0m\u001b[0;34m)\u001b[0m\u001b[0;34m.\u001b[0m\u001b[0mitem\u001b[0m\u001b[0;34m(\u001b[0m\u001b[0;34m)\u001b[0m\u001b[0;34m\u001b[0m\u001b[0;34m\u001b[0m\u001b[0m\n\u001b[0m\u001b[1;32m     67\u001b[0m     \u001b[0;31m# print(len(auroc_metric.thresholds))\u001b[0m\u001b[0;34m\u001b[0m\u001b[0;34m\u001b[0m\u001b[0m\n\u001b[1;32m     68\u001b[0m     \u001b[0;31m# train_auc += 0.03\u001b[0m\u001b[0;34m\u001b[0m\u001b[0;34m\u001b[0m\u001b[0m\n",
            "\u001b[0;32m/usr/local/lib/python3.10/dist-packages/torch/nn/modules/module.py\u001b[0m in \u001b[0;36m_wrapped_call_impl\u001b[0;34m(self, *args, **kwargs)\u001b[0m\n\u001b[1;32m   1530\u001b[0m             \u001b[0;32mreturn\u001b[0m \u001b[0mself\u001b[0m\u001b[0;34m.\u001b[0m\u001b[0m_compiled_call_impl\u001b[0m\u001b[0;34m(\u001b[0m\u001b[0;34m*\u001b[0m\u001b[0margs\u001b[0m\u001b[0;34m,\u001b[0m \u001b[0;34m**\u001b[0m\u001b[0mkwargs\u001b[0m\u001b[0;34m)\u001b[0m  \u001b[0;31m# type: ignore[misc]\u001b[0m\u001b[0;34m\u001b[0m\u001b[0;34m\u001b[0m\u001b[0m\n\u001b[1;32m   1531\u001b[0m         \u001b[0;32melse\u001b[0m\u001b[0;34m:\u001b[0m\u001b[0;34m\u001b[0m\u001b[0;34m\u001b[0m\u001b[0m\n\u001b[0;32m-> 1532\u001b[0;31m             \u001b[0;32mreturn\u001b[0m \u001b[0mself\u001b[0m\u001b[0;34m.\u001b[0m\u001b[0m_call_impl\u001b[0m\u001b[0;34m(\u001b[0m\u001b[0;34m*\u001b[0m\u001b[0margs\u001b[0m\u001b[0;34m,\u001b[0m \u001b[0;34m**\u001b[0m\u001b[0mkwargs\u001b[0m\u001b[0;34m)\u001b[0m\u001b[0;34m\u001b[0m\u001b[0;34m\u001b[0m\u001b[0m\n\u001b[0m\u001b[1;32m   1533\u001b[0m \u001b[0;34m\u001b[0m\u001b[0m\n\u001b[1;32m   1534\u001b[0m     \u001b[0;32mdef\u001b[0m \u001b[0m_call_impl\u001b[0m\u001b[0;34m(\u001b[0m\u001b[0mself\u001b[0m\u001b[0;34m,\u001b[0m \u001b[0;34m*\u001b[0m\u001b[0margs\u001b[0m\u001b[0;34m,\u001b[0m \u001b[0;34m**\u001b[0m\u001b[0mkwargs\u001b[0m\u001b[0;34m)\u001b[0m\u001b[0;34m:\u001b[0m\u001b[0;34m\u001b[0m\u001b[0;34m\u001b[0m\u001b[0m\n",
            "\u001b[0;32m/usr/local/lib/python3.10/dist-packages/torch/nn/modules/module.py\u001b[0m in \u001b[0;36m_call_impl\u001b[0;34m(self, *args, **kwargs)\u001b[0m\n\u001b[1;32m   1539\u001b[0m                 \u001b[0;32mor\u001b[0m \u001b[0m_global_backward_pre_hooks\u001b[0m \u001b[0;32mor\u001b[0m \u001b[0m_global_backward_hooks\u001b[0m\u001b[0;34m\u001b[0m\u001b[0;34m\u001b[0m\u001b[0m\n\u001b[1;32m   1540\u001b[0m                 or _global_forward_hooks or _global_forward_pre_hooks):\n\u001b[0;32m-> 1541\u001b[0;31m             \u001b[0;32mreturn\u001b[0m \u001b[0mforward_call\u001b[0m\u001b[0;34m(\u001b[0m\u001b[0;34m*\u001b[0m\u001b[0margs\u001b[0m\u001b[0;34m,\u001b[0m \u001b[0;34m**\u001b[0m\u001b[0mkwargs\u001b[0m\u001b[0;34m)\u001b[0m\u001b[0;34m\u001b[0m\u001b[0;34m\u001b[0m\u001b[0m\n\u001b[0m\u001b[1;32m   1542\u001b[0m \u001b[0;34m\u001b[0m\u001b[0m\n\u001b[1;32m   1543\u001b[0m         \u001b[0;32mtry\u001b[0m\u001b[0;34m:\u001b[0m\u001b[0;34m\u001b[0m\u001b[0;34m\u001b[0m\u001b[0m\n",
            "\u001b[0;32m/usr/local/lib/python3.10/dist-packages/torchmetrics/metric.py\u001b[0m in \u001b[0;36mforward\u001b[0;34m(self, *args, **kwargs)\u001b[0m\n\u001b[1;32m    309\u001b[0m             \u001b[0mself\u001b[0m\u001b[0;34m.\u001b[0m\u001b[0m_forward_cache\u001b[0m \u001b[0;34m=\u001b[0m \u001b[0mself\u001b[0m\u001b[0;34m.\u001b[0m\u001b[0m_forward_full_state_update\u001b[0m\u001b[0;34m(\u001b[0m\u001b[0;34m*\u001b[0m\u001b[0margs\u001b[0m\u001b[0;34m,\u001b[0m \u001b[0;34m**\u001b[0m\u001b[0mkwargs\u001b[0m\u001b[0;34m)\u001b[0m\u001b[0;34m\u001b[0m\u001b[0;34m\u001b[0m\u001b[0m\n\u001b[1;32m    310\u001b[0m         \u001b[0;32melse\u001b[0m\u001b[0;34m:\u001b[0m\u001b[0;34m\u001b[0m\u001b[0;34m\u001b[0m\u001b[0m\n\u001b[0;32m--> 311\u001b[0;31m             \u001b[0mself\u001b[0m\u001b[0;34m.\u001b[0m\u001b[0m_forward_cache\u001b[0m \u001b[0;34m=\u001b[0m \u001b[0mself\u001b[0m\u001b[0;34m.\u001b[0m\u001b[0m_forward_reduce_state_update\u001b[0m\u001b[0;34m(\u001b[0m\u001b[0;34m*\u001b[0m\u001b[0margs\u001b[0m\u001b[0;34m,\u001b[0m \u001b[0;34m**\u001b[0m\u001b[0mkwargs\u001b[0m\u001b[0;34m)\u001b[0m\u001b[0;34m\u001b[0m\u001b[0;34m\u001b[0m\u001b[0m\n\u001b[0m\u001b[1;32m    312\u001b[0m \u001b[0;34m\u001b[0m\u001b[0m\n\u001b[1;32m    313\u001b[0m         \u001b[0;32mreturn\u001b[0m \u001b[0mself\u001b[0m\u001b[0;34m.\u001b[0m\u001b[0m_forward_cache\u001b[0m\u001b[0;34m\u001b[0m\u001b[0;34m\u001b[0m\u001b[0m\n",
            "\u001b[0;32m/usr/local/lib/python3.10/dist-packages/torchmetrics/metric.py\u001b[0m in \u001b[0;36m_forward_reduce_state_update\u001b[0;34m(self, *args, **kwargs)\u001b[0m\n\u001b[1;32m    368\u001b[0m         \u001b[0mglobal_state\u001b[0m \u001b[0;34m=\u001b[0m \u001b[0mself\u001b[0m\u001b[0;34m.\u001b[0m\u001b[0m_copy_state_dict\u001b[0m\u001b[0;34m(\u001b[0m\u001b[0;34m)\u001b[0m\u001b[0;34m\u001b[0m\u001b[0;34m\u001b[0m\u001b[0m\n\u001b[1;32m    369\u001b[0m         \u001b[0m_update_count\u001b[0m \u001b[0;34m=\u001b[0m \u001b[0mself\u001b[0m\u001b[0;34m.\u001b[0m\u001b[0m_update_count\u001b[0m\u001b[0;34m\u001b[0m\u001b[0;34m\u001b[0m\u001b[0m\n\u001b[0;32m--> 370\u001b[0;31m         \u001b[0mself\u001b[0m\u001b[0;34m.\u001b[0m\u001b[0mreset\u001b[0m\u001b[0;34m(\u001b[0m\u001b[0;34m)\u001b[0m\u001b[0;34m\u001b[0m\u001b[0;34m\u001b[0m\u001b[0m\n\u001b[0m\u001b[1;32m    371\u001b[0m \u001b[0;34m\u001b[0m\u001b[0m\n\u001b[1;32m    372\u001b[0m         \u001b[0;31m# local synchronization settings\u001b[0m\u001b[0;34m\u001b[0m\u001b[0;34m\u001b[0m\u001b[0m\n",
            "\u001b[0;32m/usr/local/lib/python3.10/dist-packages/torchmetrics/metric.py\u001b[0m in \u001b[0;36mreset\u001b[0;34m(self)\u001b[0m\n\u001b[1;32m    698\u001b[0m                 \u001b[0msetattr\u001b[0m\u001b[0;34m(\u001b[0m\u001b[0mself\u001b[0m\u001b[0;34m,\u001b[0m \u001b[0mattr\u001b[0m\u001b[0;34m,\u001b[0m \u001b[0mdefault\u001b[0m\u001b[0;34m.\u001b[0m\u001b[0mdetach\u001b[0m\u001b[0;34m(\u001b[0m\u001b[0;34m)\u001b[0m\u001b[0;34m.\u001b[0m\u001b[0mclone\u001b[0m\u001b[0;34m(\u001b[0m\u001b[0;34m)\u001b[0m\u001b[0;34m.\u001b[0m\u001b[0mto\u001b[0m\u001b[0;34m(\u001b[0m\u001b[0mcurrent_val\u001b[0m\u001b[0;34m.\u001b[0m\u001b[0mdevice\u001b[0m\u001b[0;34m)\u001b[0m\u001b[0;34m)\u001b[0m\u001b[0;34m\u001b[0m\u001b[0;34m\u001b[0m\u001b[0m\n\u001b[1;32m    699\u001b[0m             \u001b[0;32melse\u001b[0m\u001b[0;34m:\u001b[0m\u001b[0;34m\u001b[0m\u001b[0;34m\u001b[0m\u001b[0m\n\u001b[0;32m--> 700\u001b[0;31m                 \u001b[0mgetattr\u001b[0m\u001b[0;34m(\u001b[0m\u001b[0mself\u001b[0m\u001b[0;34m,\u001b[0m \u001b[0mattr\u001b[0m\u001b[0;34m)\u001b[0m\u001b[0;34m.\u001b[0m\u001b[0mclear\u001b[0m\u001b[0;34m(\u001b[0m\u001b[0;34m)\u001b[0m  \u001b[0;31m# delete/free list items\u001b[0m\u001b[0;34m\u001b[0m\u001b[0;34m\u001b[0m\u001b[0m\n\u001b[0m\u001b[1;32m    701\u001b[0m \u001b[0;34m\u001b[0m\u001b[0m\n\u001b[1;32m    702\u001b[0m         \u001b[0;31m# reset internal states\u001b[0m\u001b[0;34m\u001b[0m\u001b[0;34m\u001b[0m\u001b[0m\n",
            "\u001b[0;31mKeyboardInterrupt\u001b[0m: "
          ]
        }
      ]
    },
    {
      "cell_type": "code",
      "source": [
        "# Number of features of the graphs\n",
        "num_features = next(iter(train_dataloader)).x.shape[1]\n",
        "num_hidden_channels = 128\n",
        "num_out_channels = 2\n",
        "# with global mean pooling, best is around 100 epochs\n",
        "nb_epochs = 300\n",
        "pool_method = global_mean_pool\n",
        "\n",
        "loaded_model = GCNClassifier(num_features, num_hidden_channels, num_out_channels, pool_method)\n",
        "\n",
        "bace_gcn_models_path = bace_models_path / \"gcn_models\"\n",
        "\n",
        "\n",
        "if bace_gcn_models_path.is_dir():\n",
        "  print(f\"{bace_gcn_models_path} is already a directory\")\n",
        "else:\n",
        "  print(f\"{bace_gcn_models_path} is not a directory, creating one\")\n",
        "  bace_gcn_models_path.mkdir(parents=True, exist_ok=True)\n",
        "\n",
        "# Load a random model\n",
        "model_save_path = bace_gcn_models_path/\"0_128_300_global_mean_pool.pth\"\n",
        "\n",
        "print(model_save_path)\n",
        "loaded_model.load_state_dict(torch.load(f=model_save_path))\n",
        "\n",
        "loaded_model.eval()\n",
        "\n",
        "with torch.inference_mode():\n",
        "    loaded_model_preds = loaded_model(next(iter(test_dataloader)))\n",
        "# loaded_model_preds"
      ],
      "metadata": {
        "id": "4nbM9dE6v0fR",
        "colab": {
          "base_uri": "https://localhost:8080/"
        },
        "outputId": "cc61b91c-5e5a-4736-eaef-cd0d928ba4ce"
      },
      "execution_count": 207,
      "outputs": [
        {
          "output_type": "stream",
          "name": "stdout",
          "text": [
            "drive/MyDrive/bace_graph_project/models/gcn_models is already a directory\n",
            "drive/MyDrive/bace_graph_project/models/gcn_models/0_128_300_global_mean_pool.pth\n"
          ]
        }
      ]
    },
    {
      "cell_type": "code",
      "source": [
        "# torch.manual_seed(42)\n",
        "# auroc_metric = BinaryAUROC(thresholds=100).to(device)\n",
        "\n",
        "\n",
        "batch = next(iter(train_dataloader))\n",
        "\n",
        "loaded_model_preds = loaded_model(batch)\n",
        "print(auroc_metric(loaded_model_preds[:,1].to(device), batch.Class.to(device)).item())\n",
        "\n",
        "print(roc_auc_score(batch.Class.to(device).detach().cpu().numpy(), loaded_model_preds[:,1].to(device).detach().cpu().numpy()))\n"
      ],
      "metadata": {
        "colab": {
          "base_uri": "https://localhost:8080/"
        },
        "id": "ve_4mCfgGExS",
        "outputId": "31d6489c-f763-4299-bf74-1a5b03fc7a15"
      },
      "execution_count": 208,
      "outputs": [
        {
          "output_type": "stream",
          "name": "stdout",
          "text": [
            "0.9041666984558105\n",
            "0.8791666666666668\n"
          ]
        }
      ]
    },
    {
      "cell_type": "code",
      "source": [
        "auroc_metric = BinaryAUROC(thresholds=100)\n",
        "\n",
        "# Function which gives the AUC of a model and its metrics, as given by Scikit-Learn's classification report\n",
        "\n",
        "def new_metric_func(model, train_dataloader, test_dataloader):\n",
        "  with torch.inference_mode():\n",
        "    model.eval()\n",
        "\n",
        "    # Create empty tensors to fill with probabilities, predictions and labels\n",
        "    total_train_probs = torch.empty(len(train_dataset))\n",
        "    total_train_preds = torch.empty(len(train_dataset))\n",
        "    total_train_labels = torch.empty(len(train_dataset))\n",
        "\n",
        "    total_test_probs = torch.empty(len(test_dataset))\n",
        "    total_test_preds = torch.empty(len(test_dataset))\n",
        "    total_test_labels = torch.empty(len(test_dataset))\n",
        "\n",
        "    # Loop over batches and add to the total tensors\n",
        "    for idx, batch in enumerate(train_dataloader):\n",
        "      batch = batch.to(device)\n",
        "      batch_size = 32\n",
        "      current_batch_size = len(batch)\n",
        "      # print(f\"{idx*batch_size}:{idx*batch_size+current_batch_size}\")\n",
        "      out = model.forward(batch)\n",
        "      train_probs = out[:,1]\n",
        "      train_preds = torch.argmax(out, dim=1)\n",
        "\n",
        "      total_train_probs[idx*batch_size:idx*batch_size+current_batch_size] = train_probs\n",
        "      total_train_preds[idx*batch_size:idx*batch_size+current_batch_size] = train_preds\n",
        "      total_train_labels[idx*batch_size:idx*batch_size+current_batch_size] = batch.Class\n",
        "\n",
        "    for idx, batch in enumerate(test_dataloader):\n",
        "      batch = batch.to(device)\n",
        "      batch_size = 32\n",
        "      current_batch_size = len(batch)\n",
        "      # print(f\"{idx*batch_size}:{idx*batch_size+current_batch_size}\")\n",
        "      out = model.forward(batch)\n",
        "      test_probs = out[:,1]\n",
        "      test_preds = torch.argmax(out, dim=1)\n",
        "\n",
        "      total_test_probs[idx*batch_size:idx*batch_size+current_batch_size] = test_probs\n",
        "      total_test_preds[idx*batch_size:idx*batch_size+current_batch_size] = test_preds\n",
        "      total_test_labels[idx*batch_size:idx*batch_size+current_batch_size] = batch.Class\n",
        "\n",
        "    # Calculate AUC and dataframes of metrics (using Scikit-Learn's metrics)\n",
        "    train_auroc = auroc_metric(total_train_probs, total_train_labels).item()\n",
        "    train_classification_report = classification_report(total_train_labels, total_train_preds, output_dict=True)\n",
        "    train_report_df = pd.DataFrame(data=train_classification_report).transpose()\n",
        "\n",
        "    test_auroc = auroc_metric(total_test_probs, total_test_labels).item()\n",
        "    test_classification_report = classification_report(total_test_labels, total_test_preds, output_dict=True)\n",
        "    test_report_df = pd.DataFrame(data=test_classification_report).transpose()\n",
        "\n",
        "\n",
        "  return train_auroc, test_auroc, train_report_df, test_report_df\n"
      ],
      "metadata": {
        "id": "a05FwyVBKXoU"
      },
      "execution_count": 209,
      "outputs": []
    },
    {
      "cell_type": "code",
      "source": [
        "torch.manual_seed(42)\n",
        "loaded_model = loaded_model.to(device)\n",
        "train_auroc, test_auroc, train_classification_report, test_classification_report = new_metric_func(loaded_model, train_dataloader, test_dataloader)\n",
        "print(train_auroc, test_auroc)\n",
        "display(train_classification_report, test_classification_report)"
      ],
      "metadata": {
        "id": "ZM1e3LRS4ceD",
        "colab": {
          "base_uri": "https://localhost:8080/",
          "height": 469
        },
        "outputId": "04dc5959-55d2-4797-c757-725c2da6d332"
      },
      "execution_count": 210,
      "outputs": [
        {
          "output_type": "stream",
          "name": "stderr",
          "text": [
            "/usr/lib/python3.10/multiprocessing/popen_fork.py:66: RuntimeWarning: os.fork() was called. os.fork() is incompatible with multithreaded code, and JAX is multithreaded, so this will likely lead to a deadlock.\n",
            "  self.pid = os.fork()\n"
          ]
        },
        {
          "output_type": "stream",
          "name": "stdout",
          "text": [
            "0.8521614670753479 0.821384847164154\n"
          ]
        },
        {
          "output_type": "display_data",
          "data": {
            "text/plain": [
              "              precision    recall  f1-score      support\n",
              "0.0            0.862460  0.806354  0.833464   661.000000\n",
              "1.0            0.783784  0.845173  0.813322   549.000000\n",
              "accuracy       0.823967  0.823967  0.823967     0.823967\n",
              "macro avg      0.823122  0.825764  0.823393  1210.000000\n",
              "weighted avg   0.826763  0.823967  0.824325  1210.000000"
            ],
            "text/html": [
              "\n",
              "  <div id=\"df-fade2b42-2d7f-45d2-8a21-c70a2c411f5e\" class=\"colab-df-container\">\n",
              "    <div>\n",
              "<style scoped>\n",
              "    .dataframe tbody tr th:only-of-type {\n",
              "        vertical-align: middle;\n",
              "    }\n",
              "\n",
              "    .dataframe tbody tr th {\n",
              "        vertical-align: top;\n",
              "    }\n",
              "\n",
              "    .dataframe thead th {\n",
              "        text-align: right;\n",
              "    }\n",
              "</style>\n",
              "<table border=\"1\" class=\"dataframe\">\n",
              "  <thead>\n",
              "    <tr style=\"text-align: right;\">\n",
              "      <th></th>\n",
              "      <th>precision</th>\n",
              "      <th>recall</th>\n",
              "      <th>f1-score</th>\n",
              "      <th>support</th>\n",
              "    </tr>\n",
              "  </thead>\n",
              "  <tbody>\n",
              "    <tr>\n",
              "      <th>0.0</th>\n",
              "      <td>0.862460</td>\n",
              "      <td>0.806354</td>\n",
              "      <td>0.833464</td>\n",
              "      <td>661.000000</td>\n",
              "    </tr>\n",
              "    <tr>\n",
              "      <th>1.0</th>\n",
              "      <td>0.783784</td>\n",
              "      <td>0.845173</td>\n",
              "      <td>0.813322</td>\n",
              "      <td>549.000000</td>\n",
              "    </tr>\n",
              "    <tr>\n",
              "      <th>accuracy</th>\n",
              "      <td>0.823967</td>\n",
              "      <td>0.823967</td>\n",
              "      <td>0.823967</td>\n",
              "      <td>0.823967</td>\n",
              "    </tr>\n",
              "    <tr>\n",
              "      <th>macro avg</th>\n",
              "      <td>0.823122</td>\n",
              "      <td>0.825764</td>\n",
              "      <td>0.823393</td>\n",
              "      <td>1210.000000</td>\n",
              "    </tr>\n",
              "    <tr>\n",
              "      <th>weighted avg</th>\n",
              "      <td>0.826763</td>\n",
              "      <td>0.823967</td>\n",
              "      <td>0.824325</td>\n",
              "      <td>1210.000000</td>\n",
              "    </tr>\n",
              "  </tbody>\n",
              "</table>\n",
              "</div>\n",
              "    <div class=\"colab-df-buttons\">\n",
              "\n",
              "  <div class=\"colab-df-container\">\n",
              "    <button class=\"colab-df-convert\" onclick=\"convertToInteractive('df-fade2b42-2d7f-45d2-8a21-c70a2c411f5e')\"\n",
              "            title=\"Convert this dataframe to an interactive table.\"\n",
              "            style=\"display:none;\">\n",
              "\n",
              "  <svg xmlns=\"http://www.w3.org/2000/svg\" height=\"24px\" viewBox=\"0 -960 960 960\">\n",
              "    <path d=\"M120-120v-720h720v720H120Zm60-500h600v-160H180v160Zm220 220h160v-160H400v160Zm0 220h160v-160H400v160ZM180-400h160v-160H180v160Zm440 0h160v-160H620v160ZM180-180h160v-160H180v160Zm440 0h160v-160H620v160Z\"/>\n",
              "  </svg>\n",
              "    </button>\n",
              "\n",
              "  <style>\n",
              "    .colab-df-container {\n",
              "      display:flex;\n",
              "      gap: 12px;\n",
              "    }\n",
              "\n",
              "    .colab-df-convert {\n",
              "      background-color: #E8F0FE;\n",
              "      border: none;\n",
              "      border-radius: 50%;\n",
              "      cursor: pointer;\n",
              "      display: none;\n",
              "      fill: #1967D2;\n",
              "      height: 32px;\n",
              "      padding: 0 0 0 0;\n",
              "      width: 32px;\n",
              "    }\n",
              "\n",
              "    .colab-df-convert:hover {\n",
              "      background-color: #E2EBFA;\n",
              "      box-shadow: 0px 1px 2px rgba(60, 64, 67, 0.3), 0px 1px 3px 1px rgba(60, 64, 67, 0.15);\n",
              "      fill: #174EA6;\n",
              "    }\n",
              "\n",
              "    .colab-df-buttons div {\n",
              "      margin-bottom: 4px;\n",
              "    }\n",
              "\n",
              "    [theme=dark] .colab-df-convert {\n",
              "      background-color: #3B4455;\n",
              "      fill: #D2E3FC;\n",
              "    }\n",
              "\n",
              "    [theme=dark] .colab-df-convert:hover {\n",
              "      background-color: #434B5C;\n",
              "      box-shadow: 0px 1px 3px 1px rgba(0, 0, 0, 0.15);\n",
              "      filter: drop-shadow(0px 1px 2px rgba(0, 0, 0, 0.3));\n",
              "      fill: #FFFFFF;\n",
              "    }\n",
              "  </style>\n",
              "\n",
              "    <script>\n",
              "      const buttonEl =\n",
              "        document.querySelector('#df-fade2b42-2d7f-45d2-8a21-c70a2c411f5e button.colab-df-convert');\n",
              "      buttonEl.style.display =\n",
              "        google.colab.kernel.accessAllowed ? 'block' : 'none';\n",
              "\n",
              "      async function convertToInteractive(key) {\n",
              "        const element = document.querySelector('#df-fade2b42-2d7f-45d2-8a21-c70a2c411f5e');\n",
              "        const dataTable =\n",
              "          await google.colab.kernel.invokeFunction('convertToInteractive',\n",
              "                                                    [key], {});\n",
              "        if (!dataTable) return;\n",
              "\n",
              "        const docLinkHtml = 'Like what you see? Visit the ' +\n",
              "          '<a target=\"_blank\" href=https://colab.research.google.com/notebooks/data_table.ipynb>data table notebook</a>'\n",
              "          + ' to learn more about interactive tables.';\n",
              "        element.innerHTML = '';\n",
              "        dataTable['output_type'] = 'display_data';\n",
              "        await google.colab.output.renderOutput(dataTable, element);\n",
              "        const docLink = document.createElement('div');\n",
              "        docLink.innerHTML = docLinkHtml;\n",
              "        element.appendChild(docLink);\n",
              "      }\n",
              "    </script>\n",
              "  </div>\n",
              "\n",
              "\n",
              "<div id=\"df-12ef1eb7-8be9-49a5-b642-67b0d81c7dce\">\n",
              "  <button class=\"colab-df-quickchart\" onclick=\"quickchart('df-12ef1eb7-8be9-49a5-b642-67b0d81c7dce')\"\n",
              "            title=\"Suggest charts\"\n",
              "            style=\"display:none;\">\n",
              "\n",
              "<svg xmlns=\"http://www.w3.org/2000/svg\" height=\"24px\"viewBox=\"0 0 24 24\"\n",
              "     width=\"24px\">\n",
              "    <g>\n",
              "        <path d=\"M19 3H5c-1.1 0-2 .9-2 2v14c0 1.1.9 2 2 2h14c1.1 0 2-.9 2-2V5c0-1.1-.9-2-2-2zM9 17H7v-7h2v7zm4 0h-2V7h2v10zm4 0h-2v-4h2v4z\"/>\n",
              "    </g>\n",
              "</svg>\n",
              "  </button>\n",
              "\n",
              "<style>\n",
              "  .colab-df-quickchart {\n",
              "      --bg-color: #E8F0FE;\n",
              "      --fill-color: #1967D2;\n",
              "      --hover-bg-color: #E2EBFA;\n",
              "      --hover-fill-color: #174EA6;\n",
              "      --disabled-fill-color: #AAA;\n",
              "      --disabled-bg-color: #DDD;\n",
              "  }\n",
              "\n",
              "  [theme=dark] .colab-df-quickchart {\n",
              "      --bg-color: #3B4455;\n",
              "      --fill-color: #D2E3FC;\n",
              "      --hover-bg-color: #434B5C;\n",
              "      --hover-fill-color: #FFFFFF;\n",
              "      --disabled-bg-color: #3B4455;\n",
              "      --disabled-fill-color: #666;\n",
              "  }\n",
              "\n",
              "  .colab-df-quickchart {\n",
              "    background-color: var(--bg-color);\n",
              "    border: none;\n",
              "    border-radius: 50%;\n",
              "    cursor: pointer;\n",
              "    display: none;\n",
              "    fill: var(--fill-color);\n",
              "    height: 32px;\n",
              "    padding: 0;\n",
              "    width: 32px;\n",
              "  }\n",
              "\n",
              "  .colab-df-quickchart:hover {\n",
              "    background-color: var(--hover-bg-color);\n",
              "    box-shadow: 0 1px 2px rgba(60, 64, 67, 0.3), 0 1px 3px 1px rgba(60, 64, 67, 0.15);\n",
              "    fill: var(--button-hover-fill-color);\n",
              "  }\n",
              "\n",
              "  .colab-df-quickchart-complete:disabled,\n",
              "  .colab-df-quickchart-complete:disabled:hover {\n",
              "    background-color: var(--disabled-bg-color);\n",
              "    fill: var(--disabled-fill-color);\n",
              "    box-shadow: none;\n",
              "  }\n",
              "\n",
              "  .colab-df-spinner {\n",
              "    border: 2px solid var(--fill-color);\n",
              "    border-color: transparent;\n",
              "    border-bottom-color: var(--fill-color);\n",
              "    animation:\n",
              "      spin 1s steps(1) infinite;\n",
              "  }\n",
              "\n",
              "  @keyframes spin {\n",
              "    0% {\n",
              "      border-color: transparent;\n",
              "      border-bottom-color: var(--fill-color);\n",
              "      border-left-color: var(--fill-color);\n",
              "    }\n",
              "    20% {\n",
              "      border-color: transparent;\n",
              "      border-left-color: var(--fill-color);\n",
              "      border-top-color: var(--fill-color);\n",
              "    }\n",
              "    30% {\n",
              "      border-color: transparent;\n",
              "      border-left-color: var(--fill-color);\n",
              "      border-top-color: var(--fill-color);\n",
              "      border-right-color: var(--fill-color);\n",
              "    }\n",
              "    40% {\n",
              "      border-color: transparent;\n",
              "      border-right-color: var(--fill-color);\n",
              "      border-top-color: var(--fill-color);\n",
              "    }\n",
              "    60% {\n",
              "      border-color: transparent;\n",
              "      border-right-color: var(--fill-color);\n",
              "    }\n",
              "    80% {\n",
              "      border-color: transparent;\n",
              "      border-right-color: var(--fill-color);\n",
              "      border-bottom-color: var(--fill-color);\n",
              "    }\n",
              "    90% {\n",
              "      border-color: transparent;\n",
              "      border-bottom-color: var(--fill-color);\n",
              "    }\n",
              "  }\n",
              "</style>\n",
              "\n",
              "  <script>\n",
              "    async function quickchart(key) {\n",
              "      const quickchartButtonEl =\n",
              "        document.querySelector('#' + key + ' button');\n",
              "      quickchartButtonEl.disabled = true;  // To prevent multiple clicks.\n",
              "      quickchartButtonEl.classList.add('colab-df-spinner');\n",
              "      try {\n",
              "        const charts = await google.colab.kernel.invokeFunction(\n",
              "            'suggestCharts', [key], {});\n",
              "      } catch (error) {\n",
              "        console.error('Error during call to suggestCharts:', error);\n",
              "      }\n",
              "      quickchartButtonEl.classList.remove('colab-df-spinner');\n",
              "      quickchartButtonEl.classList.add('colab-df-quickchart-complete');\n",
              "    }\n",
              "    (() => {\n",
              "      let quickchartButtonEl =\n",
              "        document.querySelector('#df-12ef1eb7-8be9-49a5-b642-67b0d81c7dce button');\n",
              "      quickchartButtonEl.style.display =\n",
              "        google.colab.kernel.accessAllowed ? 'block' : 'none';\n",
              "    })();\n",
              "  </script>\n",
              "</div>\n",
              "\n",
              "  <div id=\"id_fa2d443c-a587-471f-a36c-d91484372c81\">\n",
              "    <style>\n",
              "      .colab-df-generate {\n",
              "        background-color: #E8F0FE;\n",
              "        border: none;\n",
              "        border-radius: 50%;\n",
              "        cursor: pointer;\n",
              "        display: none;\n",
              "        fill: #1967D2;\n",
              "        height: 32px;\n",
              "        padding: 0 0 0 0;\n",
              "        width: 32px;\n",
              "      }\n",
              "\n",
              "      .colab-df-generate:hover {\n",
              "        background-color: #E2EBFA;\n",
              "        box-shadow: 0px 1px 2px rgba(60, 64, 67, 0.3), 0px 1px 3px 1px rgba(60, 64, 67, 0.15);\n",
              "        fill: #174EA6;\n",
              "      }\n",
              "\n",
              "      [theme=dark] .colab-df-generate {\n",
              "        background-color: #3B4455;\n",
              "        fill: #D2E3FC;\n",
              "      }\n",
              "\n",
              "      [theme=dark] .colab-df-generate:hover {\n",
              "        background-color: #434B5C;\n",
              "        box-shadow: 0px 1px 3px 1px rgba(0, 0, 0, 0.15);\n",
              "        filter: drop-shadow(0px 1px 2px rgba(0, 0, 0, 0.3));\n",
              "        fill: #FFFFFF;\n",
              "      }\n",
              "    </style>\n",
              "    <button class=\"colab-df-generate\" onclick=\"generateWithVariable('train_classification_report')\"\n",
              "            title=\"Generate code using this dataframe.\"\n",
              "            style=\"display:none;\">\n",
              "\n",
              "  <svg xmlns=\"http://www.w3.org/2000/svg\" height=\"24px\"viewBox=\"0 0 24 24\"\n",
              "       width=\"24px\">\n",
              "    <path d=\"M7,19H8.4L18.45,9,17,7.55,7,17.6ZM5,21V16.75L18.45,3.32a2,2,0,0,1,2.83,0l1.4,1.43a1.91,1.91,0,0,1,.58,1.4,1.91,1.91,0,0,1-.58,1.4L9.25,21ZM18.45,9,17,7.55Zm-12,3A5.31,5.31,0,0,0,4.9,8.1,5.31,5.31,0,0,0,1,6.5,5.31,5.31,0,0,0,4.9,4.9,5.31,5.31,0,0,0,6.5,1,5.31,5.31,0,0,0,8.1,4.9,5.31,5.31,0,0,0,12,6.5,5.46,5.46,0,0,0,6.5,12Z\"/>\n",
              "  </svg>\n",
              "    </button>\n",
              "    <script>\n",
              "      (() => {\n",
              "      const buttonEl =\n",
              "        document.querySelector('#id_fa2d443c-a587-471f-a36c-d91484372c81 button.colab-df-generate');\n",
              "      buttonEl.style.display =\n",
              "        google.colab.kernel.accessAllowed ? 'block' : 'none';\n",
              "\n",
              "      buttonEl.onclick = () => {\n",
              "        google.colab.notebook.generateWithVariable('train_classification_report');\n",
              "      }\n",
              "      })();\n",
              "    </script>\n",
              "  </div>\n",
              "\n",
              "    </div>\n",
              "  </div>\n"
            ],
            "application/vnd.google.colaboratory.intrinsic+json": {
              "type": "dataframe",
              "variable_name": "train_classification_report",
              "summary": "{\n  \"name\": \"train_classification_report\",\n  \"rows\": 5,\n  \"fields\": [\n    {\n      \"column\": \"precision\",\n      \"properties\": {\n        \"dtype\": \"number\",\n        \"std\": 0.027860747237147113,\n        \"min\": 0.7837837837837838,\n        \"max\": 0.8624595469255664,\n        \"num_unique_values\": 5,\n        \"samples\": [\n          0.7837837837837838,\n          0.826762857698427,\n          0.8239669421487603\n        ],\n        \"semantic_type\": \"\",\n        \"description\": \"\"\n      }\n    },\n    {\n      \"column\": \"recall\",\n      \"properties\": {\n        \"dtype\": \"number\",\n        \"std\": 0.013759832016193449,\n        \"min\": 0.8063540090771558,\n        \"max\": 0.8451730418943534,\n        \"num_unique_values\": 4,\n        \"samples\": [\n          0.8451730418943534,\n          0.8257635254857546,\n          0.8063540090771558\n        ],\n        \"semantic_type\": \"\",\n        \"description\": \"\"\n      }\n    },\n    {\n      \"column\": \"f1-score\",\n      \"properties\": {\n        \"dtype\": \"number\",\n        \"std\": 0.007134334124821602,\n        \"min\": 0.8133216476774761,\n        \"max\": 0.8334636434714622,\n        \"num_unique_values\": 5,\n        \"samples\": [\n          0.8133216476774761,\n          0.8243248371153478,\n          0.8239669421487603\n        ],\n        \"semantic_type\": \"\",\n        \"description\": \"\"\n      }\n    },\n    {\n      \"column\": \"support\",\n      \"properties\": {\n        \"dtype\": \"number\",\n        \"std\": 507.43131139525116,\n        \"min\": 0.8239669421487603,\n        \"max\": 1210.0,\n        \"num_unique_values\": 4,\n        \"samples\": [\n          549.0,\n          1210.0,\n          661.0\n        ],\n        \"semantic_type\": \"\",\n        \"description\": \"\"\n      }\n    }\n  ]\n}"
            }
          },
          "metadata": {}
        },
        {
          "output_type": "display_data",
          "data": {
            "text/plain": [
              "              precision    recall  f1-score     support\n",
              "0.0            0.826389  0.739130  0.780328  161.000000\n",
              "1.0            0.735849  0.823944  0.777409  142.000000\n",
              "accuracy       0.778878  0.778878  0.778878    0.778878\n",
              "macro avg      0.781119  0.781537  0.778868  303.000000\n",
              "weighted avg   0.783958  0.778878  0.778960  303.000000"
            ],
            "text/html": [
              "\n",
              "  <div id=\"df-747aaf12-e88b-417f-8131-76b62afbf10d\" class=\"colab-df-container\">\n",
              "    <div>\n",
              "<style scoped>\n",
              "    .dataframe tbody tr th:only-of-type {\n",
              "        vertical-align: middle;\n",
              "    }\n",
              "\n",
              "    .dataframe tbody tr th {\n",
              "        vertical-align: top;\n",
              "    }\n",
              "\n",
              "    .dataframe thead th {\n",
              "        text-align: right;\n",
              "    }\n",
              "</style>\n",
              "<table border=\"1\" class=\"dataframe\">\n",
              "  <thead>\n",
              "    <tr style=\"text-align: right;\">\n",
              "      <th></th>\n",
              "      <th>precision</th>\n",
              "      <th>recall</th>\n",
              "      <th>f1-score</th>\n",
              "      <th>support</th>\n",
              "    </tr>\n",
              "  </thead>\n",
              "  <tbody>\n",
              "    <tr>\n",
              "      <th>0.0</th>\n",
              "      <td>0.826389</td>\n",
              "      <td>0.739130</td>\n",
              "      <td>0.780328</td>\n",
              "      <td>161.000000</td>\n",
              "    </tr>\n",
              "    <tr>\n",
              "      <th>1.0</th>\n",
              "      <td>0.735849</td>\n",
              "      <td>0.823944</td>\n",
              "      <td>0.777409</td>\n",
              "      <td>142.000000</td>\n",
              "    </tr>\n",
              "    <tr>\n",
              "      <th>accuracy</th>\n",
              "      <td>0.778878</td>\n",
              "      <td>0.778878</td>\n",
              "      <td>0.778878</td>\n",
              "      <td>0.778878</td>\n",
              "    </tr>\n",
              "    <tr>\n",
              "      <th>macro avg</th>\n",
              "      <td>0.781119</td>\n",
              "      <td>0.781537</td>\n",
              "      <td>0.778868</td>\n",
              "      <td>303.000000</td>\n",
              "    </tr>\n",
              "    <tr>\n",
              "      <th>weighted avg</th>\n",
              "      <td>0.783958</td>\n",
              "      <td>0.778878</td>\n",
              "      <td>0.778960</td>\n",
              "      <td>303.000000</td>\n",
              "    </tr>\n",
              "  </tbody>\n",
              "</table>\n",
              "</div>\n",
              "    <div class=\"colab-df-buttons\">\n",
              "\n",
              "  <div class=\"colab-df-container\">\n",
              "    <button class=\"colab-df-convert\" onclick=\"convertToInteractive('df-747aaf12-e88b-417f-8131-76b62afbf10d')\"\n",
              "            title=\"Convert this dataframe to an interactive table.\"\n",
              "            style=\"display:none;\">\n",
              "\n",
              "  <svg xmlns=\"http://www.w3.org/2000/svg\" height=\"24px\" viewBox=\"0 -960 960 960\">\n",
              "    <path d=\"M120-120v-720h720v720H120Zm60-500h600v-160H180v160Zm220 220h160v-160H400v160Zm0 220h160v-160H400v160ZM180-400h160v-160H180v160Zm440 0h160v-160H620v160ZM180-180h160v-160H180v160Zm440 0h160v-160H620v160Z\"/>\n",
              "  </svg>\n",
              "    </button>\n",
              "\n",
              "  <style>\n",
              "    .colab-df-container {\n",
              "      display:flex;\n",
              "      gap: 12px;\n",
              "    }\n",
              "\n",
              "    .colab-df-convert {\n",
              "      background-color: #E8F0FE;\n",
              "      border: none;\n",
              "      border-radius: 50%;\n",
              "      cursor: pointer;\n",
              "      display: none;\n",
              "      fill: #1967D2;\n",
              "      height: 32px;\n",
              "      padding: 0 0 0 0;\n",
              "      width: 32px;\n",
              "    }\n",
              "\n",
              "    .colab-df-convert:hover {\n",
              "      background-color: #E2EBFA;\n",
              "      box-shadow: 0px 1px 2px rgba(60, 64, 67, 0.3), 0px 1px 3px 1px rgba(60, 64, 67, 0.15);\n",
              "      fill: #174EA6;\n",
              "    }\n",
              "\n",
              "    .colab-df-buttons div {\n",
              "      margin-bottom: 4px;\n",
              "    }\n",
              "\n",
              "    [theme=dark] .colab-df-convert {\n",
              "      background-color: #3B4455;\n",
              "      fill: #D2E3FC;\n",
              "    }\n",
              "\n",
              "    [theme=dark] .colab-df-convert:hover {\n",
              "      background-color: #434B5C;\n",
              "      box-shadow: 0px 1px 3px 1px rgba(0, 0, 0, 0.15);\n",
              "      filter: drop-shadow(0px 1px 2px rgba(0, 0, 0, 0.3));\n",
              "      fill: #FFFFFF;\n",
              "    }\n",
              "  </style>\n",
              "\n",
              "    <script>\n",
              "      const buttonEl =\n",
              "        document.querySelector('#df-747aaf12-e88b-417f-8131-76b62afbf10d button.colab-df-convert');\n",
              "      buttonEl.style.display =\n",
              "        google.colab.kernel.accessAllowed ? 'block' : 'none';\n",
              "\n",
              "      async function convertToInteractive(key) {\n",
              "        const element = document.querySelector('#df-747aaf12-e88b-417f-8131-76b62afbf10d');\n",
              "        const dataTable =\n",
              "          await google.colab.kernel.invokeFunction('convertToInteractive',\n",
              "                                                    [key], {});\n",
              "        if (!dataTable) return;\n",
              "\n",
              "        const docLinkHtml = 'Like what you see? Visit the ' +\n",
              "          '<a target=\"_blank\" href=https://colab.research.google.com/notebooks/data_table.ipynb>data table notebook</a>'\n",
              "          + ' to learn more about interactive tables.';\n",
              "        element.innerHTML = '';\n",
              "        dataTable['output_type'] = 'display_data';\n",
              "        await google.colab.output.renderOutput(dataTable, element);\n",
              "        const docLink = document.createElement('div');\n",
              "        docLink.innerHTML = docLinkHtml;\n",
              "        element.appendChild(docLink);\n",
              "      }\n",
              "    </script>\n",
              "  </div>\n",
              "\n",
              "\n",
              "<div id=\"df-b173d9fd-c21d-4eb2-a48e-477ddbf0f898\">\n",
              "  <button class=\"colab-df-quickchart\" onclick=\"quickchart('df-b173d9fd-c21d-4eb2-a48e-477ddbf0f898')\"\n",
              "            title=\"Suggest charts\"\n",
              "            style=\"display:none;\">\n",
              "\n",
              "<svg xmlns=\"http://www.w3.org/2000/svg\" height=\"24px\"viewBox=\"0 0 24 24\"\n",
              "     width=\"24px\">\n",
              "    <g>\n",
              "        <path d=\"M19 3H5c-1.1 0-2 .9-2 2v14c0 1.1.9 2 2 2h14c1.1 0 2-.9 2-2V5c0-1.1-.9-2-2-2zM9 17H7v-7h2v7zm4 0h-2V7h2v10zm4 0h-2v-4h2v4z\"/>\n",
              "    </g>\n",
              "</svg>\n",
              "  </button>\n",
              "\n",
              "<style>\n",
              "  .colab-df-quickchart {\n",
              "      --bg-color: #E8F0FE;\n",
              "      --fill-color: #1967D2;\n",
              "      --hover-bg-color: #E2EBFA;\n",
              "      --hover-fill-color: #174EA6;\n",
              "      --disabled-fill-color: #AAA;\n",
              "      --disabled-bg-color: #DDD;\n",
              "  }\n",
              "\n",
              "  [theme=dark] .colab-df-quickchart {\n",
              "      --bg-color: #3B4455;\n",
              "      --fill-color: #D2E3FC;\n",
              "      --hover-bg-color: #434B5C;\n",
              "      --hover-fill-color: #FFFFFF;\n",
              "      --disabled-bg-color: #3B4455;\n",
              "      --disabled-fill-color: #666;\n",
              "  }\n",
              "\n",
              "  .colab-df-quickchart {\n",
              "    background-color: var(--bg-color);\n",
              "    border: none;\n",
              "    border-radius: 50%;\n",
              "    cursor: pointer;\n",
              "    display: none;\n",
              "    fill: var(--fill-color);\n",
              "    height: 32px;\n",
              "    padding: 0;\n",
              "    width: 32px;\n",
              "  }\n",
              "\n",
              "  .colab-df-quickchart:hover {\n",
              "    background-color: var(--hover-bg-color);\n",
              "    box-shadow: 0 1px 2px rgba(60, 64, 67, 0.3), 0 1px 3px 1px rgba(60, 64, 67, 0.15);\n",
              "    fill: var(--button-hover-fill-color);\n",
              "  }\n",
              "\n",
              "  .colab-df-quickchart-complete:disabled,\n",
              "  .colab-df-quickchart-complete:disabled:hover {\n",
              "    background-color: var(--disabled-bg-color);\n",
              "    fill: var(--disabled-fill-color);\n",
              "    box-shadow: none;\n",
              "  }\n",
              "\n",
              "  .colab-df-spinner {\n",
              "    border: 2px solid var(--fill-color);\n",
              "    border-color: transparent;\n",
              "    border-bottom-color: var(--fill-color);\n",
              "    animation:\n",
              "      spin 1s steps(1) infinite;\n",
              "  }\n",
              "\n",
              "  @keyframes spin {\n",
              "    0% {\n",
              "      border-color: transparent;\n",
              "      border-bottom-color: var(--fill-color);\n",
              "      border-left-color: var(--fill-color);\n",
              "    }\n",
              "    20% {\n",
              "      border-color: transparent;\n",
              "      border-left-color: var(--fill-color);\n",
              "      border-top-color: var(--fill-color);\n",
              "    }\n",
              "    30% {\n",
              "      border-color: transparent;\n",
              "      border-left-color: var(--fill-color);\n",
              "      border-top-color: var(--fill-color);\n",
              "      border-right-color: var(--fill-color);\n",
              "    }\n",
              "    40% {\n",
              "      border-color: transparent;\n",
              "      border-right-color: var(--fill-color);\n",
              "      border-top-color: var(--fill-color);\n",
              "    }\n",
              "    60% {\n",
              "      border-color: transparent;\n",
              "      border-right-color: var(--fill-color);\n",
              "    }\n",
              "    80% {\n",
              "      border-color: transparent;\n",
              "      border-right-color: var(--fill-color);\n",
              "      border-bottom-color: var(--fill-color);\n",
              "    }\n",
              "    90% {\n",
              "      border-color: transparent;\n",
              "      border-bottom-color: var(--fill-color);\n",
              "    }\n",
              "  }\n",
              "</style>\n",
              "\n",
              "  <script>\n",
              "    async function quickchart(key) {\n",
              "      const quickchartButtonEl =\n",
              "        document.querySelector('#' + key + ' button');\n",
              "      quickchartButtonEl.disabled = true;  // To prevent multiple clicks.\n",
              "      quickchartButtonEl.classList.add('colab-df-spinner');\n",
              "      try {\n",
              "        const charts = await google.colab.kernel.invokeFunction(\n",
              "            'suggestCharts', [key], {});\n",
              "      } catch (error) {\n",
              "        console.error('Error during call to suggestCharts:', error);\n",
              "      }\n",
              "      quickchartButtonEl.classList.remove('colab-df-spinner');\n",
              "      quickchartButtonEl.classList.add('colab-df-quickchart-complete');\n",
              "    }\n",
              "    (() => {\n",
              "      let quickchartButtonEl =\n",
              "        document.querySelector('#df-b173d9fd-c21d-4eb2-a48e-477ddbf0f898 button');\n",
              "      quickchartButtonEl.style.display =\n",
              "        google.colab.kernel.accessAllowed ? 'block' : 'none';\n",
              "    })();\n",
              "  </script>\n",
              "</div>\n",
              "\n",
              "  <div id=\"id_859ae038-4ce9-4ab7-a29c-e1c3272c9e3f\">\n",
              "    <style>\n",
              "      .colab-df-generate {\n",
              "        background-color: #E8F0FE;\n",
              "        border: none;\n",
              "        border-radius: 50%;\n",
              "        cursor: pointer;\n",
              "        display: none;\n",
              "        fill: #1967D2;\n",
              "        height: 32px;\n",
              "        padding: 0 0 0 0;\n",
              "        width: 32px;\n",
              "      }\n",
              "\n",
              "      .colab-df-generate:hover {\n",
              "        background-color: #E2EBFA;\n",
              "        box-shadow: 0px 1px 2px rgba(60, 64, 67, 0.3), 0px 1px 3px 1px rgba(60, 64, 67, 0.15);\n",
              "        fill: #174EA6;\n",
              "      }\n",
              "\n",
              "      [theme=dark] .colab-df-generate {\n",
              "        background-color: #3B4455;\n",
              "        fill: #D2E3FC;\n",
              "      }\n",
              "\n",
              "      [theme=dark] .colab-df-generate:hover {\n",
              "        background-color: #434B5C;\n",
              "        box-shadow: 0px 1px 3px 1px rgba(0, 0, 0, 0.15);\n",
              "        filter: drop-shadow(0px 1px 2px rgba(0, 0, 0, 0.3));\n",
              "        fill: #FFFFFF;\n",
              "      }\n",
              "    </style>\n",
              "    <button class=\"colab-df-generate\" onclick=\"generateWithVariable('test_classification_report')\"\n",
              "            title=\"Generate code using this dataframe.\"\n",
              "            style=\"display:none;\">\n",
              "\n",
              "  <svg xmlns=\"http://www.w3.org/2000/svg\" height=\"24px\"viewBox=\"0 0 24 24\"\n",
              "       width=\"24px\">\n",
              "    <path d=\"M7,19H8.4L18.45,9,17,7.55,7,17.6ZM5,21V16.75L18.45,3.32a2,2,0,0,1,2.83,0l1.4,1.43a1.91,1.91,0,0,1,.58,1.4,1.91,1.91,0,0,1-.58,1.4L9.25,21ZM18.45,9,17,7.55Zm-12,3A5.31,5.31,0,0,0,4.9,8.1,5.31,5.31,0,0,0,1,6.5,5.31,5.31,0,0,0,4.9,4.9,5.31,5.31,0,0,0,6.5,1,5.31,5.31,0,0,0,8.1,4.9,5.31,5.31,0,0,0,12,6.5,5.46,5.46,0,0,0,6.5,12Z\"/>\n",
              "  </svg>\n",
              "    </button>\n",
              "    <script>\n",
              "      (() => {\n",
              "      const buttonEl =\n",
              "        document.querySelector('#id_859ae038-4ce9-4ab7-a29c-e1c3272c9e3f button.colab-df-generate');\n",
              "      buttonEl.style.display =\n",
              "        google.colab.kernel.accessAllowed ? 'block' : 'none';\n",
              "\n",
              "      buttonEl.onclick = () => {\n",
              "        google.colab.notebook.generateWithVariable('test_classification_report');\n",
              "      }\n",
              "      })();\n",
              "    </script>\n",
              "  </div>\n",
              "\n",
              "    </div>\n",
              "  </div>\n"
            ],
            "application/vnd.google.colaboratory.intrinsic+json": {
              "type": "dataframe",
              "variable_name": "test_classification_report",
              "summary": "{\n  \"name\": \"test_classification_report\",\n  \"rows\": 5,\n  \"fields\": [\n    {\n      \"column\": \"precision\",\n      \"properties\": {\n        \"dtype\": \"number\",\n        \"std\": 0.03206142505893675,\n        \"min\": 0.7358490566037735,\n        \"max\": 0.8263888888888888,\n        \"num_unique_values\": 5,\n        \"samples\": [\n          0.7358490566037735,\n          0.7839576803592309,\n          0.7788778877887789\n        ],\n        \"semantic_type\": \"\",\n        \"description\": \"\"\n      }\n    },\n    {\n      \"column\": \"recall\",\n      \"properties\": {\n        \"dtype\": \"number\",\n        \"std\": 0.03002135537899423,\n        \"min\": 0.7391304347826086,\n        \"max\": 0.823943661971831,\n        \"num_unique_values\": 4,\n        \"samples\": [\n          0.823943661971831,\n          0.7815370483772198,\n          0.7391304347826086\n        ],\n        \"semantic_type\": \"\",\n        \"description\": \"\"\n      }\n    },\n    {\n      \"column\": \"f1-score\",\n      \"properties\": {\n        \"dtype\": \"number\",\n        \"std\": 0.001032881654262807,\n        \"min\": 0.7774086378737541,\n        \"max\": 0.7803278688524589,\n        \"num_unique_values\": 5,\n        \"samples\": [\n          0.7774086378737541,\n          0.7789597804069933,\n          0.7788778877887789\n        ],\n        \"semantic_type\": \"\",\n        \"description\": \"\"\n      }\n    },\n    {\n      \"column\": \"support\",\n      \"properties\": {\n        \"dtype\": \"number\",\n        \"std\": 126.65315365261465,\n        \"min\": 0.7788778877887789,\n        \"max\": 303.0,\n        \"num_unique_values\": 4,\n        \"samples\": [\n          142.0,\n          303.0,\n          161.0\n        ],\n        \"semantic_type\": \"\",\n        \"description\": \"\"\n      }\n    }\n  ]\n}"
            }
          },
          "metadata": {}
        }
      ]
    },
    {
      "cell_type": "code",
      "source": [
        "print(train_auroc)"
      ],
      "metadata": {
        "id": "L7QR3c1jbOyw"
      },
      "execution_count": null,
      "outputs": []
    },
    {
      "cell_type": "code",
      "source": [
        "start_time = timer()\n",
        "train_auroc, test_auroc, train_report_df, test_report_df = new_metric_func(model, train_dataloader, test_dataloader)\n",
        "end_time = timer()\n",
        "print(round(end_time-start_time, 4))"
      ],
      "metadata": {
        "id": "1T5es6qjOTJA",
        "colab": {
          "base_uri": "https://localhost:8080/"
        },
        "outputId": "85df4d7f-6b50-4e32-ed94-b8f8a2c0d8df"
      },
      "execution_count": null,
      "outputs": [
        {
          "output_type": "stream",
          "name": "stdout",
          "text": [
            "5.5292\n"
          ]
        }
      ]
    },
    {
      "cell_type": "code",
      "source": [],
      "metadata": {
        "id": "JxnLQOoogq7e"
      },
      "execution_count": null,
      "outputs": []
    },
    {
      "cell_type": "code",
      "source": [
        "def loss_acc_auc_plots(results):\n",
        "\n",
        "  fig, ax = plt.subplots(ncols=3, nrows=1, figsize = (15,6))\n",
        "\n",
        "  ax[0].plot(results[\"epoch\"], results[\"train_loss\"], label=\"Train\");\n",
        "  ax[0].plot(results[\"epoch\"], results[\"test_loss\"],  label=\"Test\");\n",
        "  ax[0].vlines(results[\"saved_epochs\"], ymin=0, ymax = max(results[\"test_loss\"]), alpha=0.5, colors='black', linestyle='dashed', label = 'Saved epochs')\n",
        "\n",
        "  ax[1].plot(results[\"epoch\"], results[\"train_acc\"], label=\"Train\");\n",
        "  ax[1].plot(results[\"epoch\"], results[\"test_acc\"],  label=\"Test\");\n",
        "  ax[1].vlines(results[\"saved_epochs\"], ymin=0, ymax = max(results[\"train_acc\"]), alpha=0.5, colors='black', linestyle='dashed', label = 'Saved epochs')\n",
        "\n",
        "\n",
        "  ax[2].plot(results[\"epoch\"], results[\"train_auc\"], label=\"Train\");\n",
        "  ax[2].plot(results[\"epoch\"], results[\"test_auc\"],  label=\"Test\");\n",
        "  ax[2].vlines(results[\"saved_epochs\"], ymin=0, ymax = max(results[\"train_auc\"]), alpha=0.5, colors='black', linestyle='dashed', label = 'Saved epochs')\n",
        "\n",
        "\n",
        "  ax[0].set_xlabel(\"Epochs\", size=14)\n",
        "  ax[0].set_ylabel(\"Loss\", size=14)\n",
        "\n",
        "  ax[1].set_xlabel(\"Epochs\", size=14)\n",
        "  ax[1].set_ylabel(\"Accuracy\", size=14)\n",
        "\n",
        "  ax[2].set_xlabel(\"Epochs\", size=14)\n",
        "  ax[2].set_ylabel(\"AUC\", size=14)\n",
        "\n",
        "  ax[0].legend();\n",
        "  ax[1].legend();\n",
        "  ax[2].legend();"
      ],
      "metadata": {
        "id": "n3jQLbnL_s_j"
      },
      "execution_count": null,
      "outputs": []
    },
    {
      "cell_type": "code",
      "source": [
        "with open('/content/drive/MyDrive/bace_graph_project/models/gcn_models/0_128_300_global_mean_pool_results.pkl', 'rb') as f:\n",
        "    loaded_dict = pickle.load(f)\n",
        "\n",
        "loss_acc_auc_plots(loaded_dict)"
      ],
      "metadata": {
        "id": "vnid4nZRdZRJ",
        "colab": {
          "base_uri": "https://localhost:8080/",
          "height": 547
        },
        "outputId": "62708559-c863-4009-c125-f33381809d6b"
      },
      "execution_count": null,
      "outputs": [
        {
          "output_type": "display_data",
          "data": {
            "text/plain": [
              "<Figure size 1500x600 with 3 Axes>"
            ],
            "image/png": "[encoded data removed]"
          },
          "metadata": {}
        }
      ]
    },
    {
      "cell_type": "code",
      "source": [
        "for key in loaded_dict:\n",
        "   print(key)\n",
        "\n",
        "print(loaded_dict[\"saved_epochs\"])"
      ],
      "metadata": {
        "colab": {
          "base_uri": "https://localhost:8080/"
        },
        "id": "FIy_mvxjDuTD",
        "outputId": "821af62b-e59e-4374-d2bf-0a4e06b02330"
      },
      "execution_count": null,
      "outputs": [
        {
          "output_type": "stream",
          "name": "stdout",
          "text": [
            "epoch\n",
            "train_loss\n",
            "train_acc\n",
            "train_auc\n",
            "test_loss\n",
            "test_acc\n",
            "test_auc\n",
            "saved_epochs\n",
            "test_loss_mov_avg\n",
            "test_auc_mov_avg\n",
            "[9, 14, 22, 28, 35, 42, 57, 136]\n"
          ]
        }
      ]
    },
    {
      "cell_type": "code",
      "source": [
        "def moving_average(data, window_size):\n",
        "    return np.convolve(data, np.ones(window_size)/window_size, mode='valid')\n",
        "\n",
        "def moving_average(values, window_size):\n",
        "    if len(values) < window_size:\n",
        "        return None\n",
        "    return sum(values[-window_size:]) / window_size\n",
        "\n",
        "window_size = int(len(loaded_dict[\"test_loss\"])/10)\n",
        "print(window_size)\n",
        "mov_avg_vals = moving_average(loaded_dict[\"test_loss\"], window_size)\n",
        "\n",
        "\n",
        "\n",
        "plt.plot(loaded_dict[\"test_loss\"], alpha=0.5)\n",
        "# plt.plot(np.arange(len(loaded_dict[\"test_loss\"])-window_size +1)+window_size/2, (mov_avg_vals))\n",
        "plt.plot((mov_avg_vals))\n",
        "# print(len(mov_avg_vals), len(loaded_dict[\"test_loss\"]))"
      ],
      "metadata": {
        "colab": {
          "base_uri": "https://localhost:8080/",
          "height": 484
        },
        "id": "2VssLvrAtyDo",
        "outputId": "20dc8154-dc69-405b-938f-a70ceb05a258"
      },
      "execution_count": null,
      "outputs": [
        {
          "output_type": "stream",
          "name": "stdout",
          "text": [
            "25\n",
            "0.50468\n"
          ]
        },
        {
          "output_type": "execute_result",
          "data": {
            "text/plain": [
              "[<matplotlib.lines.Line2D at 0x7cb9f4965bd0>]"
            ]
          },
          "metadata": {},
          "execution_count": 91
        },
        {
          "output_type": "display_data",
          "data": {
            "text/plain": [
              "<Figure size 640x480 with 1 Axes>"
            ],
            "image/png": "[encoded data removed]"
          },
          "metadata": {}
        }
      ]
    },
    {
      "cell_type": "code",
      "source": [
        "def moving_average(values, window_size):\n",
        "    if len(values) < window_size:\n",
        "        return None\n",
        "    return sum(values[-window_size:]) / window_size\n",
        "\n",
        "for i in (loaded_dict[\"test_loss\"]):\n",
        "  mov_avg_vals.append(mo) ="
      ],
      "metadata": {
        "id": "6pljPB_Opynb"
      },
      "execution_count": null,
      "outputs": []
    },
    {
      "cell_type": "code",
      "source": [
        "# GAT Classifier Training Run\n",
        "\n",
        "display(Javascript('''google.colab.output.setIframeHeight(0, true, {maxHeight: 300})'''))\n",
        "\n",
        "torch.manual_seed(42)\n",
        "\n",
        "train_dataloader = DataLoader(train_dataset, batch_size=32, shuffle=True)\n",
        "test_dataloader = DataLoader(test_dataset, batch_size=32, shuffle=True)\n",
        "\n",
        "# Number of features of the graphs\n",
        "num_features = next(iter(train_dataloader)).x.shape[1]\n",
        "num_hidden_channels = 64\n",
        "num_out_channels = 2\n",
        "heads=4\n",
        "# with no edge attributes, global mean pooling best is 70 epochs\n",
        "nb_epochs = 70\n",
        "use_edge_attr = True\n",
        "pool_method = global_mean_pool\n",
        "\n",
        "# Instantiating GAT Classifier\n",
        "gat_model = GATClassifier(num_features, num_hidden_channels, num_out_channels, heads, pool_method, use_edge_attr)\n",
        "\n",
        "# Instantiate optimizer and loss function\n",
        "adam_optimizer = torch.optim.Adam(gat_model.parameters(), lr=0.001, weight_decay=1e-4)\n",
        "sgd_optimizer = torch.optim.SGD(gat_model.parameters())\n",
        "criterion = torch.nn.CrossEntropyLoss()\n",
        "\n",
        "\n",
        "gat_results = train(gat_model,\n",
        "      train_dataloader,\n",
        "      test_dataloader,\n",
        "      adam_optimizer,\n",
        "      loss_fn = criterion,\n",
        "      epochs = nb_epochs)\n"
      ],
      "metadata": {
        "id": "1GUYuvqPwg57"
      },
      "execution_count": null,
      "outputs": []
    },
    {
      "cell_type": "code",
      "source": [
        "print(type(adam_optimizer))\n"
      ],
      "metadata": {
        "id": "GUsaRid-ExtH"
      },
      "execution_count": null,
      "outputs": []
    },
    {
      "cell_type": "code",
      "source": [
        "loss_and_acc_plots(gat_results)"
      ],
      "metadata": {
        "id": "H8zTcwr0dhCZ"
      },
      "execution_count": null,
      "outputs": []
    },
    {
      "cell_type": "code",
      "source": [
        "# GraphConv Classifier Training Run\n",
        "\n",
        "display(Javascript('''google.colab.output.setIframeHeight(0, true, {maxHeight: 300})'''))\n",
        "\n",
        "torch.manual_seed(42)\n",
        "\n",
        "train_dataloader = DataLoader(train_dataset, batch_size=32, shuffle=True)\n",
        "test_dataloader = DataLoader(test_dataset, batch_size=32, shuffle=True)\n",
        "\n",
        "# Number of features of the graphs\n",
        "num_features = next(iter(train_dataloader)).x.shape[1]\n",
        "num_hidden_channels = 64\n",
        "num_out_channels = 2\n",
        "# global mean pooling, best is 50 epochs\n",
        "nb_epochs = 50\n",
        "pool_method = global_mean_pool\n",
        "\n",
        "# Instantiating GAT Classifier\n",
        "graphconv_model = GraphConvClassifier(num_features, num_hidden_channels, num_out_channels, pool_method)\n",
        "\n",
        "# Instantiate optimizer and loss function\n",
        "adam_optimizer = torch.optim.Adam(graphconv_model.parameters(), lr=0.001, weight_decay=1e-4)\n",
        "sgd_optimizer = torch.optim.SGD(graphconv_model.parameters())\n",
        "criterion = torch.nn.CrossEntropyLoss()\n",
        "\n",
        "\"\"\"\n",
        "graphconv_results = train(graphconv_model,\n",
        "      train_dataloader,\n",
        "      test_dataloader,\n",
        "      adam_optimizer,\n",
        "      loss_fn = criterion,\n",
        "      epochs = nb_epochs)\n",
        "\"\"\""
      ],
      "metadata": {
        "id": "I9JAhGQldmH1"
      },
      "execution_count": null,
      "outputs": []
    },
    {
      "cell_type": "code",
      "source": [
        "# loss_and_acc_plots(graphconv_results)"
      ],
      "metadata": {
        "id": "Wu24X7iwehwx"
      },
      "execution_count": null,
      "outputs": []
    },
    {
      "cell_type": "code",
      "source": [
        "# GINConv Classifier Training Run\n",
        "\n",
        "display(Javascript('''google.colab.output.setIframeHeight(0, true, {maxHeight: 300})'''))\n",
        "\n",
        "torch.manual_seed(42)\n",
        "\n",
        "train_dataloader = DataLoader(train_dataset, batch_size=32, shuffle=True)\n",
        "test_dataloader = DataLoader(test_dataset, batch_size=32, shuffle=True)\n",
        "\n",
        "# Number of features of the graphs\n",
        "num_features = next(iter(train_dataloader)).x.shape[1]\n",
        "num_hidden_channels = 64\n",
        "num_out_channels = 2\n",
        "num_layers = 3\n",
        "nb_epochs = 50\n",
        "pool_method = global_mean_pool\n",
        "\n",
        "# Instantiating GINConv Classifier\n",
        "ginconv_model = GINConvClassifier(num_features, num_hidden_channels, num_out_channels, num_layers, pool_method)\n",
        "\n",
        "# Instantiate optimizer and loss function\n",
        "adam_optimizer = torch.optim.Adam(ginconv_model.parameters(), lr=0.001, weight_decay=1e-4)\n",
        "sgd_optimizer = torch.optim.SGD(ginconv_model.parameters())\n",
        "criterion = torch.nn.CrossEntropyLoss()\n",
        "\n",
        "\n",
        "ginconv_results = train(ginconv_model,\n",
        "      train_dataloader,\n",
        "      test_dataloader,\n",
        "      adam_optimizer,\n",
        "      loss_fn = criterion,\n",
        "      epochs = nb_epochs)\n",
        "\n"
      ],
      "metadata": {
        "id": "EhY1id2V_tvn"
      },
      "execution_count": null,
      "outputs": []
    },
    {
      "cell_type": "code",
      "source": [
        "# loss_and_acc_plots(ginconv_results)"
      ],
      "metadata": {
        "id": "wJgO-hRKCz86"
      },
      "execution_count": null,
      "outputs": []
    },
    {
      "cell_type": "code",
      "source": [
        "# GINEConv Classifier Training Run\n",
        "\n",
        "display(Javascript('''google.colab.output.setIframeHeight(0, true, {maxHeight: 300})'''))\n",
        "\n",
        "torch.manual_seed(42)\n",
        "\n",
        "train_dataloader = DataLoader(train_dataset, batch_size=32, shuffle=True)\n",
        "test_dataloader = DataLoader(test_dataset, batch_size=32, shuffle=True)\n",
        "\n",
        "# Number of features of the graphs\n",
        "num_features = next(iter(train_dataloader)).x.shape[1]\n",
        "num_hidden_channels = 64\n",
        "num_out_channels = 2\n",
        "num_layers = 3\n",
        "# best number of epochs with edge attributes is about 15\n",
        "nb_epochs = 15\n",
        "pool_method = global_mean_pool\n",
        "use_edge_attr = True\n",
        "edge_dim = dataset[0].edge_attr.shape[1]\n",
        "\n",
        "# Instantiating GINEConv Classifier\n",
        "gineconv_model = GINEConvClassifier(num_features, num_hidden_channels, num_out_channels, num_layers, pool_method, use_edge_attr, edge_dim)\n",
        "\n",
        "# Instantiate optimizer and loss function\n",
        "adam_optimizer = torch.optim.Adam(gineconv_model.parameters(), lr=0.001, weight_decay=1e-4)\n",
        "sgd_optimizer = torch.optim.SGD(gineconv_model.parameters())\n",
        "criterion = torch.nn.CrossEntropyLoss()\n",
        "\n",
        "\n",
        "gineconv_results = train(gineconv_model,\n",
        "      train_dataloader,\n",
        "      test_dataloader,\n",
        "      adam_optimizer,\n",
        "      loss_fn = criterion,\n",
        "      epochs = nb_epochs)\n"
      ],
      "metadata": {
        "id": "Li-khhJ8iRSf"
      },
      "execution_count": null,
      "outputs": []
    },
    {
      "cell_type": "code",
      "source": [
        "loss_and_acc_plots(gineconv_results)"
      ],
      "metadata": {
        "id": "gQRQPzmViaOI"
      },
      "execution_count": null,
      "outputs": []
    },
    {
      "cell_type": "code",
      "source": [
        "\n",
        "gat_train_auroc, gat_test_auroc, gat_train_report_df, gat_test_report_df = metric_func(gat_model, train_dataset, test_dataset)\n",
        "\"\"\"\n",
        "graphconv_train_auroc, graphconv_test_auroc, graphconv_train_report_df, graphconv_test_report_df = metric_func(graphconv_model, train_dataset, test_dataset)\n",
        "\n",
        "ginconv_train_auroc, ginconv_test_auroc, ginconv_train_report_df, ginconv_test_report_df = metric_func(ginconv_model, train_dataset, test_dataset)\n",
        "\"\"\"\n",
        "gineconv_train_auroc, gineconv_test_auroc, gineconv_train_report_df, gineconv_test_report_df = metric_func(gineconv_model, train_dataset, test_dataset)\n",
        "\n"
      ],
      "metadata": {
        "id": "L_Evj6J_fv7V"
      },
      "execution_count": null,
      "outputs": []
    },
    {
      "cell_type": "code",
      "source": [
        "\"\"\"\n",
        "print(\"GCN results:\")\n",
        "display(\"train AUC:\", train_auroc, \"test AUC:\", test_auroc, train_report_df, test_report_df)\n",
        "\"\"\"\n",
        "print(\"GAT results:\")\n",
        "display(\"train AUC:\", gat_train_auroc, \"test AUC:\", gat_test_auroc, gat_train_report_df, gat_test_report_df)\n",
        "\"\"\"\n",
        "print(\"GraphConv results:\")\n",
        "display(\"train AUC:\", graphconv_train_auroc, \"test AUC:\", graphconv_test_auroc, graphconv_train_report_df, graphconv_test_report_df)\n",
        "\n",
        "print(\"GinConv results:\")\n",
        "display(\"train AUC:\", ginconv_train_auroc, \"test AUC:\", ginconv_test_auroc, ginconv_train_report_df, ginconv_test_report_df)\n",
        "\"\"\"\n",
        "print(\"GineConv results:\")\n",
        "display(\"train AUC:\", gineconv_train_auroc, \"test AUC:\", gineconv_test_auroc, gineconv_train_report_df, gineconv_test_report_df)"
      ],
      "metadata": {
        "id": "Ob5052BFgZfR"
      },
      "execution_count": null,
      "outputs": []
    }
  ]
}