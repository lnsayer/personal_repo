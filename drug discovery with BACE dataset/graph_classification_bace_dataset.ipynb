{
  "nbformat": 4,
  "nbformat_minor": 0,
  "metadata": {
    "colab": {
      "provenance": [],
      "gpuType": "T4",
      "authorship_tag": "ABX9TyOdnFq3QO/IVP1TLu065FaY",
      "include_colab_link": true
    },
    "kernelspec": {
      "name": "python3",
      "display_name": "Python 3"
    },
    "language_info": {
      "name": "python"
    },
    "accelerator": "GPU",
    "widgets": {
      "application/vnd.jupyter.widget-state+json": {
        "18e53d3d1a1f410faa62ef17b9807431": {
          "model_module": "@jupyter-widgets/controls",
          "model_name": "HBoxModel",
          "model_module_version": "1.5.0",
          "state": {
            "_dom_classes": [],
            "_model_module": "@jupyter-widgets/controls",
            "_model_module_version": "1.5.0",
            "_model_name": "HBoxModel",
            "_view_count": null,
            "_view_module": "@jupyter-widgets/controls",
            "_view_module_version": "1.5.0",
            "_view_name": "HBoxView",
            "box_style": "",
            "children": [
              "IPY_MODEL_71f2ca682f3e49d3b4a9da646f2a83b0",
              "IPY_MODEL_9ebe95c5f36b4892b2b181c14f7efc8a",
              "IPY_MODEL_5c32ae41e5ae42189e8fd15f8335ed97"
            ],
            "layout": "IPY_MODEL_c300666b40314d5c9845179f44d80c42"
          }
        },
        "71f2ca682f3e49d3b4a9da646f2a83b0": {
          "model_module": "@jupyter-widgets/controls",
          "model_name": "HTMLModel",
          "model_module_version": "1.5.0",
          "state": {
            "_dom_classes": [],
            "_model_module": "@jupyter-widgets/controls",
            "_model_module_version": "1.5.0",
            "_model_name": "HTMLModel",
            "_view_count": null,
            "_view_module": "@jupyter-widgets/controls",
            "_view_module_version": "1.5.0",
            "_view_name": "HTMLView",
            "description": "",
            "description_tooltip": null,
            "layout": "IPY_MODEL_50e22e611ecb4e63b57ff79d8e44b5fd",
            "placeholder": "​",
            "style": "IPY_MODEL_592d52834dfe494a9f1b00082db7eb04",
            "value": "  0%"
          }
        },
        "9ebe95c5f36b4892b2b181c14f7efc8a": {
          "model_module": "@jupyter-widgets/controls",
          "model_name": "FloatProgressModel",
          "model_module_version": "1.5.0",
          "state": {
            "_dom_classes": [],
            "_model_module": "@jupyter-widgets/controls",
            "_model_module_version": "1.5.0",
            "_model_name": "FloatProgressModel",
            "_view_count": null,
            "_view_module": "@jupyter-widgets/controls",
            "_view_module_version": "1.5.0",
            "_view_name": "ProgressView",
            "bar_style": "danger",
            "description": "",
            "description_tooltip": null,
            "layout": "IPY_MODEL_ee624116b14a4f8599ab6e141057804d",
            "max": 150,
            "min": 0,
            "orientation": "horizontal",
            "style": "IPY_MODEL_5474f46a1f504d20aff7f518ad24ef66",
            "value": 0
          }
        },
        "5c32ae41e5ae42189e8fd15f8335ed97": {
          "model_module": "@jupyter-widgets/controls",
          "model_name": "HTMLModel",
          "model_module_version": "1.5.0",
          "state": {
            "_dom_classes": [],
            "_model_module": "@jupyter-widgets/controls",
            "_model_module_version": "1.5.0",
            "_model_name": "HTMLModel",
            "_view_count": null,
            "_view_module": "@jupyter-widgets/controls",
            "_view_module_version": "1.5.0",
            "_view_name": "HTMLView",
            "description": "",
            "description_tooltip": null,
            "layout": "IPY_MODEL_2e0d8317a52c4a1484d924591ad554fc",
            "placeholder": "​",
            "style": "IPY_MODEL_7350f783f16045c6bc124d386881e9aa",
            "value": " 0/150 [00:00&lt;?, ?it/s]"
          }
        },
        "c300666b40314d5c9845179f44d80c42": {
          "model_module": "@jupyter-widgets/base",
          "model_name": "LayoutModel",
          "model_module_version": "1.2.0",
          "state": {
            "_model_module": "@jupyter-widgets/base",
            "_model_module_version": "1.2.0",
            "_model_name": "LayoutModel",
            "_view_count": null,
            "_view_module": "@jupyter-widgets/base",
            "_view_module_version": "1.2.0",
            "_view_name": "LayoutView",
            "align_content": null,
            "align_items": null,
            "align_self": null,
            "border": null,
            "bottom": null,
            "display": null,
            "flex": null,
            "flex_flow": null,
            "grid_area": null,
            "grid_auto_columns": null,
            "grid_auto_flow": null,
            "grid_auto_rows": null,
            "grid_column": null,
            "grid_gap": null,
            "grid_row": null,
            "grid_template_areas": null,
            "grid_template_columns": null,
            "grid_template_rows": null,
            "height": null,
            "justify_content": null,
            "justify_items": null,
            "left": null,
            "margin": null,
            "max_height": null,
            "max_width": null,
            "min_height": null,
            "min_width": null,
            "object_fit": null,
            "object_position": null,
            "order": null,
            "overflow": null,
            "overflow_x": null,
            "overflow_y": null,
            "padding": null,
            "right": null,
            "top": null,
            "visibility": null,
            "width": null
          }
        },
        "50e22e611ecb4e63b57ff79d8e44b5fd": {
          "model_module": "@jupyter-widgets/base",
          "model_name": "LayoutModel",
          "model_module_version": "1.2.0",
          "state": {
            "_model_module": "@jupyter-widgets/base",
            "_model_module_version": "1.2.0",
            "_model_name": "LayoutModel",
            "_view_count": null,
            "_view_module": "@jupyter-widgets/base",
            "_view_module_version": "1.2.0",
            "_view_name": "LayoutView",
            "align_content": null,
            "align_items": null,
            "align_self": null,
            "border": null,
            "bottom": null,
            "display": null,
            "flex": null,
            "flex_flow": null,
            "grid_area": null,
            "grid_auto_columns": null,
            "grid_auto_flow": null,
            "grid_auto_rows": null,
            "grid_column": null,
            "grid_gap": null,
            "grid_row": null,
            "grid_template_areas": null,
            "grid_template_columns": null,
            "grid_template_rows": null,
            "height": null,
            "justify_content": null,
            "justify_items": null,
            "left": null,
            "margin": null,
            "max_height": null,
            "max_width": null,
            "min_height": null,
            "min_width": null,
            "object_fit": null,
            "object_position": null,
            "order": null,
            "overflow": null,
            "overflow_x": null,
            "overflow_y": null,
            "padding": null,
            "right": null,
            "top": null,
            "visibility": null,
            "width": null
          }
        },
        "592d52834dfe494a9f1b00082db7eb04": {
          "model_module": "@jupyter-widgets/controls",
          "model_name": "DescriptionStyleModel",
          "model_module_version": "1.5.0",
          "state": {
            "_model_module": "@jupyter-widgets/controls",
            "_model_module_version": "1.5.0",
            "_model_name": "DescriptionStyleModel",
            "_view_count": null,
            "_view_module": "@jupyter-widgets/base",
            "_view_module_version": "1.2.0",
            "_view_name": "StyleView",
            "description_width": ""
          }
        },
        "ee624116b14a4f8599ab6e141057804d": {
          "model_module": "@jupyter-widgets/base",
          "model_name": "LayoutModel",
          "model_module_version": "1.2.0",
          "state": {
            "_model_module": "@jupyter-widgets/base",
            "_model_module_version": "1.2.0",
            "_model_name": "LayoutModel",
            "_view_count": null,
            "_view_module": "@jupyter-widgets/base",
            "_view_module_version": "1.2.0",
            "_view_name": "LayoutView",
            "align_content": null,
            "align_items": null,
            "align_self": null,
            "border": null,
            "bottom": null,
            "display": null,
            "flex": null,
            "flex_flow": null,
            "grid_area": null,
            "grid_auto_columns": null,
            "grid_auto_flow": null,
            "grid_auto_rows": null,
            "grid_column": null,
            "grid_gap": null,
            "grid_row": null,
            "grid_template_areas": null,
            "grid_template_columns": null,
            "grid_template_rows": null,
            "height": null,
            "justify_content": null,
            "justify_items": null,
            "left": null,
            "margin": null,
            "max_height": null,
            "max_width": null,
            "min_height": null,
            "min_width": null,
            "object_fit": null,
            "object_position": null,
            "order": null,
            "overflow": null,
            "overflow_x": null,
            "overflow_y": null,
            "padding": null,
            "right": null,
            "top": null,
            "visibility": null,
            "width": null
          }
        },
        "5474f46a1f504d20aff7f518ad24ef66": {
          "model_module": "@jupyter-widgets/controls",
          "model_name": "ProgressStyleModel",
          "model_module_version": "1.5.0",
          "state": {
            "_model_module": "@jupyter-widgets/controls",
            "_model_module_version": "1.5.0",
            "_model_name": "ProgressStyleModel",
            "_view_count": null,
            "_view_module": "@jupyter-widgets/base",
            "_view_module_version": "1.2.0",
            "_view_name": "StyleView",
            "bar_color": null,
            "description_width": ""
          }
        },
        "2e0d8317a52c4a1484d924591ad554fc": {
          "model_module": "@jupyter-widgets/base",
          "model_name": "LayoutModel",
          "model_module_version": "1.2.0",
          "state": {
            "_model_module": "@jupyter-widgets/base",
            "_model_module_version": "1.2.0",
            "_model_name": "LayoutModel",
            "_view_count": null,
            "_view_module": "@jupyter-widgets/base",
            "_view_module_version": "1.2.0",
            "_view_name": "LayoutView",
            "align_content": null,
            "align_items": null,
            "align_self": null,
            "border": null,
            "bottom": null,
            "display": null,
            "flex": null,
            "flex_flow": null,
            "grid_area": null,
            "grid_auto_columns": null,
            "grid_auto_flow": null,
            "grid_auto_rows": null,
            "grid_column": null,
            "grid_gap": null,
            "grid_row": null,
            "grid_template_areas": null,
            "grid_template_columns": null,
            "grid_template_rows": null,
            "height": null,
            "justify_content": null,
            "justify_items": null,
            "left": null,
            "margin": null,
            "max_height": null,
            "max_width": null,
            "min_height": null,
            "min_width": null,
            "object_fit": null,
            "object_position": null,
            "order": null,
            "overflow": null,
            "overflow_x": null,
            "overflow_y": null,
            "padding": null,
            "right": null,
            "top": null,
            "visibility": null,
            "width": null
          }
        },
        "7350f783f16045c6bc124d386881e9aa": {
          "model_module": "@jupyter-widgets/controls",
          "model_name": "DescriptionStyleModel",
          "model_module_version": "1.5.0",
          "state": {
            "_model_module": "@jupyter-widgets/controls",
            "_model_module_version": "1.5.0",
            "_model_name": "DescriptionStyleModel",
            "_view_count": null,
            "_view_module": "@jupyter-widgets/base",
            "_view_module_version": "1.2.0",
            "_view_name": "StyleView",
            "description_width": ""
          }
        },
        "7d9a37828b0b46efa93c06d97a6380d7": {
          "model_module": "@jupyter-widgets/controls",
          "model_name": "HBoxModel",
          "model_module_version": "1.5.0",
          "state": {
            "_dom_classes": [],
            "_model_module": "@jupyter-widgets/controls",
            "_model_module_version": "1.5.0",
            "_model_name": "HBoxModel",
            "_view_count": null,
            "_view_module": "@jupyter-widgets/controls",
            "_view_module_version": "1.5.0",
            "_view_name": "HBoxView",
            "box_style": "",
            "children": [
              "IPY_MODEL_84e2d4cc1c694a2d8d750d1bb821a67c",
              "IPY_MODEL_c3d0f9710bde49d0938b3dad046f9914",
              "IPY_MODEL_de14f18bfb4c470d97998fe98bf99752"
            ],
            "layout": "IPY_MODEL_7fa6bd1640e74591945afe45d5d66a4e"
          }
        },
        "84e2d4cc1c694a2d8d750d1bb821a67c": {
          "model_module": "@jupyter-widgets/controls",
          "model_name": "HTMLModel",
          "model_module_version": "1.5.0",
          "state": {
            "_dom_classes": [],
            "_model_module": "@jupyter-widgets/controls",
            "_model_module_version": "1.5.0",
            "_model_name": "HTMLModel",
            "_view_count": null,
            "_view_module": "@jupyter-widgets/controls",
            "_view_module_version": "1.5.0",
            "_view_name": "HTMLView",
            "description": "",
            "description_tooltip": null,
            "layout": "IPY_MODEL_12730ba5ec0146c8b2d52ce4a24a4bf9",
            "placeholder": "​",
            "style": "IPY_MODEL_3eb65aa7c6384b678d36b9849a8ee7ec",
            "value": "100%"
          }
        },
        "c3d0f9710bde49d0938b3dad046f9914": {
          "model_module": "@jupyter-widgets/controls",
          "model_name": "FloatProgressModel",
          "model_module_version": "1.5.0",
          "state": {
            "_dom_classes": [],
            "_model_module": "@jupyter-widgets/controls",
            "_model_module_version": "1.5.0",
            "_model_name": "FloatProgressModel",
            "_view_count": null,
            "_view_module": "@jupyter-widgets/controls",
            "_view_module_version": "1.5.0",
            "_view_name": "ProgressView",
            "bar_style": "success",
            "description": "",
            "description_tooltip": null,
            "layout": "IPY_MODEL_eceacd5509d9415da1aa495ab309355f",
            "max": 150,
            "min": 0,
            "orientation": "horizontal",
            "style": "IPY_MODEL_45e795036e174660b9b9a860151ac72e",
            "value": 150
          }
        },
        "de14f18bfb4c470d97998fe98bf99752": {
          "model_module": "@jupyter-widgets/controls",
          "model_name": "HTMLModel",
          "model_module_version": "1.5.0",
          "state": {
            "_dom_classes": [],
            "_model_module": "@jupyter-widgets/controls",
            "_model_module_version": "1.5.0",
            "_model_name": "HTMLModel",
            "_view_count": null,
            "_view_module": "@jupyter-widgets/controls",
            "_view_module_version": "1.5.0",
            "_view_name": "HTMLView",
            "description": "",
            "description_tooltip": null,
            "layout": "IPY_MODEL_cb0216cb4206445894af2537f789d172",
            "placeholder": "​",
            "style": "IPY_MODEL_b84c3d83814341fd94e7b446f6c898e6",
            "value": " 150/150 [02:45&lt;00:00,  1.02s/it]"
          }
        },
        "7fa6bd1640e74591945afe45d5d66a4e": {
          "model_module": "@jupyter-widgets/base",
          "model_name": "LayoutModel",
          "model_module_version": "1.2.0",
          "state": {
            "_model_module": "@jupyter-widgets/base",
            "_model_module_version": "1.2.0",
            "_model_name": "LayoutModel",
            "_view_count": null,
            "_view_module": "@jupyter-widgets/base",
            "_view_module_version": "1.2.0",
            "_view_name": "LayoutView",
            "align_content": null,
            "align_items": null,
            "align_self": null,
            "border": null,
            "bottom": null,
            "display": null,
            "flex": null,
            "flex_flow": null,
            "grid_area": null,
            "grid_auto_columns": null,
            "grid_auto_flow": null,
            "grid_auto_rows": null,
            "grid_column": null,
            "grid_gap": null,
            "grid_row": null,
            "grid_template_areas": null,
            "grid_template_columns": null,
            "grid_template_rows": null,
            "height": null,
            "justify_content": null,
            "justify_items": null,
            "left": null,
            "margin": null,
            "max_height": null,
            "max_width": null,
            "min_height": null,
            "min_width": null,
            "object_fit": null,
            "object_position": null,
            "order": null,
            "overflow": null,
            "overflow_x": null,
            "overflow_y": null,
            "padding": null,
            "right": null,
            "top": null,
            "visibility": null,
            "width": null
          }
        },
        "12730ba5ec0146c8b2d52ce4a24a4bf9": {
          "model_module": "@jupyter-widgets/base",
          "model_name": "LayoutModel",
          "model_module_version": "1.2.0",
          "state": {
            "_model_module": "@jupyter-widgets/base",
            "_model_module_version": "1.2.0",
            "_model_name": "LayoutModel",
            "_view_count": null,
            "_view_module": "@jupyter-widgets/base",
            "_view_module_version": "1.2.0",
            "_view_name": "LayoutView",
            "align_content": null,
            "align_items": null,
            "align_self": null,
            "border": null,
            "bottom": null,
            "display": null,
            "flex": null,
            "flex_flow": null,
            "grid_area": null,
            "grid_auto_columns": null,
            "grid_auto_flow": null,
            "grid_auto_rows": null,
            "grid_column": null,
            "grid_gap": null,
            "grid_row": null,
            "grid_template_areas": null,
            "grid_template_columns": null,
            "grid_template_rows": null,
            "height": null,
            "justify_content": null,
            "justify_items": null,
            "left": null,
            "margin": null,
            "max_height": null,
            "max_width": null,
            "min_height": null,
            "min_width": null,
            "object_fit": null,
            "object_position": null,
            "order": null,
            "overflow": null,
            "overflow_x": null,
            "overflow_y": null,
            "padding": null,
            "right": null,
            "top": null,
            "visibility": null,
            "width": null
          }
        },
        "3eb65aa7c6384b678d36b9849a8ee7ec": {
          "model_module": "@jupyter-widgets/controls",
          "model_name": "DescriptionStyleModel",
          "model_module_version": "1.5.0",
          "state": {
            "_model_module": "@jupyter-widgets/controls",
            "_model_module_version": "1.5.0",
            "_model_name": "DescriptionStyleModel",
            "_view_count": null,
            "_view_module": "@jupyter-widgets/base",
            "_view_module_version": "1.2.0",
            "_view_name": "StyleView",
            "description_width": ""
          }
        },
        "eceacd5509d9415da1aa495ab309355f": {
          "model_module": "@jupyter-widgets/base",
          "model_name": "LayoutModel",
          "model_module_version": "1.2.0",
          "state": {
            "_model_module": "@jupyter-widgets/base",
            "_model_module_version": "1.2.0",
            "_model_name": "LayoutModel",
            "_view_count": null,
            "_view_module": "@jupyter-widgets/base",
            "_view_module_version": "1.2.0",
            "_view_name": "LayoutView",
            "align_content": null,
            "align_items": null,
            "align_self": null,
            "border": null,
            "bottom": null,
            "display": null,
            "flex": null,
            "flex_flow": null,
            "grid_area": null,
            "grid_auto_columns": null,
            "grid_auto_flow": null,
            "grid_auto_rows": null,
            "grid_column": null,
            "grid_gap": null,
            "grid_row": null,
            "grid_template_areas": null,
            "grid_template_columns": null,
            "grid_template_rows": null,
            "height": null,
            "justify_content": null,
            "justify_items": null,
            "left": null,
            "margin": null,
            "max_height": null,
            "max_width": null,
            "min_height": null,
            "min_width": null,
            "object_fit": null,
            "object_position": null,
            "order": null,
            "overflow": null,
            "overflow_x": null,
            "overflow_y": null,
            "padding": null,
            "right": null,
            "top": null,
            "visibility": null,
            "width": null
          }
        },
        "45e795036e174660b9b9a860151ac72e": {
          "model_module": "@jupyter-widgets/controls",
          "model_name": "ProgressStyleModel",
          "model_module_version": "1.5.0",
          "state": {
            "_model_module": "@jupyter-widgets/controls",
            "_model_module_version": "1.5.0",
            "_model_name": "ProgressStyleModel",
            "_view_count": null,
            "_view_module": "@jupyter-widgets/base",
            "_view_module_version": "1.2.0",
            "_view_name": "StyleView",
            "bar_color": null,
            "description_width": ""
          }
        },
        "cb0216cb4206445894af2537f789d172": {
          "model_module": "@jupyter-widgets/base",
          "model_name": "LayoutModel",
          "model_module_version": "1.2.0",
          "state": {
            "_model_module": "@jupyter-widgets/base",
            "_model_module_version": "1.2.0",
            "_model_name": "LayoutModel",
            "_view_count": null,
            "_view_module": "@jupyter-widgets/base",
            "_view_module_version": "1.2.0",
            "_view_name": "LayoutView",
            "align_content": null,
            "align_items": null,
            "align_self": null,
            "border": null,
            "bottom": null,
            "display": null,
            "flex": null,
            "flex_flow": null,
            "grid_area": null,
            "grid_auto_columns": null,
            "grid_auto_flow": null,
            "grid_auto_rows": null,
            "grid_column": null,
            "grid_gap": null,
            "grid_row": null,
            "grid_template_areas": null,
            "grid_template_columns": null,
            "grid_template_rows": null,
            "height": null,
            "justify_content": null,
            "justify_items": null,
            "left": null,
            "margin": null,
            "max_height": null,
            "max_width": null,
            "min_height": null,
            "min_width": null,
            "object_fit": null,
            "object_position": null,
            "order": null,
            "overflow": null,
            "overflow_x": null,
            "overflow_y": null,
            "padding": null,
            "right": null,
            "top": null,
            "visibility": null,
            "width": null
          }
        },
        "b84c3d83814341fd94e7b446f6c898e6": {
          "model_module": "@jupyter-widgets/controls",
          "model_name": "DescriptionStyleModel",
          "model_module_version": "1.5.0",
          "state": {
            "_model_module": "@jupyter-widgets/controls",
            "_model_module_version": "1.5.0",
            "_model_name": "DescriptionStyleModel",
            "_view_count": null,
            "_view_module": "@jupyter-widgets/base",
            "_view_module_version": "1.2.0",
            "_view_name": "StyleView",
            "description_width": ""
          }
        }
      }
    }
  },
  "cells": [
    {
      "cell_type": "markdown",
      "metadata": {
        "id": "view-in-github",
        "colab_type": "text"
      },
      "source": [
        "<a href=\"https://colab.research.google.com/github/lnsayer/personal_repo/blob/main/drug%20discovery%20with%20BACE%20dataset/graph_classification_bace_dataset.ipynb\" target=\"_parent\"><img src=\"https://colab.research.google.com/assets/colab-badge.svg\" alt=\"Open In Colab\"/></a>"
      ]
    },
    {
      "cell_type": "code",
      "source": [
        "# Install necessary packages\n",
        "!pip install rdkit\n",
        "!pip install torch_geometric\n",
        "!pip install deepchem\n",
        "!pip install networkx\n",
        "!pip install torchmetrics"
      ],
      "metadata": {
        "colab": {
          "base_uri": "https://localhost:8080/"
        },
        "id": "axXnWUEc_e4p",
        "outputId": "7c60209a-02a4-4d36-ac8c-1b94d1915c6e"
      },
      "execution_count": 53,
      "outputs": [
        {
          "output_type": "stream",
          "name": "stdout",
          "text": [
            "Requirement already satisfied: rdkit in /usr/local/lib/python3.10/dist-packages (2023.9.6)\n",
            "Requirement already satisfied: numpy in /usr/local/lib/python3.10/dist-packages (from rdkit) (1.25.2)\n",
            "Requirement already satisfied: Pillow in /usr/local/lib/python3.10/dist-packages (from rdkit) (9.4.0)\n",
            "Requirement already satisfied: torch_geometric in /usr/local/lib/python3.10/dist-packages (2.5.3)\n",
            "Requirement already satisfied: tqdm in /usr/local/lib/python3.10/dist-packages (from torch_geometric) (4.66.4)\n",
            "Requirement already satisfied: numpy in /usr/local/lib/python3.10/dist-packages (from torch_geometric) (1.25.2)\n",
            "Requirement already satisfied: scipy in /usr/local/lib/python3.10/dist-packages (from torch_geometric) (1.11.4)\n",
            "Requirement already satisfied: fsspec in /usr/local/lib/python3.10/dist-packages (from torch_geometric) (2023.6.0)\n",
            "Requirement already satisfied: jinja2 in /usr/local/lib/python3.10/dist-packages (from torch_geometric) (3.1.4)\n",
            "Requirement already satisfied: aiohttp in /usr/local/lib/python3.10/dist-packages (from torch_geometric) (3.9.5)\n",
            "Requirement already satisfied: requests in /usr/local/lib/python3.10/dist-packages (from torch_geometric) (2.31.0)\n",
            "Requirement already satisfied: pyparsing in /usr/local/lib/python3.10/dist-packages (from torch_geometric) (3.1.2)\n",
            "Requirement already satisfied: scikit-learn in /usr/local/lib/python3.10/dist-packages (from torch_geometric) (1.2.2)\n",
            "Requirement already satisfied: psutil>=5.8.0 in /usr/local/lib/python3.10/dist-packages (from torch_geometric) (5.9.5)\n",
            "Requirement already satisfied: aiosignal>=1.1.2 in /usr/local/lib/python3.10/dist-packages (from aiohttp->torch_geometric) (1.3.1)\n",
            "Requirement already satisfied: attrs>=17.3.0 in /usr/local/lib/python3.10/dist-packages (from aiohttp->torch_geometric) (23.2.0)\n",
            "Requirement already satisfied: frozenlist>=1.1.1 in /usr/local/lib/python3.10/dist-packages (from aiohttp->torch_geometric) (1.4.1)\n",
            "Requirement already satisfied: multidict<7.0,>=4.5 in /usr/local/lib/python3.10/dist-packages (from aiohttp->torch_geometric) (6.0.5)\n",
            "Requirement already satisfied: yarl<2.0,>=1.0 in /usr/local/lib/python3.10/dist-packages (from aiohttp->torch_geometric) (1.9.4)\n",
            "Requirement already satisfied: async-timeout<5.0,>=4.0 in /usr/local/lib/python3.10/dist-packages (from aiohttp->torch_geometric) (4.0.3)\n",
            "Requirement already satisfied: MarkupSafe>=2.0 in /usr/local/lib/python3.10/dist-packages (from jinja2->torch_geometric) (2.1.5)\n",
            "Requirement already satisfied: charset-normalizer<4,>=2 in /usr/local/lib/python3.10/dist-packages (from requests->torch_geometric) (3.3.2)\n",
            "Requirement already satisfied: idna<4,>=2.5 in /usr/local/lib/python3.10/dist-packages (from requests->torch_geometric) (3.7)\n",
            "Requirement already satisfied: urllib3<3,>=1.21.1 in /usr/local/lib/python3.10/dist-packages (from requests->torch_geometric) (2.0.7)\n",
            "Requirement already satisfied: certifi>=2017.4.17 in /usr/local/lib/python3.10/dist-packages (from requests->torch_geometric) (2024.6.2)\n",
            "Requirement already satisfied: joblib>=1.1.1 in /usr/local/lib/python3.10/dist-packages (from scikit-learn->torch_geometric) (1.4.2)\n",
            "Requirement already satisfied: threadpoolctl>=2.0.0 in /usr/local/lib/python3.10/dist-packages (from scikit-learn->torch_geometric) (3.5.0)\n",
            "Requirement already satisfied: deepchem in /usr/local/lib/python3.10/dist-packages (2.8.0)\n",
            "Requirement already satisfied: joblib in /usr/local/lib/python3.10/dist-packages (from deepchem) (1.4.2)\n",
            "Requirement already satisfied: numpy>=1.21 in /usr/local/lib/python3.10/dist-packages (from deepchem) (1.25.2)\n",
            "Requirement already satisfied: pandas in /usr/local/lib/python3.10/dist-packages (from deepchem) (2.0.3)\n",
            "Requirement already satisfied: scikit-learn in /usr/local/lib/python3.10/dist-packages (from deepchem) (1.2.2)\n",
            "Requirement already satisfied: sympy in /usr/local/lib/python3.10/dist-packages (from deepchem) (1.12.1)\n",
            "Requirement already satisfied: scipy>=1.10.1 in /usr/local/lib/python3.10/dist-packages (from deepchem) (1.11.4)\n",
            "Requirement already satisfied: rdkit in /usr/local/lib/python3.10/dist-packages (from deepchem) (2023.9.6)\n",
            "Requirement already satisfied: python-dateutil>=2.8.2 in /usr/local/lib/python3.10/dist-packages (from pandas->deepchem) (2.8.2)\n",
            "Requirement already satisfied: pytz>=2020.1 in /usr/local/lib/python3.10/dist-packages (from pandas->deepchem) (2023.4)\n",
            "Requirement already satisfied: tzdata>=2022.1 in /usr/local/lib/python3.10/dist-packages (from pandas->deepchem) (2024.1)\n",
            "Requirement already satisfied: Pillow in /usr/local/lib/python3.10/dist-packages (from rdkit->deepchem) (9.4.0)\n",
            "Requirement already satisfied: threadpoolctl>=2.0.0 in /usr/local/lib/python3.10/dist-packages (from scikit-learn->deepchem) (3.5.0)\n",
            "Requirement already satisfied: mpmath<1.4.0,>=1.1.0 in /usr/local/lib/python3.10/dist-packages (from sympy->deepchem) (1.3.0)\n",
            "Requirement already satisfied: six>=1.5 in /usr/local/lib/python3.10/dist-packages (from python-dateutil>=2.8.2->pandas->deepchem) (1.16.0)\n",
            "Requirement already satisfied: networkx in /usr/local/lib/python3.10/dist-packages (3.3)\n",
            "Requirement already satisfied: torchmetrics in /usr/local/lib/python3.10/dist-packages (1.4.0.post0)\n",
            "Requirement already satisfied: numpy>1.20.0 in /usr/local/lib/python3.10/dist-packages (from torchmetrics) (1.25.2)\n",
            "Requirement already satisfied: packaging>17.1 in /usr/local/lib/python3.10/dist-packages (from torchmetrics) (24.0)\n",
            "Requirement already satisfied: torch>=1.10.0 in /usr/local/lib/python3.10/dist-packages (from torchmetrics) (2.3.0+cu121)\n",
            "Requirement already satisfied: lightning-utilities>=0.8.0 in /usr/local/lib/python3.10/dist-packages (from torchmetrics) (0.11.2)\n",
            "Requirement already satisfied: setuptools in /usr/local/lib/python3.10/dist-packages (from lightning-utilities>=0.8.0->torchmetrics) (67.7.2)\n",
            "Requirement already satisfied: typing-extensions in /usr/local/lib/python3.10/dist-packages (from lightning-utilities>=0.8.0->torchmetrics) (4.12.1)\n",
            "Requirement already satisfied: filelock in /usr/local/lib/python3.10/dist-packages (from torch>=1.10.0->torchmetrics) (3.14.0)\n",
            "Requirement already satisfied: sympy in /usr/local/lib/python3.10/dist-packages (from torch>=1.10.0->torchmetrics) (1.12.1)\n",
            "Requirement already satisfied: networkx in /usr/local/lib/python3.10/dist-packages (from torch>=1.10.0->torchmetrics) (3.3)\n",
            "Requirement already satisfied: jinja2 in /usr/local/lib/python3.10/dist-packages (from torch>=1.10.0->torchmetrics) (3.1.4)\n",
            "Requirement already satisfied: fsspec in /usr/local/lib/python3.10/dist-packages (from torch>=1.10.0->torchmetrics) (2023.6.0)\n",
            "Requirement already satisfied: nvidia-cuda-nvrtc-cu12==12.1.105 in /usr/local/lib/python3.10/dist-packages (from torch>=1.10.0->torchmetrics) (12.1.105)\n",
            "Requirement already satisfied: nvidia-cuda-runtime-cu12==12.1.105 in /usr/local/lib/python3.10/dist-packages (from torch>=1.10.0->torchmetrics) (12.1.105)\n",
            "Requirement already satisfied: nvidia-cuda-cupti-cu12==12.1.105 in /usr/local/lib/python3.10/dist-packages (from torch>=1.10.0->torchmetrics) (12.1.105)\n",
            "Requirement already satisfied: nvidia-cudnn-cu12==8.9.2.26 in /usr/local/lib/python3.10/dist-packages (from torch>=1.10.0->torchmetrics) (8.9.2.26)\n",
            "Requirement already satisfied: nvidia-cublas-cu12==12.1.3.1 in /usr/local/lib/python3.10/dist-packages (from torch>=1.10.0->torchmetrics) (12.1.3.1)\n",
            "Requirement already satisfied: nvidia-cufft-cu12==11.0.2.54 in /usr/local/lib/python3.10/dist-packages (from torch>=1.10.0->torchmetrics) (11.0.2.54)\n",
            "Requirement already satisfied: nvidia-curand-cu12==10.3.2.106 in /usr/local/lib/python3.10/dist-packages (from torch>=1.10.0->torchmetrics) (10.3.2.106)\n",
            "Requirement already satisfied: nvidia-cusolver-cu12==11.4.5.107 in /usr/local/lib/python3.10/dist-packages (from torch>=1.10.0->torchmetrics) (11.4.5.107)\n",
            "Requirement already satisfied: nvidia-cusparse-cu12==12.1.0.106 in /usr/local/lib/python3.10/dist-packages (from torch>=1.10.0->torchmetrics) (12.1.0.106)\n",
            "Requirement already satisfied: nvidia-nccl-cu12==2.20.5 in /usr/local/lib/python3.10/dist-packages (from torch>=1.10.0->torchmetrics) (2.20.5)\n",
            "Requirement already satisfied: nvidia-nvtx-cu12==12.1.105 in /usr/local/lib/python3.10/dist-packages (from torch>=1.10.0->torchmetrics) (12.1.105)\n",
            "Requirement already satisfied: triton==2.3.0 in /usr/local/lib/python3.10/dist-packages (from torch>=1.10.0->torchmetrics) (2.3.0)\n",
            "Requirement already satisfied: nvidia-nvjitlink-cu12 in /usr/local/lib/python3.10/dist-packages (from nvidia-cusolver-cu12==11.4.5.107->torch>=1.10.0->torchmetrics) (12.5.40)\n",
            "Requirement already satisfied: MarkupSafe>=2.0 in /usr/local/lib/python3.10/dist-packages (from jinja2->torch>=1.10.0->torchmetrics) (2.1.5)\n",
            "Requirement already satisfied: mpmath<1.4.0,>=1.1.0 in /usr/local/lib/python3.10/dist-packages (from sympy->torch>=1.10.0->torchmetrics) (1.3.0)\n"
          ]
        }
      ]
    },
    {
      "cell_type": "code",
      "execution_count": 114,
      "metadata": {
        "id": "SEOOvseDz99l"
      },
      "outputs": [],
      "source": [
        "# Import necessary modules\n",
        "import requests\n",
        "from pathlib import Path\n",
        "import os.path as osp\n",
        "\n",
        "from rdkit import Chem\n",
        "from rdkit.Chem import Draw\n",
        "\n",
        "import torch\n",
        "import torch_geometric\n",
        "from torch_geometric.data import InMemoryDataset, Dataset, Data\n",
        "from torch_geometric.loader import DataLoader\n",
        "from torch_geometric.nn import GCNConv, global_mean_pool, GraphConv, GATConv, MLP, GINConv, global_max_pool, SAGPooling, TopKPooling\n",
        "from torch.nn import Linear, ReLU, Dropout, Softmax\n",
        "import torch.nn as nn\n",
        "import torch.nn.functional as F\n",
        "from torchmetrics.classification import BinaryAUROC, BinaryPrecision, BinaryRecall\n",
        "\n",
        "\n",
        "import deepchem as dc\n",
        "from deepchem.feat.graph_data import GraphData\n",
        "\n",
        "import numpy as np\n",
        "import pandas as pd\n",
        "import matplotlib.pyplot as plt\n",
        "from sklearn.metrics import classification_report\n",
        "from pandas import DataFrame\n",
        "\n",
        "import networkx as nx\n",
        "\n",
        "import random\n",
        "\n",
        "from tqdm.auto import tqdm\n",
        "\n",
        "from IPython.display import Javascript"
      ]
    },
    {
      "cell_type": "code",
      "source": [
        "# Specify Paths to where data is stored (will have raw and processed files)\n",
        "data_path = Path(\"data/\")\n",
        "bace_path = data_path / \"raw\"\n",
        "\n",
        "print(type(bace_path))\n",
        "print(bace_path)"
      ],
      "metadata": {
        "id": "mYmKzoV11Bt3",
        "colab": {
          "base_uri": "https://localhost:8080/"
        },
        "outputId": "dd62afc3-2626-4d85-c5bf-513fde823d38"
      },
      "execution_count": 55,
      "outputs": [
        {
          "output_type": "stream",
          "name": "stdout",
          "text": [
            "<class 'pathlib.PosixPath'>\n",
            "data/raw\n"
          ]
        }
      ]
    },
    {
      "cell_type": "code",
      "source": [
        "# Check if Bace csv file has been downloaded, if not, download it\n",
        "if bace_path.is_dir():\n",
        "  print(f\"{bace_path} is already a directory\")\n",
        "else:\n",
        "  print(f\"{bace_path} is not a directory, creating one\")\n",
        "  bace_path.mkdir(parents=True, exist_ok=True)\n",
        "\n",
        "  with open(bace_path / \"bace.csv\", \"wb\") as f:\n",
        "    request = requests.get(\"https://raw.githubusercontent.com/lnsayer/personal_repo/main/drug%20discovery%20with%20BACE%20dataset/data/bace.csv\")\n",
        "    print(\"Downloading data\")\n",
        "    f.write(request.content)"
      ],
      "metadata": {
        "id": "ks0Nb2ZM4jwj",
        "colab": {
          "base_uri": "https://localhost:8080/"
        },
        "outputId": "11aadac0-9449-4869-f196-4acf6c37b9e5"
      },
      "execution_count": 56,
      "outputs": [
        {
          "output_type": "stream",
          "name": "stdout",
          "text": [
            "data/raw is already a directory\n"
          ]
        }
      ]
    },
    {
      "cell_type": "code",
      "source": [
        "# Turn CSV file into a dataframe and resave it without unnecessary columns\n",
        "bace_df = pd.read_csv(bace_path/ \"bace.csv\")\n",
        "bace_df = bace_df[[\"mol\", \"CID\", \"Class\", \"Model\", \"pIC50\"]]\n",
        "bace_df.to_csv(bace_path/\"bace.csv\")\n",
        "\n",
        "bace_df"
      ],
      "metadata": {
        "id": "QGSRTJ4X44Bs",
        "colab": {
          "base_uri": "https://localhost:8080/",
          "height": 424
        },
        "outputId": "a87862f1-e160-4cd5-b951-96b0c53b3499"
      },
      "execution_count": 57,
      "outputs": [
        {
          "output_type": "execute_result",
          "data": {
            "text/plain": [
              "                                                    mol        CID  Class  \\\n",
              "0     O1CC[C@@H](NC(=O)[C@@H](Cc2cc3cc(ccc3nc2N)-c2c...     BACE_1      1   \n",
              "1     Fc1cc(cc(F)c1)C[C@H](NC(=O)[C@@H](N1CC[C@](NC(...     BACE_2      1   \n",
              "2     S1(=O)(=O)N(c2cc(cc3c2n(cc3CC)CC1)C(=O)N[C@H](...     BACE_3      1   \n",
              "3     S1(=O)(=O)C[C@@H](Cc2cc(O[C@H](COCC)C(F)(F)F)c...     BACE_4      1   \n",
              "4     S1(=O)(=O)N(c2cc(cc3c2n(cc3CC)CC1)C(=O)N[C@H](...     BACE_5      1   \n",
              "...                                                 ...        ...    ...   \n",
              "1508          Clc1cc2nc(n(c2cc1)C(CC(=O)NCC1CCOCC1)CC)N  BACE_1543      0   \n",
              "1509          Clc1cc2nc(n(c2cc1)C(CC(=O)NCc1ncccc1)CC)N  BACE_1544      0   \n",
              "1510             Brc1cc(ccc1)C1CC1C=1N=C(N)N(C)C(=O)C=1  BACE_1545      0   \n",
              "1511       O=C1N(C)C(=NC(=C1)C1CC1c1cc(ccc1)-c1ccccc1)N  BACE_1546      0   \n",
              "1512                Clc1cc2nc(n(c2cc1)CCCC(=O)NCC1CC1)N  BACE_1547      0   \n",
              "\n",
              "      Model     pIC50  \n",
              "0     Train  9.154901  \n",
              "1     Train  8.853872  \n",
              "2     Train  8.698970  \n",
              "3     Train  8.698970  \n",
              "4     Train  8.698970  \n",
              "...     ...       ...  \n",
              "1508   Test  3.000000  \n",
              "1509   Test  3.000000  \n",
              "1510   Test  2.953115  \n",
              "1511   Test  2.733298  \n",
              "1512   Test  2.544546  \n",
              "\n",
              "[1513 rows x 5 columns]"
            ],
            "text/html": [
              "\n",
              "  <div id=\"df-cb219b5f-6fb8-4aa3-91d2-7435ae9813f4\" class=\"colab-df-container\">\n",
              "    <div>\n",
              "<style scoped>\n",
              "    .dataframe tbody tr th:only-of-type {\n",
              "        vertical-align: middle;\n",
              "    }\n",
              "\n",
              "    .dataframe tbody tr th {\n",
              "        vertical-align: top;\n",
              "    }\n",
              "\n",
              "    .dataframe thead th {\n",
              "        text-align: right;\n",
              "    }\n",
              "</style>\n",
              "<table border=\"1\" class=\"dataframe\">\n",
              "  <thead>\n",
              "    <tr style=\"text-align: right;\">\n",
              "      <th></th>\n",
              "      <th>mol</th>\n",
              "      <th>CID</th>\n",
              "      <th>Class</th>\n",
              "      <th>Model</th>\n",
              "      <th>pIC50</th>\n",
              "    </tr>\n",
              "  </thead>\n",
              "  <tbody>\n",
              "    <tr>\n",
              "      <th>0</th>\n",
              "      <td>O1CC[C@@H](NC(=O)[C@@H](Cc2cc3cc(ccc3nc2N)-c2c...</td>\n",
              "      <td>BACE_1</td>\n",
              "      <td>1</td>\n",
              "      <td>Train</td>\n",
              "      <td>9.154901</td>\n",
              "    </tr>\n",
              "    <tr>\n",
              "      <th>1</th>\n",
              "      <td>Fc1cc(cc(F)c1)C[C@H](NC(=O)[C@@H](N1CC[C@](NC(...</td>\n",
              "      <td>BACE_2</td>\n",
              "      <td>1</td>\n",
              "      <td>Train</td>\n",
              "      <td>8.853872</td>\n",
              "    </tr>\n",
              "    <tr>\n",
              "      <th>2</th>\n",
              "      <td>S1(=O)(=O)N(c2cc(cc3c2n(cc3CC)CC1)C(=O)N[C@H](...</td>\n",
              "      <td>BACE_3</td>\n",
              "      <td>1</td>\n",
              "      <td>Train</td>\n",
              "      <td>8.698970</td>\n",
              "    </tr>\n",
              "    <tr>\n",
              "      <th>3</th>\n",
              "      <td>S1(=O)(=O)C[C@@H](Cc2cc(O[C@H](COCC)C(F)(F)F)c...</td>\n",
              "      <td>BACE_4</td>\n",
              "      <td>1</td>\n",
              "      <td>Train</td>\n",
              "      <td>8.698970</td>\n",
              "    </tr>\n",
              "    <tr>\n",
              "      <th>4</th>\n",
              "      <td>S1(=O)(=O)N(c2cc(cc3c2n(cc3CC)CC1)C(=O)N[C@H](...</td>\n",
              "      <td>BACE_5</td>\n",
              "      <td>1</td>\n",
              "      <td>Train</td>\n",
              "      <td>8.698970</td>\n",
              "    </tr>\n",
              "    <tr>\n",
              "      <th>...</th>\n",
              "      <td>...</td>\n",
              "      <td>...</td>\n",
              "      <td>...</td>\n",
              "      <td>...</td>\n",
              "      <td>...</td>\n",
              "    </tr>\n",
              "    <tr>\n",
              "      <th>1508</th>\n",
              "      <td>Clc1cc2nc(n(c2cc1)C(CC(=O)NCC1CCOCC1)CC)N</td>\n",
              "      <td>BACE_1543</td>\n",
              "      <td>0</td>\n",
              "      <td>Test</td>\n",
              "      <td>3.000000</td>\n",
              "    </tr>\n",
              "    <tr>\n",
              "      <th>1509</th>\n",
              "      <td>Clc1cc2nc(n(c2cc1)C(CC(=O)NCc1ncccc1)CC)N</td>\n",
              "      <td>BACE_1544</td>\n",
              "      <td>0</td>\n",
              "      <td>Test</td>\n",
              "      <td>3.000000</td>\n",
              "    </tr>\n",
              "    <tr>\n",
              "      <th>1510</th>\n",
              "      <td>Brc1cc(ccc1)C1CC1C=1N=C(N)N(C)C(=O)C=1</td>\n",
              "      <td>BACE_1545</td>\n",
              "      <td>0</td>\n",
              "      <td>Test</td>\n",
              "      <td>2.953115</td>\n",
              "    </tr>\n",
              "    <tr>\n",
              "      <th>1511</th>\n",
              "      <td>O=C1N(C)C(=NC(=C1)C1CC1c1cc(ccc1)-c1ccccc1)N</td>\n",
              "      <td>BACE_1546</td>\n",
              "      <td>0</td>\n",
              "      <td>Test</td>\n",
              "      <td>2.733298</td>\n",
              "    </tr>\n",
              "    <tr>\n",
              "      <th>1512</th>\n",
              "      <td>Clc1cc2nc(n(c2cc1)CCCC(=O)NCC1CC1)N</td>\n",
              "      <td>BACE_1547</td>\n",
              "      <td>0</td>\n",
              "      <td>Test</td>\n",
              "      <td>2.544546</td>\n",
              "    </tr>\n",
              "  </tbody>\n",
              "</table>\n",
              "<p>1513 rows × 5 columns</p>\n",
              "</div>\n",
              "    <div class=\"colab-df-buttons\">\n",
              "\n",
              "  <div class=\"colab-df-container\">\n",
              "    <button class=\"colab-df-convert\" onclick=\"convertToInteractive('df-cb219b5f-6fb8-4aa3-91d2-7435ae9813f4')\"\n",
              "            title=\"Convert this dataframe to an interactive table.\"\n",
              "            style=\"display:none;\">\n",
              "\n",
              "  <svg xmlns=\"http://www.w3.org/2000/svg\" height=\"24px\" viewBox=\"0 -960 960 960\">\n",
              "    <path d=\"M120-120v-720h720v720H120Zm60-500h600v-160H180v160Zm220 220h160v-160H400v160Zm0 220h160v-160H400v160ZM180-400h160v-160H180v160Zm440 0h160v-160H620v160ZM180-180h160v-160H180v160Zm440 0h160v-160H620v160Z\"/>\n",
              "  </svg>\n",
              "    </button>\n",
              "\n",
              "  <style>\n",
              "    .colab-df-container {\n",
              "      display:flex;\n",
              "      gap: 12px;\n",
              "    }\n",
              "\n",
              "    .colab-df-convert {\n",
              "      background-color: #E8F0FE;\n",
              "      border: none;\n",
              "      border-radius: 50%;\n",
              "      cursor: pointer;\n",
              "      display: none;\n",
              "      fill: #1967D2;\n",
              "      height: 32px;\n",
              "      padding: 0 0 0 0;\n",
              "      width: 32px;\n",
              "    }\n",
              "\n",
              "    .colab-df-convert:hover {\n",
              "      background-color: #E2EBFA;\n",
              "      box-shadow: 0px 1px 2px rgba(60, 64, 67, 0.3), 0px 1px 3px 1px rgba(60, 64, 67, 0.15);\n",
              "      fill: #174EA6;\n",
              "    }\n",
              "\n",
              "    .colab-df-buttons div {\n",
              "      margin-bottom: 4px;\n",
              "    }\n",
              "\n",
              "    [theme=dark] .colab-df-convert {\n",
              "      background-color: #3B4455;\n",
              "      fill: #D2E3FC;\n",
              "    }\n",
              "\n",
              "    [theme=dark] .colab-df-convert:hover {\n",
              "      background-color: #434B5C;\n",
              "      box-shadow: 0px 1px 3px 1px rgba(0, 0, 0, 0.15);\n",
              "      filter: drop-shadow(0px 1px 2px rgba(0, 0, 0, 0.3));\n",
              "      fill: #FFFFFF;\n",
              "    }\n",
              "  </style>\n",
              "\n",
              "    <script>\n",
              "      const buttonEl =\n",
              "        document.querySelector('#df-cb219b5f-6fb8-4aa3-91d2-7435ae9813f4 button.colab-df-convert');\n",
              "      buttonEl.style.display =\n",
              "        google.colab.kernel.accessAllowed ? 'block' : 'none';\n",
              "\n",
              "      async function convertToInteractive(key) {\n",
              "        const element = document.querySelector('#df-cb219b5f-6fb8-4aa3-91d2-7435ae9813f4');\n",
              "        const dataTable =\n",
              "          await google.colab.kernel.invokeFunction('convertToInteractive',\n",
              "                                                    [key], {});\n",
              "        if (!dataTable) return;\n",
              "\n",
              "        const docLinkHtml = 'Like what you see? Visit the ' +\n",
              "          '<a target=\"_blank\" href=https://colab.research.google.com/notebooks/data_table.ipynb>data table notebook</a>'\n",
              "          + ' to learn more about interactive tables.';\n",
              "        element.innerHTML = '';\n",
              "        dataTable['output_type'] = 'display_data';\n",
              "        await google.colab.output.renderOutput(dataTable, element);\n",
              "        const docLink = document.createElement('div');\n",
              "        docLink.innerHTML = docLinkHtml;\n",
              "        element.appendChild(docLink);\n",
              "      }\n",
              "    </script>\n",
              "  </div>\n",
              "\n",
              "\n",
              "<div id=\"df-4f205797-79a9-42ab-855b-ae816941fecd\">\n",
              "  <button class=\"colab-df-quickchart\" onclick=\"quickchart('df-4f205797-79a9-42ab-855b-ae816941fecd')\"\n",
              "            title=\"Suggest charts\"\n",
              "            style=\"display:none;\">\n",
              "\n",
              "<svg xmlns=\"http://www.w3.org/2000/svg\" height=\"24px\"viewBox=\"0 0 24 24\"\n",
              "     width=\"24px\">\n",
              "    <g>\n",
              "        <path d=\"M19 3H5c-1.1 0-2 .9-2 2v14c0 1.1.9 2 2 2h14c1.1 0 2-.9 2-2V5c0-1.1-.9-2-2-2zM9 17H7v-7h2v7zm4 0h-2V7h2v10zm4 0h-2v-4h2v4z\"/>\n",
              "    </g>\n",
              "</svg>\n",
              "  </button>\n",
              "\n",
              "<style>\n",
              "  .colab-df-quickchart {\n",
              "      --bg-color: #E8F0FE;\n",
              "      --fill-color: #1967D2;\n",
              "      --hover-bg-color: #E2EBFA;\n",
              "      --hover-fill-color: #174EA6;\n",
              "      --disabled-fill-color: #AAA;\n",
              "      --disabled-bg-color: #DDD;\n",
              "  }\n",
              "\n",
              "  [theme=dark] .colab-df-quickchart {\n",
              "      --bg-color: #3B4455;\n",
              "      --fill-color: #D2E3FC;\n",
              "      --hover-bg-color: #434B5C;\n",
              "      --hover-fill-color: #FFFFFF;\n",
              "      --disabled-bg-color: #3B4455;\n",
              "      --disabled-fill-color: #666;\n",
              "  }\n",
              "\n",
              "  .colab-df-quickchart {\n",
              "    background-color: var(--bg-color);\n",
              "    border: none;\n",
              "    border-radius: 50%;\n",
              "    cursor: pointer;\n",
              "    display: none;\n",
              "    fill: var(--fill-color);\n",
              "    height: 32px;\n",
              "    padding: 0;\n",
              "    width: 32px;\n",
              "  }\n",
              "\n",
              "  .colab-df-quickchart:hover {\n",
              "    background-color: var(--hover-bg-color);\n",
              "    box-shadow: 0 1px 2px rgba(60, 64, 67, 0.3), 0 1px 3px 1px rgba(60, 64, 67, 0.15);\n",
              "    fill: var(--button-hover-fill-color);\n",
              "  }\n",
              "\n",
              "  .colab-df-quickchart-complete:disabled,\n",
              "  .colab-df-quickchart-complete:disabled:hover {\n",
              "    background-color: var(--disabled-bg-color);\n",
              "    fill: var(--disabled-fill-color);\n",
              "    box-shadow: none;\n",
              "  }\n",
              "\n",
              "  .colab-df-spinner {\n",
              "    border: 2px solid var(--fill-color);\n",
              "    border-color: transparent;\n",
              "    border-bottom-color: var(--fill-color);\n",
              "    animation:\n",
              "      spin 1s steps(1) infinite;\n",
              "  }\n",
              "\n",
              "  @keyframes spin {\n",
              "    0% {\n",
              "      border-color: transparent;\n",
              "      border-bottom-color: var(--fill-color);\n",
              "      border-left-color: var(--fill-color);\n",
              "    }\n",
              "    20% {\n",
              "      border-color: transparent;\n",
              "      border-left-color: var(--fill-color);\n",
              "      border-top-color: var(--fill-color);\n",
              "    }\n",
              "    30% {\n",
              "      border-color: transparent;\n",
              "      border-left-color: var(--fill-color);\n",
              "      border-top-color: var(--fill-color);\n",
              "      border-right-color: var(--fill-color);\n",
              "    }\n",
              "    40% {\n",
              "      border-color: transparent;\n",
              "      border-right-color: var(--fill-color);\n",
              "      border-top-color: var(--fill-color);\n",
              "    }\n",
              "    60% {\n",
              "      border-color: transparent;\n",
              "      border-right-color: var(--fill-color);\n",
              "    }\n",
              "    80% {\n",
              "      border-color: transparent;\n",
              "      border-right-color: var(--fill-color);\n",
              "      border-bottom-color: var(--fill-color);\n",
              "    }\n",
              "    90% {\n",
              "      border-color: transparent;\n",
              "      border-bottom-color: var(--fill-color);\n",
              "    }\n",
              "  }\n",
              "</style>\n",
              "\n",
              "  <script>\n",
              "    async function quickchart(key) {\n",
              "      const quickchartButtonEl =\n",
              "        document.querySelector('#' + key + ' button');\n",
              "      quickchartButtonEl.disabled = true;  // To prevent multiple clicks.\n",
              "      quickchartButtonEl.classList.add('colab-df-spinner');\n",
              "      try {\n",
              "        const charts = await google.colab.kernel.invokeFunction(\n",
              "            'suggestCharts', [key], {});\n",
              "      } catch (error) {\n",
              "        console.error('Error during call to suggestCharts:', error);\n",
              "      }\n",
              "      quickchartButtonEl.classList.remove('colab-df-spinner');\n",
              "      quickchartButtonEl.classList.add('colab-df-quickchart-complete');\n",
              "    }\n",
              "    (() => {\n",
              "      let quickchartButtonEl =\n",
              "        document.querySelector('#df-4f205797-79a9-42ab-855b-ae816941fecd button');\n",
              "      quickchartButtonEl.style.display =\n",
              "        google.colab.kernel.accessAllowed ? 'block' : 'none';\n",
              "    })();\n",
              "  </script>\n",
              "</div>\n",
              "    </div>\n",
              "  </div>\n"
            ],
            "application/vnd.google.colaboratory.intrinsic+json": {
              "type": "dataframe",
              "variable_name": "bace_df",
              "summary": "{\n  \"name\": \"bace_df\",\n  \"rows\": 1513,\n  \"fields\": [\n    {\n      \"column\": \"mol\",\n      \"properties\": {\n        \"dtype\": \"string\",\n        \"num_unique_values\": 1513,\n        \"samples\": [\n          \"s1nc(cc1)-c1cc2c(OC(CC23N=C(N)N(C)C3=O)(C)C)cc1\",\n          \"FC(F)Oc1ccc(cc1)[C@@]1(N=C(N)N(C)C1=O)c1cc(ccc1)\\\\C=C\\\\CCCO\",\n          \"S1(=O)(=O)N(CCCC1)c1cc(cc(NCC)c1)C(=O)NC(Cc1ccccc1)C(O)C[NH2+]C1CC1\"\n        ],\n        \"semantic_type\": \"\",\n        \"description\": \"\"\n      }\n    },\n    {\n      \"column\": \"CID\",\n      \"properties\": {\n        \"dtype\": \"string\",\n        \"num_unique_values\": 1513,\n        \"samples\": [\n          \"BACE_1034\",\n          \"BACE_649\",\n          \"BACE_839\"\n        ],\n        \"semantic_type\": \"\",\n        \"description\": \"\"\n      }\n    },\n    {\n      \"column\": \"Class\",\n      \"properties\": {\n        \"dtype\": \"number\",\n        \"std\": 0,\n        \"min\": 0,\n        \"max\": 1,\n        \"num_unique_values\": 2,\n        \"samples\": [\n          0,\n          1\n        ],\n        \"semantic_type\": \"\",\n        \"description\": \"\"\n      }\n    },\n    {\n      \"column\": \"Model\",\n      \"properties\": {\n        \"dtype\": \"category\",\n        \"num_unique_values\": 3,\n        \"samples\": [\n          \"Train\",\n          \"Valid\"\n        ],\n        \"semantic_type\": \"\",\n        \"description\": \"\"\n      }\n    },\n    {\n      \"column\": \"pIC50\",\n      \"properties\": {\n        \"dtype\": \"number\",\n        \"std\": 1.342416931106123,\n        \"min\": 2.5445461,\n        \"max\": 10.522879,\n        \"num_unique_values\": 651,\n        \"samples\": [\n          3.4689045,\n          7.167491\n        ],\n        \"semantic_type\": \"\",\n        \"description\": \"\"\n      }\n    }\n  ]\n}"
            }
          },
          "metadata": {},
          "execution_count": 57
        }
      ]
    },
    {
      "cell_type": "code",
      "source": [
        "# Visualise one of the molecules from its SMILE input\n",
        "inhibitor = bace_df[\"mol\"][0]\n",
        "\n",
        "m = Chem.MolFromSmiles(inhibitor)\n",
        "\n",
        "img = Draw.MolToImage(m)\n",
        "\n",
        "display(img)"
      ],
      "metadata": {
        "id": "AAicW09A97b_",
        "colab": {
          "base_uri": "https://localhost:8080/",
          "height": 317
        },
        "outputId": "1cb73759-e68a-4aba-c8ed-dacfc2a875da"
      },
      "execution_count": 58,
      "outputs": [
        {
          "output_type": "display_data",
          "data": {
            "text/plain": [
              "<PIL.PngImagePlugin.PngImageFile image mode=RGB size=300x300>"
            ],
            "image/png": "[encoded data removed]"
          },
          "metadata": {}
        }
      ]
    },
    {
      "cell_type": "code",
      "source": [
        "# Display five random molecules with their SMILES molecules\n",
        "\n",
        "# Create axes and sample SMILES molecules\n",
        "fig, ax = plt.subplots(ncols=5, nrows=1, figsize = (18,6))\n",
        "mols = bace_df.sample(n=5, random_state=42)[\"mol\"]\n",
        "\n",
        "for i in range(len(mols)):\n",
        "\n",
        "  # Convert each molecule to an image\n",
        "  mol = mols.iloc[i]\n",
        "  m = Chem.MolFromSmiles(mol)\n",
        "  img = Draw.MolToImage(m)\n",
        "\n",
        "  # Plot each molecule\n",
        "  ax[i].imshow(img)\n",
        "  ax[i].axis(False);\n",
        "\n",
        "  # Divide the SMILE input into three parts\n",
        "  first_part = mol[:int(len(mol)/3)]\n",
        "  second_part = mol[int(len(mol)//3):int(2*len(mol)//3)]\n",
        "  third_part = mol[int(2*len(mol)//3):]\n",
        "\n",
        "  assert len(mol) == len(first_part)+len(second_part)+len(third_part)\n",
        "\n",
        "  first_title = first_part + \"\\n\"\n",
        "  second_title = second_part + \"\\n\"\n",
        "  third_title = third_part + \"\\n\"\n",
        "\n",
        "  # Title each plot with its respective SMILE input\n",
        "  ax[i].set_title(first_title+second_title+third_title)"
      ],
      "metadata": {
        "id": "FiM-wR6mDlbv",
        "colab": {
          "base_uri": "https://localhost:8080/",
          "height": 342
        },
        "outputId": "8ebb7ca2-bdd1-4a0b-bf60-73148cb23b73"
      },
      "execution_count": 59,
      "outputs": [
        {
          "output_type": "display_data",
          "data": {
            "text/plain": [
              "<Figure size 1800x600 with 5 Axes>"
            ],
            "image/png": "[encoded data removed]"
          },
          "metadata": {}
        }
      ]
    },
    {
      "cell_type": "code",
      "source": [
        "# Test converting a molecule into a graph using MolGraphConvFeaturizer and to_pyg_graph\n",
        "\n",
        "# Select first molecule\n",
        "mol = bace_df[\"mol\"][1]\n",
        "\n",
        "# Instantiate MolGraphConvFeaturizer class\n",
        "featurizer=dc.feat.MolGraphConvFeaturizer(use_edges=True)\n",
        "\n",
        "# Convert SMILES molecule into a DeepChem graph\n",
        "out = featurizer.featurize(datapoints=mol)\n",
        "\n",
        "# Convert into torch geometric graph\n",
        "pyg_out = GraphData.to_pyg_graph(out[0])\n",
        "pyg_out.y = torch.tensor([bace_df[\"Class\"][0]])\n",
        "\n",
        "print(pyg_out)"
      ],
      "metadata": {
        "id": "REwBMkJ8DwOa",
        "colab": {
          "base_uri": "https://localhost:8080/"
        },
        "outputId": "cc92432a-6319-46a1-a033-1d077df565c5"
      },
      "execution_count": 60,
      "outputs": [
        {
          "output_type": "stream",
          "name": "stdout",
          "text": [
            "Data(x=[47, 30], edge_index=[2, 100], edge_attr=[100, 11], y=[1])\n"
          ]
        }
      ]
    },
    {
      "cell_type": "code",
      "source": [
        "# Custom torch geometric Dataset class to store the samples and their corresponding labels\n",
        "\n",
        "class MoleculeDataset(Dataset):\n",
        "  def __init__(self, root, csv_file, transform=None, pre_transform=None, pre_filter=None):\n",
        "    \"\"\"\n",
        "    root = Where the dataset should be stored. This folder is split\n",
        "    into raw_dir (downloaded dataset) and processed_dir(processed data).\n",
        "    \"\"\"\n",
        "    self.csv_file = csv_file\n",
        "    super().__init__(root, transform, pre_transform, pre_filter)\n",
        "\n",
        "  @property\n",
        "  def raw_file_names(self):\n",
        "    \"\"\"\n",
        "    If this file exists in raw_dir, the download is not triggered/\n",
        "    (the download function is not implemented here)\n",
        "    \"\"\"\n",
        "    return self.csv_file\n",
        "\n",
        "  @property\n",
        "  def processed_file_names(self):\n",
        "    \"\"\"\n",
        "    If these files are found in raw_dir, processing is skipped\n",
        "    \"\"\"\n",
        "    self.data = pd.read_csv(self.raw_paths[0]).reset_index()\n",
        "\n",
        "    return [f'data_{i}.pt' for i in list(self.data.index)]\n",
        "\n",
        "  def download(self):\n",
        "    \"\"\"\n",
        "    No need to download the csv file as it is already downloaded\n",
        "    \"\"\"\n",
        "    pass\n",
        "\n",
        "  def process(self):\n",
        "    \"\"\"\n",
        "    I used Deepchem's MolGraphConvFeaturizer to create a graph and then convert that to a torch graph with to_pyg_graph.\n",
        "    \"\"\"\n",
        "    self.data = pd.read_csv(self.raw_paths[0]).reset_index()\n",
        "    featurizer=dc.feat.MolGraphConvFeaturizer(use_edges=True)\n",
        "\n",
        "    for idx, row in self.data.iterrows():\n",
        "      # Featurize molecule and convert to torch graph\n",
        "      smiles = row['mol']\n",
        "      label = row['Class']\n",
        "      pic50 = row['pIC50']\n",
        "\n",
        "      out = featurizer.featurize(smiles)\n",
        "      pyg_out = GraphData.to_pyg_graph(out[0])\n",
        "      pyg_out.Class = torch.tensor([label])\n",
        "      pyg_out.smiles = smiles\n",
        "      pyg_out.pic50 = pic50\n",
        "\n",
        "      # data = Data(x=pyg_out.x, edge_index=pyg_out.edge_index, edge_attr=pyg_out.edge_attr,\n",
        "      #            y=torch.tensor([label]), dtype = torch.float)\n",
        "\n",
        "      torch.save(pyg_out, osp.join(self.processed_dir, f'data_{idx}.pt'))\n",
        "\n",
        "  def len(self):\n",
        "    \"\"\"\n",
        "    Returns number of samples in the dataset\n",
        "    \"\"\"\n",
        "    return len(self.processed_file_names)\n",
        "\n",
        "  def get(self, idx):\n",
        "    \"\"\"\n",
        "    Loads a single graph\n",
        "    \"\"\"\n",
        "    data = torch.load(osp.join(self.processed_dir, f'data_{idx}.pt'))\n",
        "    return data"
      ],
      "metadata": {
        "id": "FfYq6ypbx8XO"
      },
      "execution_count": 61,
      "outputs": []
    },
    {
      "cell_type": "code",
      "source": [
        "# Instantiate the dataset from the BACE CSV file\n",
        "\n",
        "original_dataset = MoleculeDataset(root = \"data/\", csv_file = \"bace.csv\").shuffle()\n",
        "dataset = original_dataset\n",
        "\n",
        "train_indices = int(0.8*len(dataset))\n",
        "\n",
        "train_dataset = dataset[:train_indices]\n",
        "test_dataset = dataset[train_indices:]\n",
        "\n",
        "\n",
        "print(f\"Total dataset samples: {len(dataset)}\\nTrain dataset samples: {len(train_dataset)}\\nTest dataset samples: {len(test_dataset)}\")"
      ],
      "metadata": {
        "id": "TDUd7BUl-TaU",
        "colab": {
          "base_uri": "https://localhost:8080/"
        },
        "outputId": "25f8e494-94fb-4146-be46-3a9521ac97fc"
      },
      "execution_count": 62,
      "outputs": [
        {
          "output_type": "stream",
          "name": "stdout",
          "text": [
            "Total dataset samples: 1513\n",
            "Train dataset samples: 1210\n",
            "Test dataset samples: 303\n"
          ]
        }
      ]
    },
    {
      "cell_type": "code",
      "source": [
        "# Calculate average nodes and edges in the graphs\n",
        "avg_nodes = 0\n",
        "avg_edges = 0\n",
        "for i in range(len(original_dataset)):\n",
        "  avg_nodes+=original_dataset[i].x.shape[0]/len(original_dataset)\n",
        "  avg_edges+=original_dataset[i].edge_index.shape[1]/len(original_dataset)\n",
        "print(f\"avg nodes: {avg_nodes:.4f}, avg_edges: {avg_edges:.4f}\")\n",
        "\n"
      ],
      "metadata": {
        "id": "oyIrC15qyqW_",
        "colab": {
          "base_uri": "https://localhost:8080/"
        },
        "outputId": "8f552ef1-2947-4277-9d98-8dcd2f2379ea"
      },
      "execution_count": 63,
      "outputs": [
        {
          "output_type": "stream",
          "name": "stdout",
          "text": [
            "avg nodes: 34.0892, avg_edges: 73.7184\n"
          ]
        }
      ]
    },
    {
      "cell_type": "code",
      "source": [
        "# Create a dataloader from the dataset\n",
        "train_dataloader = DataLoader(train_dataset, batch_size=32, shuffle=True)\n",
        "test_dataloader = DataLoader(test_dataset, batch_size=32, shuffle=True)\n",
        "\n",
        "print(f\"Number of batches: {len(train_dataloader)}\")\n",
        "print(f\"Number of samples: {len(train_dataset)}\")"
      ],
      "metadata": {
        "id": "DITcTGVx_F3d",
        "colab": {
          "base_uri": "https://localhost:8080/"
        },
        "outputId": "5c5b4e20-f945-4e27-f2bd-e9429ef28f44"
      },
      "execution_count": 64,
      "outputs": [
        {
          "output_type": "stream",
          "name": "stdout",
          "text": [
            "Number of batches: 38\n",
            "Number of samples: 1210\n"
          ]
        }
      ]
    },
    {
      "cell_type": "code",
      "source": [
        "# Load a single graph\n",
        "\n",
        "print(f\"Number of nodes in graph is: {train_dataset[0].x.shape[0]}\")\n",
        "print(f\"Number of features for each node is {train_dataset[0].num_features}\")\n",
        "print(f\"Number of edges is {train_dataset[0].edge_index.shape[1]}\")\n",
        "print(f\"Data object is {train_dataset[0]}\\n\")"
      ],
      "metadata": {
        "id": "NuE_wWzICdlN",
        "colab": {
          "base_uri": "https://localhost:8080/"
        },
        "outputId": "0acdad2c-cf42-4173-cbed-0ee2b0727111"
      },
      "execution_count": 123,
      "outputs": [
        {
          "output_type": "stream",
          "name": "stdout",
          "text": [
            "Number of nodes in graph is: 32\n",
            "Number of features for each node is 30\n",
            "Number of edges is 70\n",
            "Data object is Data(x=[32, 30], edge_index=[2, 70], edge_attr=[70, 11], Class=[1], smiles='Fc1ncccc1-c1cc(ccc1)C1(N=C(N)N(C)C1=O)c1cn(nc1)CC(CC)CC', pic50=7.6989698)\n",
            "\n"
          ]
        }
      ]
    },
    {
      "cell_type": "code",
      "source": [
        "# Node features for one the graphs. This class is a featurizer of general graph convolution networks for molecules.\n",
        "# The default node(atom) and edge(bond) representations are based on WeaveNet paper.\n",
        "\n",
        "# train_dataset[0].x"
      ],
      "metadata": {
        "id": "xl2qeyeVrL5A"
      },
      "execution_count": 66,
      "outputs": []
    },
    {
      "cell_type": "code",
      "source": [
        "# See the format for a batch\n",
        "print(next(iter(train_dataloader)))"
      ],
      "metadata": {
        "id": "IRpeAGqacSdI",
        "colab": {
          "base_uri": "https://localhost:8080/"
        },
        "outputId": "ed00ac11-5b32-4d26-b835-208f3d787a54"
      },
      "execution_count": 67,
      "outputs": [
        {
          "output_type": "stream",
          "name": "stdout",
          "text": [
            "DataBatch(x=[1111, 30], edge_index=[2, 2402], edge_attr=[2402, 11], Class=[32], smiles=[32], pic50=[32], batch=[1111], ptr=[33])\n"
          ]
        }
      ]
    },
    {
      "cell_type": "code",
      "source": [
        "np.random.seed(44)\n",
        "\n",
        "fig, ax = plt.subplots(ncols=2, nrows=1, figsize = (14,6))\n",
        "\n",
        "g = torch_geometric.utils.to_networkx(train_dataset[0], to_undirected=True)\n",
        "nx.draw(g, ax = ax[0])\n",
        "\n",
        "mol = dataset[0].smiles\n",
        "m = Chem.MolFromSmiles(mol)\n",
        "img = Draw.MolToImage(m)\n",
        "\n",
        "ax[1].imshow(img)\n",
        "ax[1].axis(False);"
      ],
      "metadata": {
        "id": "WCWU18-2vusz",
        "colab": {
          "base_uri": "https://localhost:8080/",
          "height": 499
        },
        "outputId": "ff0d97a8-87ef-4f7f-cf94-500042be7905"
      },
      "execution_count": 68,
      "outputs": [
        {
          "output_type": "display_data",
          "data": {
            "text/plain": [
              "<Figure size 1400x600 with 2 Axes>"
            ],
            "image/png": "[encoded data removed]"
          },
          "metadata": {}
        }
      ]
    },
    {
      "cell_type": "code",
      "source": [
        "# Print 5 batches\n",
        "i = 0\n",
        "for batch in train_dataloader:\n",
        "  while i <5:\n",
        "    print(batch)\n",
        "    i+=1"
      ],
      "metadata": {
        "id": "VEM4-gL9HAYZ",
        "colab": {
          "base_uri": "https://localhost:8080/"
        },
        "outputId": "c68ec808-8f6b-4dcf-c88b-6fd3976aacc4"
      },
      "execution_count": 69,
      "outputs": [
        {
          "output_type": "stream",
          "name": "stdout",
          "text": [
            "DataBatch(x=[1128, 30], edge_index=[2, 2412], edge_attr=[2412, 11], Class=[32], smiles=[32], pic50=[32], batch=[1128], ptr=[33])\n",
            "DataBatch(x=[1128, 30], edge_index=[2, 2412], edge_attr=[2412, 11], Class=[32], smiles=[32], pic50=[32], batch=[1128], ptr=[33])\n",
            "DataBatch(x=[1128, 30], edge_index=[2, 2412], edge_attr=[2412, 11], Class=[32], smiles=[32], pic50=[32], batch=[1128], ptr=[33])\n",
            "DataBatch(x=[1128, 30], edge_index=[2, 2412], edge_attr=[2412, 11], Class=[32], smiles=[32], pic50=[32], batch=[1128], ptr=[33])\n",
            "DataBatch(x=[1128, 30], edge_index=[2, 2412], edge_attr=[2412, 11], Class=[32], smiles=[32], pic50=[32], batch=[1128], ptr=[33])\n"
          ]
        }
      ]
    },
    {
      "cell_type": "code",
      "source": [
        "# Create tensor of the average of the node features for all 1210 training samples\n",
        "a = torch.tensor(())\n",
        "for idx, data in enumerate(train_dataloader):\n",
        "  x = global_mean_pool(data.x, data.batch)\n",
        "  a = torch.cat((a, x), 0)\n"
      ],
      "metadata": {
        "id": "Tr3r1Txf5XYD"
      },
      "execution_count": 70,
      "outputs": []
    },
    {
      "cell_type": "code",
      "source": [
        "print(a.shape)\n",
        "df = pd.DataFrame(a.numpy())\n",
        "# display(df)\n",
        "corr = df.corr()\n",
        "# corr.style.background_gradient(cmap='coolwarm')"
      ],
      "metadata": {
        "id": "AUXCBkyW_HzM",
        "colab": {
          "base_uri": "https://localhost:8080/"
        },
        "outputId": "87fef0ad-8b74-4b33-a5cf-bcb95bdc0c0d"
      },
      "execution_count": 71,
      "outputs": [
        {
          "output_type": "stream",
          "name": "stdout",
          "text": [
            "torch.Size([1210, 30])\n"
          ]
        }
      ]
    },
    {
      "cell_type": "code",
      "source": [
        "class GCNClassifier(torch.nn.Module):\n",
        "  \"\"\"\n",
        "  Standard GCN graph classifier\n",
        "  \"\"\"\n",
        "  def __init__(self, in_channels:int, hidden_channels:int, out_channels:int, pool_method:torch_geometric.nn.pool,\n",
        "               use_edge_attr:bool):\n",
        "    super().__init__()\n",
        "    # Convolutional Layers\n",
        "    self.conv1 = GCNConv(in_channels, hidden_channels)\n",
        "\n",
        "    self.conv2 = GCNConv(hidden_channels, hidden_channels)\n",
        "\n",
        "    self.conv3 = GCNConv(hidden_channels, hidden_channels)\n",
        "\n",
        "    # Linear layer used in classification\n",
        "    self.lin = Linear(hidden_channels, out_channels)\n",
        "\n",
        "  def forward(self, data):\n",
        "    # Obtain node embeddings\n",
        "    x, edge_index, batch, edge_attr = data.x, data.edge_index, data.batch, data.edge_attr\n",
        "\n",
        "    if use_edge_attr:\n",
        "      x = self.conv1(x, edge_index, edge_attr)\n",
        "      x = F.leaky_relu(x)\n",
        "      x = self.conv2(x, edge_index, edge_attr)\n",
        "      x = F.leaky_relu(x)\n",
        "      x = self.conv3(x, edge_index, edge_attr)\n",
        "    else:\n",
        "      x = self.conv1(x, edge_index)\n",
        "      x = F.leaky_relu(x)\n",
        "      x = self.conv2(x, edge_index)\n",
        "      x = F.leaky_relu(x)\n",
        "      x = self.conv3(x, edge_index)\n",
        "\n",
        "    # Aggregate node embeddings\n",
        "    x = pool_method(x, batch)\n",
        "\n",
        "    # Regularisation\n",
        "    x = F.dropout(x)\n",
        "\n",
        "    # Classification\n",
        "    x = self.lin(x)\n",
        "\n",
        "    x = F.softmax(x, dim=1)\n",
        "\n",
        "    return x\n",
        "\n",
        "GCNClassifier(7, 64, 2, global_mean_pool, True)"
      ],
      "metadata": {
        "id": "6s5AgpJDG2UK",
        "colab": {
          "base_uri": "https://localhost:8080/"
        },
        "outputId": "f16bd6bf-865e-4072-b7d1-00a01b3fc875"
      },
      "execution_count": 125,
      "outputs": [
        {
          "output_type": "execute_result",
          "data": {
            "text/plain": [
              "GCNClassifier(\n",
              "  (conv1): GCNConv(7, 64)\n",
              "  (conv2): GCNConv(64, 64)\n",
              "  (conv3): GCNConv(64, 64)\n",
              "  (lin): Linear(in_features=64, out_features=2, bias=True)\n",
              ")"
            ]
          },
          "metadata": {},
          "execution_count": 125
        }
      ]
    },
    {
      "cell_type": "code",
      "source": [
        "class GraphConvClassifier(GCNClassifier):\n",
        "  \"\"\"\n",
        "  Same architecture as GCN Classifier however use GraphConv layers\n",
        "  \"\"\"\n",
        "  def __init__(self, in_channels:int, hidden_channels:int, out_channels:int):\n",
        "    super().__init__( in_channels, hidden_channels, out_channels)\n",
        "    self.conv1 = GraphConv(in_channels, hidden_channels)\n",
        "\n",
        "    self.conv2 = GraphConv(hidden_channels, hidden_channels)\n",
        "\n",
        "    self.conv3 = GraphConv(hidden_channels, hidden_channels)\n",
        "GraphConvClassifier(7, 64, 2)"
      ],
      "metadata": {
        "id": "p5IuuM4RZbq1",
        "colab": {
          "base_uri": "https://localhost:8080/"
        },
        "outputId": "69f6a08f-555e-43a3-a2b4-715a4fae984e"
      },
      "execution_count": 75,
      "outputs": [
        {
          "output_type": "execute_result",
          "data": {
            "text/plain": [
              "GraphConvClassifier(\n",
              "  (conv1): GraphConv(7, 64)\n",
              "  (conv2): GraphConv(64, 64)\n",
              "  (conv3): GraphConv(64, 64)\n",
              "  (lin): Linear(in_features=64, out_features=2, bias=True)\n",
              ")"
            ]
          },
          "metadata": {},
          "execution_count": 75
        }
      ]
    },
    {
      "cell_type": "code",
      "source": [
        "class GATClassifier(torch.nn.Module):\n",
        "  \"\"\"\n",
        "  GAT Convolutional graph classifier\n",
        "  \"\"\"\n",
        "  def __init__(self, in_channels:int, hidden_channels:int, out_channels:int, heads:int):\n",
        "    super().__init__()\n",
        "    # Convolutional Layers\n",
        "    self.conv1 = GATConv(in_channels,\n",
        "                         hidden_channels,\n",
        "                         heads,\n",
        "                         concat = True)\n",
        "    self.conv2 = GATConv(hidden_channels*heads,\n",
        "                         hidden_channels,\n",
        "                         heads,\n",
        "                         concat=True)\n",
        "    self.conv3 = GATConv(hidden_channels*heads,\n",
        "                         hidden_channels,\n",
        "                         1,\n",
        "                         concat=False)\n",
        "    self.lin = Linear(hidden_channels, out_channels)\n",
        "\n",
        "  def forward(self, data):\n",
        "    # Obtain node embeddings\n",
        "    x, edge_index, batch = data.x, data.edge_index, data.batch\n",
        "    x = self.conv1(x, edge_index)\n",
        "    x = F.leaky_relu(x)\n",
        "    x = self.conv2(x, edge_index)\n",
        "    x = F.leaky_relu(x)\n",
        "    x = self.conv3(x, edge_index)\n",
        "\n",
        "\n",
        "    # Aggregate node embeddings\n",
        "    x = global_mean_pool(x, batch)\n",
        "\n",
        "    # Regularisation\n",
        "    x = F.dropout(x)\n",
        "\n",
        "    # Classification\n",
        "    x = self.lin(x)\n",
        "\n",
        "    x = F.softmax(x, dim=1)\n",
        "\n",
        "    return x\n",
        "\n",
        "GATClassifier(30, 64, 2, 8)"
      ],
      "metadata": {
        "id": "HvALPddqsKQy",
        "colab": {
          "base_uri": "https://localhost:8080/"
        },
        "outputId": "27eaab1f-cbb4-461b-b469-baad6764147c"
      },
      "execution_count": 76,
      "outputs": [
        {
          "output_type": "execute_result",
          "data": {
            "text/plain": [
              "GATClassifier(\n",
              "  (conv1): GATConv(30, 64, heads=8)\n",
              "  (conv2): GATConv(512, 64, heads=8)\n",
              "  (conv3): GATConv(512, 64, heads=1)\n",
              "  (lin): Linear(in_features=64, out_features=2, bias=True)\n",
              ")"
            ]
          },
          "metadata": {},
          "execution_count": 76
        }
      ]
    },
    {
      "cell_type": "code",
      "source": [
        "class GINConvClassifier(torch.nn.Module):\n",
        "  \"\"\"\n",
        "  Applies the graph isomorphism operator\n",
        "  \"\"\"\n",
        "  def __init__(self, in_channels, hidden_channels, out_channels, num_layers):\n",
        "    super().__init__()\n",
        "\n",
        "    self.convs = torch.nn.ModuleList()\n",
        "\n",
        "    for _ in range(num_layers):\n",
        "      mlp = MLP([in_channels, hidden_channels, hidden_channels])\n",
        "      self.convs.append(GINConv(nn=mlp, train_eps=False))\n",
        "      in_channels = hidden_channels\n",
        "\n",
        "    self.mlp = MLP([hidden_channels, hidden_channels, out_channels], norm = None, dropout = 0.5)\n",
        "\n",
        "  def forward(self, data):\n",
        "    x, edge_index, batch = data.x, data.edge_index, data.batch\n",
        "    for conv in self.convs:\n",
        "      x = conv(x, edge_index).relu()\n",
        "    x = global_mean_pool(x, batch)\n",
        "    return self.mlp(x)\n",
        "\n",
        "GINConvClassifier(30, 64, 2, 3)"
      ],
      "metadata": {
        "id": "bZmVxXvjw5hg",
        "colab": {
          "base_uri": "https://localhost:8080/"
        },
        "outputId": "2fcc3077-3323-4aa0-f9c8-e7d9ec2aabbe"
      },
      "execution_count": 91,
      "outputs": [
        {
          "output_type": "execute_result",
          "data": {
            "text/plain": [
              "GINConvClassifier(\n",
              "  (convs): ModuleList(\n",
              "    (0): GINConv(nn=MLP(30, 64, 64))\n",
              "    (1-2): 2 x GINConv(nn=MLP(64, 64, 64))\n",
              "  )\n",
              "  (mlp): MLP(64, 64, 2)\n",
              ")"
            ]
          },
          "metadata": {},
          "execution_count": 91
        }
      ]
    },
    {
      "cell_type": "code",
      "source": [
        "device = \"cuda\" if torch.cuda.is_available() else \"cpu\"\n",
        "\n",
        "def train_step(model:torch.nn.Module,\n",
        "               dataloader: torch.utils.data.DataLoader,\n",
        "               loss_fn: torch.nn.Module,\n",
        "               optimizer: torch.optim.Optimizer):\n",
        "  # Send model to device\n",
        "  model.to(device)\n",
        "  model.train()\n",
        "\n",
        "  train_loss, train_acc = 0, 0\n",
        "\n",
        "  # Loop over the batches\n",
        "  for batch in dataloader:\n",
        "    batch = batch.to(device)\n",
        "\n",
        "    # Optimizer zero grad\n",
        "    optimizer.zero_grad()\n",
        "\n",
        "    # Forward pass\n",
        "    out = model(batch)\n",
        "\n",
        "    # Calculate the loss\n",
        "    loss = loss_fn(out, batch.Class)\n",
        "    train_loss += loss.item()\n",
        "\n",
        "    # Calculate the label predictions\n",
        "    label_preds = torch.argmax(out, dim=1)\n",
        "    # Calculate accuracy\n",
        "    train_acc += (label_preds == batch.Class).sum()\n",
        "\n",
        "    # Loss backward\n",
        "    loss.backward()\n",
        "\n",
        "    # Optimizer step\n",
        "    optimizer.step()\n",
        "\n",
        "  # Adjust metrics to get average loss and accuracy per batch\n",
        "  train_loss = train_loss/len(dataloader.dataset)\n",
        "  train_acc = train_acc/len(dataloader.dataset)\n",
        "\n",
        "  return train_loss, train_acc"
      ],
      "metadata": {
        "id": "Qqw12LguVMMa"
      },
      "execution_count": 78,
      "outputs": []
    },
    {
      "cell_type": "code",
      "source": [
        "def test_step(model:torch.nn.Module,\n",
        "               dataloader: torch.utils.data.DataLoader,\n",
        "               loss_fn: torch.nn.Module,\n",
        "               optimizer: torch.optim.Optimizer):\n",
        "  # Put model in eval mode\n",
        "  model.eval()\n",
        "\n",
        "  test_loss, test_acc = 0, 0\n",
        "\n",
        "  # Turn on torch inference manager\n",
        "  with torch.inference_mode():\n",
        "    # Loop through data batches\n",
        "    for batch in dataloader:\n",
        "      batch = batch.to(device)\n",
        "\n",
        "      # Forward pass\n",
        "      out = model(batch)\n",
        "\n",
        "      # Calculate the loss\n",
        "      loss = loss_fn(out, batch.Class)\n",
        "      test_loss += loss.item()\n",
        "\n",
        "      # Calculate the label predictions\n",
        "      label_preds = torch.argmax(out, dim=1)\n",
        "      # Calculate accuracy\n",
        "      test_acc += (label_preds == batch.Class).sum()/len(label_preds)\n",
        "\n",
        "    # Adjust metrics to get average loss and accuracy per batch\n",
        "    test_loss = test_loss/len(dataloader)\n",
        "    test_acc = test_acc/len(dataloader)\n",
        "\n",
        "    return test_loss, test_acc"
      ],
      "metadata": {
        "id": "but5rpUge8QH"
      },
      "execution_count": 79,
      "outputs": []
    },
    {
      "cell_type": "code",
      "source": [
        "# Take in various parameters required for training and test steps\n",
        "def train(model: torch.nn.Module,\n",
        "          train_dataloader: torch.utils.data.DataLoader,\n",
        "          test_dataloader: torch.utils.data.DataLoader,\n",
        "          optimizer: torch.optim.Optimizer,\n",
        "          loss_fn: torch.nn.Module = torch.nn.CrossEntropyLoss(),\n",
        "          epochs: int = 5):\n",
        "\n",
        "  # 2. Create empty results dictionary\n",
        "  results = {\"epoch\": [],\n",
        "             \"train_loss\": [],\n",
        "             \"train_acc\": [],\n",
        "             \"test_loss\": [],\n",
        "             \"test_acc\": []}\n",
        "  # 3. Loop through training and testing steps for a number of epochs\n",
        "  for i in tqdm(range(epochs)):\n",
        "    train_loss, train_acc = train_step(model,\n",
        "                                       train_dataloader,\n",
        "                                       loss_fn,\n",
        "                                       optimizer)\n",
        "    test_loss, test_acc = test_step(model,\n",
        "                                    test_dataloader,\n",
        "                                    loss_fn,\n",
        "                                    optimizer)\n",
        "    # 4. Print out what's happening\n",
        "    print(f\"Epoch: {i}, Train loss: {train_loss:.4f}, Train acc: {train_acc:.4f}, Test loss: {test_loss:.4f}, Test acc: {test_acc:.4f}\")\n",
        "    # 5. Update results dictionary\n",
        "    results[\"epoch\"].append(i)\n",
        "    results[\"train_loss\"].append(round(train_loss, 4))\n",
        "    results[\"train_acc\"].append(round(train_acc.item(), 4))\n",
        "    results[\"test_loss\"].append(round(test_loss, 4))\n",
        "    results[\"test_acc\"].append(round(test_acc.item(), 4))\n",
        "   # 6. Return the filled results at the end of the epochs\n",
        "\n",
        "  return results"
      ],
      "metadata": {
        "id": "o2chTxER2o2B"
      },
      "execution_count": 109,
      "outputs": []
    },
    {
      "cell_type": "code",
      "source": [
        "# GCN Classifier Training Run\n",
        "\n",
        "display(Javascript('''google.colab.output.setIframeHeight(0, true, {maxHeight: 300})'''))\n",
        "\n",
        "torch.manual_seed(42)\n",
        "\n",
        "# Number of features of the graphs\n",
        "num_features = next(iter(train_dataloader)).x.shape[1]\n",
        "num_hidden_channels = 128\n",
        "num_out_channels = 2\n",
        "nb_epochs = 150\n",
        "pool_method = global_max_pool\n",
        "use_edge_attr=True\n",
        "\n",
        "# Instantiating GCN Classifier\n",
        "model = GCNClassifier(num_features, num_hidden_channels, num_out_channels, pool_method, use_edge_attr)\n",
        "\n",
        "# Instantiate optimizer and loss function\n",
        "adam_optimizer = torch.optim.Adam(model.parameters(), lr=0.001)\n",
        "sgd_optimizer = torch.optim.SGD(model.parameters())\n",
        "criterion = torch.nn.CrossEntropyLoss()\n",
        "\n",
        "\n",
        "results = train(model,\n",
        "      train_dataloader,\n",
        "      test_dataloader,\n",
        "      adam_optimizer,\n",
        "      loss_fn = criterion,\n",
        "      epochs = nb_epochs)\n"
      ],
      "metadata": {
        "id": "9HBC4UR65h7U",
        "colab": {
          "base_uri": "https://localhost:8080/",
          "height": 300,
          "referenced_widgets": [
            "18e53d3d1a1f410faa62ef17b9807431",
            "71f2ca682f3e49d3b4a9da646f2a83b0",
            "9ebe95c5f36b4892b2b181c14f7efc8a",
            "5c32ae41e5ae42189e8fd15f8335ed97",
            "c300666b40314d5c9845179f44d80c42",
            "50e22e611ecb4e63b57ff79d8e44b5fd",
            "592d52834dfe494a9f1b00082db7eb04",
            "ee624116b14a4f8599ab6e141057804d",
            "5474f46a1f504d20aff7f518ad24ef66",
            "2e0d8317a52c4a1484d924591ad554fc",
            "7350f783f16045c6bc124d386881e9aa"
          ]
        },
        "outputId": "f4d4d910-0533-462e-d2d2-cae36db94c7f"
      },
      "execution_count": 126,
      "outputs": [
        {
          "output_type": "display_data",
          "data": {
            "text/plain": [
              "<IPython.core.display.Javascript object>"
            ],
            "application/javascript": [
              "google.colab.output.setIframeHeight(0, true, {maxHeight: 300})"
            ]
          },
          "metadata": {}
        },
        {
          "output_type": "display_data",
          "data": {
            "text/plain": [
              "  0%|          | 0/150 [00:00<?, ?it/s]"
            ],
            "application/vnd.jupyter.widget-view+json": {
              "version_major": 2,
              "version_minor": 0,
              "model_id": "18e53d3d1a1f410faa62ef17b9807431"
            }
          },
          "metadata": {}
        },
        {
          "output_type": "error",
          "ename": "RuntimeError",
          "evalue": "The size of tensor a (37730) must match the size of tensor b (3430) at non-singleton dimension 0",
          "traceback": [
            "\u001b[0;31m---------------------------------------------------------------------------\u001b[0m",
            "\u001b[0;31mRuntimeError\u001b[0m                              Traceback (most recent call last)",
            "\u001b[0;32m<ipython-input-126-37bdd1521926>\u001b[0m in \u001b[0;36m<cell line: 24>\u001b[0;34m()\u001b[0m\n\u001b[1;32m     22\u001b[0m \u001b[0;34m\u001b[0m\u001b[0m\n\u001b[1;32m     23\u001b[0m \u001b[0;34m\u001b[0m\u001b[0m\n\u001b[0;32m---> 24\u001b[0;31m results = train(model,\n\u001b[0m\u001b[1;32m     25\u001b[0m       \u001b[0mtrain_dataloader\u001b[0m\u001b[0;34m,\u001b[0m\u001b[0;34m\u001b[0m\u001b[0;34m\u001b[0m\u001b[0m\n\u001b[1;32m     26\u001b[0m       \u001b[0mtest_dataloader\u001b[0m\u001b[0;34m,\u001b[0m\u001b[0;34m\u001b[0m\u001b[0;34m\u001b[0m\u001b[0m\n",
            "\u001b[0;32m<ipython-input-109-4a780f884956>\u001b[0m in \u001b[0;36mtrain\u001b[0;34m(model, train_dataloader, test_dataloader, optimizer, loss_fn, epochs)\u001b[0m\n\u001b[1;32m     15\u001b[0m   \u001b[0;31m# 3. Loop through training and testing steps for a number of epochs\u001b[0m\u001b[0;34m\u001b[0m\u001b[0;34m\u001b[0m\u001b[0m\n\u001b[1;32m     16\u001b[0m   \u001b[0;32mfor\u001b[0m \u001b[0mi\u001b[0m \u001b[0;32min\u001b[0m \u001b[0mtqdm\u001b[0m\u001b[0;34m(\u001b[0m\u001b[0mrange\u001b[0m\u001b[0;34m(\u001b[0m\u001b[0mepochs\u001b[0m\u001b[0;34m)\u001b[0m\u001b[0;34m)\u001b[0m\u001b[0;34m:\u001b[0m\u001b[0;34m\u001b[0m\u001b[0;34m\u001b[0m\u001b[0m\n\u001b[0;32m---> 17\u001b[0;31m     train_loss, train_acc = train_step(model,\n\u001b[0m\u001b[1;32m     18\u001b[0m                                        \u001b[0mtrain_dataloader\u001b[0m\u001b[0;34m,\u001b[0m\u001b[0;34m\u001b[0m\u001b[0;34m\u001b[0m\u001b[0m\n\u001b[1;32m     19\u001b[0m                                        \u001b[0mloss_fn\u001b[0m\u001b[0;34m,\u001b[0m\u001b[0;34m\u001b[0m\u001b[0;34m\u001b[0m\u001b[0m\n",
            "\u001b[0;32m<ipython-input-78-b46af444a454>\u001b[0m in \u001b[0;36mtrain_step\u001b[0;34m(model, dataloader, loss_fn, optimizer)\u001b[0m\n\u001b[1;32m     19\u001b[0m \u001b[0;34m\u001b[0m\u001b[0m\n\u001b[1;32m     20\u001b[0m     \u001b[0;31m# Forward pass\u001b[0m\u001b[0;34m\u001b[0m\u001b[0;34m\u001b[0m\u001b[0m\n\u001b[0;32m---> 21\u001b[0;31m     \u001b[0mout\u001b[0m \u001b[0;34m=\u001b[0m \u001b[0mmodel\u001b[0m\u001b[0;34m(\u001b[0m\u001b[0mbatch\u001b[0m\u001b[0;34m)\u001b[0m\u001b[0;34m\u001b[0m\u001b[0;34m\u001b[0m\u001b[0m\n\u001b[0m\u001b[1;32m     22\u001b[0m \u001b[0;34m\u001b[0m\u001b[0m\n\u001b[1;32m     23\u001b[0m     \u001b[0;31m# Calculate the loss\u001b[0m\u001b[0;34m\u001b[0m\u001b[0;34m\u001b[0m\u001b[0m\n",
            "\u001b[0;32m/usr/local/lib/python3.10/dist-packages/torch/nn/modules/module.py\u001b[0m in \u001b[0;36m_wrapped_call_impl\u001b[0;34m(self, *args, **kwargs)\u001b[0m\n\u001b[1;32m   1530\u001b[0m             \u001b[0;32mreturn\u001b[0m \u001b[0mself\u001b[0m\u001b[0;34m.\u001b[0m\u001b[0m_compiled_call_impl\u001b[0m\u001b[0;34m(\u001b[0m\u001b[0;34m*\u001b[0m\u001b[0margs\u001b[0m\u001b[0;34m,\u001b[0m \u001b[0;34m**\u001b[0m\u001b[0mkwargs\u001b[0m\u001b[0;34m)\u001b[0m  \u001b[0;31m# type: ignore[misc]\u001b[0m\u001b[0;34m\u001b[0m\u001b[0;34m\u001b[0m\u001b[0m\n\u001b[1;32m   1531\u001b[0m         \u001b[0;32melse\u001b[0m\u001b[0;34m:\u001b[0m\u001b[0;34m\u001b[0m\u001b[0;34m\u001b[0m\u001b[0m\n\u001b[0;32m-> 1532\u001b[0;31m             \u001b[0;32mreturn\u001b[0m \u001b[0mself\u001b[0m\u001b[0;34m.\u001b[0m\u001b[0m_call_impl\u001b[0m\u001b[0;34m(\u001b[0m\u001b[0;34m*\u001b[0m\u001b[0margs\u001b[0m\u001b[0;34m,\u001b[0m \u001b[0;34m**\u001b[0m\u001b[0mkwargs\u001b[0m\u001b[0;34m)\u001b[0m\u001b[0;34m\u001b[0m\u001b[0;34m\u001b[0m\u001b[0m\n\u001b[0m\u001b[1;32m   1533\u001b[0m \u001b[0;34m\u001b[0m\u001b[0m\n\u001b[1;32m   1534\u001b[0m     \u001b[0;32mdef\u001b[0m \u001b[0m_call_impl\u001b[0m\u001b[0;34m(\u001b[0m\u001b[0mself\u001b[0m\u001b[0;34m,\u001b[0m \u001b[0;34m*\u001b[0m\u001b[0margs\u001b[0m\u001b[0;34m,\u001b[0m \u001b[0;34m**\u001b[0m\u001b[0mkwargs\u001b[0m\u001b[0;34m)\u001b[0m\u001b[0;34m:\u001b[0m\u001b[0;34m\u001b[0m\u001b[0;34m\u001b[0m\u001b[0m\n",
            "\u001b[0;32m/usr/local/lib/python3.10/dist-packages/torch/nn/modules/module.py\u001b[0m in \u001b[0;36m_call_impl\u001b[0;34m(self, *args, **kwargs)\u001b[0m\n\u001b[1;32m   1539\u001b[0m                 \u001b[0;32mor\u001b[0m \u001b[0m_global_backward_pre_hooks\u001b[0m \u001b[0;32mor\u001b[0m \u001b[0m_global_backward_hooks\u001b[0m\u001b[0;34m\u001b[0m\u001b[0;34m\u001b[0m\u001b[0m\n\u001b[1;32m   1540\u001b[0m                 or _global_forward_hooks or _global_forward_pre_hooks):\n\u001b[0;32m-> 1541\u001b[0;31m             \u001b[0;32mreturn\u001b[0m \u001b[0mforward_call\u001b[0m\u001b[0;34m(\u001b[0m\u001b[0;34m*\u001b[0m\u001b[0margs\u001b[0m\u001b[0;34m,\u001b[0m \u001b[0;34m**\u001b[0m\u001b[0mkwargs\u001b[0m\u001b[0;34m)\u001b[0m\u001b[0;34m\u001b[0m\u001b[0;34m\u001b[0m\u001b[0m\n\u001b[0m\u001b[1;32m   1542\u001b[0m \u001b[0;34m\u001b[0m\u001b[0m\n\u001b[1;32m   1543\u001b[0m         \u001b[0;32mtry\u001b[0m\u001b[0;34m:\u001b[0m\u001b[0;34m\u001b[0m\u001b[0;34m\u001b[0m\u001b[0m\n",
            "\u001b[0;32m<ipython-input-125-9ffd1727caa6>\u001b[0m in \u001b[0;36mforward\u001b[0;34m(self, data)\u001b[0m\n\u001b[1;32m     21\u001b[0m \u001b[0;34m\u001b[0m\u001b[0m\n\u001b[1;32m     22\u001b[0m     \u001b[0;32mif\u001b[0m \u001b[0muse_edge_attr\u001b[0m\u001b[0;34m:\u001b[0m\u001b[0;34m\u001b[0m\u001b[0;34m\u001b[0m\u001b[0m\n\u001b[0;32m---> 23\u001b[0;31m       \u001b[0mx\u001b[0m \u001b[0;34m=\u001b[0m \u001b[0mself\u001b[0m\u001b[0;34m.\u001b[0m\u001b[0mconv1\u001b[0m\u001b[0;34m(\u001b[0m\u001b[0mx\u001b[0m\u001b[0;34m,\u001b[0m \u001b[0medge_index\u001b[0m\u001b[0;34m,\u001b[0m \u001b[0medge_attr\u001b[0m\u001b[0;34m)\u001b[0m\u001b[0;34m\u001b[0m\u001b[0;34m\u001b[0m\u001b[0m\n\u001b[0m\u001b[1;32m     24\u001b[0m       \u001b[0mx\u001b[0m \u001b[0;34m=\u001b[0m \u001b[0mF\u001b[0m\u001b[0;34m.\u001b[0m\u001b[0mleaky_relu\u001b[0m\u001b[0;34m(\u001b[0m\u001b[0mx\u001b[0m\u001b[0;34m)\u001b[0m\u001b[0;34m\u001b[0m\u001b[0;34m\u001b[0m\u001b[0m\n\u001b[1;32m     25\u001b[0m       \u001b[0mx\u001b[0m \u001b[0;34m=\u001b[0m \u001b[0mself\u001b[0m\u001b[0;34m.\u001b[0m\u001b[0mconv2\u001b[0m\u001b[0;34m(\u001b[0m\u001b[0mx\u001b[0m\u001b[0;34m,\u001b[0m \u001b[0medge_index\u001b[0m\u001b[0;34m,\u001b[0m \u001b[0medge_attr\u001b[0m\u001b[0;34m)\u001b[0m\u001b[0;34m\u001b[0m\u001b[0;34m\u001b[0m\u001b[0m\n",
            "\u001b[0;32m/usr/local/lib/python3.10/dist-packages/torch/nn/modules/module.py\u001b[0m in \u001b[0;36m_wrapped_call_impl\u001b[0;34m(self, *args, **kwargs)\u001b[0m\n\u001b[1;32m   1530\u001b[0m             \u001b[0;32mreturn\u001b[0m \u001b[0mself\u001b[0m\u001b[0;34m.\u001b[0m\u001b[0m_compiled_call_impl\u001b[0m\u001b[0;34m(\u001b[0m\u001b[0;34m*\u001b[0m\u001b[0margs\u001b[0m\u001b[0;34m,\u001b[0m \u001b[0;34m**\u001b[0m\u001b[0mkwargs\u001b[0m\u001b[0;34m)\u001b[0m  \u001b[0;31m# type: ignore[misc]\u001b[0m\u001b[0;34m\u001b[0m\u001b[0;34m\u001b[0m\u001b[0m\n\u001b[1;32m   1531\u001b[0m         \u001b[0;32melse\u001b[0m\u001b[0;34m:\u001b[0m\u001b[0;34m\u001b[0m\u001b[0;34m\u001b[0m\u001b[0m\n\u001b[0;32m-> 1532\u001b[0;31m             \u001b[0;32mreturn\u001b[0m \u001b[0mself\u001b[0m\u001b[0;34m.\u001b[0m\u001b[0m_call_impl\u001b[0m\u001b[0;34m(\u001b[0m\u001b[0;34m*\u001b[0m\u001b[0margs\u001b[0m\u001b[0;34m,\u001b[0m \u001b[0;34m**\u001b[0m\u001b[0mkwargs\u001b[0m\u001b[0;34m)\u001b[0m\u001b[0;34m\u001b[0m\u001b[0;34m\u001b[0m\u001b[0m\n\u001b[0m\u001b[1;32m   1533\u001b[0m \u001b[0;34m\u001b[0m\u001b[0m\n\u001b[1;32m   1534\u001b[0m     \u001b[0;32mdef\u001b[0m \u001b[0m_call_impl\u001b[0m\u001b[0;34m(\u001b[0m\u001b[0mself\u001b[0m\u001b[0;34m,\u001b[0m \u001b[0;34m*\u001b[0m\u001b[0margs\u001b[0m\u001b[0;34m,\u001b[0m \u001b[0;34m**\u001b[0m\u001b[0mkwargs\u001b[0m\u001b[0;34m)\u001b[0m\u001b[0;34m:\u001b[0m\u001b[0;34m\u001b[0m\u001b[0;34m\u001b[0m\u001b[0m\n",
            "\u001b[0;32m/usr/local/lib/python3.10/dist-packages/torch/nn/modules/module.py\u001b[0m in \u001b[0;36m_call_impl\u001b[0;34m(self, *args, **kwargs)\u001b[0m\n\u001b[1;32m   1539\u001b[0m                 \u001b[0;32mor\u001b[0m \u001b[0m_global_backward_pre_hooks\u001b[0m \u001b[0;32mor\u001b[0m \u001b[0m_global_backward_hooks\u001b[0m\u001b[0;34m\u001b[0m\u001b[0;34m\u001b[0m\u001b[0m\n\u001b[1;32m   1540\u001b[0m                 or _global_forward_hooks or _global_forward_pre_hooks):\n\u001b[0;32m-> 1541\u001b[0;31m             \u001b[0;32mreturn\u001b[0m \u001b[0mforward_call\u001b[0m\u001b[0;34m(\u001b[0m\u001b[0;34m*\u001b[0m\u001b[0margs\u001b[0m\u001b[0;34m,\u001b[0m \u001b[0;34m**\u001b[0m\u001b[0mkwargs\u001b[0m\u001b[0;34m)\u001b[0m\u001b[0;34m\u001b[0m\u001b[0;34m\u001b[0m\u001b[0m\n\u001b[0m\u001b[1;32m   1542\u001b[0m \u001b[0;34m\u001b[0m\u001b[0m\n\u001b[1;32m   1543\u001b[0m         \u001b[0;32mtry\u001b[0m\u001b[0;34m:\u001b[0m\u001b[0;34m\u001b[0m\u001b[0;34m\u001b[0m\u001b[0m\n",
            "\u001b[0;32m/usr/local/lib/python3.10/dist-packages/torch_geometric/nn/conv/gcn_conv.py\u001b[0m in \u001b[0;36mforward\u001b[0;34m(self, x, edge_index, edge_weight)\u001b[0m\n\u001b[1;32m    261\u001b[0m \u001b[0;34m\u001b[0m\u001b[0m\n\u001b[1;32m    262\u001b[0m         \u001b[0;31m# propagate_type: (x: Tensor, edge_weight: OptTensor)\u001b[0m\u001b[0;34m\u001b[0m\u001b[0;34m\u001b[0m\u001b[0m\n\u001b[0;32m--> 263\u001b[0;31m         \u001b[0mout\u001b[0m \u001b[0;34m=\u001b[0m \u001b[0mself\u001b[0m\u001b[0;34m.\u001b[0m\u001b[0mpropagate\u001b[0m\u001b[0;34m(\u001b[0m\u001b[0medge_index\u001b[0m\u001b[0;34m,\u001b[0m \u001b[0mx\u001b[0m\u001b[0;34m=\u001b[0m\u001b[0mx\u001b[0m\u001b[0;34m,\u001b[0m \u001b[0medge_weight\u001b[0m\u001b[0;34m=\u001b[0m\u001b[0medge_weight\u001b[0m\u001b[0;34m)\u001b[0m\u001b[0;34m\u001b[0m\u001b[0;34m\u001b[0m\u001b[0m\n\u001b[0m\u001b[1;32m    264\u001b[0m \u001b[0;34m\u001b[0m\u001b[0m\n\u001b[1;32m    265\u001b[0m         \u001b[0;32mif\u001b[0m \u001b[0mself\u001b[0m\u001b[0;34m.\u001b[0m\u001b[0mbias\u001b[0m \u001b[0;32mis\u001b[0m \u001b[0;32mnot\u001b[0m \u001b[0;32mNone\u001b[0m\u001b[0;34m:\u001b[0m\u001b[0;34m\u001b[0m\u001b[0;34m\u001b[0m\u001b[0m\n",
            "\u001b[0;32m/tmp/torch_geometric.nn.conv.gcn_conv_GCNConv_propagate_je1hkpw1.py\u001b[0m in \u001b[0;36mpropagate\u001b[0;34m(self, edge_index, x, edge_weight, size)\u001b[0m\n\u001b[1;32m    192\u001b[0m         \u001b[0;31m# End Message Forward Pre Hook #########################################\u001b[0m\u001b[0;34m\u001b[0m\u001b[0;34m\u001b[0m\u001b[0m\n\u001b[1;32m    193\u001b[0m \u001b[0;34m\u001b[0m\u001b[0m\n\u001b[0;32m--> 194\u001b[0;31m         out = self.message(\n\u001b[0m\u001b[1;32m    195\u001b[0m             \u001b[0mx_j\u001b[0m\u001b[0;34m=\u001b[0m\u001b[0mkwargs\u001b[0m\u001b[0;34m.\u001b[0m\u001b[0mx_j\u001b[0m\u001b[0;34m,\u001b[0m\u001b[0;34m\u001b[0m\u001b[0;34m\u001b[0m\u001b[0m\n\u001b[1;32m    196\u001b[0m             \u001b[0medge_weight\u001b[0m\u001b[0;34m=\u001b[0m\u001b[0mkwargs\u001b[0m\u001b[0;34m.\u001b[0m\u001b[0medge_weight\u001b[0m\u001b[0;34m,\u001b[0m\u001b[0;34m\u001b[0m\u001b[0;34m\u001b[0m\u001b[0m\n",
            "\u001b[0;32m/usr/local/lib/python3.10/dist-packages/torch_geometric/nn/conv/gcn_conv.py\u001b[0m in \u001b[0;36mmessage\u001b[0;34m(self, x_j, edge_weight)\u001b[0m\n\u001b[1;32m    269\u001b[0m \u001b[0;34m\u001b[0m\u001b[0m\n\u001b[1;32m    270\u001b[0m     \u001b[0;32mdef\u001b[0m \u001b[0mmessage\u001b[0m\u001b[0;34m(\u001b[0m\u001b[0mself\u001b[0m\u001b[0;34m,\u001b[0m \u001b[0mx_j\u001b[0m\u001b[0;34m:\u001b[0m \u001b[0mTensor\u001b[0m\u001b[0;34m,\u001b[0m \u001b[0medge_weight\u001b[0m\u001b[0;34m:\u001b[0m \u001b[0mOptTensor\u001b[0m\u001b[0;34m)\u001b[0m \u001b[0;34m->\u001b[0m \u001b[0mTensor\u001b[0m\u001b[0;34m:\u001b[0m\u001b[0;34m\u001b[0m\u001b[0;34m\u001b[0m\u001b[0m\n\u001b[0;32m--> 271\u001b[0;31m         \u001b[0;32mreturn\u001b[0m \u001b[0mx_j\u001b[0m \u001b[0;32mif\u001b[0m \u001b[0medge_weight\u001b[0m \u001b[0;32mis\u001b[0m \u001b[0;32mNone\u001b[0m \u001b[0;32melse\u001b[0m \u001b[0medge_weight\u001b[0m\u001b[0;34m.\u001b[0m\u001b[0mview\u001b[0m\u001b[0;34m(\u001b[0m\u001b[0;34m-\u001b[0m\u001b[0;36m1\u001b[0m\u001b[0;34m,\u001b[0m \u001b[0;36m1\u001b[0m\u001b[0;34m)\u001b[0m \u001b[0;34m*\u001b[0m \u001b[0mx_j\u001b[0m\u001b[0;34m\u001b[0m\u001b[0;34m\u001b[0m\u001b[0m\n\u001b[0m\u001b[1;32m    272\u001b[0m \u001b[0;34m\u001b[0m\u001b[0m\n\u001b[1;32m    273\u001b[0m     \u001b[0;32mdef\u001b[0m \u001b[0mmessage_and_aggregate\u001b[0m\u001b[0;34m(\u001b[0m\u001b[0mself\u001b[0m\u001b[0;34m,\u001b[0m \u001b[0madj_t\u001b[0m\u001b[0;34m:\u001b[0m \u001b[0mAdj\u001b[0m\u001b[0;34m,\u001b[0m \u001b[0mx\u001b[0m\u001b[0;34m:\u001b[0m \u001b[0mTensor\u001b[0m\u001b[0;34m)\u001b[0m \u001b[0;34m->\u001b[0m \u001b[0mTensor\u001b[0m\u001b[0;34m:\u001b[0m\u001b[0;34m\u001b[0m\u001b[0;34m\u001b[0m\u001b[0m\n",
            "\u001b[0;31mRuntimeError\u001b[0m: The size of tensor a (37730) must match the size of tensor b (3430) at non-singleton dimension 0"
          ]
        }
      ]
    },
    {
      "cell_type": "code",
      "source": [
        "auroc_metric = BinaryAUROC(thresholds=None)\n",
        "\n",
        "\n",
        "def metric_func(model, train_dataset, test_dataset):\n",
        "  train_probs = torch.empty(len(train_dataset))\n",
        "  train_preds = np.empty(len(train_dataset))\n",
        "  train_labels = torch.empty(len(train_dataset))\n",
        "\n",
        "  test_probs = torch.empty(len(test_dataset))\n",
        "  test_preds = np.empty(len(test_dataset))\n",
        "  test_labels = torch.empty(len(test_dataset))\n",
        "\n",
        "\n",
        "  with torch.inference_mode():\n",
        "    model.eval()\n",
        "    for i in range(len(train_dataset)):\n",
        "      train_probs[i] = model.forward(train_dataset[i].to(device)).cpu()[0][1].item()\n",
        "      train_preds[i] = model.forward(train_dataset[i].to(device)).cpu().argmax().item()\n",
        "      train_labels[i] = train_dataset[i].Class.item()\n",
        "    for i in range(len(test_dataset)):\n",
        "      test_probs[i] = model.forward(test_dataset[i].to(device)).cpu()[0][1].item()\n",
        "      test_preds[i] = model.forward(test_dataset[i].to(device)).cpu().argmax().item()\n",
        "      test_labels[i] = test_dataset[i].Class.item()\n",
        "\n",
        "    train_auroc = auroc_metric(train_probs, train_labels).item()\n",
        "    test_auroc = auroc_metric(test_probs, test_labels).item()\n",
        "\n",
        "  train_classification_report = classification_report(train_labels, train_preds, output_dict=True)\n",
        "  test_classification_report = classification_report(test_labels, test_preds, output_dict=True)\n",
        "\n",
        "  train_report_df = pd.DataFrame(data=train_classification_report).transpose()\n",
        "  test_report_df = pd.DataFrame(data=test_classification_report).transpose()\n",
        "\n",
        "  return train_auroc, test_auroc, train_report_df, test_report_df"
      ],
      "metadata": {
        "id": "a05FwyVBKXoU"
      },
      "execution_count": 82,
      "outputs": []
    },
    {
      "cell_type": "code",
      "source": [
        " train_auroc, test_auroc, train_report_df, test_report_df = metric_func(model, train_dataset, test_dataset)"
      ],
      "metadata": {
        "id": "1T5es6qjOTJA"
      },
      "execution_count": 111,
      "outputs": []
    },
    {
      "cell_type": "code",
      "source": [
        "def loss_and_acc_plots(results):\n",
        "\n",
        "  fig, ax = plt.subplots(ncols=2, nrows=1, figsize = (14,6))\n",
        "\n",
        "  ax[0].plot(results[\"epoch\"], results[\"train_loss\"], label=\"Train\");\n",
        "  ax[0].plot(results[\"epoch\"], results[\"test_loss\"],  label=\"Test\");\n",
        "\n",
        "  ax[1].plot(results[\"epoch\"], results[\"train_acc\"], label=\"Train\");\n",
        "  ax[1].plot(results[\"epoch\"], results[\"test_acc\"],  label=\"Test\");\n",
        "\n",
        "  ax[0].set_xlabel(\"Epochs\", size=14)\n",
        "  ax[0].set_ylabel(\"Loss\", size=14)\n",
        "\n",
        "  ax[1].set_xlabel(\"Epochs\", size=14)\n",
        "  ax[1].set_ylabel(\"Accuracy\", size=14)\n",
        "\n",
        "  ax[0].legend();\n",
        "  ax[1].legend();"
      ],
      "metadata": {
        "id": "n3jQLbnL_s_j"
      },
      "execution_count": 84,
      "outputs": []
    },
    {
      "cell_type": "code",
      "source": [
        "loss_and_acc_plots(results)"
      ],
      "metadata": {
        "id": "vnid4nZRdZRJ",
        "colab": {
          "base_uri": "https://localhost:8080/",
          "height": 547
        },
        "outputId": "fa9ec542-3fb3-4a2a-f8af-2e5be7259df3"
      },
      "execution_count": 117,
      "outputs": [
        {
          "output_type": "display_data",
          "data": {
            "text/plain": [
              "<Figure size 1400x600 with 2 Axes>"
            ],
            "image/png": "[encoded data removed]"
          },
          "metadata": {}
        }
      ]
    },
    {
      "cell_type": "code",
      "source": [
        "# GAT Classifier Training Run\n",
        "\n",
        "display(Javascript('''google.colab.output.setIframeHeight(0, true, {maxHeight: 300})'''))\n",
        "\n",
        "torch.manual_seed(42)\n",
        "\n",
        "train_dataloader = DataLoader(train_dataset, batch_size=32, shuffle=True)\n",
        "test_dataloader = DataLoader(test_dataset, batch_size=32, shuffle=True)\n",
        "\n",
        "# Number of features of the graphs\n",
        "num_features = next(iter(train_dataloader)).x.shape[1]\n",
        "num_hidden_channels = 64\n",
        "num_out_channels = 2\n",
        "heads=4\n",
        "nb_epochs = 150\n",
        "\n",
        "# Instantiating GAT Classifier\n",
        "gat_model = GATClassifier(num_features, num_hidden_channels, num_out_channels, heads)\n",
        "\n",
        "# Instantiate optimizer and loss function\n",
        "adam_optimizer = torch.optim.Adam(gat_model.parameters(), lr=0.001, weight_decay=1e-4)\n",
        "sgd_optimizer = torch.optim.SGD(gat_model.parameters())\n",
        "criterion = torch.nn.CrossEntropyLoss()\n",
        "\n",
        "\"\"\"\n",
        "gat_results = train(gat_model,\n",
        "      train_dataloader,\n",
        "      test_dataloader,\n",
        "      adam_optimizer,\n",
        "      loss_fn = criterion,\n",
        "      epochs = nb_epochs)\n",
        "\"\"\""
      ],
      "metadata": {
        "id": "1GUYuvqPwg57",
        "colab": {
          "base_uri": "https://localhost:8080/",
          "height": 53
        },
        "outputId": "cfc3317f-339b-4ff3-f045-14e2cc163541"
      },
      "execution_count": 86,
      "outputs": [
        {
          "output_type": "display_data",
          "data": {
            "text/plain": [
              "<IPython.core.display.Javascript object>"
            ],
            "application/javascript": [
              "google.colab.output.setIframeHeight(0, true, {maxHeight: 300})"
            ]
          },
          "metadata": {}
        },
        {
          "output_type": "execute_result",
          "data": {
            "text/plain": [
              "'\\ngat_results = train(gat_model,\\n      train_dataloader,\\n      test_dataloader,\\n      adam_optimizer,\\n      loss_fn = criterion,\\n      epochs = nb_epochs)\\n'"
            ],
            "application/vnd.google.colaboratory.intrinsic+json": {
              "type": "string"
            }
          },
          "metadata": {},
          "execution_count": 86
        }
      ]
    },
    {
      "cell_type": "code",
      "source": [
        "print(type(adam_optimizer))\n"
      ],
      "metadata": {
        "colab": {
          "base_uri": "https://localhost:8080/"
        },
        "id": "GUsaRid-ExtH",
        "outputId": "540a51b3-7e08-4a4b-b1bd-a01a7ec0b02c"
      },
      "execution_count": 98,
      "outputs": [
        {
          "output_type": "stream",
          "name": "stdout",
          "text": [
            "<class 'torch.optim.adam.Adam'>\n"
          ]
        }
      ]
    },
    {
      "cell_type": "code",
      "source": [
        "# loss_and_acc_plots(gat_results)"
      ],
      "metadata": {
        "id": "H8zTcwr0dhCZ"
      },
      "execution_count": 87,
      "outputs": []
    },
    {
      "cell_type": "code",
      "source": [
        "# GraphConv Classifier Training Run\n",
        "\n",
        "display(Javascript('''google.colab.output.setIframeHeight(0, true, {maxHeight: 300})'''))\n",
        "\n",
        "torch.manual_seed(42)\n",
        "\n",
        "train_dataloader = DataLoader(train_dataset, batch_size=32, shuffle=True)\n",
        "test_dataloader = DataLoader(test_dataset, batch_size=32, shuffle=True)\n",
        "\n",
        "# Number of features of the graphs\n",
        "num_features = next(iter(train_dataloader)).x.shape[1]\n",
        "num_hidden_channels = 64\n",
        "num_out_channels = 2\n",
        "nb_epochs = 150\n",
        "\n",
        "# Instantiating GAT Classifier\n",
        "graphconv_model = GraphConvClassifier(num_features, num_hidden_channels, num_out_channels)\n",
        "\n",
        "# Instantiate optimizer and loss function\n",
        "adam_optimizer = torch.optim.Adam(graphconv_model.parameters(), lr=0.001, weight_decay=1e-4)\n",
        "sgd_optimizer = torch.optim.SGD(graphconv_model.parameters())\n",
        "criterion = torch.nn.CrossEntropyLoss()\n",
        "\n",
        "\"\"\"\n",
        "graphconv_results = train(graphconv_model,\n",
        "      train_dataloader,\n",
        "      test_dataloader,\n",
        "      adam_optimizer,\n",
        "      loss_fn = criterion,\n",
        "      epochs = nb_epochs)\n",
        "\"\"\""
      ],
      "metadata": {
        "id": "I9JAhGQldmH1",
        "colab": {
          "base_uri": "https://localhost:8080/",
          "height": 53
        },
        "outputId": "f5eef9d5-3c67-4e45-bce2-600463be1932"
      },
      "execution_count": 88,
      "outputs": [
        {
          "output_type": "display_data",
          "data": {
            "text/plain": [
              "<IPython.core.display.Javascript object>"
            ],
            "application/javascript": [
              "google.colab.output.setIframeHeight(0, true, {maxHeight: 300})"
            ]
          },
          "metadata": {}
        },
        {
          "output_type": "execute_result",
          "data": {
            "text/plain": [
              "'\\ngraphconv_results = train(graphconv_model,\\n      train_dataloader,\\n      test_dataloader,\\n      adam_optimizer,\\n      loss_fn = criterion,\\n      epochs = nb_epochs)\\n'"
            ],
            "application/vnd.google.colaboratory.intrinsic+json": {
              "type": "string"
            }
          },
          "metadata": {},
          "execution_count": 88
        }
      ]
    },
    {
      "cell_type": "code",
      "source": [
        "# loss_and_acc_plots(graphconv_results)"
      ],
      "metadata": {
        "id": "Wu24X7iwehwx"
      },
      "execution_count": 89,
      "outputs": []
    },
    {
      "cell_type": "code",
      "source": [
        "# GINConv Classifier Training Run\n",
        "\n",
        "display(Javascript('''google.colab.output.setIframeHeight(0, true, {maxHeight: 300})'''))\n",
        "\n",
        "torch.manual_seed(42)\n",
        "\n",
        "train_dataloader = DataLoader(train_dataset, batch_size=32, shuffle=True)\n",
        "test_dataloader = DataLoader(test_dataset, batch_size=32, shuffle=True)\n",
        "\n",
        "# Number of features of the graphs\n",
        "num_features = next(iter(train_dataloader)).x.shape[1]\n",
        "num_hidden_channels = 64\n",
        "num_out_channels = 2\n",
        "num_layers = 3\n",
        "nb_epochs = 50\n",
        "\n",
        "# Instantiating GAT Classifier\n",
        "ginconv_model = GINConvClassifier(num_features, num_hidden_channels, num_out_channels, num_layers)\n",
        "\n",
        "# Instantiate optimizer and loss function\n",
        "adam_optimizer = torch.optim.Adam(ginconv_model.parameters(), lr=0.001, weight_decay=1e-4)\n",
        "sgd_optimizer = torch.optim.SGD(ginconv_model.parameters())\n",
        "criterion = torch.nn.CrossEntropyLoss()\n",
        "\n",
        "\n",
        "ginconv_results = train(ginconv_model,\n",
        "      train_dataloader,\n",
        "      test_dataloader,\n",
        "      adam_optimizer,\n",
        "      loss_fn = criterion,\n",
        "      epochs = nb_epochs)\n"
      ],
      "metadata": {
        "id": "EhY1id2V_tvn",
        "colab": {
          "base_uri": "https://localhost:8080/",
          "height": 300,
          "referenced_widgets": [
            "7d9a37828b0b46efa93c06d97a6380d7",
            "84e2d4cc1c694a2d8d750d1bb821a67c",
            "c3d0f9710bde49d0938b3dad046f9914",
            "de14f18bfb4c470d97998fe98bf99752",
            "7fa6bd1640e74591945afe45d5d66a4e",
            "12730ba5ec0146c8b2d52ce4a24a4bf9",
            "3eb65aa7c6384b678d36b9849a8ee7ec",
            "eceacd5509d9415da1aa495ab309355f",
            "45e795036e174660b9b9a860151ac72e",
            "cb0216cb4206445894af2537f789d172",
            "b84c3d83814341fd94e7b446f6c898e6"
          ]
        },
        "outputId": "662daf88-1874-4acb-8bdb-16e74d8219f8"
      },
      "execution_count": 92,
      "outputs": [
        {
          "output_type": "display_data",
          "data": {
            "text/plain": [
              "<IPython.core.display.Javascript object>"
            ],
            "application/javascript": [
              "google.colab.output.setIframeHeight(0, true, {maxHeight: 300})"
            ]
          },
          "metadata": {}
        },
        {
          "output_type": "display_data",
          "data": {
            "text/plain": [
              "  0%|          | 0/150 [00:00<?, ?it/s]"
            ],
            "application/vnd.jupyter.widget-view+json": {
              "version_major": 2,
              "version_minor": 0,
              "model_id": "7d9a37828b0b46efa93c06d97a6380d7"
            }
          },
          "metadata": {}
        },
        {
          "output_type": "stream",
          "name": "stdout",
          "text": [
            "Epoch: 0, Train loss: 0.0211, Train acc: 0.5645, Test loss: 0.6406, Test acc: 0.6671\n",
            "Epoch: 1, Train loss: 0.0175, Train acc: 0.7248, Test loss: 1.0069, Test acc: 0.5729\n",
            "Epoch: 2, Train loss: 0.0163, Train acc: 0.7438, Test loss: 1.0557, Test acc: 0.5702\n",
            "Epoch: 3, Train loss: 0.0166, Train acc: 0.7554, Test loss: 0.4983, Test acc: 0.7679\n",
            "Epoch: 4, Train loss: 0.0154, Train acc: 0.7727, Test loss: 0.5155, Test acc: 0.7617\n",
            "Epoch: 5, Train loss: 0.0145, Train acc: 0.7802, Test loss: 0.5491, Test acc: 0.7265\n",
            "Epoch: 6, Train loss: 0.0158, Train acc: 0.7545, Test loss: 0.4856, Test acc: 0.7671\n",
            "Epoch: 7, Train loss: 0.0148, Train acc: 0.7793, Test loss: 0.4949, Test acc: 0.7475\n",
            "Epoch: 8, Train loss: 0.0138, Train acc: 0.8000, Test loss: 0.4658, Test acc: 0.8090\n",
            "Epoch: 9, Train loss: 0.0137, Train acc: 0.8017, Test loss: 0.4674, Test acc: 0.7929\n",
            "Epoch: 10, Train loss: 0.0135, Train acc: 0.8066, Test loss: 0.4755, Test acc: 0.7956\n",
            "Epoch: 11, Train loss: 0.0136, Train acc: 0.7983, Test loss: 0.4424, Test acc: 0.8094\n",
            "Epoch: 12, Train loss: 0.0135, Train acc: 0.8124, Test loss: 0.4113, Test acc: 0.8113\n",
            "Epoch: 13, Train loss: 0.0127, Train acc: 0.8215, Test loss: 0.4660, Test acc: 0.7921\n",
            "Epoch: 14, Train loss: 0.0132, Train acc: 0.8190, Test loss: 0.5495, Test acc: 0.7398\n",
            "Epoch: 15, Train loss: 0.0128, Train acc: 0.8107, Test loss: 0.5254, Test acc: 0.7438\n",
            "Epoch: 16, Train loss: 0.0128, Train acc: 0.8116, Test loss: 0.4240, Test acc: 0.8171\n",
            "Epoch: 17, Train loss: 0.0122, Train acc: 0.8380, Test loss: 0.5239, Test acc: 0.7577\n",
            "Epoch: 18, Train loss: 0.0124, Train acc: 0.8281, Test loss: 0.4280, Test acc: 0.8031\n",
            "Epoch: 19, Train loss: 0.0121, Train acc: 0.8281, Test loss: 0.4511, Test acc: 0.7925\n",
            "Epoch: 20, Train loss: 0.0124, Train acc: 0.8223, Test loss: 0.4283, Test acc: 0.8054\n",
            "Epoch: 21, Train loss: 0.0121, Train acc: 0.8298, Test loss: 0.4445, Test acc: 0.7921\n",
            "Epoch: 22, Train loss: 0.0121, Train acc: 0.8306, Test loss: 0.4110, Test acc: 0.8179\n",
            "Epoch: 23, Train loss: 0.0117, Train acc: 0.8372, Test loss: 0.4140, Test acc: 0.8340\n",
            "Epoch: 24, Train loss: 0.0121, Train acc: 0.8264, Test loss: 0.4432, Test acc: 0.8042\n",
            "Epoch: 25, Train loss: 0.0115, Train acc: 0.8421, Test loss: 0.4447, Test acc: 0.7831\n",
            "Epoch: 26, Train loss: 0.0115, Train acc: 0.8455, Test loss: 0.4186, Test acc: 0.8019\n",
            "Epoch: 27, Train loss: 0.0105, Train acc: 0.8587, Test loss: 0.4729, Test acc: 0.8144\n",
            "Epoch: 28, Train loss: 0.0106, Train acc: 0.8603, Test loss: 0.4463, Test acc: 0.8183\n",
            "Epoch: 29, Train loss: 0.0120, Train acc: 0.8331, Test loss: 0.4259, Test acc: 0.7983\n",
            "Epoch: 30, Train loss: 0.0112, Train acc: 0.8587, Test loss: 0.4736, Test acc: 0.7733\n",
            "Epoch: 31, Train loss: 0.0106, Train acc: 0.8521, Test loss: 0.4312, Test acc: 0.8113\n",
            "Epoch: 32, Train loss: 0.0106, Train acc: 0.8595, Test loss: 0.4510, Test acc: 0.8140\n",
            "Epoch: 33, Train loss: 0.0108, Train acc: 0.8496, Test loss: 0.4239, Test acc: 0.8010\n",
            "Epoch: 34, Train loss: 0.0105, Train acc: 0.8529, Test loss: 0.4682, Test acc: 0.7800\n",
            "Epoch: 35, Train loss: 0.0103, Train acc: 0.8570, Test loss: 0.3985, Test acc: 0.8148\n",
            "Epoch: 36, Train loss: 0.0105, Train acc: 0.8496, Test loss: 0.3898, Test acc: 0.8242\n",
            "Epoch: 37, Train loss: 0.0107, Train acc: 0.8504, Test loss: 0.4023, Test acc: 0.8273\n",
            "Epoch: 38, Train loss: 0.0103, Train acc: 0.8570, Test loss: 0.4215, Test acc: 0.8121\n",
            "Epoch: 39, Train loss: 0.0095, Train acc: 0.8736, Test loss: 0.4528, Test acc: 0.7948\n",
            "Epoch: 40, Train loss: 0.0092, Train acc: 0.8826, Test loss: 0.4681, Test acc: 0.8058\n",
            "Epoch: 41, Train loss: 0.0104, Train acc: 0.8612, Test loss: 0.4140, Test acc: 0.8117\n",
            "Epoch: 42, Train loss: 0.0106, Train acc: 0.8512, Test loss: 0.3888, Test acc: 0.8269\n",
            "Epoch: 43, Train loss: 0.0096, Train acc: 0.8636, Test loss: 0.4903, Test acc: 0.8050\n",
            "Epoch: 44, Train loss: 0.0098, Train acc: 0.8612, Test loss: 0.4043, Test acc: 0.8238\n",
            "Epoch: 45, Train loss: 0.0098, Train acc: 0.8678, Test loss: 0.4182, Test acc: 0.8246\n",
            "Epoch: 46, Train loss: 0.0090, Train acc: 0.8785, Test loss: 0.4937, Test acc: 0.8050\n",
            "Epoch: 47, Train loss: 0.0089, Train acc: 0.8793, Test loss: 0.4383, Test acc: 0.8023\n",
            "Epoch: 48, Train loss: 0.0094, Train acc: 0.8785, Test loss: 0.4333, Test acc: 0.8081\n",
            "Epoch: 49, Train loss: 0.0089, Train acc: 0.8736, Test loss: 0.5464, Test acc: 0.7729\n",
            "Epoch: 50, Train loss: 0.0095, Train acc: 0.8793, Test loss: 0.4268, Test acc: 0.8171\n",
            "Epoch: 51, Train loss: 0.0091, Train acc: 0.8876, Test loss: 0.4261, Test acc: 0.8140\n",
            "Epoch: 52, Train loss: 0.0084, Train acc: 0.8909, Test loss: 0.4909, Test acc: 0.7979\n",
            "Epoch: 53, Train loss: 0.0089, Train acc: 0.8769, Test loss: 0.4679, Test acc: 0.8238\n",
            "Epoch: 54, Train loss: 0.0090, Train acc: 0.8736, Test loss: 0.4225, Test acc: 0.8206\n",
            "Epoch: 55, Train loss: 0.0087, Train acc: 0.8884, Test loss: 0.4653, Test acc: 0.8242\n",
            "Epoch: 56, Train loss: 0.0092, Train acc: 0.8694, Test loss: 0.4128, Test acc: 0.8406\n",
            "Epoch: 57, Train loss: 0.0083, Train acc: 0.8876, Test loss: 0.4522, Test acc: 0.8219\n",
            "Epoch: 58, Train loss: 0.0086, Train acc: 0.8851, Test loss: 0.5094, Test acc: 0.7921\n",
            "Epoch: 59, Train loss: 0.0095, Train acc: 0.8595, Test loss: 0.4590, Test acc: 0.8015\n",
            "Epoch: 60, Train loss: 0.0087, Train acc: 0.8826, Test loss: 0.4521, Test acc: 0.8171\n",
            "Epoch: 61, Train loss: 0.0086, Train acc: 0.8876, Test loss: 0.4611, Test acc: 0.7992\n",
            "Epoch: 62, Train loss: 0.0084, Train acc: 0.8843, Test loss: 0.4842, Test acc: 0.7898\n",
            "Epoch: 63, Train loss: 0.0080, Train acc: 0.8967, Test loss: 0.5306, Test acc: 0.7902\n",
            "Epoch: 64, Train loss: 0.0082, Train acc: 0.8843, Test loss: 0.5059, Test acc: 0.8260\n",
            "Epoch: 65, Train loss: 0.0081, Train acc: 0.8860, Test loss: 0.5060, Test acc: 0.8117\n",
            "Epoch: 66, Train loss: 0.0082, Train acc: 0.8909, Test loss: 0.5030, Test acc: 0.7948\n",
            "Epoch: 67, Train loss: 0.0079, Train acc: 0.8942, Test loss: 0.4446, Test acc: 0.8277\n",
            "Epoch: 68, Train loss: 0.0077, Train acc: 0.8884, Test loss: 0.4460, Test acc: 0.8238\n",
            "Epoch: 69, Train loss: 0.0072, Train acc: 0.9058, Test loss: 0.4879, Test acc: 0.8308\n",
            "Epoch: 70, Train loss: 0.0081, Train acc: 0.8926, Test loss: 0.5125, Test acc: 0.8202\n",
            "Epoch: 71, Train loss: 0.0073, Train acc: 0.9017, Test loss: 0.5016, Test acc: 0.7925\n",
            "Epoch: 72, Train loss: 0.0074, Train acc: 0.9083, Test loss: 0.5294, Test acc: 0.8010\n",
            "Epoch: 73, Train loss: 0.0086, Train acc: 0.8802, Test loss: 0.4448, Test acc: 0.8113\n",
            "Epoch: 74, Train loss: 0.0082, Train acc: 0.8884, Test loss: 0.5016, Test acc: 0.7979\n",
            "Epoch: 75, Train loss: 0.0087, Train acc: 0.8810, Test loss: 0.5043, Test acc: 0.8210\n",
            "Epoch: 76, Train loss: 0.0076, Train acc: 0.8983, Test loss: 0.5200, Test acc: 0.8163\n",
            "Epoch: 77, Train loss: 0.0071, Train acc: 0.9033, Test loss: 0.5117, Test acc: 0.7912\n",
            "Epoch: 78, Train loss: 0.0075, Train acc: 0.8983, Test loss: 0.4742, Test acc: 0.8085\n",
            "Epoch: 79, Train loss: 0.0072, Train acc: 0.9058, Test loss: 0.4957, Test acc: 0.7979\n",
            "Epoch: 80, Train loss: 0.0079, Train acc: 0.8884, Test loss: 0.4674, Test acc: 0.8077\n",
            "Epoch: 81, Train loss: 0.0072, Train acc: 0.9074, Test loss: 0.4957, Test acc: 0.7960\n",
            "Epoch: 82, Train loss: 0.0075, Train acc: 0.9025, Test loss: 0.5134, Test acc: 0.8090\n",
            "Epoch: 83, Train loss: 0.0072, Train acc: 0.9008, Test loss: 0.5465, Test acc: 0.7988\n",
            "Epoch: 84, Train loss: 0.0067, Train acc: 0.9116, Test loss: 0.5407, Test acc: 0.7921\n",
            "Epoch: 85, Train loss: 0.0068, Train acc: 0.9083, Test loss: 0.4811, Test acc: 0.8273\n",
            "Epoch: 86, Train loss: 0.0070, Train acc: 0.9041, Test loss: 0.5738, Test acc: 0.8019\n",
            "Epoch: 87, Train loss: 0.0064, Train acc: 0.9124, Test loss: 0.5788, Test acc: 0.7890\n",
            "Epoch: 88, Train loss: 0.0063, Train acc: 0.9132, Test loss: 0.5711, Test acc: 0.8148\n",
            "Epoch: 89, Train loss: 0.0068, Train acc: 0.9124, Test loss: 0.6115, Test acc: 0.8179\n",
            "Epoch: 90, Train loss: 0.0069, Train acc: 0.9140, Test loss: 0.6371, Test acc: 0.7823\n",
            "Epoch: 91, Train loss: 0.0074, Train acc: 0.9008, Test loss: 0.4842, Test acc: 0.8027\n",
            "Epoch: 92, Train loss: 0.0064, Train acc: 0.9099, Test loss: 0.7720, Test acc: 0.7756\n",
            "Epoch: 93, Train loss: 0.0072, Train acc: 0.9033, Test loss: 0.7809, Test acc: 0.7835\n",
            "Epoch: 94, Train loss: 0.0067, Train acc: 0.9091, Test loss: 0.4566, Test acc: 0.8313\n",
            "Epoch: 95, Train loss: 0.0066, Train acc: 0.9124, Test loss: 0.6338, Test acc: 0.7988\n",
            "Epoch: 96, Train loss: 0.0060, Train acc: 0.9165, Test loss: 0.5748, Test acc: 0.8246\n",
            "Epoch: 97, Train loss: 0.0065, Train acc: 0.9058, Test loss: 0.5216, Test acc: 0.8140\n",
            "Epoch: 98, Train loss: 0.0059, Train acc: 0.9223, Test loss: 0.5817, Test acc: 0.8215\n",
            "Epoch: 99, Train loss: 0.0056, Train acc: 0.9273, Test loss: 0.6055, Test acc: 0.8175\n",
            "Epoch: 100, Train loss: 0.0068, Train acc: 0.9083, Test loss: 0.5451, Test acc: 0.8210\n",
            "Epoch: 101, Train loss: 0.0060, Train acc: 0.9198, Test loss: 0.6096, Test acc: 0.7894\n",
            "Epoch: 102, Train loss: 0.0065, Train acc: 0.9165, Test loss: 0.5784, Test acc: 0.7890\n",
            "Epoch: 103, Train loss: 0.0058, Train acc: 0.9174, Test loss: 0.6375, Test acc: 0.8250\n",
            "Epoch: 104, Train loss: 0.0058, Train acc: 0.9215, Test loss: 0.6901, Test acc: 0.7885\n",
            "Epoch: 105, Train loss: 0.0065, Train acc: 0.9240, Test loss: 0.6050, Test acc: 0.7921\n",
            "Epoch: 106, Train loss: 0.0057, Train acc: 0.9223, Test loss: 0.6623, Test acc: 0.8156\n",
            "Epoch: 107, Train loss: 0.0061, Train acc: 0.9116, Test loss: 0.7036, Test acc: 0.8108\n",
            "Epoch: 108, Train loss: 0.0059, Train acc: 0.9107, Test loss: 0.6722, Test acc: 0.7760\n",
            "Epoch: 109, Train loss: 0.0058, Train acc: 0.9165, Test loss: 0.6560, Test acc: 0.8050\n",
            "Epoch: 110, Train loss: 0.0055, Train acc: 0.9207, Test loss: 0.6219, Test acc: 0.8179\n",
            "Epoch: 111, Train loss: 0.0051, Train acc: 0.9273, Test loss: 0.7041, Test acc: 0.7983\n",
            "Epoch: 112, Train loss: 0.0058, Train acc: 0.9198, Test loss: 0.6372, Test acc: 0.8054\n",
            "Epoch: 113, Train loss: 0.0057, Train acc: 0.9215, Test loss: 0.6704, Test acc: 0.7871\n",
            "Epoch: 114, Train loss: 0.0058, Train acc: 0.9107, Test loss: 0.7241, Test acc: 0.7831\n",
            "Epoch: 115, Train loss: 0.0056, Train acc: 0.9198, Test loss: 0.6223, Test acc: 0.8148\n",
            "Epoch: 116, Train loss: 0.0049, Train acc: 0.9298, Test loss: 0.6652, Test acc: 0.7952\n",
            "Epoch: 117, Train loss: 0.0053, Train acc: 0.9207, Test loss: 0.6665, Test acc: 0.8023\n",
            "Epoch: 118, Train loss: 0.0049, Train acc: 0.9314, Test loss: 0.7094, Test acc: 0.8015\n",
            "Epoch: 119, Train loss: 0.0060, Train acc: 0.9182, Test loss: 0.5746, Test acc: 0.7965\n",
            "Epoch: 120, Train loss: 0.0049, Train acc: 0.9281, Test loss: 0.6736, Test acc: 0.8175\n",
            "Epoch: 121, Train loss: 0.0052, Train acc: 0.9256, Test loss: 0.7091, Test acc: 0.7796\n",
            "Epoch: 122, Train loss: 0.0052, Train acc: 0.9264, Test loss: 0.7961, Test acc: 0.7627\n",
            "Epoch: 123, Train loss: 0.0051, Train acc: 0.9289, Test loss: 0.6714, Test acc: 0.8273\n",
            "Epoch: 124, Train loss: 0.0056, Train acc: 0.9198, Test loss: 0.6764, Test acc: 0.7921\n",
            "Epoch: 125, Train loss: 0.0055, Train acc: 0.9231, Test loss: 0.6441, Test acc: 0.8054\n",
            "Epoch: 126, Train loss: 0.0053, Train acc: 0.9231, Test loss: 0.6422, Test acc: 0.8085\n",
            "Epoch: 127, Train loss: 0.0053, Train acc: 0.9231, Test loss: 0.6316, Test acc: 0.8054\n",
            "Epoch: 128, Train loss: 0.0050, Train acc: 0.9388, Test loss: 0.7136, Test acc: 0.7877\n",
            "Epoch: 129, Train loss: 0.0049, Train acc: 0.9322, Test loss: 0.6150, Test acc: 0.8183\n",
            "Epoch: 130, Train loss: 0.0048, Train acc: 0.9347, Test loss: 0.6902, Test acc: 0.7952\n",
            "Epoch: 131, Train loss: 0.0055, Train acc: 0.9322, Test loss: 0.6847, Test acc: 0.7792\n",
            "Epoch: 132, Train loss: 0.0048, Train acc: 0.9298, Test loss: 0.7980, Test acc: 0.7890\n",
            "Epoch: 133, Train loss: 0.0049, Train acc: 0.9273, Test loss: 0.6357, Test acc: 0.8085\n",
            "Epoch: 134, Train loss: 0.0053, Train acc: 0.9264, Test loss: 0.7711, Test acc: 0.8046\n",
            "Epoch: 135, Train loss: 0.0046, Train acc: 0.9347, Test loss: 0.9758, Test acc: 0.7569\n",
            "Epoch: 136, Train loss: 0.0052, Train acc: 0.9256, Test loss: 0.7452, Test acc: 0.7908\n",
            "Epoch: 137, Train loss: 0.0045, Train acc: 0.9388, Test loss: 0.8058, Test acc: 0.8019\n",
            "Epoch: 138, Train loss: 0.0046, Train acc: 0.9397, Test loss: 0.8092, Test acc: 0.8050\n",
            "Epoch: 139, Train loss: 0.0048, Train acc: 0.9314, Test loss: 0.7331, Test acc: 0.7835\n",
            "Epoch: 140, Train loss: 0.0054, Train acc: 0.9248, Test loss: 0.5690, Test acc: 0.8242\n",
            "Epoch: 141, Train loss: 0.0046, Train acc: 0.9372, Test loss: 0.5848, Test acc: 0.8175\n",
            "Epoch: 142, Train loss: 0.0041, Train acc: 0.9446, Test loss: 0.7273, Test acc: 0.7752\n",
            "Epoch: 143, Train loss: 0.0038, Train acc: 0.9430, Test loss: 0.7819, Test acc: 0.8023\n",
            "Epoch: 144, Train loss: 0.0048, Train acc: 0.9339, Test loss: 0.8087, Test acc: 0.7925\n",
            "Epoch: 145, Train loss: 0.0055, Train acc: 0.9264, Test loss: 0.7014, Test acc: 0.7894\n",
            "Epoch: 146, Train loss: 0.0047, Train acc: 0.9364, Test loss: 0.7004, Test acc: 0.8202\n",
            "Epoch: 147, Train loss: 0.0051, Train acc: 0.9273, Test loss: 0.6371, Test acc: 0.8125\n",
            "Epoch: 148, Train loss: 0.0047, Train acc: 0.9355, Test loss: 0.6076, Test acc: 0.8277\n",
            "Epoch: 149, Train loss: 0.0045, Train acc: 0.9372, Test loss: 0.6448, Test acc: 0.8183\n"
          ]
        }
      ]
    },
    {
      "cell_type": "code",
      "source": [
        "loss_and_acc_plots(graphconv_results)"
      ],
      "metadata": {
        "colab": {
          "base_uri": "https://localhost:8080/",
          "height": 547
        },
        "id": "wJgO-hRKCz86",
        "outputId": "6fa0db17-087f-4288-867d-2f56c1f2c466"
      },
      "execution_count": 94,
      "outputs": [
        {
          "output_type": "display_data",
          "data": {
            "text/plain": [
              "<Figure size 1400x600 with 2 Axes>"
            ],
            "image/png": "[encoded data removed]"
          },
          "metadata": {}
        }
      ]
    },
    {
      "cell_type": "code",
      "source": [
        "# gat_train_auroc, gat_test_auroc, gat_train_report_df, gat_test_report_df = metric_func(gat_model, train_dataset, test_dataset)"
      ],
      "metadata": {
        "id": "L_Evj6J_fv7V"
      },
      "execution_count": null,
      "outputs": []
    },
    {
      "cell_type": "code",
      "source": [
        "\n",
        "print(\"GCN results:\")\n",
        "display(\"train AUC:\", train_auroc, \"test AUC:\", test_auroc, train_report_df, test_report_df)\n",
        "\"\"\"\n",
        "print(\"GAT results:\")\n",
        "display(\"train AUC:\", gat_train_auroc, \"test AUC:\", gat_test_auroc, gat_train_report_df, gat_test_report_df)\n",
        "\"\"\""
      ],
      "metadata": {
        "id": "Ob5052BFgZfR",
        "colab": {
          "base_uri": "https://localhost:8080/",
          "height": 504
        },
        "outputId": "c81f0624-e30f-4f0e-9b42-5e1a5638c515"
      },
      "execution_count": 115,
      "outputs": [
        {
          "output_type": "stream",
          "name": "stdout",
          "text": [
            "GCN results:\n"
          ]
        },
        {
          "output_type": "display_data",
          "data": {
            "text/plain": [
              "'train AUC:'"
            ],
            "application/vnd.google.colaboratory.intrinsic+json": {
              "type": "string"
            }
          },
          "metadata": {}
        },
        {
          "output_type": "display_data",
          "data": {
            "text/plain": [
              "0.8737850785255432"
            ]
          },
          "metadata": {}
        },
        {
          "output_type": "display_data",
          "data": {
            "text/plain": [
              "'test AUC:'"
            ],
            "application/vnd.google.colaboratory.intrinsic+json": {
              "type": "string"
            }
          },
          "metadata": {}
        },
        {
          "output_type": "display_data",
          "data": {
            "text/plain": [
              "0.841396152973175"
            ]
          },
          "metadata": {}
        },
        {
          "output_type": "display_data",
          "data": {
            "text/plain": [
              "              precision    recall  f1-score      support\n",
              "0.0            0.880719  0.815431  0.846819   661.000000\n",
              "1.0            0.795987  0.867031  0.829991   549.000000\n",
              "accuracy       0.838843  0.838843  0.838843     0.838843\n",
              "macro avg      0.838353  0.841231  0.838405  1210.000000\n",
              "weighted avg   0.842274  0.838843  0.839184  1210.000000"
            ],
            "text/html": [
              "\n",
              "  <div id=\"df-34a30c8a-cc47-4d9f-8805-f44ef1805311\" class=\"colab-df-container\">\n",
              "    <div>\n",
              "<style scoped>\n",
              "    .dataframe tbody tr th:only-of-type {\n",
              "        vertical-align: middle;\n",
              "    }\n",
              "\n",
              "    .dataframe tbody tr th {\n",
              "        vertical-align: top;\n",
              "    }\n",
              "\n",
              "    .dataframe thead th {\n",
              "        text-align: right;\n",
              "    }\n",
              "</style>\n",
              "<table border=\"1\" class=\"dataframe\">\n",
              "  <thead>\n",
              "    <tr style=\"text-align: right;\">\n",
              "      <th></th>\n",
              "      <th>precision</th>\n",
              "      <th>recall</th>\n",
              "      <th>f1-score</th>\n",
              "      <th>support</th>\n",
              "    </tr>\n",
              "  </thead>\n",
              "  <tbody>\n",
              "    <tr>\n",
              "      <th>0.0</th>\n",
              "      <td>0.880719</td>\n",
              "      <td>0.815431</td>\n",
              "      <td>0.846819</td>\n",
              "      <td>661.000000</td>\n",
              "    </tr>\n",
              "    <tr>\n",
              "      <th>1.0</th>\n",
              "      <td>0.795987</td>\n",
              "      <td>0.867031</td>\n",
              "      <td>0.829991</td>\n",
              "      <td>549.000000</td>\n",
              "    </tr>\n",
              "    <tr>\n",
              "      <th>accuracy</th>\n",
              "      <td>0.838843</td>\n",
              "      <td>0.838843</td>\n",
              "      <td>0.838843</td>\n",
              "      <td>0.838843</td>\n",
              "    </tr>\n",
              "    <tr>\n",
              "      <th>macro avg</th>\n",
              "      <td>0.838353</td>\n",
              "      <td>0.841231</td>\n",
              "      <td>0.838405</td>\n",
              "      <td>1210.000000</td>\n",
              "    </tr>\n",
              "    <tr>\n",
              "      <th>weighted avg</th>\n",
              "      <td>0.842274</td>\n",
              "      <td>0.838843</td>\n",
              "      <td>0.839184</td>\n",
              "      <td>1210.000000</td>\n",
              "    </tr>\n",
              "  </tbody>\n",
              "</table>\n",
              "</div>\n",
              "    <div class=\"colab-df-buttons\">\n",
              "\n",
              "  <div class=\"colab-df-container\">\n",
              "    <button class=\"colab-df-convert\" onclick=\"convertToInteractive('df-34a30c8a-cc47-4d9f-8805-f44ef1805311')\"\n",
              "            title=\"Convert this dataframe to an interactive table.\"\n",
              "            style=\"display:none;\">\n",
              "\n",
              "  <svg xmlns=\"http://www.w3.org/2000/svg\" height=\"24px\" viewBox=\"0 -960 960 960\">\n",
              "    <path d=\"M120-120v-720h720v720H120Zm60-500h600v-160H180v160Zm220 220h160v-160H400v160Zm0 220h160v-160H400v160ZM180-400h160v-160H180v160Zm440 0h160v-160H620v160ZM180-180h160v-160H180v160Zm440 0h160v-160H620v160Z\"/>\n",
              "  </svg>\n",
              "    </button>\n",
              "\n",
              "  <style>\n",
              "    .colab-df-container {\n",
              "      display:flex;\n",
              "      gap: 12px;\n",
              "    }\n",
              "\n",
              "    .colab-df-convert {\n",
              "      background-color: #E8F0FE;\n",
              "      border: none;\n",
              "      border-radius: 50%;\n",
              "      cursor: pointer;\n",
              "      display: none;\n",
              "      fill: #1967D2;\n",
              "      height: 32px;\n",
              "      padding: 0 0 0 0;\n",
              "      width: 32px;\n",
              "    }\n",
              "\n",
              "    .colab-df-convert:hover {\n",
              "      background-color: #E2EBFA;\n",
              "      box-shadow: 0px 1px 2px rgba(60, 64, 67, 0.3), 0px 1px 3px 1px rgba(60, 64, 67, 0.15);\n",
              "      fill: #174EA6;\n",
              "    }\n",
              "\n",
              "    .colab-df-buttons div {\n",
              "      margin-bottom: 4px;\n",
              "    }\n",
              "\n",
              "    [theme=dark] .colab-df-convert {\n",
              "      background-color: #3B4455;\n",
              "      fill: #D2E3FC;\n",
              "    }\n",
              "\n",
              "    [theme=dark] .colab-df-convert:hover {\n",
              "      background-color: #434B5C;\n",
              "      box-shadow: 0px 1px 3px 1px rgba(0, 0, 0, 0.15);\n",
              "      filter: drop-shadow(0px 1px 2px rgba(0, 0, 0, 0.3));\n",
              "      fill: #FFFFFF;\n",
              "    }\n",
              "  </style>\n",
              "\n",
              "    <script>\n",
              "      const buttonEl =\n",
              "        document.querySelector('#df-34a30c8a-cc47-4d9f-8805-f44ef1805311 button.colab-df-convert');\n",
              "      buttonEl.style.display =\n",
              "        google.colab.kernel.accessAllowed ? 'block' : 'none';\n",
              "\n",
              "      async function convertToInteractive(key) {\n",
              "        const element = document.querySelector('#df-34a30c8a-cc47-4d9f-8805-f44ef1805311');\n",
              "        const dataTable =\n",
              "          await google.colab.kernel.invokeFunction('convertToInteractive',\n",
              "                                                    [key], {});\n",
              "        if (!dataTable) return;\n",
              "\n",
              "        const docLinkHtml = 'Like what you see? Visit the ' +\n",
              "          '<a target=\"_blank\" href=https://colab.research.google.com/notebooks/data_table.ipynb>data table notebook</a>'\n",
              "          + ' to learn more about interactive tables.';\n",
              "        element.innerHTML = '';\n",
              "        dataTable['output_type'] = 'display_data';\n",
              "        await google.colab.output.renderOutput(dataTable, element);\n",
              "        const docLink = document.createElement('div');\n",
              "        docLink.innerHTML = docLinkHtml;\n",
              "        element.appendChild(docLink);\n",
              "      }\n",
              "    </script>\n",
              "  </div>\n",
              "\n",
              "\n",
              "<div id=\"df-a22ffef7-b745-435c-896c-24ed5de8f871\">\n",
              "  <button class=\"colab-df-quickchart\" onclick=\"quickchart('df-a22ffef7-b745-435c-896c-24ed5de8f871')\"\n",
              "            title=\"Suggest charts\"\n",
              "            style=\"display:none;\">\n",
              "\n",
              "<svg xmlns=\"http://www.w3.org/2000/svg\" height=\"24px\"viewBox=\"0 0 24 24\"\n",
              "     width=\"24px\">\n",
              "    <g>\n",
              "        <path d=\"M19 3H5c-1.1 0-2 .9-2 2v14c0 1.1.9 2 2 2h14c1.1 0 2-.9 2-2V5c0-1.1-.9-2-2-2zM9 17H7v-7h2v7zm4 0h-2V7h2v10zm4 0h-2v-4h2v4z\"/>\n",
              "    </g>\n",
              "</svg>\n",
              "  </button>\n",
              "\n",
              "<style>\n",
              "  .colab-df-quickchart {\n",
              "      --bg-color: #E8F0FE;\n",
              "      --fill-color: #1967D2;\n",
              "      --hover-bg-color: #E2EBFA;\n",
              "      --hover-fill-color: #174EA6;\n",
              "      --disabled-fill-color: #AAA;\n",
              "      --disabled-bg-color: #DDD;\n",
              "  }\n",
              "\n",
              "  [theme=dark] .colab-df-quickchart {\n",
              "      --bg-color: #3B4455;\n",
              "      --fill-color: #D2E3FC;\n",
              "      --hover-bg-color: #434B5C;\n",
              "      --hover-fill-color: #FFFFFF;\n",
              "      --disabled-bg-color: #3B4455;\n",
              "      --disabled-fill-color: #666;\n",
              "  }\n",
              "\n",
              "  .colab-df-quickchart {\n",
              "    background-color: var(--bg-color);\n",
              "    border: none;\n",
              "    border-radius: 50%;\n",
              "    cursor: pointer;\n",
              "    display: none;\n",
              "    fill: var(--fill-color);\n",
              "    height: 32px;\n",
              "    padding: 0;\n",
              "    width: 32px;\n",
              "  }\n",
              "\n",
              "  .colab-df-quickchart:hover {\n",
              "    background-color: var(--hover-bg-color);\n",
              "    box-shadow: 0 1px 2px rgba(60, 64, 67, 0.3), 0 1px 3px 1px rgba(60, 64, 67, 0.15);\n",
              "    fill: var(--button-hover-fill-color);\n",
              "  }\n",
              "\n",
              "  .colab-df-quickchart-complete:disabled,\n",
              "  .colab-df-quickchart-complete:disabled:hover {\n",
              "    background-color: var(--disabled-bg-color);\n",
              "    fill: var(--disabled-fill-color);\n",
              "    box-shadow: none;\n",
              "  }\n",
              "\n",
              "  .colab-df-spinner {\n",
              "    border: 2px solid var(--fill-color);\n",
              "    border-color: transparent;\n",
              "    border-bottom-color: var(--fill-color);\n",
              "    animation:\n",
              "      spin 1s steps(1) infinite;\n",
              "  }\n",
              "\n",
              "  @keyframes spin {\n",
              "    0% {\n",
              "      border-color: transparent;\n",
              "      border-bottom-color: var(--fill-color);\n",
              "      border-left-color: var(--fill-color);\n",
              "    }\n",
              "    20% {\n",
              "      border-color: transparent;\n",
              "      border-left-color: var(--fill-color);\n",
              "      border-top-color: var(--fill-color);\n",
              "    }\n",
              "    30% {\n",
              "      border-color: transparent;\n",
              "      border-left-color: var(--fill-color);\n",
              "      border-top-color: var(--fill-color);\n",
              "      border-right-color: var(--fill-color);\n",
              "    }\n",
              "    40% {\n",
              "      border-color: transparent;\n",
              "      border-right-color: var(--fill-color);\n",
              "      border-top-color: var(--fill-color);\n",
              "    }\n",
              "    60% {\n",
              "      border-color: transparent;\n",
              "      border-right-color: var(--fill-color);\n",
              "    }\n",
              "    80% {\n",
              "      border-color: transparent;\n",
              "      border-right-color: var(--fill-color);\n",
              "      border-bottom-color: var(--fill-color);\n",
              "    }\n",
              "    90% {\n",
              "      border-color: transparent;\n",
              "      border-bottom-color: var(--fill-color);\n",
              "    }\n",
              "  }\n",
              "</style>\n",
              "\n",
              "  <script>\n",
              "    async function quickchart(key) {\n",
              "      const quickchartButtonEl =\n",
              "        document.querySelector('#' + key + ' button');\n",
              "      quickchartButtonEl.disabled = true;  // To prevent multiple clicks.\n",
              "      quickchartButtonEl.classList.add('colab-df-spinner');\n",
              "      try {\n",
              "        const charts = await google.colab.kernel.invokeFunction(\n",
              "            'suggestCharts', [key], {});\n",
              "      } catch (error) {\n",
              "        console.error('Error during call to suggestCharts:', error);\n",
              "      }\n",
              "      quickchartButtonEl.classList.remove('colab-df-spinner');\n",
              "      quickchartButtonEl.classList.add('colab-df-quickchart-complete');\n",
              "    }\n",
              "    (() => {\n",
              "      let quickchartButtonEl =\n",
              "        document.querySelector('#df-a22ffef7-b745-435c-896c-24ed5de8f871 button');\n",
              "      quickchartButtonEl.style.display =\n",
              "        google.colab.kernel.accessAllowed ? 'block' : 'none';\n",
              "    })();\n",
              "  </script>\n",
              "</div>\n",
              "    </div>\n",
              "  </div>\n"
            ],
            "application/vnd.google.colaboratory.intrinsic+json": {
              "type": "dataframe",
              "variable_name": "train_report_df",
              "summary": "{\n  \"name\": \"train_report_df\",\n  \"rows\": 5,\n  \"fields\": [\n    {\n      \"column\": \"precision\",\n      \"properties\": {\n        \"dtype\": \"number\",\n        \"std\": 0.030006290527434518,\n        \"min\": 0.7959866220735786,\n        \"max\": 0.880718954248366,\n        \"num_unique_values\": 5,\n        \"samples\": [\n          0.7959866220735786,\n          0.8422742845260863,\n          0.8388429752066116\n        ],\n        \"semantic_type\": \"\",\n        \"description\": \"\"\n      }\n    },\n    {\n      \"column\": \"recall\",\n      \"properties\": {\n        \"dtype\": \"number\",\n        \"std\": 0.018290115319317284,\n        \"min\": 0.8154311649016641,\n        \"max\": 0.8670309653916212,\n        \"num_unique_values\": 4,\n        \"samples\": [\n          0.8670309653916212,\n          0.8412310651466426,\n          0.8154311649016641\n        ],\n        \"semantic_type\": \"\",\n        \"description\": \"\"\n      }\n    },\n    {\n      \"column\": \"f1-score\",\n      \"properties\": {\n        \"dtype\": \"number\",\n        \"std\": 0.005959877367955136,\n        \"min\": 0.8299912816041849,\n        \"max\": 0.8468185388845247,\n        \"num_unique_values\": 5,\n        \"samples\": [\n          0.8299912816041849,\n          0.839183692399478,\n          0.8388429752066116\n        ],\n        \"semantic_type\": \"\",\n        \"description\": \"\"\n      }\n    },\n    {\n      \"column\": \"support\",\n      \"properties\": {\n        \"dtype\": \"number\",\n        \"std\": 507.42599532494137,\n        \"min\": 0.8388429752066116,\n        \"max\": 1210.0,\n        \"num_unique_values\": 4,\n        \"samples\": [\n          549.0,\n          1210.0,\n          661.0\n        ],\n        \"semantic_type\": \"\",\n        \"description\": \"\"\n      }\n    }\n  ]\n}"
            }
          },
          "metadata": {}
        },
        {
          "output_type": "display_data",
          "data": {
            "text/plain": [
              "              precision    recall  f1-score    support\n",
              "0.0            0.852113  0.751553   0.79868  161.00000\n",
              "1.0            0.751553  0.852113   0.79868  142.00000\n",
              "accuracy       0.798680  0.798680   0.79868    0.79868\n",
              "macro avg      0.801833  0.801833   0.79868  303.00000\n",
              "weighted avg   0.804986  0.798680   0.79868  303.00000"
            ],
            "text/html": [
              "\n",
              "  <div id=\"df-ee6a7566-918f-44e2-814f-2da431727116\" class=\"colab-df-container\">\n",
              "    <div>\n",
              "<style scoped>\n",
              "    .dataframe tbody tr th:only-of-type {\n",
              "        vertical-align: middle;\n",
              "    }\n",
              "\n",
              "    .dataframe tbody tr th {\n",
              "        vertical-align: top;\n",
              "    }\n",
              "\n",
              "    .dataframe thead th {\n",
              "        text-align: right;\n",
              "    }\n",
              "</style>\n",
              "<table border=\"1\" class=\"dataframe\">\n",
              "  <thead>\n",
              "    <tr style=\"text-align: right;\">\n",
              "      <th></th>\n",
              "      <th>precision</th>\n",
              "      <th>recall</th>\n",
              "      <th>f1-score</th>\n",
              "      <th>support</th>\n",
              "    </tr>\n",
              "  </thead>\n",
              "  <tbody>\n",
              "    <tr>\n",
              "      <th>0.0</th>\n",
              "      <td>0.852113</td>\n",
              "      <td>0.751553</td>\n",
              "      <td>0.79868</td>\n",
              "      <td>161.00000</td>\n",
              "    </tr>\n",
              "    <tr>\n",
              "      <th>1.0</th>\n",
              "      <td>0.751553</td>\n",
              "      <td>0.852113</td>\n",
              "      <td>0.79868</td>\n",
              "      <td>142.00000</td>\n",
              "    </tr>\n",
              "    <tr>\n",
              "      <th>accuracy</th>\n",
              "      <td>0.798680</td>\n",
              "      <td>0.798680</td>\n",
              "      <td>0.79868</td>\n",
              "      <td>0.79868</td>\n",
              "    </tr>\n",
              "    <tr>\n",
              "      <th>macro avg</th>\n",
              "      <td>0.801833</td>\n",
              "      <td>0.801833</td>\n",
              "      <td>0.79868</td>\n",
              "      <td>303.00000</td>\n",
              "    </tr>\n",
              "    <tr>\n",
              "      <th>weighted avg</th>\n",
              "      <td>0.804986</td>\n",
              "      <td>0.798680</td>\n",
              "      <td>0.79868</td>\n",
              "      <td>303.00000</td>\n",
              "    </tr>\n",
              "  </tbody>\n",
              "</table>\n",
              "</div>\n",
              "    <div class=\"colab-df-buttons\">\n",
              "\n",
              "  <div class=\"colab-df-container\">\n",
              "    <button class=\"colab-df-convert\" onclick=\"convertToInteractive('df-ee6a7566-918f-44e2-814f-2da431727116')\"\n",
              "            title=\"Convert this dataframe to an interactive table.\"\n",
              "            style=\"display:none;\">\n",
              "\n",
              "  <svg xmlns=\"http://www.w3.org/2000/svg\" height=\"24px\" viewBox=\"0 -960 960 960\">\n",
              "    <path d=\"M120-120v-720h720v720H120Zm60-500h600v-160H180v160Zm220 220h160v-160H400v160Zm0 220h160v-160H400v160ZM180-400h160v-160H180v160Zm440 0h160v-160H620v160ZM180-180h160v-160H180v160Zm440 0h160v-160H620v160Z\"/>\n",
              "  </svg>\n",
              "    </button>\n",
              "\n",
              "  <style>\n",
              "    .colab-df-container {\n",
              "      display:flex;\n",
              "      gap: 12px;\n",
              "    }\n",
              "\n",
              "    .colab-df-convert {\n",
              "      background-color: #E8F0FE;\n",
              "      border: none;\n",
              "      border-radius: 50%;\n",
              "      cursor: pointer;\n",
              "      display: none;\n",
              "      fill: #1967D2;\n",
              "      height: 32px;\n",
              "      padding: 0 0 0 0;\n",
              "      width: 32px;\n",
              "    }\n",
              "\n",
              "    .colab-df-convert:hover {\n",
              "      background-color: #E2EBFA;\n",
              "      box-shadow: 0px 1px 2px rgba(60, 64, 67, 0.3), 0px 1px 3px 1px rgba(60, 64, 67, 0.15);\n",
              "      fill: #174EA6;\n",
              "    }\n",
              "\n",
              "    .colab-df-buttons div {\n",
              "      margin-bottom: 4px;\n",
              "    }\n",
              "\n",
              "    [theme=dark] .colab-df-convert {\n",
              "      background-color: #3B4455;\n",
              "      fill: #D2E3FC;\n",
              "    }\n",
              "\n",
              "    [theme=dark] .colab-df-convert:hover {\n",
              "      background-color: #434B5C;\n",
              "      box-shadow: 0px 1px 3px 1px rgba(0, 0, 0, 0.15);\n",
              "      filter: drop-shadow(0px 1px 2px rgba(0, 0, 0, 0.3));\n",
              "      fill: #FFFFFF;\n",
              "    }\n",
              "  </style>\n",
              "\n",
              "    <script>\n",
              "      const buttonEl =\n",
              "        document.querySelector('#df-ee6a7566-918f-44e2-814f-2da431727116 button.colab-df-convert');\n",
              "      buttonEl.style.display =\n",
              "        google.colab.kernel.accessAllowed ? 'block' : 'none';\n",
              "\n",
              "      async function convertToInteractive(key) {\n",
              "        const element = document.querySelector('#df-ee6a7566-918f-44e2-814f-2da431727116');\n",
              "        const dataTable =\n",
              "          await google.colab.kernel.invokeFunction('convertToInteractive',\n",
              "                                                    [key], {});\n",
              "        if (!dataTable) return;\n",
              "\n",
              "        const docLinkHtml = 'Like what you see? Visit the ' +\n",
              "          '<a target=\"_blank\" href=https://colab.research.google.com/notebooks/data_table.ipynb>data table notebook</a>'\n",
              "          + ' to learn more about interactive tables.';\n",
              "        element.innerHTML = '';\n",
              "        dataTable['output_type'] = 'display_data';\n",
              "        await google.colab.output.renderOutput(dataTable, element);\n",
              "        const docLink = document.createElement('div');\n",
              "        docLink.innerHTML = docLinkHtml;\n",
              "        element.appendChild(docLink);\n",
              "      }\n",
              "    </script>\n",
              "  </div>\n",
              "\n",
              "\n",
              "<div id=\"df-5f3f2e7c-728e-4bd8-93f0-db0039de8e43\">\n",
              "  <button class=\"colab-df-quickchart\" onclick=\"quickchart('df-5f3f2e7c-728e-4bd8-93f0-db0039de8e43')\"\n",
              "            title=\"Suggest charts\"\n",
              "            style=\"display:none;\">\n",
              "\n",
              "<svg xmlns=\"http://www.w3.org/2000/svg\" height=\"24px\"viewBox=\"0 0 24 24\"\n",
              "     width=\"24px\">\n",
              "    <g>\n",
              "        <path d=\"M19 3H5c-1.1 0-2 .9-2 2v14c0 1.1.9 2 2 2h14c1.1 0 2-.9 2-2V5c0-1.1-.9-2-2-2zM9 17H7v-7h2v7zm4 0h-2V7h2v10zm4 0h-2v-4h2v4z\"/>\n",
              "    </g>\n",
              "</svg>\n",
              "  </button>\n",
              "\n",
              "<style>\n",
              "  .colab-df-quickchart {\n",
              "      --bg-color: #E8F0FE;\n",
              "      --fill-color: #1967D2;\n",
              "      --hover-bg-color: #E2EBFA;\n",
              "      --hover-fill-color: #174EA6;\n",
              "      --disabled-fill-color: #AAA;\n",
              "      --disabled-bg-color: #DDD;\n",
              "  }\n",
              "\n",
              "  [theme=dark] .colab-df-quickchart {\n",
              "      --bg-color: #3B4455;\n",
              "      --fill-color: #D2E3FC;\n",
              "      --hover-bg-color: #434B5C;\n",
              "      --hover-fill-color: #FFFFFF;\n",
              "      --disabled-bg-color: #3B4455;\n",
              "      --disabled-fill-color: #666;\n",
              "  }\n",
              "\n",
              "  .colab-df-quickchart {\n",
              "    background-color: var(--bg-color);\n",
              "    border: none;\n",
              "    border-radius: 50%;\n",
              "    cursor: pointer;\n",
              "    display: none;\n",
              "    fill: var(--fill-color);\n",
              "    height: 32px;\n",
              "    padding: 0;\n",
              "    width: 32px;\n",
              "  }\n",
              "\n",
              "  .colab-df-quickchart:hover {\n",
              "    background-color: var(--hover-bg-color);\n",
              "    box-shadow: 0 1px 2px rgba(60, 64, 67, 0.3), 0 1px 3px 1px rgba(60, 64, 67, 0.15);\n",
              "    fill: var(--button-hover-fill-color);\n",
              "  }\n",
              "\n",
              "  .colab-df-quickchart-complete:disabled,\n",
              "  .colab-df-quickchart-complete:disabled:hover {\n",
              "    background-color: var(--disabled-bg-color);\n",
              "    fill: var(--disabled-fill-color);\n",
              "    box-shadow: none;\n",
              "  }\n",
              "\n",
              "  .colab-df-spinner {\n",
              "    border: 2px solid var(--fill-color);\n",
              "    border-color: transparent;\n",
              "    border-bottom-color: var(--fill-color);\n",
              "    animation:\n",
              "      spin 1s steps(1) infinite;\n",
              "  }\n",
              "\n",
              "  @keyframes spin {\n",
              "    0% {\n",
              "      border-color: transparent;\n",
              "      border-bottom-color: var(--fill-color);\n",
              "      border-left-color: var(--fill-color);\n",
              "    }\n",
              "    20% {\n",
              "      border-color: transparent;\n",
              "      border-left-color: var(--fill-color);\n",
              "      border-top-color: var(--fill-color);\n",
              "    }\n",
              "    30% {\n",
              "      border-color: transparent;\n",
              "      border-left-color: var(--fill-color);\n",
              "      border-top-color: var(--fill-color);\n",
              "      border-right-color: var(--fill-color);\n",
              "    }\n",
              "    40% {\n",
              "      border-color: transparent;\n",
              "      border-right-color: var(--fill-color);\n",
              "      border-top-color: var(--fill-color);\n",
              "    }\n",
              "    60% {\n",
              "      border-color: transparent;\n",
              "      border-right-color: var(--fill-color);\n",
              "    }\n",
              "    80% {\n",
              "      border-color: transparent;\n",
              "      border-right-color: var(--fill-color);\n",
              "      border-bottom-color: var(--fill-color);\n",
              "    }\n",
              "    90% {\n",
              "      border-color: transparent;\n",
              "      border-bottom-color: var(--fill-color);\n",
              "    }\n",
              "  }\n",
              "</style>\n",
              "\n",
              "  <script>\n",
              "    async function quickchart(key) {\n",
              "      const quickchartButtonEl =\n",
              "        document.querySelector('#' + key + ' button');\n",
              "      quickchartButtonEl.disabled = true;  // To prevent multiple clicks.\n",
              "      quickchartButtonEl.classList.add('colab-df-spinner');\n",
              "      try {\n",
              "        const charts = await google.colab.kernel.invokeFunction(\n",
              "            'suggestCharts', [key], {});\n",
              "      } catch (error) {\n",
              "        console.error('Error during call to suggestCharts:', error);\n",
              "      }\n",
              "      quickchartButtonEl.classList.remove('colab-df-spinner');\n",
              "      quickchartButtonEl.classList.add('colab-df-quickchart-complete');\n",
              "    }\n",
              "    (() => {\n",
              "      let quickchartButtonEl =\n",
              "        document.querySelector('#df-5f3f2e7c-728e-4bd8-93f0-db0039de8e43 button');\n",
              "      quickchartButtonEl.style.display =\n",
              "        google.colab.kernel.accessAllowed ? 'block' : 'none';\n",
              "    })();\n",
              "  </script>\n",
              "</div>\n",
              "    </div>\n",
              "  </div>\n"
            ],
            "application/vnd.google.colaboratory.intrinsic+json": {
              "type": "dataframe",
              "variable_name": "test_report_df",
              "summary": "{\n  \"name\": \"test_report_df\",\n  \"rows\": 5,\n  \"fields\": [\n    {\n      \"column\": \"precision\",\n      \"properties\": {\n        \"dtype\": \"number\",\n        \"std\": 0.03562311743647702,\n        \"min\": 0.7515527950310559,\n        \"max\": 0.852112676056338,\n        \"num_unique_values\": 5,\n        \"samples\": [\n          0.7515527950310559,\n          0.8049856031005953,\n          0.7986798679867987\n        ],\n        \"semantic_type\": \"\",\n        \"description\": \"\"\n      }\n    },\n    {\n      \"column\": \"recall\",\n      \"properties\": {\n        \"dtype\": \"number\",\n        \"std\": 0.035595201658745586,\n        \"min\": 0.7515527950310559,\n        \"max\": 0.852112676056338,\n        \"num_unique_values\": 4,\n        \"samples\": [\n          0.852112676056338,\n          0.8018327355436969,\n          0.7515527950310559\n        ],\n        \"semantic_type\": \"\",\n        \"description\": \"\"\n      }\n    },\n    {\n      \"column\": \"f1-score\",\n      \"properties\": {\n        \"dtype\": \"number\",\n        \"std\": 0.0,\n        \"min\": 0.7986798679867987,\n        \"max\": 0.7986798679867987,\n        \"num_unique_values\": 1,\n        \"samples\": [\n          0.7986798679867987\n        ],\n        \"semantic_type\": \"\",\n        \"description\": \"\"\n      }\n    },\n    {\n      \"column\": \"support\",\n      \"properties\": {\n        \"dtype\": \"number\",\n        \"std\": 126.64607209821513,\n        \"min\": 0.7986798679867987,\n        \"max\": 303.0,\n        \"num_unique_values\": 4,\n        \"samples\": [\n          142.0\n        ],\n        \"semantic_type\": \"\",\n        \"description\": \"\"\n      }\n    }\n  ]\n}"
            }
          },
          "metadata": {}
        },
        {
          "output_type": "execute_result",
          "data": {
            "text/plain": [
              "'\\nprint(\"GAT results:\")\\ndisplay(\"train AUC:\", gat_train_auroc, \"test AUC:\", gat_test_auroc, gat_train_report_df, gat_test_report_df)\\n'"
            ],
            "application/vnd.google.colaboratory.intrinsic+json": {
              "type": "string"
            }
          },
          "metadata": {},
          "execution_count": 115
        }
      ]
    }
  ]
}