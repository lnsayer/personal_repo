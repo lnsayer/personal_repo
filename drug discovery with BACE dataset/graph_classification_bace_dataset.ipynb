{
  "nbformat": 4,
  "nbformat_minor": 0,
  "metadata": {
    "colab": {
      "provenance": [],
      "gpuType": "T4",
      "authorship_tag": "ABX9TyMIzLTgdvW1HMrUVV0flkCw",
      "include_colab_link": true
    },
    "kernelspec": {
      "name": "python3",
      "display_name": "Python 3"
    },
    "language_info": {
      "name": "python"
    },
    "widgets": {
      "application/vnd.jupyter.widget-state+json": {
        "a1da7a6346174265a9fb6bc670347af9": {
          "model_module": "@jupyter-widgets/controls",
          "model_name": "HBoxModel",
          "model_module_version": "1.5.0",
          "state": {
            "_dom_classes": [],
            "_model_module": "@jupyter-widgets/controls",
            "_model_module_version": "1.5.0",
            "_model_name": "HBoxModel",
            "_view_count": null,
            "_view_module": "@jupyter-widgets/controls",
            "_view_module_version": "1.5.0",
            "_view_name": "HBoxView",
            "box_style": "",
            "children": [
              "IPY_MODEL_b9c5a68743684fc1b4f2ddc2cfaa8935",
              "IPY_MODEL_438aa935e96b451a91220ab662de324b",
              "IPY_MODEL_06a84e16cb804b0389d44b8e81bc5c43"
            ],
            "layout": "IPY_MODEL_9dfd1a8fd7714c44bb6e2a5af0fd53e3"
          }
        },
        "b9c5a68743684fc1b4f2ddc2cfaa8935": {
          "model_module": "@jupyter-widgets/controls",
          "model_name": "HTMLModel",
          "model_module_version": "1.5.0",
          "state": {
            "_dom_classes": [],
            "_model_module": "@jupyter-widgets/controls",
            "_model_module_version": "1.5.0",
            "_model_name": "HTMLModel",
            "_view_count": null,
            "_view_module": "@jupyter-widgets/controls",
            "_view_module_version": "1.5.0",
            "_view_name": "HTMLView",
            "description": "",
            "description_tooltip": null,
            "layout": "IPY_MODEL_296804ecdace4eb3ac3d80f918a1c875",
            "placeholder": "​",
            "style": "IPY_MODEL_1964d7fea599469c995daeaca7c42658",
            "value": "100%"
          }
        },
        "438aa935e96b451a91220ab662de324b": {
          "model_module": "@jupyter-widgets/controls",
          "model_name": "FloatProgressModel",
          "model_module_version": "1.5.0",
          "state": {
            "_dom_classes": [],
            "_model_module": "@jupyter-widgets/controls",
            "_model_module_version": "1.5.0",
            "_model_name": "FloatProgressModel",
            "_view_count": null,
            "_view_module": "@jupyter-widgets/controls",
            "_view_module_version": "1.5.0",
            "_view_name": "ProgressView",
            "bar_style": "success",
            "description": "",
            "description_tooltip": null,
            "layout": "IPY_MODEL_8c50ce085217418c8f98fb48616e8a7b",
            "max": 50,
            "min": 0,
            "orientation": "horizontal",
            "style": "IPY_MODEL_977a810f672e4b04a5d75f9450e58021",
            "value": 50
          }
        },
        "06a84e16cb804b0389d44b8e81bc5c43": {
          "model_module": "@jupyter-widgets/controls",
          "model_name": "HTMLModel",
          "model_module_version": "1.5.0",
          "state": {
            "_dom_classes": [],
            "_model_module": "@jupyter-widgets/controls",
            "_model_module_version": "1.5.0",
            "_model_name": "HTMLModel",
            "_view_count": null,
            "_view_module": "@jupyter-widgets/controls",
            "_view_module_version": "1.5.0",
            "_view_name": "HTMLView",
            "description": "",
            "description_tooltip": null,
            "layout": "IPY_MODEL_e419c1aecae84047aa941ca751fba26d",
            "placeholder": "​",
            "style": "IPY_MODEL_96edf4c52cce44e1ae1c307a807a72c9",
            "value": " 50/50 [00:00&lt;00:00, 61.82it/s]"
          }
        },
        "9dfd1a8fd7714c44bb6e2a5af0fd53e3": {
          "model_module": "@jupyter-widgets/base",
          "model_name": "LayoutModel",
          "model_module_version": "1.2.0",
          "state": {
            "_model_module": "@jupyter-widgets/base",
            "_model_module_version": "1.2.0",
            "_model_name": "LayoutModel",
            "_view_count": null,
            "_view_module": "@jupyter-widgets/base",
            "_view_module_version": "1.2.0",
            "_view_name": "LayoutView",
            "align_content": null,
            "align_items": null,
            "align_self": null,
            "border": null,
            "bottom": null,
            "display": null,
            "flex": null,
            "flex_flow": null,
            "grid_area": null,
            "grid_auto_columns": null,
            "grid_auto_flow": null,
            "grid_auto_rows": null,
            "grid_column": null,
            "grid_gap": null,
            "grid_row": null,
            "grid_template_areas": null,
            "grid_template_columns": null,
            "grid_template_rows": null,
            "height": null,
            "justify_content": null,
            "justify_items": null,
            "left": null,
            "margin": null,
            "max_height": null,
            "max_width": null,
            "min_height": null,
            "min_width": null,
            "object_fit": null,
            "object_position": null,
            "order": null,
            "overflow": null,
            "overflow_x": null,
            "overflow_y": null,
            "padding": null,
            "right": null,
            "top": null,
            "visibility": null,
            "width": null
          }
        },
        "296804ecdace4eb3ac3d80f918a1c875": {
          "model_module": "@jupyter-widgets/base",
          "model_name": "LayoutModel",
          "model_module_version": "1.2.0",
          "state": {
            "_model_module": "@jupyter-widgets/base",
            "_model_module_version": "1.2.0",
            "_model_name": "LayoutModel",
            "_view_count": null,
            "_view_module": "@jupyter-widgets/base",
            "_view_module_version": "1.2.0",
            "_view_name": "LayoutView",
            "align_content": null,
            "align_items": null,
            "align_self": null,
            "border": null,
            "bottom": null,
            "display": null,
            "flex": null,
            "flex_flow": null,
            "grid_area": null,
            "grid_auto_columns": null,
            "grid_auto_flow": null,
            "grid_auto_rows": null,
            "grid_column": null,
            "grid_gap": null,
            "grid_row": null,
            "grid_template_areas": null,
            "grid_template_columns": null,
            "grid_template_rows": null,
            "height": null,
            "justify_content": null,
            "justify_items": null,
            "left": null,
            "margin": null,
            "max_height": null,
            "max_width": null,
            "min_height": null,
            "min_width": null,
            "object_fit": null,
            "object_position": null,
            "order": null,
            "overflow": null,
            "overflow_x": null,
            "overflow_y": null,
            "padding": null,
            "right": null,
            "top": null,
            "visibility": null,
            "width": null
          }
        },
        "1964d7fea599469c995daeaca7c42658": {
          "model_module": "@jupyter-widgets/controls",
          "model_name": "DescriptionStyleModel",
          "model_module_version": "1.5.0",
          "state": {
            "_model_module": "@jupyter-widgets/controls",
            "_model_module_version": "1.5.0",
            "_model_name": "DescriptionStyleModel",
            "_view_count": null,
            "_view_module": "@jupyter-widgets/base",
            "_view_module_version": "1.2.0",
            "_view_name": "StyleView",
            "description_width": ""
          }
        },
        "8c50ce085217418c8f98fb48616e8a7b": {
          "model_module": "@jupyter-widgets/base",
          "model_name": "LayoutModel",
          "model_module_version": "1.2.0",
          "state": {
            "_model_module": "@jupyter-widgets/base",
            "_model_module_version": "1.2.0",
            "_model_name": "LayoutModel",
            "_view_count": null,
            "_view_module": "@jupyter-widgets/base",
            "_view_module_version": "1.2.0",
            "_view_name": "LayoutView",
            "align_content": null,
            "align_items": null,
            "align_self": null,
            "border": null,
            "bottom": null,
            "display": null,
            "flex": null,
            "flex_flow": null,
            "grid_area": null,
            "grid_auto_columns": null,
            "grid_auto_flow": null,
            "grid_auto_rows": null,
            "grid_column": null,
            "grid_gap": null,
            "grid_row": null,
            "grid_template_areas": null,
            "grid_template_columns": null,
            "grid_template_rows": null,
            "height": null,
            "justify_content": null,
            "justify_items": null,
            "left": null,
            "margin": null,
            "max_height": null,
            "max_width": null,
            "min_height": null,
            "min_width": null,
            "object_fit": null,
            "object_position": null,
            "order": null,
            "overflow": null,
            "overflow_x": null,
            "overflow_y": null,
            "padding": null,
            "right": null,
            "top": null,
            "visibility": null,
            "width": null
          }
        },
        "977a810f672e4b04a5d75f9450e58021": {
          "model_module": "@jupyter-widgets/controls",
          "model_name": "ProgressStyleModel",
          "model_module_version": "1.5.0",
          "state": {
            "_model_module": "@jupyter-widgets/controls",
            "_model_module_version": "1.5.0",
            "_model_name": "ProgressStyleModel",
            "_view_count": null,
            "_view_module": "@jupyter-widgets/base",
            "_view_module_version": "1.2.0",
            "_view_name": "StyleView",
            "bar_color": null,
            "description_width": ""
          }
        },
        "e419c1aecae84047aa941ca751fba26d": {
          "model_module": "@jupyter-widgets/base",
          "model_name": "LayoutModel",
          "model_module_version": "1.2.0",
          "state": {
            "_model_module": "@jupyter-widgets/base",
            "_model_module_version": "1.2.0",
            "_model_name": "LayoutModel",
            "_view_count": null,
            "_view_module": "@jupyter-widgets/base",
            "_view_module_version": "1.2.0",
            "_view_name": "LayoutView",
            "align_content": null,
            "align_items": null,
            "align_self": null,
            "border": null,
            "bottom": null,
            "display": null,
            "flex": null,
            "flex_flow": null,
            "grid_area": null,
            "grid_auto_columns": null,
            "grid_auto_flow": null,
            "grid_auto_rows": null,
            "grid_column": null,
            "grid_gap": null,
            "grid_row": null,
            "grid_template_areas": null,
            "grid_template_columns": null,
            "grid_template_rows": null,
            "height": null,
            "justify_content": null,
            "justify_items": null,
            "left": null,
            "margin": null,
            "max_height": null,
            "max_width": null,
            "min_height": null,
            "min_width": null,
            "object_fit": null,
            "object_position": null,
            "order": null,
            "overflow": null,
            "overflow_x": null,
            "overflow_y": null,
            "padding": null,
            "right": null,
            "top": null,
            "visibility": null,
            "width": null
          }
        },
        "96edf4c52cce44e1ae1c307a807a72c9": {
          "model_module": "@jupyter-widgets/controls",
          "model_name": "DescriptionStyleModel",
          "model_module_version": "1.5.0",
          "state": {
            "_model_module": "@jupyter-widgets/controls",
            "_model_module_version": "1.5.0",
            "_model_name": "DescriptionStyleModel",
            "_view_count": null,
            "_view_module": "@jupyter-widgets/base",
            "_view_module_version": "1.2.0",
            "_view_name": "StyleView",
            "description_width": ""
          }
        },
        "fd1f099290954e89b9515a550552f414": {
          "model_module": "@jupyter-widgets/controls",
          "model_name": "HBoxModel",
          "model_module_version": "1.5.0",
          "state": {
            "_dom_classes": [],
            "_model_module": "@jupyter-widgets/controls",
            "_model_module_version": "1.5.0",
            "_model_name": "HBoxModel",
            "_view_count": null,
            "_view_module": "@jupyter-widgets/controls",
            "_view_module_version": "1.5.0",
            "_view_name": "HBoxView",
            "box_style": "",
            "children": [
              "IPY_MODEL_3145159cd2b14925a00deece23b81fb0",
              "IPY_MODEL_6c3d15e1a5474a37b608074b63c78d41",
              "IPY_MODEL_92ab127d11dc4026a250151e1f413f81"
            ],
            "layout": "IPY_MODEL_8331df85cc784c04af5f80f697e13d9d"
          }
        },
        "3145159cd2b14925a00deece23b81fb0": {
          "model_module": "@jupyter-widgets/controls",
          "model_name": "HTMLModel",
          "model_module_version": "1.5.0",
          "state": {
            "_dom_classes": [],
            "_model_module": "@jupyter-widgets/controls",
            "_model_module_version": "1.5.0",
            "_model_name": "HTMLModel",
            "_view_count": null,
            "_view_module": "@jupyter-widgets/controls",
            "_view_module_version": "1.5.0",
            "_view_name": "HTMLView",
            "description": "",
            "description_tooltip": null,
            "layout": "IPY_MODEL_87e7fc7d443744daa86582a4940cd774",
            "placeholder": "​",
            "style": "IPY_MODEL_9c31dcebc51f43c394167b2563aa6cc2",
            "value": "100%"
          }
        },
        "6c3d15e1a5474a37b608074b63c78d41": {
          "model_module": "@jupyter-widgets/controls",
          "model_name": "FloatProgressModel",
          "model_module_version": "1.5.0",
          "state": {
            "_dom_classes": [],
            "_model_module": "@jupyter-widgets/controls",
            "_model_module_version": "1.5.0",
            "_model_name": "FloatProgressModel",
            "_view_count": null,
            "_view_module": "@jupyter-widgets/controls",
            "_view_module_version": "1.5.0",
            "_view_name": "ProgressView",
            "bar_style": "success",
            "description": "",
            "description_tooltip": null,
            "layout": "IPY_MODEL_b55240c6742d4bf19eebdabb217f60f4",
            "max": 150,
            "min": 0,
            "orientation": "horizontal",
            "style": "IPY_MODEL_bfb04271e97248ae9fd44f462bd9f70b",
            "value": 150
          }
        },
        "92ab127d11dc4026a250151e1f413f81": {
          "model_module": "@jupyter-widgets/controls",
          "model_name": "HTMLModel",
          "model_module_version": "1.5.0",
          "state": {
            "_dom_classes": [],
            "_model_module": "@jupyter-widgets/controls",
            "_model_module_version": "1.5.0",
            "_model_name": "HTMLModel",
            "_view_count": null,
            "_view_module": "@jupyter-widgets/controls",
            "_view_module_version": "1.5.0",
            "_view_name": "HTMLView",
            "description": "",
            "description_tooltip": null,
            "layout": "IPY_MODEL_c653e05e9f9c41d48deaa665b78417cc",
            "placeholder": "​",
            "style": "IPY_MODEL_9cf3e8f966c04ca58ee2a5855f5f74de",
            "value": " 150/150 [00:05&lt;00:00, 33.46it/s]"
          }
        },
        "8331df85cc784c04af5f80f697e13d9d": {
          "model_module": "@jupyter-widgets/base",
          "model_name": "LayoutModel",
          "model_module_version": "1.2.0",
          "state": {
            "_model_module": "@jupyter-widgets/base",
            "_model_module_version": "1.2.0",
            "_model_name": "LayoutModel",
            "_view_count": null,
            "_view_module": "@jupyter-widgets/base",
            "_view_module_version": "1.2.0",
            "_view_name": "LayoutView",
            "align_content": null,
            "align_items": null,
            "align_self": null,
            "border": null,
            "bottom": null,
            "display": null,
            "flex": null,
            "flex_flow": null,
            "grid_area": null,
            "grid_auto_columns": null,
            "grid_auto_flow": null,
            "grid_auto_rows": null,
            "grid_column": null,
            "grid_gap": null,
            "grid_row": null,
            "grid_template_areas": null,
            "grid_template_columns": null,
            "grid_template_rows": null,
            "height": null,
            "justify_content": null,
            "justify_items": null,
            "left": null,
            "margin": null,
            "max_height": null,
            "max_width": null,
            "min_height": null,
            "min_width": null,
            "object_fit": null,
            "object_position": null,
            "order": null,
            "overflow": null,
            "overflow_x": null,
            "overflow_y": null,
            "padding": null,
            "right": null,
            "top": null,
            "visibility": null,
            "width": null
          }
        },
        "87e7fc7d443744daa86582a4940cd774": {
          "model_module": "@jupyter-widgets/base",
          "model_name": "LayoutModel",
          "model_module_version": "1.2.0",
          "state": {
            "_model_module": "@jupyter-widgets/base",
            "_model_module_version": "1.2.0",
            "_model_name": "LayoutModel",
            "_view_count": null,
            "_view_module": "@jupyter-widgets/base",
            "_view_module_version": "1.2.0",
            "_view_name": "LayoutView",
            "align_content": null,
            "align_items": null,
            "align_self": null,
            "border": null,
            "bottom": null,
            "display": null,
            "flex": null,
            "flex_flow": null,
            "grid_area": null,
            "grid_auto_columns": null,
            "grid_auto_flow": null,
            "grid_auto_rows": null,
            "grid_column": null,
            "grid_gap": null,
            "grid_row": null,
            "grid_template_areas": null,
            "grid_template_columns": null,
            "grid_template_rows": null,
            "height": null,
            "justify_content": null,
            "justify_items": null,
            "left": null,
            "margin": null,
            "max_height": null,
            "max_width": null,
            "min_height": null,
            "min_width": null,
            "object_fit": null,
            "object_position": null,
            "order": null,
            "overflow": null,
            "overflow_x": null,
            "overflow_y": null,
            "padding": null,
            "right": null,
            "top": null,
            "visibility": null,
            "width": null
          }
        },
        "9c31dcebc51f43c394167b2563aa6cc2": {
          "model_module": "@jupyter-widgets/controls",
          "model_name": "DescriptionStyleModel",
          "model_module_version": "1.5.0",
          "state": {
            "_model_module": "@jupyter-widgets/controls",
            "_model_module_version": "1.5.0",
            "_model_name": "DescriptionStyleModel",
            "_view_count": null,
            "_view_module": "@jupyter-widgets/base",
            "_view_module_version": "1.2.0",
            "_view_name": "StyleView",
            "description_width": ""
          }
        },
        "b55240c6742d4bf19eebdabb217f60f4": {
          "model_module": "@jupyter-widgets/base",
          "model_name": "LayoutModel",
          "model_module_version": "1.2.0",
          "state": {
            "_model_module": "@jupyter-widgets/base",
            "_model_module_version": "1.2.0",
            "_model_name": "LayoutModel",
            "_view_count": null,
            "_view_module": "@jupyter-widgets/base",
            "_view_module_version": "1.2.0",
            "_view_name": "LayoutView",
            "align_content": null,
            "align_items": null,
            "align_self": null,
            "border": null,
            "bottom": null,
            "display": null,
            "flex": null,
            "flex_flow": null,
            "grid_area": null,
            "grid_auto_columns": null,
            "grid_auto_flow": null,
            "grid_auto_rows": null,
            "grid_column": null,
            "grid_gap": null,
            "grid_row": null,
            "grid_template_areas": null,
            "grid_template_columns": null,
            "grid_template_rows": null,
            "height": null,
            "justify_content": null,
            "justify_items": null,
            "left": null,
            "margin": null,
            "max_height": null,
            "max_width": null,
            "min_height": null,
            "min_width": null,
            "object_fit": null,
            "object_position": null,
            "order": null,
            "overflow": null,
            "overflow_x": null,
            "overflow_y": null,
            "padding": null,
            "right": null,
            "top": null,
            "visibility": null,
            "width": null
          }
        },
        "bfb04271e97248ae9fd44f462bd9f70b": {
          "model_module": "@jupyter-widgets/controls",
          "model_name": "ProgressStyleModel",
          "model_module_version": "1.5.0",
          "state": {
            "_model_module": "@jupyter-widgets/controls",
            "_model_module_version": "1.5.0",
            "_model_name": "ProgressStyleModel",
            "_view_count": null,
            "_view_module": "@jupyter-widgets/base",
            "_view_module_version": "1.2.0",
            "_view_name": "StyleView",
            "bar_color": null,
            "description_width": ""
          }
        },
        "c653e05e9f9c41d48deaa665b78417cc": {
          "model_module": "@jupyter-widgets/base",
          "model_name": "LayoutModel",
          "model_module_version": "1.2.0",
          "state": {
            "_model_module": "@jupyter-widgets/base",
            "_model_module_version": "1.2.0",
            "_model_name": "LayoutModel",
            "_view_count": null,
            "_view_module": "@jupyter-widgets/base",
            "_view_module_version": "1.2.0",
            "_view_name": "LayoutView",
            "align_content": null,
            "align_items": null,
            "align_self": null,
            "border": null,
            "bottom": null,
            "display": null,
            "flex": null,
            "flex_flow": null,
            "grid_area": null,
            "grid_auto_columns": null,
            "grid_auto_flow": null,
            "grid_auto_rows": null,
            "grid_column": null,
            "grid_gap": null,
            "grid_row": null,
            "grid_template_areas": null,
            "grid_template_columns": null,
            "grid_template_rows": null,
            "height": null,
            "justify_content": null,
            "justify_items": null,
            "left": null,
            "margin": null,
            "max_height": null,
            "max_width": null,
            "min_height": null,
            "min_width": null,
            "object_fit": null,
            "object_position": null,
            "order": null,
            "overflow": null,
            "overflow_x": null,
            "overflow_y": null,
            "padding": null,
            "right": null,
            "top": null,
            "visibility": null,
            "width": null
          }
        },
        "9cf3e8f966c04ca58ee2a5855f5f74de": {
          "model_module": "@jupyter-widgets/controls",
          "model_name": "DescriptionStyleModel",
          "model_module_version": "1.5.0",
          "state": {
            "_model_module": "@jupyter-widgets/controls",
            "_model_module_version": "1.5.0",
            "_model_name": "DescriptionStyleModel",
            "_view_count": null,
            "_view_module": "@jupyter-widgets/base",
            "_view_module_version": "1.2.0",
            "_view_name": "StyleView",
            "description_width": ""
          }
        }
      }
    },
    "accelerator": "GPU"
  },
  "cells": [
    {
      "cell_type": "markdown",
      "metadata": {
        "id": "view-in-github",
        "colab_type": "text"
      },
      "source": [
        "<a href=\"https://colab.research.google.com/github/lnsayer/personal_repo/blob/main/drug%20discovery%20with%20BACE%20dataset/graph_classification_bace_dataset.ipynb\" target=\"_parent\"><img src=\"https://colab.research.google.com/assets/colab-badge.svg\" alt=\"Open In Colab\"/></a>"
      ]
    },
    {
      "cell_type": "code",
      "source": [
        "# Install necessary packages\n",
        "!pip install rdkit\n",
        "!pip install torch_geometric\n",
        "!pip install deepchem\n",
        "!pip install networkx"
      ],
      "metadata": {
        "colab": {
          "base_uri": "https://localhost:8080/"
        },
        "id": "axXnWUEc_e4p",
        "outputId": "8063ea2a-1592-48cd-b601-e22c64a5ca63"
      },
      "execution_count": 1,
      "outputs": [
        {
          "output_type": "stream",
          "name": "stdout",
          "text": [
            "Collecting rdkit\n",
            "  Downloading rdkit-2023.9.6-cp310-cp310-manylinux_2_17_x86_64.manylinux2014_x86_64.whl (34.9 MB)\n",
            "\u001b[2K     \u001b[90m━━━━━━━━━━━━━━━━━━━━━━━━━━━━━━━━━━━━━━━━\u001b[0m \u001b[32m34.9/34.9 MB\u001b[0m \u001b[31m43.0 MB/s\u001b[0m eta \u001b[36m0:00:00\u001b[0m\n",
            "\u001b[?25hRequirement already satisfied: numpy in /usr/local/lib/python3.10/dist-packages (from rdkit) (1.25.2)\n",
            "Requirement already satisfied: Pillow in /usr/local/lib/python3.10/dist-packages (from rdkit) (9.4.0)\n",
            "Installing collected packages: rdkit\n",
            "Successfully installed rdkit-2023.9.6\n",
            "Collecting torch_geometric\n",
            "  Downloading torch_geometric-2.5.3-py3-none-any.whl (1.1 MB)\n",
            "\u001b[2K     \u001b[90m━━━━━━━━━━━━━━━━━━━━━━━━━━━━━━━━━━━━━━━━\u001b[0m \u001b[32m1.1/1.1 MB\u001b[0m \u001b[31m9.0 MB/s\u001b[0m eta \u001b[36m0:00:00\u001b[0m\n",
            "\u001b[?25hRequirement already satisfied: tqdm in /usr/local/lib/python3.10/dist-packages (from torch_geometric) (4.66.4)\n",
            "Requirement already satisfied: numpy in /usr/local/lib/python3.10/dist-packages (from torch_geometric) (1.25.2)\n",
            "Requirement already satisfied: scipy in /usr/local/lib/python3.10/dist-packages (from torch_geometric) (1.11.4)\n",
            "Requirement already satisfied: fsspec in /usr/local/lib/python3.10/dist-packages (from torch_geometric) (2023.6.0)\n",
            "Requirement already satisfied: jinja2 in /usr/local/lib/python3.10/dist-packages (from torch_geometric) (3.1.4)\n",
            "Requirement already satisfied: aiohttp in /usr/local/lib/python3.10/dist-packages (from torch_geometric) (3.9.5)\n",
            "Requirement already satisfied: requests in /usr/local/lib/python3.10/dist-packages (from torch_geometric) (2.31.0)\n",
            "Requirement already satisfied: pyparsing in /usr/local/lib/python3.10/dist-packages (from torch_geometric) (3.1.2)\n",
            "Requirement already satisfied: scikit-learn in /usr/local/lib/python3.10/dist-packages (from torch_geometric) (1.2.2)\n",
            "Requirement already satisfied: psutil>=5.8.0 in /usr/local/lib/python3.10/dist-packages (from torch_geometric) (5.9.5)\n",
            "Requirement already satisfied: aiosignal>=1.1.2 in /usr/local/lib/python3.10/dist-packages (from aiohttp->torch_geometric) (1.3.1)\n",
            "Requirement already satisfied: attrs>=17.3.0 in /usr/local/lib/python3.10/dist-packages (from aiohttp->torch_geometric) (23.2.0)\n",
            "Requirement already satisfied: frozenlist>=1.1.1 in /usr/local/lib/python3.10/dist-packages (from aiohttp->torch_geometric) (1.4.1)\n",
            "Requirement already satisfied: multidict<7.0,>=4.5 in /usr/local/lib/python3.10/dist-packages (from aiohttp->torch_geometric) (6.0.5)\n",
            "Requirement already satisfied: yarl<2.0,>=1.0 in /usr/local/lib/python3.10/dist-packages (from aiohttp->torch_geometric) (1.9.4)\n",
            "Requirement already satisfied: async-timeout<5.0,>=4.0 in /usr/local/lib/python3.10/dist-packages (from aiohttp->torch_geometric) (4.0.3)\n",
            "Requirement already satisfied: MarkupSafe>=2.0 in /usr/local/lib/python3.10/dist-packages (from jinja2->torch_geometric) (2.1.5)\n",
            "Requirement already satisfied: charset-normalizer<4,>=2 in /usr/local/lib/python3.10/dist-packages (from requests->torch_geometric) (3.3.2)\n",
            "Requirement already satisfied: idna<4,>=2.5 in /usr/local/lib/python3.10/dist-packages (from requests->torch_geometric) (3.7)\n",
            "Requirement already satisfied: urllib3<3,>=1.21.1 in /usr/local/lib/python3.10/dist-packages (from requests->torch_geometric) (2.0.7)\n",
            "Requirement already satisfied: certifi>=2017.4.17 in /usr/local/lib/python3.10/dist-packages (from requests->torch_geometric) (2024.2.2)\n",
            "Requirement already satisfied: joblib>=1.1.1 in /usr/local/lib/python3.10/dist-packages (from scikit-learn->torch_geometric) (1.4.2)\n",
            "Requirement already satisfied: threadpoolctl>=2.0.0 in /usr/local/lib/python3.10/dist-packages (from scikit-learn->torch_geometric) (3.5.0)\n",
            "Installing collected packages: torch_geometric\n",
            "Successfully installed torch_geometric-2.5.3\n",
            "Collecting deepchem\n",
            "  Downloading deepchem-2.8.0-py3-none-any.whl (1.0 MB)\n",
            "\u001b[2K     \u001b[90m━━━━━━━━━━━━━━━━━━━━━━━━━━━━━━━━━━━━━━━━\u001b[0m \u001b[32m1.0/1.0 MB\u001b[0m \u001b[31m8.8 MB/s\u001b[0m eta \u001b[36m0:00:00\u001b[0m\n",
            "\u001b[?25hRequirement already satisfied: joblib in /usr/local/lib/python3.10/dist-packages (from deepchem) (1.4.2)\n",
            "Requirement already satisfied: numpy>=1.21 in /usr/local/lib/python3.10/dist-packages (from deepchem) (1.25.2)\n",
            "Requirement already satisfied: pandas in /usr/local/lib/python3.10/dist-packages (from deepchem) (2.0.3)\n",
            "Requirement already satisfied: scikit-learn in /usr/local/lib/python3.10/dist-packages (from deepchem) (1.2.2)\n",
            "Requirement already satisfied: sympy in /usr/local/lib/python3.10/dist-packages (from deepchem) (1.12.1)\n",
            "Requirement already satisfied: scipy>=1.10.1 in /usr/local/lib/python3.10/dist-packages (from deepchem) (1.11.4)\n",
            "Requirement already satisfied: rdkit in /usr/local/lib/python3.10/dist-packages (from deepchem) (2023.9.6)\n",
            "Requirement already satisfied: python-dateutil>=2.8.2 in /usr/local/lib/python3.10/dist-packages (from pandas->deepchem) (2.8.2)\n",
            "Requirement already satisfied: pytz>=2020.1 in /usr/local/lib/python3.10/dist-packages (from pandas->deepchem) (2023.4)\n",
            "Requirement already satisfied: tzdata>=2022.1 in /usr/local/lib/python3.10/dist-packages (from pandas->deepchem) (2024.1)\n",
            "Requirement already satisfied: Pillow in /usr/local/lib/python3.10/dist-packages (from rdkit->deepchem) (9.4.0)\n",
            "Requirement already satisfied: threadpoolctl>=2.0.0 in /usr/local/lib/python3.10/dist-packages (from scikit-learn->deepchem) (3.5.0)\n",
            "Requirement already satisfied: mpmath<1.4.0,>=1.1.0 in /usr/local/lib/python3.10/dist-packages (from sympy->deepchem) (1.3.0)\n",
            "Requirement already satisfied: six>=1.5 in /usr/local/lib/python3.10/dist-packages (from python-dateutil>=2.8.2->pandas->deepchem) (1.16.0)\n",
            "Installing collected packages: deepchem\n",
            "Successfully installed deepchem-2.8.0\n",
            "Requirement already satisfied: networkx in /usr/local/lib/python3.10/dist-packages (3.3)\n"
          ]
        }
      ]
    },
    {
      "cell_type": "code",
      "execution_count": 2,
      "metadata": {
        "id": "SEOOvseDz99l",
        "colab": {
          "base_uri": "https://localhost:8080/"
        },
        "outputId": "3b68f09a-4a76-4252-bc67-1e21fb4f2a70"
      },
      "outputs": [
        {
          "output_type": "stream",
          "name": "stderr",
          "text": [
            "WARNING:deepchem.feat.molecule_featurizers.rdkit_descriptors:No normalization for SPS. Feature removed!\n",
            "WARNING:deepchem.feat.molecule_featurizers.rdkit_descriptors:No normalization for AvgIpc. Feature removed!\n",
            "WARNING:tensorflow:From /usr/local/lib/python3.10/dist-packages/tensorflow/python/util/deprecation.py:588: calling function (from tensorflow.python.eager.polymorphic_function.polymorphic_function) with experimental_relax_shapes is deprecated and will be removed in a future version.\n",
            "Instructions for updating:\n",
            "experimental_relax_shapes is deprecated, use reduce_retracing instead\n",
            "WARNING:deepchem.models.torch_models:Skipped loading modules with pytorch-geometric dependency, missing a dependency. No module named 'dgl'\n",
            "WARNING:deepchem.models:Skipped loading modules with pytorch-lightning dependency, missing a dependency. No module named 'lightning'\n",
            "WARNING:deepchem.models:Skipped loading some Jax models, missing a dependency. No module named 'haiku'\n"
          ]
        }
      ],
      "source": [
        "# Import necessary modules\n",
        "import requests\n",
        "from pathlib import Path\n",
        "import os.path as osp\n",
        "\n",
        "from rdkit import Chem\n",
        "from rdkit.Chem import Draw\n",
        "\n",
        "import torch\n",
        "import torch_geometric\n",
        "from torch_geometric.data import InMemoryDataset, Dataset, Data\n",
        "from torch_geometric.loader import DataLoader\n",
        "from torch_geometric.nn import GCNConv, global_mean_pool\n",
        "from torch.nn import Linear, ReLU, Dropout, Softmax\n",
        "import torch.nn as nn\n",
        "import torch.nn.functional as F\n",
        "\n",
        "\n",
        "import deepchem as dc\n",
        "from deepchem.feat.graph_data import GraphData\n",
        "\n",
        "import numpy as np\n",
        "import pandas as pd\n",
        "import matplotlib.pyplot as plt\n",
        "\n",
        "import networkx as nx\n",
        "\n",
        "import random\n",
        "\n",
        "from tqdm.auto import tqdm"
      ]
    },
    {
      "cell_type": "code",
      "source": [],
      "metadata": {
        "id": "P8ViE9Kf5hmj"
      },
      "execution_count": null,
      "outputs": []
    },
    {
      "cell_type": "code",
      "source": [
        "# Specify Paths to where data is stored (will have raw and processed files)\n",
        "data_path = Path(\"data/\")\n",
        "bace_path = data_path / \"raw\"\n",
        "\n",
        "print(type(bace_path))\n",
        "print(bace_path)"
      ],
      "metadata": {
        "id": "mYmKzoV11Bt3",
        "colab": {
          "base_uri": "https://localhost:8080/"
        },
        "outputId": "bacb1026-0720-46ce-ddf4-9b7b63837f13"
      },
      "execution_count": 3,
      "outputs": [
        {
          "output_type": "stream",
          "name": "stdout",
          "text": [
            "<class 'pathlib.PosixPath'>\n",
            "data/raw\n"
          ]
        }
      ]
    },
    {
      "cell_type": "code",
      "source": [
        "# Check if Bace csv file has been downloaded, if not, download it\n",
        "if bace_path.is_dir():\n",
        "  print(f\"{bace_path} is already a directory\")\n",
        "else:\n",
        "  print(f\"{bace_path} is not a directory, creating one\")\n",
        "  bace_path.mkdir(parents=True, exist_ok=True)\n",
        "\n",
        "  with open(bace_path / \"bace.csv\", \"wb\") as f:\n",
        "    request = requests.get(\"https://raw.githubusercontent.com/lnsayer/personal_repo/main/drug%20discovery%20with%20BACE%20dataset/data/bace.csv\")\n",
        "    print(\"Downloading data\")\n",
        "    f.write(request.content)"
      ],
      "metadata": {
        "colab": {
          "base_uri": "https://localhost:8080/"
        },
        "id": "ks0Nb2ZM4jwj",
        "outputId": "c5351ab8-a5ec-4a14-bd1e-66f1f9a52f96"
      },
      "execution_count": 4,
      "outputs": [
        {
          "output_type": "stream",
          "name": "stdout",
          "text": [
            "data/raw is not a directory, creating one\n",
            "Downloading data\n"
          ]
        }
      ]
    },
    {
      "cell_type": "code",
      "source": [
        "# Turn CSV file into a dataframe and resave it without unnecessary columns\n",
        "bace_df = pd.read_csv(bace_path/ \"bace.csv\")\n",
        "bace_df = bace_df[[\"mol\", \"CID\", \"Class\", \"Model\", \"pIC50\"]]\n",
        "bace_df.to_csv(bace_path/\"bace.csv\")\n",
        "\n",
        "bace_df"
      ],
      "metadata": {
        "id": "QGSRTJ4X44Bs",
        "colab": {
          "base_uri": "https://localhost:8080/",
          "height": 424
        },
        "outputId": "2ccf646d-5d1f-42a3-a392-4a8cc9bbed6e"
      },
      "execution_count": 5,
      "outputs": [
        {
          "output_type": "execute_result",
          "data": {
            "text/plain": [
              "                                                    mol        CID  Class  \\\n",
              "0     O1CC[C@@H](NC(=O)[C@@H](Cc2cc3cc(ccc3nc2N)-c2c...     BACE_1      1   \n",
              "1     Fc1cc(cc(F)c1)C[C@H](NC(=O)[C@@H](N1CC[C@](NC(...     BACE_2      1   \n",
              "2     S1(=O)(=O)N(c2cc(cc3c2n(cc3CC)CC1)C(=O)N[C@H](...     BACE_3      1   \n",
              "3     S1(=O)(=O)C[C@@H](Cc2cc(O[C@H](COCC)C(F)(F)F)c...     BACE_4      1   \n",
              "4     S1(=O)(=O)N(c2cc(cc3c2n(cc3CC)CC1)C(=O)N[C@H](...     BACE_5      1   \n",
              "...                                                 ...        ...    ...   \n",
              "1508          Clc1cc2nc(n(c2cc1)C(CC(=O)NCC1CCOCC1)CC)N  BACE_1543      0   \n",
              "1509          Clc1cc2nc(n(c2cc1)C(CC(=O)NCc1ncccc1)CC)N  BACE_1544      0   \n",
              "1510             Brc1cc(ccc1)C1CC1C=1N=C(N)N(C)C(=O)C=1  BACE_1545      0   \n",
              "1511       O=C1N(C)C(=NC(=C1)C1CC1c1cc(ccc1)-c1ccccc1)N  BACE_1546      0   \n",
              "1512                Clc1cc2nc(n(c2cc1)CCCC(=O)NCC1CC1)N  BACE_1547      0   \n",
              "\n",
              "      Model     pIC50  \n",
              "0     Train  9.154901  \n",
              "1     Train  8.853872  \n",
              "2     Train  8.698970  \n",
              "3     Train  8.698970  \n",
              "4     Train  8.698970  \n",
              "...     ...       ...  \n",
              "1508   Test  3.000000  \n",
              "1509   Test  3.000000  \n",
              "1510   Test  2.953115  \n",
              "1511   Test  2.733298  \n",
              "1512   Test  2.544546  \n",
              "\n",
              "[1513 rows x 5 columns]"
            ],
            "text/html": [
              "\n",
              "  <div id=\"df-8fe6b57c-d501-4ea8-92fc-d9c4d881faa2\" class=\"colab-df-container\">\n",
              "    <div>\n",
              "<style scoped>\n",
              "    .dataframe tbody tr th:only-of-type {\n",
              "        vertical-align: middle;\n",
              "    }\n",
              "\n",
              "    .dataframe tbody tr th {\n",
              "        vertical-align: top;\n",
              "    }\n",
              "\n",
              "    .dataframe thead th {\n",
              "        text-align: right;\n",
              "    }\n",
              "</style>\n",
              "<table border=\"1\" class=\"dataframe\">\n",
              "  <thead>\n",
              "    <tr style=\"text-align: right;\">\n",
              "      <th></th>\n",
              "      <th>mol</th>\n",
              "      <th>CID</th>\n",
              "      <th>Class</th>\n",
              "      <th>Model</th>\n",
              "      <th>pIC50</th>\n",
              "    </tr>\n",
              "  </thead>\n",
              "  <tbody>\n",
              "    <tr>\n",
              "      <th>0</th>\n",
              "      <td>O1CC[C@@H](NC(=O)[C@@H](Cc2cc3cc(ccc3nc2N)-c2c...</td>\n",
              "      <td>BACE_1</td>\n",
              "      <td>1</td>\n",
              "      <td>Train</td>\n",
              "      <td>9.154901</td>\n",
              "    </tr>\n",
              "    <tr>\n",
              "      <th>1</th>\n",
              "      <td>Fc1cc(cc(F)c1)C[C@H](NC(=O)[C@@H](N1CC[C@](NC(...</td>\n",
              "      <td>BACE_2</td>\n",
              "      <td>1</td>\n",
              "      <td>Train</td>\n",
              "      <td>8.853872</td>\n",
              "    </tr>\n",
              "    <tr>\n",
              "      <th>2</th>\n",
              "      <td>S1(=O)(=O)N(c2cc(cc3c2n(cc3CC)CC1)C(=O)N[C@H](...</td>\n",
              "      <td>BACE_3</td>\n",
              "      <td>1</td>\n",
              "      <td>Train</td>\n",
              "      <td>8.698970</td>\n",
              "    </tr>\n",
              "    <tr>\n",
              "      <th>3</th>\n",
              "      <td>S1(=O)(=O)C[C@@H](Cc2cc(O[C@H](COCC)C(F)(F)F)c...</td>\n",
              "      <td>BACE_4</td>\n",
              "      <td>1</td>\n",
              "      <td>Train</td>\n",
              "      <td>8.698970</td>\n",
              "    </tr>\n",
              "    <tr>\n",
              "      <th>4</th>\n",
              "      <td>S1(=O)(=O)N(c2cc(cc3c2n(cc3CC)CC1)C(=O)N[C@H](...</td>\n",
              "      <td>BACE_5</td>\n",
              "      <td>1</td>\n",
              "      <td>Train</td>\n",
              "      <td>8.698970</td>\n",
              "    </tr>\n",
              "    <tr>\n",
              "      <th>...</th>\n",
              "      <td>...</td>\n",
              "      <td>...</td>\n",
              "      <td>...</td>\n",
              "      <td>...</td>\n",
              "      <td>...</td>\n",
              "    </tr>\n",
              "    <tr>\n",
              "      <th>1508</th>\n",
              "      <td>Clc1cc2nc(n(c2cc1)C(CC(=O)NCC1CCOCC1)CC)N</td>\n",
              "      <td>BACE_1543</td>\n",
              "      <td>0</td>\n",
              "      <td>Test</td>\n",
              "      <td>3.000000</td>\n",
              "    </tr>\n",
              "    <tr>\n",
              "      <th>1509</th>\n",
              "      <td>Clc1cc2nc(n(c2cc1)C(CC(=O)NCc1ncccc1)CC)N</td>\n",
              "      <td>BACE_1544</td>\n",
              "      <td>0</td>\n",
              "      <td>Test</td>\n",
              "      <td>3.000000</td>\n",
              "    </tr>\n",
              "    <tr>\n",
              "      <th>1510</th>\n",
              "      <td>Brc1cc(ccc1)C1CC1C=1N=C(N)N(C)C(=O)C=1</td>\n",
              "      <td>BACE_1545</td>\n",
              "      <td>0</td>\n",
              "      <td>Test</td>\n",
              "      <td>2.953115</td>\n",
              "    </tr>\n",
              "    <tr>\n",
              "      <th>1511</th>\n",
              "      <td>O=C1N(C)C(=NC(=C1)C1CC1c1cc(ccc1)-c1ccccc1)N</td>\n",
              "      <td>BACE_1546</td>\n",
              "      <td>0</td>\n",
              "      <td>Test</td>\n",
              "      <td>2.733298</td>\n",
              "    </tr>\n",
              "    <tr>\n",
              "      <th>1512</th>\n",
              "      <td>Clc1cc2nc(n(c2cc1)CCCC(=O)NCC1CC1)N</td>\n",
              "      <td>BACE_1547</td>\n",
              "      <td>0</td>\n",
              "      <td>Test</td>\n",
              "      <td>2.544546</td>\n",
              "    </tr>\n",
              "  </tbody>\n",
              "</table>\n",
              "<p>1513 rows × 5 columns</p>\n",
              "</div>\n",
              "    <div class=\"colab-df-buttons\">\n",
              "\n",
              "  <div class=\"colab-df-container\">\n",
              "    <button class=\"colab-df-convert\" onclick=\"convertToInteractive('df-8fe6b57c-d501-4ea8-92fc-d9c4d881faa2')\"\n",
              "            title=\"Convert this dataframe to an interactive table.\"\n",
              "            style=\"display:none;\">\n",
              "\n",
              "  <svg xmlns=\"http://www.w3.org/2000/svg\" height=\"24px\" viewBox=\"0 -960 960 960\">\n",
              "    <path d=\"M120-120v-720h720v720H120Zm60-500h600v-160H180v160Zm220 220h160v-160H400v160Zm0 220h160v-160H400v160ZM180-400h160v-160H180v160Zm440 0h160v-160H620v160ZM180-180h160v-160H180v160Zm440 0h160v-160H620v160Z\"/>\n",
              "  </svg>\n",
              "    </button>\n",
              "\n",
              "  <style>\n",
              "    .colab-df-container {\n",
              "      display:flex;\n",
              "      gap: 12px;\n",
              "    }\n",
              "\n",
              "    .colab-df-convert {\n",
              "      background-color: #E8F0FE;\n",
              "      border: none;\n",
              "      border-radius: 50%;\n",
              "      cursor: pointer;\n",
              "      display: none;\n",
              "      fill: #1967D2;\n",
              "      height: 32px;\n",
              "      padding: 0 0 0 0;\n",
              "      width: 32px;\n",
              "    }\n",
              "\n",
              "    .colab-df-convert:hover {\n",
              "      background-color: #E2EBFA;\n",
              "      box-shadow: 0px 1px 2px rgba(60, 64, 67, 0.3), 0px 1px 3px 1px rgba(60, 64, 67, 0.15);\n",
              "      fill: #174EA6;\n",
              "    }\n",
              "\n",
              "    .colab-df-buttons div {\n",
              "      margin-bottom: 4px;\n",
              "    }\n",
              "\n",
              "    [theme=dark] .colab-df-convert {\n",
              "      background-color: #3B4455;\n",
              "      fill: #D2E3FC;\n",
              "    }\n",
              "\n",
              "    [theme=dark] .colab-df-convert:hover {\n",
              "      background-color: #434B5C;\n",
              "      box-shadow: 0px 1px 3px 1px rgba(0, 0, 0, 0.15);\n",
              "      filter: drop-shadow(0px 1px 2px rgba(0, 0, 0, 0.3));\n",
              "      fill: #FFFFFF;\n",
              "    }\n",
              "  </style>\n",
              "\n",
              "    <script>\n",
              "      const buttonEl =\n",
              "        document.querySelector('#df-8fe6b57c-d501-4ea8-92fc-d9c4d881faa2 button.colab-df-convert');\n",
              "      buttonEl.style.display =\n",
              "        google.colab.kernel.accessAllowed ? 'block' : 'none';\n",
              "\n",
              "      async function convertToInteractive(key) {\n",
              "        const element = document.querySelector('#df-8fe6b57c-d501-4ea8-92fc-d9c4d881faa2');\n",
              "        const dataTable =\n",
              "          await google.colab.kernel.invokeFunction('convertToInteractive',\n",
              "                                                    [key], {});\n",
              "        if (!dataTable) return;\n",
              "\n",
              "        const docLinkHtml = 'Like what you see? Visit the ' +\n",
              "          '<a target=\"_blank\" href=https://colab.research.google.com/notebooks/data_table.ipynb>data table notebook</a>'\n",
              "          + ' to learn more about interactive tables.';\n",
              "        element.innerHTML = '';\n",
              "        dataTable['output_type'] = 'display_data';\n",
              "        await google.colab.output.renderOutput(dataTable, element);\n",
              "        const docLink = document.createElement('div');\n",
              "        docLink.innerHTML = docLinkHtml;\n",
              "        element.appendChild(docLink);\n",
              "      }\n",
              "    </script>\n",
              "  </div>\n",
              "\n",
              "\n",
              "<div id=\"df-7f810c16-3097-4ea6-b332-9bc54b34977e\">\n",
              "  <button class=\"colab-df-quickchart\" onclick=\"quickchart('df-7f810c16-3097-4ea6-b332-9bc54b34977e')\"\n",
              "            title=\"Suggest charts\"\n",
              "            style=\"display:none;\">\n",
              "\n",
              "<svg xmlns=\"http://www.w3.org/2000/svg\" height=\"24px\"viewBox=\"0 0 24 24\"\n",
              "     width=\"24px\">\n",
              "    <g>\n",
              "        <path d=\"M19 3H5c-1.1 0-2 .9-2 2v14c0 1.1.9 2 2 2h14c1.1 0 2-.9 2-2V5c0-1.1-.9-2-2-2zM9 17H7v-7h2v7zm4 0h-2V7h2v10zm4 0h-2v-4h2v4z\"/>\n",
              "    </g>\n",
              "</svg>\n",
              "  </button>\n",
              "\n",
              "<style>\n",
              "  .colab-df-quickchart {\n",
              "      --bg-color: #E8F0FE;\n",
              "      --fill-color: #1967D2;\n",
              "      --hover-bg-color: #E2EBFA;\n",
              "      --hover-fill-color: #174EA6;\n",
              "      --disabled-fill-color: #AAA;\n",
              "      --disabled-bg-color: #DDD;\n",
              "  }\n",
              "\n",
              "  [theme=dark] .colab-df-quickchart {\n",
              "      --bg-color: #3B4455;\n",
              "      --fill-color: #D2E3FC;\n",
              "      --hover-bg-color: #434B5C;\n",
              "      --hover-fill-color: #FFFFFF;\n",
              "      --disabled-bg-color: #3B4455;\n",
              "      --disabled-fill-color: #666;\n",
              "  }\n",
              "\n",
              "  .colab-df-quickchart {\n",
              "    background-color: var(--bg-color);\n",
              "    border: none;\n",
              "    border-radius: 50%;\n",
              "    cursor: pointer;\n",
              "    display: none;\n",
              "    fill: var(--fill-color);\n",
              "    height: 32px;\n",
              "    padding: 0;\n",
              "    width: 32px;\n",
              "  }\n",
              "\n",
              "  .colab-df-quickchart:hover {\n",
              "    background-color: var(--hover-bg-color);\n",
              "    box-shadow: 0 1px 2px rgba(60, 64, 67, 0.3), 0 1px 3px 1px rgba(60, 64, 67, 0.15);\n",
              "    fill: var(--button-hover-fill-color);\n",
              "  }\n",
              "\n",
              "  .colab-df-quickchart-complete:disabled,\n",
              "  .colab-df-quickchart-complete:disabled:hover {\n",
              "    background-color: var(--disabled-bg-color);\n",
              "    fill: var(--disabled-fill-color);\n",
              "    box-shadow: none;\n",
              "  }\n",
              "\n",
              "  .colab-df-spinner {\n",
              "    border: 2px solid var(--fill-color);\n",
              "    border-color: transparent;\n",
              "    border-bottom-color: var(--fill-color);\n",
              "    animation:\n",
              "      spin 1s steps(1) infinite;\n",
              "  }\n",
              "\n",
              "  @keyframes spin {\n",
              "    0% {\n",
              "      border-color: transparent;\n",
              "      border-bottom-color: var(--fill-color);\n",
              "      border-left-color: var(--fill-color);\n",
              "    }\n",
              "    20% {\n",
              "      border-color: transparent;\n",
              "      border-left-color: var(--fill-color);\n",
              "      border-top-color: var(--fill-color);\n",
              "    }\n",
              "    30% {\n",
              "      border-color: transparent;\n",
              "      border-left-color: var(--fill-color);\n",
              "      border-top-color: var(--fill-color);\n",
              "      border-right-color: var(--fill-color);\n",
              "    }\n",
              "    40% {\n",
              "      border-color: transparent;\n",
              "      border-right-color: var(--fill-color);\n",
              "      border-top-color: var(--fill-color);\n",
              "    }\n",
              "    60% {\n",
              "      border-color: transparent;\n",
              "      border-right-color: var(--fill-color);\n",
              "    }\n",
              "    80% {\n",
              "      border-color: transparent;\n",
              "      border-right-color: var(--fill-color);\n",
              "      border-bottom-color: var(--fill-color);\n",
              "    }\n",
              "    90% {\n",
              "      border-color: transparent;\n",
              "      border-bottom-color: var(--fill-color);\n",
              "    }\n",
              "  }\n",
              "</style>\n",
              "\n",
              "  <script>\n",
              "    async function quickchart(key) {\n",
              "      const quickchartButtonEl =\n",
              "        document.querySelector('#' + key + ' button');\n",
              "      quickchartButtonEl.disabled = true;  // To prevent multiple clicks.\n",
              "      quickchartButtonEl.classList.add('colab-df-spinner');\n",
              "      try {\n",
              "        const charts = await google.colab.kernel.invokeFunction(\n",
              "            'suggestCharts', [key], {});\n",
              "      } catch (error) {\n",
              "        console.error('Error during call to suggestCharts:', error);\n",
              "      }\n",
              "      quickchartButtonEl.classList.remove('colab-df-spinner');\n",
              "      quickchartButtonEl.classList.add('colab-df-quickchart-complete');\n",
              "    }\n",
              "    (() => {\n",
              "      let quickchartButtonEl =\n",
              "        document.querySelector('#df-7f810c16-3097-4ea6-b332-9bc54b34977e button');\n",
              "      quickchartButtonEl.style.display =\n",
              "        google.colab.kernel.accessAllowed ? 'block' : 'none';\n",
              "    })();\n",
              "  </script>\n",
              "</div>\n",
              "    </div>\n",
              "  </div>\n"
            ],
            "application/vnd.google.colaboratory.intrinsic+json": {
              "type": "dataframe",
              "variable_name": "bace_df",
              "summary": "{\n  \"name\": \"bace_df\",\n  \"rows\": 1513,\n  \"fields\": [\n    {\n      \"column\": \"mol\",\n      \"properties\": {\n        \"dtype\": \"string\",\n        \"num_unique_values\": 1513,\n        \"samples\": [\n          \"s1nc(cc1)-c1cc2c(OC(CC23N=C(N)N(C)C3=O)(C)C)cc1\",\n          \"FC(F)Oc1ccc(cc1)[C@@]1(N=C(N)N(C)C1=O)c1cc(ccc1)\\\\C=C\\\\CCCO\",\n          \"S1(=O)(=O)N(CCCC1)c1cc(cc(NCC)c1)C(=O)NC(Cc1ccccc1)C(O)C[NH2+]C1CC1\"\n        ],\n        \"semantic_type\": \"\",\n        \"description\": \"\"\n      }\n    },\n    {\n      \"column\": \"CID\",\n      \"properties\": {\n        \"dtype\": \"string\",\n        \"num_unique_values\": 1513,\n        \"samples\": [\n          \"BACE_1034\",\n          \"BACE_649\",\n          \"BACE_839\"\n        ],\n        \"semantic_type\": \"\",\n        \"description\": \"\"\n      }\n    },\n    {\n      \"column\": \"Class\",\n      \"properties\": {\n        \"dtype\": \"number\",\n        \"std\": 0,\n        \"min\": 0,\n        \"max\": 1,\n        \"num_unique_values\": 2,\n        \"samples\": [\n          0,\n          1\n        ],\n        \"semantic_type\": \"\",\n        \"description\": \"\"\n      }\n    },\n    {\n      \"column\": \"Model\",\n      \"properties\": {\n        \"dtype\": \"category\",\n        \"num_unique_values\": 3,\n        \"samples\": [\n          \"Train\",\n          \"Valid\"\n        ],\n        \"semantic_type\": \"\",\n        \"description\": \"\"\n      }\n    },\n    {\n      \"column\": \"pIC50\",\n      \"properties\": {\n        \"dtype\": \"number\",\n        \"std\": 1.342416931106123,\n        \"min\": 2.5445461,\n        \"max\": 10.522879,\n        \"num_unique_values\": 651,\n        \"samples\": [\n          3.4689045,\n          7.167491\n        ],\n        \"semantic_type\": \"\",\n        \"description\": \"\"\n      }\n    }\n  ]\n}"
            }
          },
          "metadata": {},
          "execution_count": 5
        }
      ]
    },
    {
      "cell_type": "code",
      "source": [
        "# Visualise one of the molecules from its SMILE input\n",
        "inhibitor = bace_df[\"mol\"][0]\n",
        "\n",
        "m = Chem.MolFromSmiles(inhibitor)\n",
        "\n",
        "img = Draw.MolToImage(m)\n",
        "\n",
        "display(img)"
      ],
      "metadata": {
        "colab": {
          "base_uri": "https://localhost:8080/",
          "height": 317
        },
        "id": "AAicW09A97b_",
        "outputId": "1c21b5a3-dec6-4760-ad7f-284d1e79c3e7"
      },
      "execution_count": 6,
      "outputs": [
        {
          "output_type": "display_data",
          "data": {
            "text/plain": [
              "<PIL.PngImagePlugin.PngImageFile image mode=RGB size=300x300>"
            ],
            "image/png": "[encoded data removed]"
          },
          "metadata": {}
        }
      ]
    },
    {
      "cell_type": "code",
      "source": [
        "# Display five random molecules with their SMILES molecules\n",
        "\n",
        "# Create axes and sample SMILES molecules\n",
        "fig, ax = plt.subplots(ncols=5, nrows=1, figsize = (18,6))\n",
        "mols = bace_df.sample(n=5, random_state=42)[\"mol\"]\n",
        "\n",
        "for i in range(len(mols)):\n",
        "\n",
        "  # Convert each molecule to an image\n",
        "  mol = mols.iloc[i]\n",
        "  m = Chem.MolFromSmiles(mol)\n",
        "  img = Draw.MolToImage(m)\n",
        "\n",
        "  # Plot each molecule\n",
        "  ax[i].imshow(img)\n",
        "  ax[i].axis(False);\n",
        "\n",
        "  # Divide the SMILE input into three parts\n",
        "  first_part = mol[:int(len(mol)/3)]\n",
        "  second_part = mol[int(len(mol)//3):int(2*len(mol)//3)]\n",
        "  third_part = mol[int(2*len(mol)//3):]\n",
        "\n",
        "  assert len(mol) == len(first_part)+len(second_part)+len(third_part)\n",
        "\n",
        "  first_title = first_part + \"\\n\"\n",
        "  second_title = second_part + \"\\n\"\n",
        "  third_title = third_part + \"\\n\"\n",
        "\n",
        "  # Title each plot with its respective SMILE input\n",
        "  ax[i].set_title(first_title+second_title+third_title)"
      ],
      "metadata": {
        "colab": {
          "base_uri": "https://localhost:8080/",
          "height": 342
        },
        "id": "FiM-wR6mDlbv",
        "outputId": "07f98d20-1723-41b6-f31d-f468ada428f9"
      },
      "execution_count": 7,
      "outputs": [
        {
          "output_type": "display_data",
          "data": {
            "text/plain": [
              "<Figure size 1800x600 with 5 Axes>"
            ],
            "image/png": "[encoded data removed]"
          },
          "metadata": {}
        }
      ]
    },
    {
      "cell_type": "code",
      "source": [
        "# Test converting a molecule into a graph using MolGraphConvFeaturizer and to_pyg_graph\n",
        "\n",
        "# Select first molecule\n",
        "mol = bace_df[\"mol\"][1]\n",
        "\n",
        "# Instantiate MolGraphConvFeaturizer class\n",
        "featurizer=dc.feat.MolGraphConvFeaturizer(use_edges=True)\n",
        "\n",
        "# Convert SMILES molecule into a DeepChem graph\n",
        "out = featurizer.featurize(datapoints=mol)\n",
        "\n",
        "# Convert into torch geometric graph\n",
        "pyg_out = GraphData.to_pyg_graph(out[0])\n",
        "pyg_out.y = torch.tensor([bace_df[\"Class\"][0]])\n",
        "\n",
        "print(pyg_out)"
      ],
      "metadata": {
        "colab": {
          "base_uri": "https://localhost:8080/"
        },
        "id": "REwBMkJ8DwOa",
        "outputId": "12f2cd2d-c0de-469f-b296-ea551844bb26"
      },
      "execution_count": 8,
      "outputs": [
        {
          "output_type": "stream",
          "name": "stdout",
          "text": [
            "Data(x=[47, 30], edge_index=[2, 100], edge_attr=[100, 11], y=[1])\n"
          ]
        }
      ]
    },
    {
      "cell_type": "code",
      "source": [
        "# Custom torch geometric Dataset class to store the samples and their corresponding labels\n",
        "\n",
        "class MoleculeDataset(Dataset):\n",
        "  def __init__(self, root, csv_file, transform=None, pre_transform=None, pre_filter=None):\n",
        "    \"\"\"\n",
        "    root = Where the dataset should be stored. This folder is split\n",
        "    into raw_dir (downloaded dataset) and processed_dir(processed data).\n",
        "    \"\"\"\n",
        "    self.csv_file = csv_file\n",
        "    super().__init__(root, transform, pre_transform, pre_filter)\n",
        "\n",
        "  @property\n",
        "  def raw_file_names(self):\n",
        "    \"\"\"\n",
        "    If this file exists in raw_dir, the download is not triggered/\n",
        "    (the download function is not implemented here)\n",
        "    \"\"\"\n",
        "    return self.csv_file\n",
        "\n",
        "  @property\n",
        "  def processed_file_names(self):\n",
        "    \"\"\"\n",
        "    If these files are found in raw_dir, processing is skipped\n",
        "    \"\"\"\n",
        "    self.data = pd.read_csv(self.raw_paths[0]).reset_index()\n",
        "\n",
        "    return [f'data_{i}.pt' for i in list(self.data.index)]\n",
        "\n",
        "  def download(self):\n",
        "    \"\"\"\n",
        "    No need to download the csv file as it is already downloaded\n",
        "    \"\"\"\n",
        "    pass\n",
        "\n",
        "  def process(self):\n",
        "    \"\"\"\n",
        "    I used Deepchem's MolGraphConvFeaturizer to create a graph and then convert that to a torch graph with to_pyg_graph.\n",
        "    \"\"\"\n",
        "    self.data = pd.read_csv(self.raw_paths[0]).reset_index()\n",
        "    featurizer=dc.feat.MolGraphConvFeaturizer(use_edges=True)\n",
        "\n",
        "    for idx, row in self.data.iterrows():\n",
        "      # Featurize molecule and convert to torch graph\n",
        "      smiles = row['mol']\n",
        "      label = row['Class']\n",
        "      pic50 = row['pIC50']\n",
        "\n",
        "      out = featurizer.featurize(smiles)\n",
        "      pyg_out = GraphData.to_pyg_graph(out[0])\n",
        "      pyg_out.Class = torch.tensor([label])\n",
        "      pyg_out.smiles = smiles\n",
        "      pyg_out.pic50 = pic50\n",
        "\n",
        "      # data = Data(x=pyg_out.x, edge_index=pyg_out.edge_index, edge_attr=pyg_out.edge_attr,\n",
        "      #            y=torch.tensor([label]), dtype = torch.float)\n",
        "\n",
        "      torch.save(pyg_out, osp.join(self.processed_dir, f'data_{idx}.pt'))\n",
        "\n",
        "  def len(self):\n",
        "    \"\"\"\n",
        "    Returns number of samples in the dataset\n",
        "    \"\"\"\n",
        "    return len(self.processed_file_names)\n",
        "\n",
        "  def get(self, idx):\n",
        "    \"\"\"\n",
        "    Loads a single graph\n",
        "    \"\"\"\n",
        "    data = torch.load(osp.join(self.processed_dir, f'data_{idx}.pt'))\n",
        "    return data"
      ],
      "metadata": {
        "id": "FfYq6ypbx8XO"
      },
      "execution_count": 9,
      "outputs": []
    },
    {
      "cell_type": "code",
      "source": [
        "# Instantiate the dataset from the BACE CSV file\n",
        "\n",
        "original_dataset = MoleculeDataset(root = \"data/\", csv_file = \"bace.csv\").shuffle()\n",
        "dataset = original_dataset[:10]\n",
        "\n",
        "train_indices = int(0.8*len(dataset))\n",
        "\n",
        "train_dataset = dataset[:train_indices]\n",
        "test_dataset = dataset[train_indices:]\n",
        "\n",
        "\n",
        "print(f\"Total dataset samples: {len(dataset)}\\nTrain dataset samples: {len(train_dataset)}\\nTest dataset samples: {len(test_dataset)}\")"
      ],
      "metadata": {
        "id": "TDUd7BUl-TaU",
        "colab": {
          "base_uri": "https://localhost:8080/"
        },
        "outputId": "8823be15-19a5-4602-9b7f-04d340ef6620"
      },
      "execution_count": 182,
      "outputs": [
        {
          "output_type": "stream",
          "name": "stdout",
          "text": [
            "Total dataset samples: 10\n",
            "Train dataset samples: 8\n",
            "Test dataset samples: 2\n"
          ]
        }
      ]
    },
    {
      "cell_type": "code",
      "source": [
        "# Calculate average nodes and edges in the graphs\n",
        "avg_nodes = 0\n",
        "avg_edges = 0\n",
        "for i in range(len(original_dataset)):\n",
        "  avg_nodes+=original_dataset[i].x.shape[0]/len(original_dataset)\n",
        "  avg_edges+=original_dataset[i].edge_index.shape[1]/len(original_dataset)\n",
        "print(f\"avg nodes: {avg_nodes:.4f}, avg_edges: {avg_edges:.4f}\")\n",
        "\n"
      ],
      "metadata": {
        "colab": {
          "base_uri": "https://localhost:8080/"
        },
        "id": "oyIrC15qyqW_",
        "outputId": "e3b65e87-7713-4e03-c256-0cdbcaa9dc73"
      },
      "execution_count": 183,
      "outputs": [
        {
          "output_type": "stream",
          "name": "stdout",
          "text": [
            "avg nodes: 34.0892, avg_edges: 73.7184\n"
          ]
        }
      ]
    },
    {
      "cell_type": "code",
      "source": [
        "# Create a dataloader from the dataset\n",
        "train_dataloader = DataLoader(train_dataset, batch_size=32, shuffle=True)\n",
        "test_dataloader = DataLoader(test_dataset, batch_size=32, shuffle=True)\n",
        "\n",
        "print(f\"Number of batches: {len(train_dataloader)}\")\n",
        "print(f\"Number of samples: {len(train_dataset)}\")"
      ],
      "metadata": {
        "colab": {
          "base_uri": "https://localhost:8080/"
        },
        "id": "DITcTGVx_F3d",
        "outputId": "b9e5794a-1040-4fa2-e2b4-ff54d1620009"
      },
      "execution_count": 184,
      "outputs": [
        {
          "output_type": "stream",
          "name": "stdout",
          "text": [
            "Number of batches: 1\n",
            "Number of samples: 8\n"
          ]
        }
      ]
    },
    {
      "cell_type": "code",
      "source": [
        "# Load a single graph\n",
        "\n",
        "print(f\"Number of nodes in graph is: {train_dataset[0].x.shape[0]}\")\n",
        "print(f\"Number of features for each node is {train_dataset[0].num_features}\")\n",
        "print(f\"Number of edges is {train_dataset[0].edge_index.shape[1]}\")\n",
        "print(f\"Data object is {train_dataset[0]}\\n\")"
      ],
      "metadata": {
        "id": "NuE_wWzICdlN",
        "outputId": "74bdc200-2523-426a-efe6-5867ded03740",
        "colab": {
          "base_uri": "https://localhost:8080/"
        }
      },
      "execution_count": 185,
      "outputs": [
        {
          "output_type": "stream",
          "name": "stdout",
          "text": [
            "Number of nodes in graph is: 42\n",
            "Number of features for each node is 30\n",
            "Number of edges is 88\n",
            "Data object is Data(x=[42, 30], edge_index=[2, 88], edge_attr=[88, 11], Class=[1], smiles='Fc1cc(cc(F)c1)CC(NC(=O)c1cc(cc(c1)C)C(=O)N(CCC)CCC)[C@@H](O)C[NH2+]Cc1cc(OC)ccc1', pic50=7.6989698)\n",
            "\n"
          ]
        }
      ]
    },
    {
      "cell_type": "code",
      "source": [
        "# Node features for one the graphs. This class is a featurizer of general graph convolution networks for molecules.\n",
        "# The default node(atom) and edge(bond) representations are based on WeaveNet paper.\n",
        "\n",
        "# train_dataset[0].x"
      ],
      "metadata": {
        "id": "xl2qeyeVrL5A"
      },
      "execution_count": 186,
      "outputs": []
    },
    {
      "cell_type": "code",
      "source": [
        "# See the format for a batch\n",
        "print(next(iter(train_dataloader)))"
      ],
      "metadata": {
        "colab": {
          "base_uri": "https://localhost:8080/"
        },
        "id": "IRpeAGqacSdI",
        "outputId": "647b538c-6e8a-475b-8602-01e55b5d0c8f"
      },
      "execution_count": 187,
      "outputs": [
        {
          "output_type": "stream",
          "name": "stdout",
          "text": [
            "DataBatch(x=[287, 30], edge_index=[2, 628], edge_attr=[628, 11], Class=[8], smiles=[8], pic50=[8], batch=[287], ptr=[9])\n"
          ]
        }
      ]
    },
    {
      "cell_type": "code",
      "source": [
        "np.random.seed(44)\n",
        "\n",
        "fig, ax = plt.subplots(ncols=2, nrows=1, figsize = (14,6))\n",
        "\n",
        "g = torch_geometric.utils.to_networkx(train_dataset[0], to_undirected=True)\n",
        "nx.draw(g, ax = ax[0])\n",
        "\n",
        "mol = dataset[0].smiles\n",
        "m = Chem.MolFromSmiles(mol)\n",
        "img = Draw.MolToImage(m)\n",
        "\n",
        "ax[1].imshow(img)\n",
        "ax[1].axis(False);"
      ],
      "metadata": {
        "id": "WCWU18-2vusz",
        "colab": {
          "base_uri": "https://localhost:8080/",
          "height": 499
        },
        "outputId": "625a249c-92ee-4e79-9a0f-f4b3bd0b4617"
      },
      "execution_count": 188,
      "outputs": [
        {
          "output_type": "display_data",
          "data": {
            "text/plain": [
              "<Figure size 1400x600 with 2 Axes>"
            ],
            "image/png": "[encoded data removed]"
          },
          "metadata": {}
        }
      ]
    },
    {
      "cell_type": "code",
      "source": [
        "for batch in enumerate(train_dataloader):\n",
        "  print(batch)"
      ],
      "metadata": {
        "colab": {
          "base_uri": "https://localhost:8080/"
        },
        "id": "VEM4-gL9HAYZ",
        "outputId": "e8cbac88-570f-457b-d08c-9d4b5b6d7a02"
      },
      "execution_count": 189,
      "outputs": [
        {
          "output_type": "stream",
          "name": "stdout",
          "text": [
            "(0, DataBatch(x=[287, 30], edge_index=[2, 628], edge_attr=[628, 11], Class=[8], smiles=[8], pic50=[8], batch=[287], ptr=[9]))\n"
          ]
        }
      ]
    },
    {
      "cell_type": "code",
      "source": [
        "# Create tensor of the average of the node features for all 1210 training samples\n",
        "a = torch.tensor(())\n",
        "for idx, data in enumerate(train_dataloader):\n",
        "  x = global_mean_pool(data.x, data.batch)\n",
        "  a = torch.cat((a, x), 0)\n"
      ],
      "metadata": {
        "id": "Tr3r1Txf5XYD"
      },
      "execution_count": 190,
      "outputs": []
    },
    {
      "cell_type": "code",
      "source": [
        "print(a.shape)\n",
        "df = pd.DataFrame(a.numpy())\n",
        "# display(df)\n",
        "corr = df.corr()\n",
        "# corr.style.background_gradient(cmap='coolwarm')"
      ],
      "metadata": {
        "colab": {
          "base_uri": "https://localhost:8080/"
        },
        "id": "AUXCBkyW_HzM",
        "outputId": "90dbb0f7-9a58-4554-ee2c-5e054641b469"
      },
      "execution_count": 191,
      "outputs": [
        {
          "output_type": "stream",
          "name": "stdout",
          "text": [
            "torch.Size([8, 30])\n"
          ]
        }
      ]
    },
    {
      "cell_type": "code",
      "source": [
        "class GCNClassifier(torch.nn.Module):\n",
        "  \"\"\"\n",
        "  Standard GCN graph classifier\n",
        "  \"\"\"\n",
        "  def __init__(self, in_channels:int, hidden_channels:int, out_channels:int):\n",
        "    super().__init__()\n",
        "    # Convolutional Layers\n",
        "    self.conv1 = GCNConv(in_channels, hidden_channels)\n",
        "\n",
        "    self.conv2 = GCNConv(hidden_channels, hidden_channels)\n",
        "\n",
        "    self.conv3 = GCNConv(hidden_channels, hidden_channels)\n",
        "\n",
        "    # Linear layer used in classification\n",
        "    self.lin = Linear(hidden_channels, out_channels)\n",
        "\n",
        "  def forward(self, data):\n",
        "    # Obtain node embeddings\n",
        "    x, edge_index, batch = data.x, data.edge_index, data.batch\n",
        "    x = self.conv1(x, edge_index)\n",
        "    x = F.relu(x)\n",
        "    x = self.conv2(x, edge_index)\n",
        "    x = F.relu(x)\n",
        "    x = self.conv3(x, edge_index)\n",
        "\n",
        "    # Aggregate node embeddings\n",
        "    x = global_mean_pool(x, batch)\n",
        "\n",
        "    # Regularisation\n",
        "    x = F.dropout(x)\n",
        "\n",
        "    # Classification\n",
        "    x = self.lin(x)\n",
        "\n",
        "    x = F.softmax(x, dim=1)\n",
        "\n",
        "    return x\n",
        "\n",
        "GCNClassifier(7, 64, 2)"
      ],
      "metadata": {
        "colab": {
          "base_uri": "https://localhost:8080/"
        },
        "id": "6s5AgpJDG2UK",
        "outputId": "41351f0b-5f76-47dd-9ce6-1143cf459cbe"
      },
      "execution_count": 203,
      "outputs": [
        {
          "output_type": "execute_result",
          "data": {
            "text/plain": [
              "GCNClassifier(\n",
              "  (conv1): GCNConv(7, 64)\n",
              "  (conv2): GCNConv(64, 64)\n",
              "  (conv3): GCNConv(64, 64)\n",
              "  (lin): Linear(in_features=64, out_features=2, bias=True)\n",
              ")"
            ]
          },
          "metadata": {},
          "execution_count": 203
        }
      ]
    },
    {
      "cell_type": "code",
      "source": [
        "device = \"cuda\" if torch.cuda.is_available() else \"cpu\"\n",
        "\n",
        "def train_step(model:torch.nn.Module,\n",
        "               dataloader: torch.utils.data.DataLoader,\n",
        "               loss_fn: torch.nn.Module,\n",
        "               optimizer: torch.optim.Optimizer):\n",
        "  # Send model to device\n",
        "  model.to(device)\n",
        "  model.train()\n",
        "\n",
        "  train_loss, train_acc = 0, 0\n",
        "\n",
        "  # Loop over the batches\n",
        "  for idx, batch in enumerate(dataloader):\n",
        "    batch = batch.to(device)\n",
        "\n",
        "    # Optimizer zero grad\n",
        "    optimizer.zero_grad()\n",
        "\n",
        "    # Forward pass\n",
        "    out = model(batch)\n",
        "\n",
        "    # Calculate the loss\n",
        "    loss = loss_fn(out, batch.Class)\n",
        "    train_loss += loss.item()\n",
        "\n",
        "    # Calculate the label predictions\n",
        "    label_preds = torch.argmax(out, dim=1)\n",
        "    # Calculate accuracy\n",
        "    train_acc += (label_preds == batch.Class).sum()\n",
        "\n",
        "    # Loss backward\n",
        "    loss.backward()\n",
        "\n",
        "    # Optimizer step\n",
        "    optimizer.step\n",
        "\n",
        "  # Adjust metrics to get average loss and accuracy per batch\n",
        "  train_loss = train_loss/len(dataloader.dataset)\n",
        "  train_acc = train_acc/len(dataloader.dataset)\n",
        "\n",
        "  return train_loss, train_acc"
      ],
      "metadata": {
        "id": "Qqw12LguVMMa"
      },
      "execution_count": 193,
      "outputs": []
    },
    {
      "cell_type": "code",
      "source": [
        "def test_step(model:torch.nn.Module,\n",
        "               dataloader: torch.utils.data.DataLoader,\n",
        "               loss_fn: torch.nn.Module,\n",
        "               optimizer: torch.optim.Optimizer):\n",
        "  # Put model in eval mode\n",
        "  model.eval()\n",
        "\n",
        "  test_loss, test_acc = 0, 0\n",
        "\n",
        "  # Turn on torch inference manager\n",
        "  with torch.inference_mode():\n",
        "    # Loop through data batches\n",
        "    for idx, batch in enumerate(dataloader):\n",
        "      batch = batch.to(device)\n",
        "\n",
        "      # Forward pass\n",
        "      out = model(batch)\n",
        "\n",
        "      # Calculate the loss\n",
        "      loss = loss_fn(out, batch.Class)\n",
        "      test_loss += loss.item()\n",
        "\n",
        "      # Calculate the label predictions\n",
        "      label_preds = torch.argmax(out, dim=1)\n",
        "      # Calculate accuracy\n",
        "      test_acc += (label_preds == batch.Class).sum()/len(label_preds)\n",
        "\n",
        "    # Adjust metrics to get average loss and accuracy per batch\n",
        "    test_loss = test_loss/len(dataloader)\n",
        "    test_acc = test_acc/len(dataloader)\n",
        "\n",
        "    return test_loss, test_acc"
      ],
      "metadata": {
        "id": "but5rpUge8QH"
      },
      "execution_count": 194,
      "outputs": []
    },
    {
      "cell_type": "code",
      "source": [
        "# Take in various parameters required for training and test steps\n",
        "def train(model: torch.nn.Module,\n",
        "          train_dataloader: torch.utils.data.DataLoader,\n",
        "          test_dataloader: torch.utils.data.DataLoader,\n",
        "          optimizer: torch.optim.Optimizer,\n",
        "          loss_fn: torch.nn.Module = torch.nn.CrossEntropyLoss(),\n",
        "          epochs: int = 5):\n",
        "\n",
        "  # 2. Create empty results dictionary\n",
        "  results = {\"epoch\": [],\n",
        "             \"train_loss\": [],\n",
        "             \"train_acc\": [],\n",
        "             \"test_loss\": [],\n",
        "             \"test_acc\": []\n",
        "             }\n",
        "  # 3. Loop through training and testing steps for a number of epochs\n",
        "\n",
        "  for i in tqdm(range(epochs)):\n",
        "    train_loss, train_acc = train_step(model,\n",
        "                                       train_dataloader,\n",
        "                                       loss_fn,\n",
        "                                       optimizer)\n",
        "    test_loss, test_acc = test_step(model,\n",
        "                                    test_dataloader,\n",
        "                                    loss_fn,\n",
        "                                    optimizer)\n",
        "\n",
        "\n",
        "    # 4. Print out what's happening\n",
        "\n",
        "    print(f\"Epoch: {i}, Train loss: {train_loss:.4f}, Train acc: {train_acc:.4f}, Test loss: {test_loss:.4f}, Test acc: {test_acc:.4f}\")\n",
        "\n",
        "    # 5. Update results dictionary\n",
        "\n",
        "    results[\"epoch\"].append(i)\n",
        "    results[\"train_loss\"].append(round(train_loss, 4))\n",
        "    results[\"train_acc\"].append(round(train_acc.item(), 4))\n",
        "    results[\"test_loss\"].append(round(test_loss, 4))\n",
        "    results[\"test_acc\"].append(round(test_acc.item(), 4))\n",
        "\n",
        "\n",
        "   # 6. Return the filled results at the end of the epochs\n",
        "\n",
        "  return results"
      ],
      "metadata": {
        "id": "o2chTxER2o2B"
      },
      "execution_count": 195,
      "outputs": []
    },
    {
      "cell_type": "code",
      "source": [
        "torch.manual_seed(42)\n",
        "\n",
        "# Number of features of the graphs\n",
        "print(next(iter(train_dataloader)))\n",
        "num_features = next(iter(train_dataloader)).x.shape[1]\n",
        "num_hidden_channels = 128\n",
        "num_out_channels = 2\n",
        "nb_epochs = 50\n",
        "\n",
        "# Instantiating GCN Classifier\n",
        "model = GCNClassifier(num_features, num_hidden_channels, num_out_channels)\n",
        "\n",
        "adam_optimizer = torch.optim.Adam(model.parameters(), lr=0.001)\n",
        "sgd_optimizer = torch.optim.SGD(model.parameters())\n",
        "\n",
        "criterion = torch.nn.CrossEntropyLoss()\n",
        "\n",
        "results = train(model,\n",
        "      train_dataloader,\n",
        "      test_dataloader,\n",
        "      adam_optimizer,\n",
        "      loss_fn = criterion,\n",
        "      epochs = nb_epochs\n",
        "      )"
      ],
      "metadata": {
        "colab": {
          "base_uri": "https://localhost:8080/",
          "height": 960,
          "referenced_widgets": [
            "a1da7a6346174265a9fb6bc670347af9",
            "b9c5a68743684fc1b4f2ddc2cfaa8935",
            "438aa935e96b451a91220ab662de324b",
            "06a84e16cb804b0389d44b8e81bc5c43",
            "9dfd1a8fd7714c44bb6e2a5af0fd53e3",
            "296804ecdace4eb3ac3d80f918a1c875",
            "1964d7fea599469c995daeaca7c42658",
            "8c50ce085217418c8f98fb48616e8a7b",
            "977a810f672e4b04a5d75f9450e58021",
            "e419c1aecae84047aa941ca751fba26d",
            "96edf4c52cce44e1ae1c307a807a72c9"
          ]
        },
        "id": "9HBC4UR65h7U",
        "outputId": "242623e3-7e7f-4e8a-e9fe-b90cec13f0bb"
      },
      "execution_count": 200,
      "outputs": [
        {
          "output_type": "stream",
          "name": "stdout",
          "text": [
            "DataBatch(x=[287, 30], edge_index=[2, 628], edge_attr=[628, 11], Class=[8], smiles=[8], pic50=[8], batch=[287], ptr=[9])\n"
          ]
        },
        {
          "output_type": "display_data",
          "data": {
            "text/plain": [
              "  0%|          | 0/50 [00:00<?, ?it/s]"
            ],
            "application/vnd.jupyter.widget-view+json": {
              "version_major": 2,
              "version_minor": 0,
              "model_id": "a1da7a6346174265a9fb6bc670347af9"
            }
          },
          "metadata": {}
        },
        {
          "output_type": "stream",
          "name": "stdout",
          "text": [
            "Epoch: 0, Train loss: 0.0852, Train acc: 0.6250, Test loss: 0.6944, Test acc: 0.5000\n",
            "Epoch: 1, Train loss: 0.0852, Train acc: 0.6250, Test loss: 0.6944, Test acc: 0.5000\n",
            "Epoch: 2, Train loss: 0.0852, Train acc: 0.6250, Test loss: 0.6944, Test acc: 0.5000\n",
            "Epoch: 3, Train loss: 0.0852, Train acc: 0.6250, Test loss: 0.6944, Test acc: 0.5000\n",
            "Epoch: 4, Train loss: 0.0852, Train acc: 0.6250, Test loss: 0.6944, Test acc: 0.5000\n",
            "Epoch: 5, Train loss: 0.0852, Train acc: 0.6250, Test loss: 0.6944, Test acc: 0.5000\n",
            "Epoch: 6, Train loss: 0.0852, Train acc: 0.6250, Test loss: 0.6944, Test acc: 0.5000\n",
            "Epoch: 7, Train loss: 0.0852, Train acc: 0.6250, Test loss: 0.6944, Test acc: 0.5000\n",
            "Epoch: 8, Train loss: 0.0852, Train acc: 0.6250, Test loss: 0.6944, Test acc: 0.5000\n",
            "Epoch: 9, Train loss: 0.0852, Train acc: 0.6250, Test loss: 0.6944, Test acc: 0.5000\n",
            "Epoch: 10, Train loss: 0.0852, Train acc: 0.6250, Test loss: 0.6944, Test acc: 0.5000\n",
            "Epoch: 11, Train loss: 0.0852, Train acc: 0.6250, Test loss: 0.6944, Test acc: 0.5000\n",
            "Epoch: 12, Train loss: 0.0852, Train acc: 0.6250, Test loss: 0.6944, Test acc: 0.5000\n",
            "Epoch: 13, Train loss: 0.0852, Train acc: 0.6250, Test loss: 0.6944, Test acc: 0.5000\n",
            "Epoch: 14, Train loss: 0.0852, Train acc: 0.6250, Test loss: 0.6944, Test acc: 0.5000\n",
            "Epoch: 15, Train loss: 0.0852, Train acc: 0.6250, Test loss: 0.6944, Test acc: 0.5000\n",
            "Epoch: 16, Train loss: 0.0852, Train acc: 0.6250, Test loss: 0.6944, Test acc: 0.5000\n",
            "Epoch: 17, Train loss: 0.0852, Train acc: 0.6250, Test loss: 0.6944, Test acc: 0.5000\n",
            "Epoch: 18, Train loss: 0.0852, Train acc: 0.6250, Test loss: 0.6944, Test acc: 0.5000\n",
            "Epoch: 19, Train loss: 0.0852, Train acc: 0.6250, Test loss: 0.6944, Test acc: 0.5000\n",
            "Epoch: 20, Train loss: 0.0852, Train acc: 0.6250, Test loss: 0.6944, Test acc: 0.5000\n",
            "Epoch: 21, Train loss: 0.0852, Train acc: 0.6250, Test loss: 0.6944, Test acc: 0.5000\n",
            "Epoch: 22, Train loss: 0.0852, Train acc: 0.6250, Test loss: 0.6944, Test acc: 0.5000\n",
            "Epoch: 23, Train loss: 0.0852, Train acc: 0.6250, Test loss: 0.6944, Test acc: 0.5000\n",
            "Epoch: 24, Train loss: 0.0852, Train acc: 0.6250, Test loss: 0.6944, Test acc: 0.5000\n",
            "Epoch: 25, Train loss: 0.0852, Train acc: 0.6250, Test loss: 0.6944, Test acc: 0.5000\n",
            "Epoch: 26, Train loss: 0.0852, Train acc: 0.6250, Test loss: 0.6944, Test acc: 0.5000\n",
            "Epoch: 27, Train loss: 0.0852, Train acc: 0.6250, Test loss: 0.6944, Test acc: 0.5000\n",
            "Epoch: 28, Train loss: 0.0852, Train acc: 0.6250, Test loss: 0.6944, Test acc: 0.5000\n",
            "Epoch: 29, Train loss: 0.0852, Train acc: 0.6250, Test loss: 0.6944, Test acc: 0.5000\n",
            "Epoch: 30, Train loss: 0.0852, Train acc: 0.6250, Test loss: 0.6944, Test acc: 0.5000\n",
            "Epoch: 31, Train loss: 0.0852, Train acc: 0.6250, Test loss: 0.6944, Test acc: 0.5000\n",
            "Epoch: 32, Train loss: 0.0852, Train acc: 0.6250, Test loss: 0.6944, Test acc: 0.5000\n",
            "Epoch: 33, Train loss: 0.0852, Train acc: 0.6250, Test loss: 0.6944, Test acc: 0.5000\n",
            "Epoch: 34, Train loss: 0.0852, Train acc: 0.6250, Test loss: 0.6944, Test acc: 0.5000\n",
            "Epoch: 35, Train loss: 0.0852, Train acc: 0.6250, Test loss: 0.6944, Test acc: 0.5000\n",
            "Epoch: 36, Train loss: 0.0852, Train acc: 0.6250, Test loss: 0.6944, Test acc: 0.5000\n",
            "Epoch: 37, Train loss: 0.0852, Train acc: 0.6250, Test loss: 0.6944, Test acc: 0.5000\n",
            "Epoch: 38, Train loss: 0.0852, Train acc: 0.6250, Test loss: 0.6944, Test acc: 0.5000\n",
            "Epoch: 39, Train loss: 0.0852, Train acc: 0.6250, Test loss: 0.6944, Test acc: 0.5000\n",
            "Epoch: 40, Train loss: 0.0852, Train acc: 0.6250, Test loss: 0.6944, Test acc: 0.5000\n",
            "Epoch: 41, Train loss: 0.0852, Train acc: 0.6250, Test loss: 0.6944, Test acc: 0.5000\n",
            "Epoch: 42, Train loss: 0.0852, Train acc: 0.6250, Test loss: 0.6944, Test acc: 0.5000\n",
            "Epoch: 43, Train loss: 0.0852, Train acc: 0.6250, Test loss: 0.6944, Test acc: 0.5000\n",
            "Epoch: 44, Train loss: 0.0852, Train acc: 0.6250, Test loss: 0.6944, Test acc: 0.5000\n",
            "Epoch: 45, Train loss: 0.0852, Train acc: 0.6250, Test loss: 0.6944, Test acc: 0.5000\n",
            "Epoch: 46, Train loss: 0.0852, Train acc: 0.6250, Test loss: 0.6944, Test acc: 0.5000\n",
            "Epoch: 47, Train loss: 0.0852, Train acc: 0.6250, Test loss: 0.6944, Test acc: 0.5000\n",
            "Epoch: 48, Train loss: 0.0852, Train acc: 0.6250, Test loss: 0.6944, Test acc: 0.5000\n",
            "Epoch: 49, Train loss: 0.0852, Train acc: 0.6250, Test loss: 0.6944, Test acc: 0.5000\n"
          ]
        }
      ]
    },
    {
      "cell_type": "code",
      "source": [
        "fig, ax = plt.subplots(ncols=2, nrows=1, figsize = (14,6))\n",
        "\n",
        "ax[0].plot(np.arange(0, nb_epochs), results[\"train_loss\"], label=\"Train\");\n",
        "ax[0].plot(np.arange(0, nb_epochs), results[\"test_loss\"],  label=\"Test\");\n",
        "\n",
        "ax[1].plot(np.arange(0, nb_epochs), results[\"train_acc\"], label=\"Train\");\n",
        "ax[1].plot(np.arange(0, nb_epochs), results[\"test_acc\"],  label=\"Test\");\n",
        "\n",
        "ax[0].set_xlabel(\"Epochs\", size=14)\n",
        "ax[0].set_ylabel(\"Loss\", size=14)\n",
        "\n",
        "ax[1].set_xlabel(\"Epochs\", size=14)\n",
        "ax[1].set_ylabel(\"Accuracy\", size=14)\n",
        "\n",
        "ax[0].legend();\n",
        "ax[1].legend();"
      ],
      "metadata": {
        "id": "n3jQLbnL_s_j",
        "colab": {
          "base_uri": "https://localhost:8080/",
          "height": 547
        },
        "outputId": "7ffffb88-0996-4132-e784-ede28be3533c"
      },
      "execution_count": 25,
      "outputs": [
        {
          "output_type": "display_data",
          "data": {
            "text/plain": [
              "<Figure size 1400x600 with 2 Axes>"
            ],
            "image/png": "[encoded data removed]"
          },
          "metadata": {}
        }
      ]
    },
    {
      "cell_type": "code",
      "source": [
        "# Try using our training model on an easier dataset\n",
        "torch.manual_seed(42)\n",
        "\n",
        "from torch_geometric.datasets import TUDataset\n",
        "\n",
        "dataset = TUDataset(root='data/TUDataset', name='MUTAG')\n",
        "\n",
        "train_indices = int(0.8*len(dataset))\n",
        "\n",
        "train_dataset = dataset[:train_indices]\n",
        "test_dataset = dataset[train_indices:]\n",
        "\n",
        "train_dataloader = DataLoader(train_dataset, batch_size=64, shuffle=True)\n",
        "test_dataloader = DataLoader(test_dataset, batch_size=64, shuffle=True)"
      ],
      "metadata": {
        "id": "X22XS2Xz4LGB"
      },
      "execution_count": 204,
      "outputs": []
    },
    {
      "cell_type": "code",
      "source": [
        "torch.manual_seed(42)\n",
        "print(len(train_dataset), len(test_dataset))\n",
        "\n",
        "for step, data in enumerate(train_dataloader):\n",
        "    print(f'Step {step + 1}:')\n",
        "    print('=======')\n",
        "    print(f'Number of graphs in the current batch: {data.num_graphs}')\n",
        "    print(data)\n",
        "    print()"
      ],
      "metadata": {
        "colab": {
          "base_uri": "https://localhost:8080/"
        },
        "id": "VBlksbSwkWHj",
        "outputId": "5a7ec312-dde3-4460-aff5-1fb9be18db78"
      },
      "execution_count": 205,
      "outputs": [
        {
          "output_type": "stream",
          "name": "stdout",
          "text": [
            "150 38\n",
            "Step 1:\n",
            "=======\n",
            "Number of graphs in the current batch: 64\n",
            "DataBatch(edge_index=[2, 2574], x=[1165, 7], edge_attr=[2574, 4], y=[64], batch=[1165], ptr=[65])\n",
            "\n",
            "Step 2:\n",
            "=======\n",
            "Number of graphs in the current batch: 64\n",
            "DataBatch(edge_index=[2, 2488], x=[1127, 7], edge_attr=[2488, 4], y=[64], batch=[1127], ptr=[65])\n",
            "\n",
            "Step 3:\n",
            "=======\n",
            "Number of graphs in the current batch: 22\n",
            "DataBatch(edge_index=[2, 868], x=[392, 7], edge_attr=[868, 4], y=[22], batch=[392], ptr=[23])\n",
            "\n"
          ]
        }
      ]
    },
    {
      "cell_type": "code",
      "source": [
        "next(iter(train_dataloader))"
      ],
      "metadata": {
        "colab": {
          "base_uri": "https://localhost:8080/"
        },
        "id": "bkqdlz44_4td",
        "outputId": "0b2a6f20-e9a5-4ed4-88aa-88f0bc853e8f"
      },
      "execution_count": 206,
      "outputs": [
        {
          "output_type": "execute_result",
          "data": {
            "text/plain": [
              "DataBatch(edge_index=[2, 2632], x=[1187, 7], edge_attr=[2632, 4], y=[64], batch=[1187], ptr=[65])"
            ]
          },
          "metadata": {},
          "execution_count": 206
        }
      ]
    },
    {
      "cell_type": "code",
      "source": [
        "torch.manual_seed(42)\n",
        "device = \"cuda\" if torch.cuda.is_available() else \"cpu\"\n",
        "\n",
        "def train_step(model:torch.nn.Module,\n",
        "               dataloader: torch.utils.data.DataLoader,\n",
        "               loss_fn: torch.nn.Module,\n",
        "               optimizer: torch.optim.Optimizer):\n",
        "  # Send model to device\n",
        "  model.to(device)\n",
        "  model.train()\n",
        "\n",
        "  train_loss, train_acc = 0, 0\n",
        "\n",
        "  # Loop over the batches\n",
        "  for idx, data in enumerate(dataloader):\n",
        "    data = data.to(device)\n",
        "\n",
        "    # Optimizer zero grad\n",
        "    optimizer.zero_grad()\n",
        "\n",
        "    # Forward pass\n",
        "    out = model(data)\n",
        "\n",
        "    # Calculate the loss\n",
        "    loss = loss_fn(out, data.y)\n",
        "    train_loss += loss.item()\n",
        "\n",
        "    # Calculate the label predictions\n",
        "    label_preds = torch.argmax(out, dim=1)\n",
        "    # Calculate accuracy\n",
        "    train_acc += (label_preds == data.y).sum()/len(label_preds)\n",
        "\n",
        "    # Loss backward\n",
        "    loss.backward()\n",
        "\n",
        "    # Optimizer step\n",
        "    optimizer.step\n",
        "\n",
        "  # Adjust metrics to get average loss and accuracy per batch\n",
        "  train_loss = train_loss/len(dataloader)\n",
        "  train_acc = train_acc/len(dataloader)\n",
        "\n",
        "  return train_loss, train_acc"
      ],
      "metadata": {
        "id": "fgBXIvKt_2FE"
      },
      "execution_count": 207,
      "outputs": []
    },
    {
      "cell_type": "code",
      "source": [
        "torch.manual_seed(42)\n",
        "def test_step(model:torch.nn.Module,\n",
        "               dataloader: torch.utils.data.DataLoader,\n",
        "               loss_fn: torch.nn.Module,\n",
        "               optimizer: torch.optim.Optimizer):\n",
        "  # Put model in eval mode\n",
        "  model.eval()\n",
        "\n",
        "  test_loss, test_acc = 0, 0\n",
        "\n",
        "  # Turn on torch inference manager\n",
        "  with torch.inference_mode():\n",
        "    # Loop through data batches\n",
        "    for idx, data in enumerate(dataloader):\n",
        "      data = data.to(device)\n",
        "\n",
        "      # Forward pass\n",
        "      out = model(data)\n",
        "\n",
        "      # Calculate the loss\n",
        "      loss = loss_fn(out, data.y)\n",
        "      test_loss += loss.item()\n",
        "\n",
        "      # Calculate the label predictions\n",
        "      label_preds = torch.argmax(out, dim=1)\n",
        "      # Calculate accuracy\n",
        "      test_acc += (label_preds == data.y).sum()/len(label_preds)\n",
        "\n",
        "    # Adjust metrics to get average loss and accuracy per batch\n",
        "    test_loss = test_loss/len(dataloader)\n",
        "    test_acc = test_acc/len(dataloader)\n",
        "\n",
        "    return test_loss, test_acc"
      ],
      "metadata": {
        "id": "Qgs06pWeAK7k"
      },
      "execution_count": 208,
      "outputs": []
    },
    {
      "cell_type": "code",
      "source": [
        "torch.manual_seed(42)\n",
        "\n",
        "from IPython.display import Javascript\n",
        "display(Javascript('''google.colab.output.setIframeHeight(0, true, {maxHeight: 300})'''))\n",
        "\n",
        "\n",
        "num_features = next(iter(train_dataloader)).x.shape[1]\n",
        "num_hidden_channels = 64\n",
        "num_out_channels = 2\n",
        "nb_epochs = 150\n",
        "\n",
        "# Instantiating GCN Classifier\n",
        "model = GCNClassifier(num_features, num_hidden_channels, num_out_channels)\n",
        "\n",
        "adam_optimizer = torch.optim.Adam(model.parameters(), lr=0.001)\n",
        "sgd_optimizer = torch.optim.SGD(model.parameters())\n",
        "criterion = torch.nn.CrossEntropyLoss()\n",
        "\n",
        "results = train(model,\n",
        "      train_dataloader,\n",
        "      test_dataloader,\n",
        "      adam_optimizer,\n",
        "      criterion,\n",
        "      epochs = nb_epochs\n",
        "      )"
      ],
      "metadata": {
        "colab": {
          "base_uri": "https://localhost:8080/",
          "height": 300,
          "referenced_widgets": [
            "fd1f099290954e89b9515a550552f414",
            "3145159cd2b14925a00deece23b81fb0",
            "6c3d15e1a5474a37b608074b63c78d41",
            "92ab127d11dc4026a250151e1f413f81",
            "8331df85cc784c04af5f80f697e13d9d",
            "87e7fc7d443744daa86582a4940cd774",
            "9c31dcebc51f43c394167b2563aa6cc2",
            "b55240c6742d4bf19eebdabb217f60f4",
            "bfb04271e97248ae9fd44f462bd9f70b",
            "c653e05e9f9c41d48deaa665b78417cc",
            "9cf3e8f966c04ca58ee2a5855f5f74de"
          ]
        },
        "id": "5Pb7FuU05GMm",
        "outputId": "5c02b072-5197-4788-9569-105b597a4069"
      },
      "execution_count": 209,
      "outputs": [
        {
          "output_type": "display_data",
          "data": {
            "text/plain": [
              "<IPython.core.display.Javascript object>"
            ],
            "application/javascript": [
              "google.colab.output.setIframeHeight(0, true, {maxHeight: 300})"
            ]
          },
          "metadata": {}
        },
        {
          "output_type": "display_data",
          "data": {
            "text/plain": [
              "  0%|          | 0/150 [00:00<?, ?it/s]"
            ],
            "application/vnd.jupyter.widget-view+json": {
              "version_major": 2,
              "version_minor": 0,
              "model_id": "fd1f099290954e89b9515a550552f414"
            }
          },
          "metadata": {}
        },
        {
          "output_type": "stream",
          "name": "stdout",
          "text": [
            "Epoch: 0, Train loss: 0.7040, Train acc: 0.3551, Test loss: 0.7093, Test acc: 0.3158\n",
            "Epoch: 1, Train loss: 0.7053, Train acc: 0.3352, Test loss: 0.7023, Test acc: 0.3158\n",
            "Epoch: 2, Train loss: 0.7047, Train acc: 0.3352, Test loss: 0.7070, Test acc: 0.3158\n",
            "Epoch: 3, Train loss: 0.7056, Train acc: 0.3253, Test loss: 0.7051, Test acc: 0.3158\n",
            "Epoch: 4, Train loss: 0.7071, Train acc: 0.2955, Test loss: 0.7089, Test acc: 0.3158\n",
            "Epoch: 5, Train loss: 0.7041, Train acc: 0.3452, Test loss: 0.7062, Test acc: 0.3158\n",
            "Epoch: 6, Train loss: 0.7032, Train acc: 0.3551, Test loss: 0.7067, Test acc: 0.3158\n",
            "Epoch: 7, Train loss: 0.7032, Train acc: 0.3452, Test loss: 0.7053, Test acc: 0.3158\n",
            "Epoch: 8, Train loss: 0.7039, Train acc: 0.3651, Test loss: 0.7062, Test acc: 0.3158\n",
            "Epoch: 9, Train loss: 0.7074, Train acc: 0.3153, Test loss: 0.7051, Test acc: 0.3158\n",
            "Epoch: 10, Train loss: 0.7083, Train acc: 0.2955, Test loss: 0.7047, Test acc: 0.3158\n",
            "Epoch: 11, Train loss: 0.7053, Train acc: 0.3452, Test loss: 0.7050, Test acc: 0.3158\n",
            "Epoch: 12, Train loss: 0.7053, Train acc: 0.3253, Test loss: 0.7042, Test acc: 0.3158\n",
            "Epoch: 13, Train loss: 0.7063, Train acc: 0.3253, Test loss: 0.7047, Test acc: 0.3158\n",
            "Epoch: 14, Train loss: 0.7047, Train acc: 0.3352, Test loss: 0.7062, Test acc: 0.3158\n",
            "Epoch: 15, Train loss: 0.7056, Train acc: 0.3253, Test loss: 0.7068, Test acc: 0.3158\n",
            "Epoch: 16, Train loss: 0.7063, Train acc: 0.3352, Test loss: 0.7074, Test acc: 0.3158\n",
            "Epoch: 17, Train loss: 0.7048, Train acc: 0.3551, Test loss: 0.7064, Test acc: 0.3158\n",
            "Epoch: 18, Train loss: 0.7045, Train acc: 0.3452, Test loss: 0.7074, Test acc: 0.3158\n",
            "Epoch: 19, Train loss: 0.7032, Train acc: 0.3651, Test loss: 0.7072, Test acc: 0.3158\n",
            "Epoch: 20, Train loss: 0.7053, Train acc: 0.3352, Test loss: 0.7059, Test acc: 0.3158\n",
            "Epoch: 21, Train loss: 0.7034, Train acc: 0.3551, Test loss: 0.7061, Test acc: 0.3158\n",
            "Epoch: 22, Train loss: 0.7052, Train acc: 0.3452, Test loss: 0.7059, Test acc: 0.3158\n",
            "Epoch: 23, Train loss: 0.7055, Train acc: 0.3452, Test loss: 0.7057, Test acc: 0.3158\n",
            "Epoch: 24, Train loss: 0.7051, Train acc: 0.3551, Test loss: 0.7072, Test acc: 0.3158\n",
            "Epoch: 25, Train loss: 0.7044, Train acc: 0.3352, Test loss: 0.7091, Test acc: 0.3158\n",
            "Epoch: 26, Train loss: 0.7047, Train acc: 0.3352, Test loss: 0.7054, Test acc: 0.3158\n",
            "Epoch: 27, Train loss: 0.7032, Train acc: 0.3651, Test loss: 0.7047, Test acc: 0.3158\n",
            "Epoch: 28, Train loss: 0.7040, Train acc: 0.3452, Test loss: 0.7062, Test acc: 0.3158\n",
            "Epoch: 29, Train loss: 0.7066, Train acc: 0.3253, Test loss: 0.7088, Test acc: 0.3158\n",
            "Epoch: 30, Train loss: 0.7046, Train acc: 0.3452, Test loss: 0.7080, Test acc: 0.3158\n",
            "Epoch: 31, Train loss: 0.7066, Train acc: 0.3153, Test loss: 0.7077, Test acc: 0.3158\n",
            "Epoch: 32, Train loss: 0.7013, Train acc: 0.3750, Test loss: 0.7053, Test acc: 0.3158\n",
            "Epoch: 33, Train loss: 0.7070, Train acc: 0.3054, Test loss: 0.7050, Test acc: 0.3158\n",
            "Epoch: 34, Train loss: 0.7050, Train acc: 0.3352, Test loss: 0.7050, Test acc: 0.3158\n",
            "Epoch: 35, Train loss: 0.7034, Train acc: 0.3651, Test loss: 0.7072, Test acc: 0.3158\n",
            "Epoch: 36, Train loss: 0.7065, Train acc: 0.3253, Test loss: 0.7059, Test acc: 0.3158\n",
            "Epoch: 37, Train loss: 0.7084, Train acc: 0.3054, Test loss: 0.7058, Test acc: 0.3158\n",
            "Epoch: 38, Train loss: 0.7023, Train acc: 0.3651, Test loss: 0.7071, Test acc: 0.3158\n",
            "Epoch: 39, Train loss: 0.7042, Train acc: 0.3452, Test loss: 0.7037, Test acc: 0.3158\n",
            "Epoch: 40, Train loss: 0.7079, Train acc: 0.3153, Test loss: 0.7083, Test acc: 0.3158\n",
            "Epoch: 41, Train loss: 0.7024, Train acc: 0.3750, Test loss: 0.7077, Test acc: 0.3158\n",
            "Epoch: 42, Train loss: 0.7021, Train acc: 0.3849, Test loss: 0.7054, Test acc: 0.3158\n",
            "Epoch: 43, Train loss: 0.7060, Train acc: 0.3452, Test loss: 0.7070, Test acc: 0.3158\n",
            "Epoch: 44, Train loss: 0.7062, Train acc: 0.3352, Test loss: 0.7057, Test acc: 0.3158\n",
            "Epoch: 45, Train loss: 0.7059, Train acc: 0.3352, Test loss: 0.7086, Test acc: 0.3158\n",
            "Epoch: 46, Train loss: 0.7073, Train acc: 0.3153, Test loss: 0.7071, Test acc: 0.3158\n",
            "Epoch: 47, Train loss: 0.7060, Train acc: 0.3153, Test loss: 0.7067, Test acc: 0.3158\n",
            "Epoch: 48, Train loss: 0.7079, Train acc: 0.3054, Test loss: 0.7076, Test acc: 0.3158\n",
            "Epoch: 49, Train loss: 0.7044, Train acc: 0.3750, Test loss: 0.7077, Test acc: 0.3158\n",
            "Epoch: 50, Train loss: 0.7022, Train acc: 0.3651, Test loss: 0.7061, Test acc: 0.3158\n",
            "Epoch: 51, Train loss: 0.7051, Train acc: 0.3253, Test loss: 0.7065, Test acc: 0.3158\n",
            "Epoch: 52, Train loss: 0.7050, Train acc: 0.3551, Test loss: 0.7047, Test acc: 0.3158\n",
            "Epoch: 53, Train loss: 0.7022, Train acc: 0.3651, Test loss: 0.7080, Test acc: 0.3158\n",
            "Epoch: 54, Train loss: 0.7012, Train acc: 0.3750, Test loss: 0.7064, Test acc: 0.3158\n",
            "Epoch: 55, Train loss: 0.7058, Train acc: 0.3153, Test loss: 0.7073, Test acc: 0.3158\n",
            "Epoch: 56, Train loss: 0.7021, Train acc: 0.3849, Test loss: 0.7073, Test acc: 0.3158\n",
            "Epoch: 57, Train loss: 0.7029, Train acc: 0.3651, Test loss: 0.7045, Test acc: 0.3158\n",
            "Epoch: 58, Train loss: 0.7027, Train acc: 0.3750, Test loss: 0.7082, Test acc: 0.3158\n",
            "Epoch: 59, Train loss: 0.7074, Train acc: 0.2955, Test loss: 0.7090, Test acc: 0.3158\n",
            "Epoch: 60, Train loss: 0.7058, Train acc: 0.3253, Test loss: 0.7053, Test acc: 0.3158\n",
            "Epoch: 61, Train loss: 0.7043, Train acc: 0.3651, Test loss: 0.7084, Test acc: 0.3158\n",
            "Epoch: 62, Train loss: 0.7044, Train acc: 0.3551, Test loss: 0.7069, Test acc: 0.3158\n",
            "Epoch: 63, Train loss: 0.7071, Train acc: 0.3153, Test loss: 0.7080, Test acc: 0.3158\n",
            "Epoch: 64, Train loss: 0.7012, Train acc: 0.3750, Test loss: 0.7074, Test acc: 0.3158\n",
            "Epoch: 65, Train loss: 0.7049, Train acc: 0.3253, Test loss: 0.7069, Test acc: 0.3158\n",
            "Epoch: 66, Train loss: 0.7048, Train acc: 0.3452, Test loss: 0.7059, Test acc: 0.3158\n",
            "Epoch: 67, Train loss: 0.7043, Train acc: 0.3352, Test loss: 0.7045, Test acc: 0.3158\n",
            "Epoch: 68, Train loss: 0.7050, Train acc: 0.3253, Test loss: 0.7096, Test acc: 0.3158\n",
            "Epoch: 69, Train loss: 0.7037, Train acc: 0.3551, Test loss: 0.7084, Test acc: 0.3158\n",
            "Epoch: 70, Train loss: 0.7072, Train acc: 0.3054, Test loss: 0.7054, Test acc: 0.3158\n",
            "Epoch: 71, Train loss: 0.7057, Train acc: 0.3153, Test loss: 0.7037, Test acc: 0.3158\n",
            "Epoch: 72, Train loss: 0.7054, Train acc: 0.3352, Test loss: 0.7041, Test acc: 0.3158\n",
            "Epoch: 73, Train loss: 0.7072, Train acc: 0.3253, Test loss: 0.7067, Test acc: 0.3158\n",
            "Epoch: 74, Train loss: 0.7043, Train acc: 0.3452, Test loss: 0.7060, Test acc: 0.3158\n",
            "Epoch: 75, Train loss: 0.7022, Train acc: 0.3750, Test loss: 0.7059, Test acc: 0.3158\n",
            "Epoch: 76, Train loss: 0.7017, Train acc: 0.3849, Test loss: 0.7062, Test acc: 0.3158\n",
            "Epoch: 77, Train loss: 0.7031, Train acc: 0.3551, Test loss: 0.7049, Test acc: 0.3158\n",
            "Epoch: 78, Train loss: 0.7027, Train acc: 0.3651, Test loss: 0.7044, Test acc: 0.3158\n",
            "Epoch: 79, Train loss: 0.7047, Train acc: 0.3452, Test loss: 0.7041, Test acc: 0.3158\n",
            "Epoch: 80, Train loss: 0.7072, Train acc: 0.3253, Test loss: 0.7077, Test acc: 0.3158\n",
            "Epoch: 81, Train loss: 0.7039, Train acc: 0.3551, Test loss: 0.7065, Test acc: 0.3158\n",
            "Epoch: 82, Train loss: 0.7065, Train acc: 0.3253, Test loss: 0.7050, Test acc: 0.3158\n",
            "Epoch: 83, Train loss: 0.7053, Train acc: 0.3253, Test loss: 0.7086, Test acc: 0.3158\n",
            "Epoch: 84, Train loss: 0.7079, Train acc: 0.2955, Test loss: 0.7033, Test acc: 0.3158\n",
            "Epoch: 85, Train loss: 0.7070, Train acc: 0.3153, Test loss: 0.7046, Test acc: 0.3158\n",
            "Epoch: 86, Train loss: 0.7051, Train acc: 0.3452, Test loss: 0.7061, Test acc: 0.3158\n",
            "Epoch: 87, Train loss: 0.7031, Train acc: 0.3651, Test loss: 0.7067, Test acc: 0.3158\n",
            "Epoch: 88, Train loss: 0.7051, Train acc: 0.3551, Test loss: 0.7068, Test acc: 0.3158\n",
            "Epoch: 89, Train loss: 0.7053, Train acc: 0.3551, Test loss: 0.7064, Test acc: 0.3158\n",
            "Epoch: 90, Train loss: 0.7058, Train acc: 0.3153, Test loss: 0.7039, Test acc: 0.3158\n",
            "Epoch: 91, Train loss: 0.7057, Train acc: 0.3352, Test loss: 0.7072, Test acc: 0.3158\n",
            "Epoch: 92, Train loss: 0.7044, Train acc: 0.3452, Test loss: 0.7039, Test acc: 0.3158\n",
            "Epoch: 93, Train loss: 0.7027, Train acc: 0.3651, Test loss: 0.7062, Test acc: 0.3158\n",
            "Epoch: 94, Train loss: 0.7046, Train acc: 0.3352, Test loss: 0.7069, Test acc: 0.3158\n",
            "Epoch: 95, Train loss: 0.7055, Train acc: 0.3352, Test loss: 0.7056, Test acc: 0.3158\n",
            "Epoch: 96, Train loss: 0.7048, Train acc: 0.3352, Test loss: 0.7063, Test acc: 0.3158\n",
            "Epoch: 97, Train loss: 0.7054, Train acc: 0.3352, Test loss: 0.7060, Test acc: 0.3158\n",
            "Epoch: 98, Train loss: 0.7038, Train acc: 0.3452, Test loss: 0.7070, Test acc: 0.3158\n",
            "Epoch: 99, Train loss: 0.7061, Train acc: 0.3352, Test loss: 0.7058, Test acc: 0.3158\n",
            "Epoch: 100, Train loss: 0.7026, Train acc: 0.3750, Test loss: 0.7043, Test acc: 0.3158\n",
            "Epoch: 101, Train loss: 0.7027, Train acc: 0.3651, Test loss: 0.7047, Test acc: 0.3158\n",
            "Epoch: 102, Train loss: 0.7043, Train acc: 0.3452, Test loss: 0.7072, Test acc: 0.3158\n",
            "Epoch: 103, Train loss: 0.7049, Train acc: 0.3551, Test loss: 0.7070, Test acc: 0.3158\n",
            "Epoch: 104, Train loss: 0.7054, Train acc: 0.3253, Test loss: 0.7051, Test acc: 0.3158\n",
            "Epoch: 105, Train loss: 0.7042, Train acc: 0.3750, Test loss: 0.7064, Test acc: 0.3158\n",
            "Epoch: 106, Train loss: 0.7004, Train acc: 0.3949, Test loss: 0.7055, Test acc: 0.3158\n",
            "Epoch: 107, Train loss: 0.7055, Train acc: 0.3352, Test loss: 0.7075, Test acc: 0.3158\n",
            "Epoch: 108, Train loss: 0.7052, Train acc: 0.3352, Test loss: 0.7053, Test acc: 0.3158\n",
            "Epoch: 109, Train loss: 0.7040, Train acc: 0.3551, Test loss: 0.7074, Test acc: 0.3158\n",
            "Epoch: 110, Train loss: 0.7050, Train acc: 0.3352, Test loss: 0.7058, Test acc: 0.3158\n",
            "Epoch: 111, Train loss: 0.7054, Train acc: 0.3253, Test loss: 0.7070, Test acc: 0.3158\n",
            "Epoch: 112, Train loss: 0.7069, Train acc: 0.3153, Test loss: 0.7058, Test acc: 0.3158\n",
            "Epoch: 113, Train loss: 0.7048, Train acc: 0.3253, Test loss: 0.7066, Test acc: 0.3158\n",
            "Epoch: 114, Train loss: 0.7067, Train acc: 0.3153, Test loss: 0.7048, Test acc: 0.3158\n",
            "Epoch: 115, Train loss: 0.7052, Train acc: 0.3153, Test loss: 0.7073, Test acc: 0.3158\n",
            "Epoch: 116, Train loss: 0.7053, Train acc: 0.3551, Test loss: 0.7071, Test acc: 0.3158\n",
            "Epoch: 117, Train loss: 0.7060, Train acc: 0.3153, Test loss: 0.7078, Test acc: 0.3158\n",
            "Epoch: 118, Train loss: 0.7041, Train acc: 0.3452, Test loss: 0.7048, Test acc: 0.3158\n",
            "Epoch: 119, Train loss: 0.7068, Train acc: 0.3352, Test loss: 0.7051, Test acc: 0.3158\n",
            "Epoch: 120, Train loss: 0.7064, Train acc: 0.3253, Test loss: 0.7056, Test acc: 0.3158\n",
            "Epoch: 121, Train loss: 0.7070, Train acc: 0.3153, Test loss: 0.7071, Test acc: 0.3158\n",
            "Epoch: 122, Train loss: 0.7053, Train acc: 0.3352, Test loss: 0.7038, Test acc: 0.3158\n",
            "Epoch: 123, Train loss: 0.7065, Train acc: 0.3153, Test loss: 0.7056, Test acc: 0.3158\n",
            "Epoch: 124, Train loss: 0.7043, Train acc: 0.3253, Test loss: 0.7067, Test acc: 0.3158\n",
            "Epoch: 125, Train loss: 0.7078, Train acc: 0.3153, Test loss: 0.7065, Test acc: 0.3158\n",
            "Epoch: 126, Train loss: 0.7045, Train acc: 0.3352, Test loss: 0.7060, Test acc: 0.3158\n",
            "Epoch: 127, Train loss: 0.7054, Train acc: 0.3452, Test loss: 0.7084, Test acc: 0.3158\n",
            "Epoch: 128, Train loss: 0.7059, Train acc: 0.3253, Test loss: 0.7070, Test acc: 0.3158\n",
            "Epoch: 129, Train loss: 0.7053, Train acc: 0.3452, Test loss: 0.7050, Test acc: 0.3158\n",
            "Epoch: 130, Train loss: 0.7067, Train acc: 0.3253, Test loss: 0.7052, Test acc: 0.3158\n",
            "Epoch: 131, Train loss: 0.7027, Train acc: 0.3750, Test loss: 0.7062, Test acc: 0.3158\n",
            "Epoch: 132, Train loss: 0.7061, Train acc: 0.3153, Test loss: 0.7062, Test acc: 0.3158\n",
            "Epoch: 133, Train loss: 0.7040, Train acc: 0.3452, Test loss: 0.7054, Test acc: 0.3158\n",
            "Epoch: 134, Train loss: 0.7058, Train acc: 0.3253, Test loss: 0.7068, Test acc: 0.3158\n",
            "Epoch: 135, Train loss: 0.7000, Train acc: 0.4148, Test loss: 0.7072, Test acc: 0.3158\n",
            "Epoch: 136, Train loss: 0.7048, Train acc: 0.3352, Test loss: 0.7069, Test acc: 0.3158\n",
            "Epoch: 137, Train loss: 0.7052, Train acc: 0.3452, Test loss: 0.7041, Test acc: 0.3158\n",
            "Epoch: 138, Train loss: 0.7046, Train acc: 0.3452, Test loss: 0.7043, Test acc: 0.3158\n",
            "Epoch: 139, Train loss: 0.7023, Train acc: 0.3651, Test loss: 0.7068, Test acc: 0.3158\n",
            "Epoch: 140, Train loss: 0.7014, Train acc: 0.3651, Test loss: 0.7049, Test acc: 0.3158\n",
            "Epoch: 141, Train loss: 0.7059, Train acc: 0.3253, Test loss: 0.7051, Test acc: 0.3158\n",
            "Epoch: 142, Train loss: 0.7036, Train acc: 0.3352, Test loss: 0.7061, Test acc: 0.3158\n",
            "Epoch: 143, Train loss: 0.7043, Train acc: 0.3452, Test loss: 0.7057, Test acc: 0.3158\n",
            "Epoch: 144, Train loss: 0.7050, Train acc: 0.3153, Test loss: 0.7062, Test acc: 0.3158\n",
            "Epoch: 145, Train loss: 0.7045, Train acc: 0.3452, Test loss: 0.7089, Test acc: 0.3158\n",
            "Epoch: 146, Train loss: 0.7043, Train acc: 0.3651, Test loss: 0.7069, Test acc: 0.3158\n",
            "Epoch: 147, Train loss: 0.7050, Train acc: 0.3153, Test loss: 0.7064, Test acc: 0.3158\n",
            "Epoch: 148, Train loss: 0.7042, Train acc: 0.3551, Test loss: 0.7037, Test acc: 0.3158\n",
            "Epoch: 149, Train loss: 0.7023, Train acc: 0.3750, Test loss: 0.7061, Test acc: 0.3158\n"
          ]
        }
      ]
    },
    {
      "cell_type": "code",
      "source": [],
      "metadata": {
        "id": "iIUhQZcXuw-Q"
      },
      "execution_count": 95,
      "outputs": []
    }
  ]
}