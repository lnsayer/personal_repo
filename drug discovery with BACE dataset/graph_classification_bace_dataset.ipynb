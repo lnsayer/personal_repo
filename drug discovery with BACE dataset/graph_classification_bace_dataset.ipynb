{
  "nbformat": 4,
  "nbformat_minor": 0,
  "metadata": {
    "colab": {
      "provenance": [],
      "authorship_tag": "ABX9TyPJRHND18L4s3xA6WJQaCQ1",
      "include_colab_link": true
    },
    "kernelspec": {
      "name": "python3",
      "display_name": "Python 3"
    },
    "language_info": {
      "name": "python"
    },
    "widgets": {
      "application/vnd.jupyter.widget-state+json": {
        "be4f8e705e55458b9690bd31bafee374": {
          "model_module": "@jupyter-widgets/controls",
          "model_name": "HBoxModel",
          "model_module_version": "1.5.0",
          "state": {
            "_dom_classes": [],
            "_model_module": "@jupyter-widgets/controls",
            "_model_module_version": "1.5.0",
            "_model_name": "HBoxModel",
            "_view_count": null,
            "_view_module": "@jupyter-widgets/controls",
            "_view_module_version": "1.5.0",
            "_view_name": "HBoxView",
            "box_style": "",
            "children": [
              "IPY_MODEL_c1226334cd9a4ba69b923a13fadecd80",
              "IPY_MODEL_048a6f1540a34c61bd53ab785b318caf",
              "IPY_MODEL_2ffa0158fcd942d3b02720499371c93c"
            ],
            "layout": "IPY_MODEL_190e8f7a255e4fff9fe6da3126584971"
          }
        },
        "c1226334cd9a4ba69b923a13fadecd80": {
          "model_module": "@jupyter-widgets/controls",
          "model_name": "HTMLModel",
          "model_module_version": "1.5.0",
          "state": {
            "_dom_classes": [],
            "_model_module": "@jupyter-widgets/controls",
            "_model_module_version": "1.5.0",
            "_model_name": "HTMLModel",
            "_view_count": null,
            "_view_module": "@jupyter-widgets/controls",
            "_view_module_version": "1.5.0",
            "_view_name": "HTMLView",
            "description": "",
            "description_tooltip": null,
            "layout": "IPY_MODEL_445bf05109bc42df914fb709f7ebfd77",
            "placeholder": "​",
            "style": "IPY_MODEL_7a17dbd134084bb9af0c3cdafc336bea",
            "value": "  0%"
          }
        },
        "048a6f1540a34c61bd53ab785b318caf": {
          "model_module": "@jupyter-widgets/controls",
          "model_name": "FloatProgressModel",
          "model_module_version": "1.5.0",
          "state": {
            "_dom_classes": [],
            "_model_module": "@jupyter-widgets/controls",
            "_model_module_version": "1.5.0",
            "_model_name": "FloatProgressModel",
            "_view_count": null,
            "_view_module": "@jupyter-widgets/controls",
            "_view_module_version": "1.5.0",
            "_view_name": "ProgressView",
            "bar_style": "danger",
            "description": "",
            "description_tooltip": null,
            "layout": "IPY_MODEL_348d174807c747d3886e5c8466b576b2",
            "max": 5,
            "min": 0,
            "orientation": "horizontal",
            "style": "IPY_MODEL_cdd801cb2a3f46abaad291cca76df379",
            "value": 0
          }
        },
        "2ffa0158fcd942d3b02720499371c93c": {
          "model_module": "@jupyter-widgets/controls",
          "model_name": "HTMLModel",
          "model_module_version": "1.5.0",
          "state": {
            "_dom_classes": [],
            "_model_module": "@jupyter-widgets/controls",
            "_model_module_version": "1.5.0",
            "_model_name": "HTMLModel",
            "_view_count": null,
            "_view_module": "@jupyter-widgets/controls",
            "_view_module_version": "1.5.0",
            "_view_name": "HTMLView",
            "description": "",
            "description_tooltip": null,
            "layout": "IPY_MODEL_444f6b881af042f1b0587270499886bd",
            "placeholder": "​",
            "style": "IPY_MODEL_2756c2da301f45219ff1c996824b1628",
            "value": " 0/5 [00:00&lt;?, ?it/s]"
          }
        },
        "190e8f7a255e4fff9fe6da3126584971": {
          "model_module": "@jupyter-widgets/base",
          "model_name": "LayoutModel",
          "model_module_version": "1.2.0",
          "state": {
            "_model_module": "@jupyter-widgets/base",
            "_model_module_version": "1.2.0",
            "_model_name": "LayoutModel",
            "_view_count": null,
            "_view_module": "@jupyter-widgets/base",
            "_view_module_version": "1.2.0",
            "_view_name": "LayoutView",
            "align_content": null,
            "align_items": null,
            "align_self": null,
            "border": null,
            "bottom": null,
            "display": null,
            "flex": null,
            "flex_flow": null,
            "grid_area": null,
            "grid_auto_columns": null,
            "grid_auto_flow": null,
            "grid_auto_rows": null,
            "grid_column": null,
            "grid_gap": null,
            "grid_row": null,
            "grid_template_areas": null,
            "grid_template_columns": null,
            "grid_template_rows": null,
            "height": null,
            "justify_content": null,
            "justify_items": null,
            "left": null,
            "margin": null,
            "max_height": null,
            "max_width": null,
            "min_height": null,
            "min_width": null,
            "object_fit": null,
            "object_position": null,
            "order": null,
            "overflow": null,
            "overflow_x": null,
            "overflow_y": null,
            "padding": null,
            "right": null,
            "top": null,
            "visibility": null,
            "width": null
          }
        },
        "445bf05109bc42df914fb709f7ebfd77": {
          "model_module": "@jupyter-widgets/base",
          "model_name": "LayoutModel",
          "model_module_version": "1.2.0",
          "state": {
            "_model_module": "@jupyter-widgets/base",
            "_model_module_version": "1.2.0",
            "_model_name": "LayoutModel",
            "_view_count": null,
            "_view_module": "@jupyter-widgets/base",
            "_view_module_version": "1.2.0",
            "_view_name": "LayoutView",
            "align_content": null,
            "align_items": null,
            "align_self": null,
            "border": null,
            "bottom": null,
            "display": null,
            "flex": null,
            "flex_flow": null,
            "grid_area": null,
            "grid_auto_columns": null,
            "grid_auto_flow": null,
            "grid_auto_rows": null,
            "grid_column": null,
            "grid_gap": null,
            "grid_row": null,
            "grid_template_areas": null,
            "grid_template_columns": null,
            "grid_template_rows": null,
            "height": null,
            "justify_content": null,
            "justify_items": null,
            "left": null,
            "margin": null,
            "max_height": null,
            "max_width": null,
            "min_height": null,
            "min_width": null,
            "object_fit": null,
            "object_position": null,
            "order": null,
            "overflow": null,
            "overflow_x": null,
            "overflow_y": null,
            "padding": null,
            "right": null,
            "top": null,
            "visibility": null,
            "width": null
          }
        },
        "7a17dbd134084bb9af0c3cdafc336bea": {
          "model_module": "@jupyter-widgets/controls",
          "model_name": "DescriptionStyleModel",
          "model_module_version": "1.5.0",
          "state": {
            "_model_module": "@jupyter-widgets/controls",
            "_model_module_version": "1.5.0",
            "_model_name": "DescriptionStyleModel",
            "_view_count": null,
            "_view_module": "@jupyter-widgets/base",
            "_view_module_version": "1.2.0",
            "_view_name": "StyleView",
            "description_width": ""
          }
        },
        "348d174807c747d3886e5c8466b576b2": {
          "model_module": "@jupyter-widgets/base",
          "model_name": "LayoutModel",
          "model_module_version": "1.2.0",
          "state": {
            "_model_module": "@jupyter-widgets/base",
            "_model_module_version": "1.2.0",
            "_model_name": "LayoutModel",
            "_view_count": null,
            "_view_module": "@jupyter-widgets/base",
            "_view_module_version": "1.2.0",
            "_view_name": "LayoutView",
            "align_content": null,
            "align_items": null,
            "align_self": null,
            "border": null,
            "bottom": null,
            "display": null,
            "flex": null,
            "flex_flow": null,
            "grid_area": null,
            "grid_auto_columns": null,
            "grid_auto_flow": null,
            "grid_auto_rows": null,
            "grid_column": null,
            "grid_gap": null,
            "grid_row": null,
            "grid_template_areas": null,
            "grid_template_columns": null,
            "grid_template_rows": null,
            "height": null,
            "justify_content": null,
            "justify_items": null,
            "left": null,
            "margin": null,
            "max_height": null,
            "max_width": null,
            "min_height": null,
            "min_width": null,
            "object_fit": null,
            "object_position": null,
            "order": null,
            "overflow": null,
            "overflow_x": null,
            "overflow_y": null,
            "padding": null,
            "right": null,
            "top": null,
            "visibility": null,
            "width": null
          }
        },
        "cdd801cb2a3f46abaad291cca76df379": {
          "model_module": "@jupyter-widgets/controls",
          "model_name": "ProgressStyleModel",
          "model_module_version": "1.5.0",
          "state": {
            "_model_module": "@jupyter-widgets/controls",
            "_model_module_version": "1.5.0",
            "_model_name": "ProgressStyleModel",
            "_view_count": null,
            "_view_module": "@jupyter-widgets/base",
            "_view_module_version": "1.2.0",
            "_view_name": "StyleView",
            "bar_color": null,
            "description_width": ""
          }
        },
        "444f6b881af042f1b0587270499886bd": {
          "model_module": "@jupyter-widgets/base",
          "model_name": "LayoutModel",
          "model_module_version": "1.2.0",
          "state": {
            "_model_module": "@jupyter-widgets/base",
            "_model_module_version": "1.2.0",
            "_model_name": "LayoutModel",
            "_view_count": null,
            "_view_module": "@jupyter-widgets/base",
            "_view_module_version": "1.2.0",
            "_view_name": "LayoutView",
            "align_content": null,
            "align_items": null,
            "align_self": null,
            "border": null,
            "bottom": null,
            "display": null,
            "flex": null,
            "flex_flow": null,
            "grid_area": null,
            "grid_auto_columns": null,
            "grid_auto_flow": null,
            "grid_auto_rows": null,
            "grid_column": null,
            "grid_gap": null,
            "grid_row": null,
            "grid_template_areas": null,
            "grid_template_columns": null,
            "grid_template_rows": null,
            "height": null,
            "justify_content": null,
            "justify_items": null,
            "left": null,
            "margin": null,
            "max_height": null,
            "max_width": null,
            "min_height": null,
            "min_width": null,
            "object_fit": null,
            "object_position": null,
            "order": null,
            "overflow": null,
            "overflow_x": null,
            "overflow_y": null,
            "padding": null,
            "right": null,
            "top": null,
            "visibility": null,
            "width": null
          }
        },
        "2756c2da301f45219ff1c996824b1628": {
          "model_module": "@jupyter-widgets/controls",
          "model_name": "DescriptionStyleModel",
          "model_module_version": "1.5.0",
          "state": {
            "_model_module": "@jupyter-widgets/controls",
            "_model_module_version": "1.5.0",
            "_model_name": "DescriptionStyleModel",
            "_view_count": null,
            "_view_module": "@jupyter-widgets/base",
            "_view_module_version": "1.2.0",
            "_view_name": "StyleView",
            "description_width": ""
          }
        }
      }
    }
  },
  "cells": [
    {
      "cell_type": "markdown",
      "metadata": {
        "id": "view-in-github",
        "colab_type": "text"
      },
      "source": [
        "<a href=\"https://colab.research.google.com/github/lnsayer/personal_repo/blob/main/drug%20discovery%20with%20BACE%20dataset/graph_classification_bace_dataset.ipynb\" target=\"_parent\"><img src=\"https://colab.research.google.com/assets/colab-badge.svg\" alt=\"Open In Colab\"/></a>"
      ]
    },
    {
      "cell_type": "code",
      "source": [
        "# Install necessary packages\n",
        "!pip install rdkit\n",
        "!pip install torch_geometric\n",
        "!pip install deepchem\n",
        "!pip install networkx"
      ],
      "metadata": {
        "colab": {
          "base_uri": "https://localhost:8080/"
        },
        "id": "axXnWUEc_e4p",
        "outputId": "ad18f5cf-004b-4b61-fab6-2569f25c07c1"
      },
      "execution_count": 1,
      "outputs": [
        {
          "output_type": "stream",
          "name": "stdout",
          "text": [
            "Collecting rdkit\n",
            "  Downloading rdkit-2023.9.6-cp310-cp310-manylinux_2_17_x86_64.manylinux2014_x86_64.whl (34.9 MB)\n",
            "\u001b[2K     \u001b[90m━━━━━━━━━━━━━━━━━━━━━━━━━━━━━━━━━━━━━━━━\u001b[0m \u001b[32m34.9/34.9 MB\u001b[0m \u001b[31m25.4 MB/s\u001b[0m eta \u001b[36m0:00:00\u001b[0m\n",
            "\u001b[?25hRequirement already satisfied: numpy in /usr/local/lib/python3.10/dist-packages (from rdkit) (1.25.2)\n",
            "Requirement already satisfied: Pillow in /usr/local/lib/python3.10/dist-packages (from rdkit) (9.4.0)\n",
            "Installing collected packages: rdkit\n",
            "Successfully installed rdkit-2023.9.6\n",
            "Collecting torch_geometric\n",
            "  Downloading torch_geometric-2.5.3-py3-none-any.whl (1.1 MB)\n",
            "\u001b[2K     \u001b[90m━━━━━━━━━━━━━━━━━━━━━━━━━━━━━━━━━━━━━━━━\u001b[0m \u001b[32m1.1/1.1 MB\u001b[0m \u001b[31m11.1 MB/s\u001b[0m eta \u001b[36m0:00:00\u001b[0m\n",
            "\u001b[?25hRequirement already satisfied: tqdm in /usr/local/lib/python3.10/dist-packages (from torch_geometric) (4.66.4)\n",
            "Requirement already satisfied: numpy in /usr/local/lib/python3.10/dist-packages (from torch_geometric) (1.25.2)\n",
            "Requirement already satisfied: scipy in /usr/local/lib/python3.10/dist-packages (from torch_geometric) (1.11.4)\n",
            "Requirement already satisfied: fsspec in /usr/local/lib/python3.10/dist-packages (from torch_geometric) (2023.6.0)\n",
            "Requirement already satisfied: jinja2 in /usr/local/lib/python3.10/dist-packages (from torch_geometric) (3.1.4)\n",
            "Requirement already satisfied: aiohttp in /usr/local/lib/python3.10/dist-packages (from torch_geometric) (3.9.5)\n",
            "Requirement already satisfied: requests in /usr/local/lib/python3.10/dist-packages (from torch_geometric) (2.31.0)\n",
            "Requirement already satisfied: pyparsing in /usr/local/lib/python3.10/dist-packages (from torch_geometric) (3.1.2)\n",
            "Requirement already satisfied: scikit-learn in /usr/local/lib/python3.10/dist-packages (from torch_geometric) (1.2.2)\n",
            "Requirement already satisfied: psutil>=5.8.0 in /usr/local/lib/python3.10/dist-packages (from torch_geometric) (5.9.5)\n",
            "Requirement already satisfied: aiosignal>=1.1.2 in /usr/local/lib/python3.10/dist-packages (from aiohttp->torch_geometric) (1.3.1)\n",
            "Requirement already satisfied: attrs>=17.3.0 in /usr/local/lib/python3.10/dist-packages (from aiohttp->torch_geometric) (23.2.0)\n",
            "Requirement already satisfied: frozenlist>=1.1.1 in /usr/local/lib/python3.10/dist-packages (from aiohttp->torch_geometric) (1.4.1)\n",
            "Requirement already satisfied: multidict<7.0,>=4.5 in /usr/local/lib/python3.10/dist-packages (from aiohttp->torch_geometric) (6.0.5)\n",
            "Requirement already satisfied: yarl<2.0,>=1.0 in /usr/local/lib/python3.10/dist-packages (from aiohttp->torch_geometric) (1.9.4)\n",
            "Requirement already satisfied: async-timeout<5.0,>=4.0 in /usr/local/lib/python3.10/dist-packages (from aiohttp->torch_geometric) (4.0.3)\n",
            "Requirement already satisfied: MarkupSafe>=2.0 in /usr/local/lib/python3.10/dist-packages (from jinja2->torch_geometric) (2.1.5)\n",
            "Requirement already satisfied: charset-normalizer<4,>=2 in /usr/local/lib/python3.10/dist-packages (from requests->torch_geometric) (3.3.2)\n",
            "Requirement already satisfied: idna<4,>=2.5 in /usr/local/lib/python3.10/dist-packages (from requests->torch_geometric) (3.7)\n",
            "Requirement already satisfied: urllib3<3,>=1.21.1 in /usr/local/lib/python3.10/dist-packages (from requests->torch_geometric) (2.0.7)\n",
            "Requirement already satisfied: certifi>=2017.4.17 in /usr/local/lib/python3.10/dist-packages (from requests->torch_geometric) (2024.2.2)\n",
            "Requirement already satisfied: joblib>=1.1.1 in /usr/local/lib/python3.10/dist-packages (from scikit-learn->torch_geometric) (1.4.2)\n",
            "Requirement already satisfied: threadpoolctl>=2.0.0 in /usr/local/lib/python3.10/dist-packages (from scikit-learn->torch_geometric) (3.5.0)\n",
            "Installing collected packages: torch_geometric\n",
            "Successfully installed torch_geometric-2.5.3\n",
            "Collecting deepchem\n",
            "  Downloading deepchem-2.8.0-py3-none-any.whl (1.0 MB)\n",
            "\u001b[2K     \u001b[90m━━━━━━━━━━━━━━━━━━━━━━━━━━━━━━━━━━━━━━━━\u001b[0m \u001b[32m1.0/1.0 MB\u001b[0m \u001b[31m15.1 MB/s\u001b[0m eta \u001b[36m0:00:00\u001b[0m\n",
            "\u001b[?25hRequirement already satisfied: joblib in /usr/local/lib/python3.10/dist-packages (from deepchem) (1.4.2)\n",
            "Requirement already satisfied: numpy>=1.21 in /usr/local/lib/python3.10/dist-packages (from deepchem) (1.25.2)\n",
            "Requirement already satisfied: pandas in /usr/local/lib/python3.10/dist-packages (from deepchem) (2.0.3)\n",
            "Requirement already satisfied: scikit-learn in /usr/local/lib/python3.10/dist-packages (from deepchem) (1.2.2)\n",
            "Requirement already satisfied: sympy in /usr/local/lib/python3.10/dist-packages (from deepchem) (1.12)\n",
            "Requirement already satisfied: scipy>=1.10.1 in /usr/local/lib/python3.10/dist-packages (from deepchem) (1.11.4)\n",
            "Requirement already satisfied: rdkit in /usr/local/lib/python3.10/dist-packages (from deepchem) (2023.9.6)\n",
            "Requirement already satisfied: python-dateutil>=2.8.2 in /usr/local/lib/python3.10/dist-packages (from pandas->deepchem) (2.8.2)\n",
            "Requirement already satisfied: pytz>=2020.1 in /usr/local/lib/python3.10/dist-packages (from pandas->deepchem) (2023.4)\n",
            "Requirement already satisfied: tzdata>=2022.1 in /usr/local/lib/python3.10/dist-packages (from pandas->deepchem) (2024.1)\n",
            "Requirement already satisfied: Pillow in /usr/local/lib/python3.10/dist-packages (from rdkit->deepchem) (9.4.0)\n",
            "Requirement already satisfied: threadpoolctl>=2.0.0 in /usr/local/lib/python3.10/dist-packages (from scikit-learn->deepchem) (3.5.0)\n",
            "Requirement already satisfied: mpmath>=0.19 in /usr/local/lib/python3.10/dist-packages (from sympy->deepchem) (1.3.0)\n",
            "Requirement already satisfied: six>=1.5 in /usr/local/lib/python3.10/dist-packages (from python-dateutil>=2.8.2->pandas->deepchem) (1.16.0)\n",
            "Installing collected packages: deepchem\n",
            "Successfully installed deepchem-2.8.0\n",
            "Requirement already satisfied: networkx in /usr/local/lib/python3.10/dist-packages (3.3)\n"
          ]
        }
      ]
    },
    {
      "cell_type": "code",
      "execution_count": 19,
      "metadata": {
        "id": "SEOOvseDz99l"
      },
      "outputs": [],
      "source": [
        "# Import necessary modules\n",
        "import requests\n",
        "from pathlib import Path\n",
        "import os.path as osp\n",
        "\n",
        "from rdkit import Chem\n",
        "from rdkit.Chem import Draw\n",
        "\n",
        "import torch\n",
        "import torch_geometric\n",
        "import torch.nn\n",
        "from torch_geometric.data import InMemoryDataset\n",
        "from torch_geometric.data import Dataset\n",
        "from torch_geometric.data import Data\n",
        "from torch_geometric.loader import DataLoader\n",
        "\n",
        "\n",
        "import deepchem as dc\n",
        "from deepchem.feat.graph_data import GraphData\n",
        "\n",
        "import numpy as np\n",
        "import pandas as pd\n",
        "import matplotlib.pyplot as plt\n",
        "\n",
        "import networkx as nx\n",
        "\n",
        "import random\n",
        "\n",
        "from tqdm.auto import tqdm"
      ]
    },
    {
      "cell_type": "code",
      "source": [
        "# Specify Paths to where data is stored (will have raw and processed files)\n",
        "data_path = Path(\"data/\")\n",
        "bace_path = data_path / \"raw\"\n",
        "\n",
        "print(type(bace_path))\n",
        "print(bace_path)"
      ],
      "metadata": {
        "id": "mYmKzoV11Bt3",
        "colab": {
          "base_uri": "https://localhost:8080/"
        },
        "outputId": "2e49f385-914f-4a75-dab4-1b8cf6948493"
      },
      "execution_count": 3,
      "outputs": [
        {
          "output_type": "stream",
          "name": "stdout",
          "text": [
            "<class 'pathlib.PosixPath'>\n",
            "data/raw\n"
          ]
        }
      ]
    },
    {
      "cell_type": "code",
      "source": [
        "# Check if Bace csv file has been downloaded, if not, download it\n",
        "if bace_path.is_dir():\n",
        "  print(f\"{bace_path} is already a directory\")\n",
        "else:\n",
        "  print(f\"{bace_path} is not a directory, creating one\")\n",
        "  bace_path.mkdir(parents=True, exist_ok=True)\n",
        "\n",
        "  with open(bace_path / \"bace.csv\", \"wb\") as f:\n",
        "    request = requests.get(\"https://raw.githubusercontent.com/lnsayer/personal_repo/main/drug%20discovery%20with%20BACE%20dataset/data/bace.csv\")\n",
        "    print(\"Downloading data\")\n",
        "    f.write(request.content)"
      ],
      "metadata": {
        "colab": {
          "base_uri": "https://localhost:8080/"
        },
        "id": "ks0Nb2ZM4jwj",
        "outputId": "59d5663d-afba-463c-937c-581722b73649"
      },
      "execution_count": 4,
      "outputs": [
        {
          "output_type": "stream",
          "name": "stdout",
          "text": [
            "data/raw is not a directory, creating one\n",
            "Downloading data\n"
          ]
        }
      ]
    },
    {
      "cell_type": "code",
      "source": [
        "# Turn CSV file into a dataframe and resave it without unnecessary columns\n",
        "bace_df = pd.read_csv(bace_path/ \"bace.csv\")\n",
        "bace_df = bace_df[[\"mol\", \"CID\", \"Class\", \"Model\", \"pIC50\"]]\n",
        "bace_df.to_csv(bace_path/\"bace.csv\")\n",
        "\n",
        "bace_df"
      ],
      "metadata": {
        "id": "QGSRTJ4X44Bs",
        "colab": {
          "base_uri": "https://localhost:8080/",
          "height": 424
        },
        "outputId": "0adfca7f-1854-4795-b3a5-7b3dbb932d91"
      },
      "execution_count": 5,
      "outputs": [
        {
          "output_type": "execute_result",
          "data": {
            "text/plain": [
              "                                                    mol        CID  Class  \\\n",
              "0     O1CC[C@@H](NC(=O)[C@@H](Cc2cc3cc(ccc3nc2N)-c2c...     BACE_1      1   \n",
              "1     Fc1cc(cc(F)c1)C[C@H](NC(=O)[C@@H](N1CC[C@](NC(...     BACE_2      1   \n",
              "2     S1(=O)(=O)N(c2cc(cc3c2n(cc3CC)CC1)C(=O)N[C@H](...     BACE_3      1   \n",
              "3     S1(=O)(=O)C[C@@H](Cc2cc(O[C@H](COCC)C(F)(F)F)c...     BACE_4      1   \n",
              "4     S1(=O)(=O)N(c2cc(cc3c2n(cc3CC)CC1)C(=O)N[C@H](...     BACE_5      1   \n",
              "...                                                 ...        ...    ...   \n",
              "1508          Clc1cc2nc(n(c2cc1)C(CC(=O)NCC1CCOCC1)CC)N  BACE_1543      0   \n",
              "1509          Clc1cc2nc(n(c2cc1)C(CC(=O)NCc1ncccc1)CC)N  BACE_1544      0   \n",
              "1510             Brc1cc(ccc1)C1CC1C=1N=C(N)N(C)C(=O)C=1  BACE_1545      0   \n",
              "1511       O=C1N(C)C(=NC(=C1)C1CC1c1cc(ccc1)-c1ccccc1)N  BACE_1546      0   \n",
              "1512                Clc1cc2nc(n(c2cc1)CCCC(=O)NCC1CC1)N  BACE_1547      0   \n",
              "\n",
              "      Model     pIC50  \n",
              "0     Train  9.154901  \n",
              "1     Train  8.853872  \n",
              "2     Train  8.698970  \n",
              "3     Train  8.698970  \n",
              "4     Train  8.698970  \n",
              "...     ...       ...  \n",
              "1508   Test  3.000000  \n",
              "1509   Test  3.000000  \n",
              "1510   Test  2.953115  \n",
              "1511   Test  2.733298  \n",
              "1512   Test  2.544546  \n",
              "\n",
              "[1513 rows x 5 columns]"
            ],
            "text/html": [
              "\n",
              "  <div id=\"df-75de6154-19e8-4d49-9840-53152a857a74\" class=\"colab-df-container\">\n",
              "    <div>\n",
              "<style scoped>\n",
              "    .dataframe tbody tr th:only-of-type {\n",
              "        vertical-align: middle;\n",
              "    }\n",
              "\n",
              "    .dataframe tbody tr th {\n",
              "        vertical-align: top;\n",
              "    }\n",
              "\n",
              "    .dataframe thead th {\n",
              "        text-align: right;\n",
              "    }\n",
              "</style>\n",
              "<table border=\"1\" class=\"dataframe\">\n",
              "  <thead>\n",
              "    <tr style=\"text-align: right;\">\n",
              "      <th></th>\n",
              "      <th>mol</th>\n",
              "      <th>CID</th>\n",
              "      <th>Class</th>\n",
              "      <th>Model</th>\n",
              "      <th>pIC50</th>\n",
              "    </tr>\n",
              "  </thead>\n",
              "  <tbody>\n",
              "    <tr>\n",
              "      <th>0</th>\n",
              "      <td>O1CC[C@@H](NC(=O)[C@@H](Cc2cc3cc(ccc3nc2N)-c2c...</td>\n",
              "      <td>BACE_1</td>\n",
              "      <td>1</td>\n",
              "      <td>Train</td>\n",
              "      <td>9.154901</td>\n",
              "    </tr>\n",
              "    <tr>\n",
              "      <th>1</th>\n",
              "      <td>Fc1cc(cc(F)c1)C[C@H](NC(=O)[C@@H](N1CC[C@](NC(...</td>\n",
              "      <td>BACE_2</td>\n",
              "      <td>1</td>\n",
              "      <td>Train</td>\n",
              "      <td>8.853872</td>\n",
              "    </tr>\n",
              "    <tr>\n",
              "      <th>2</th>\n",
              "      <td>S1(=O)(=O)N(c2cc(cc3c2n(cc3CC)CC1)C(=O)N[C@H](...</td>\n",
              "      <td>BACE_3</td>\n",
              "      <td>1</td>\n",
              "      <td>Train</td>\n",
              "      <td>8.698970</td>\n",
              "    </tr>\n",
              "    <tr>\n",
              "      <th>3</th>\n",
              "      <td>S1(=O)(=O)C[C@@H](Cc2cc(O[C@H](COCC)C(F)(F)F)c...</td>\n",
              "      <td>BACE_4</td>\n",
              "      <td>1</td>\n",
              "      <td>Train</td>\n",
              "      <td>8.698970</td>\n",
              "    </tr>\n",
              "    <tr>\n",
              "      <th>4</th>\n",
              "      <td>S1(=O)(=O)N(c2cc(cc3c2n(cc3CC)CC1)C(=O)N[C@H](...</td>\n",
              "      <td>BACE_5</td>\n",
              "      <td>1</td>\n",
              "      <td>Train</td>\n",
              "      <td>8.698970</td>\n",
              "    </tr>\n",
              "    <tr>\n",
              "      <th>...</th>\n",
              "      <td>...</td>\n",
              "      <td>...</td>\n",
              "      <td>...</td>\n",
              "      <td>...</td>\n",
              "      <td>...</td>\n",
              "    </tr>\n",
              "    <tr>\n",
              "      <th>1508</th>\n",
              "      <td>Clc1cc2nc(n(c2cc1)C(CC(=O)NCC1CCOCC1)CC)N</td>\n",
              "      <td>BACE_1543</td>\n",
              "      <td>0</td>\n",
              "      <td>Test</td>\n",
              "      <td>3.000000</td>\n",
              "    </tr>\n",
              "    <tr>\n",
              "      <th>1509</th>\n",
              "      <td>Clc1cc2nc(n(c2cc1)C(CC(=O)NCc1ncccc1)CC)N</td>\n",
              "      <td>BACE_1544</td>\n",
              "      <td>0</td>\n",
              "      <td>Test</td>\n",
              "      <td>3.000000</td>\n",
              "    </tr>\n",
              "    <tr>\n",
              "      <th>1510</th>\n",
              "      <td>Brc1cc(ccc1)C1CC1C=1N=C(N)N(C)C(=O)C=1</td>\n",
              "      <td>BACE_1545</td>\n",
              "      <td>0</td>\n",
              "      <td>Test</td>\n",
              "      <td>2.953115</td>\n",
              "    </tr>\n",
              "    <tr>\n",
              "      <th>1511</th>\n",
              "      <td>O=C1N(C)C(=NC(=C1)C1CC1c1cc(ccc1)-c1ccccc1)N</td>\n",
              "      <td>BACE_1546</td>\n",
              "      <td>0</td>\n",
              "      <td>Test</td>\n",
              "      <td>2.733298</td>\n",
              "    </tr>\n",
              "    <tr>\n",
              "      <th>1512</th>\n",
              "      <td>Clc1cc2nc(n(c2cc1)CCCC(=O)NCC1CC1)N</td>\n",
              "      <td>BACE_1547</td>\n",
              "      <td>0</td>\n",
              "      <td>Test</td>\n",
              "      <td>2.544546</td>\n",
              "    </tr>\n",
              "  </tbody>\n",
              "</table>\n",
              "<p>1513 rows × 5 columns</p>\n",
              "</div>\n",
              "    <div class=\"colab-df-buttons\">\n",
              "\n",
              "  <div class=\"colab-df-container\">\n",
              "    <button class=\"colab-df-convert\" onclick=\"convertToInteractive('df-75de6154-19e8-4d49-9840-53152a857a74')\"\n",
              "            title=\"Convert this dataframe to an interactive table.\"\n",
              "            style=\"display:none;\">\n",
              "\n",
              "  <svg xmlns=\"http://www.w3.org/2000/svg\" height=\"24px\" viewBox=\"0 -960 960 960\">\n",
              "    <path d=\"M120-120v-720h720v720H120Zm60-500h600v-160H180v160Zm220 220h160v-160H400v160Zm0 220h160v-160H400v160ZM180-400h160v-160H180v160Zm440 0h160v-160H620v160ZM180-180h160v-160H180v160Zm440 0h160v-160H620v160Z\"/>\n",
              "  </svg>\n",
              "    </button>\n",
              "\n",
              "  <style>\n",
              "    .colab-df-container {\n",
              "      display:flex;\n",
              "      gap: 12px;\n",
              "    }\n",
              "\n",
              "    .colab-df-convert {\n",
              "      background-color: #E8F0FE;\n",
              "      border: none;\n",
              "      border-radius: 50%;\n",
              "      cursor: pointer;\n",
              "      display: none;\n",
              "      fill: #1967D2;\n",
              "      height: 32px;\n",
              "      padding: 0 0 0 0;\n",
              "      width: 32px;\n",
              "    }\n",
              "\n",
              "    .colab-df-convert:hover {\n",
              "      background-color: #E2EBFA;\n",
              "      box-shadow: 0px 1px 2px rgba(60, 64, 67, 0.3), 0px 1px 3px 1px rgba(60, 64, 67, 0.15);\n",
              "      fill: #174EA6;\n",
              "    }\n",
              "\n",
              "    .colab-df-buttons div {\n",
              "      margin-bottom: 4px;\n",
              "    }\n",
              "\n",
              "    [theme=dark] .colab-df-convert {\n",
              "      background-color: #3B4455;\n",
              "      fill: #D2E3FC;\n",
              "    }\n",
              "\n",
              "    [theme=dark] .colab-df-convert:hover {\n",
              "      background-color: #434B5C;\n",
              "      box-shadow: 0px 1px 3px 1px rgba(0, 0, 0, 0.15);\n",
              "      filter: drop-shadow(0px 1px 2px rgba(0, 0, 0, 0.3));\n",
              "      fill: #FFFFFF;\n",
              "    }\n",
              "  </style>\n",
              "\n",
              "    <script>\n",
              "      const buttonEl =\n",
              "        document.querySelector('#df-75de6154-19e8-4d49-9840-53152a857a74 button.colab-df-convert');\n",
              "      buttonEl.style.display =\n",
              "        google.colab.kernel.accessAllowed ? 'block' : 'none';\n",
              "\n",
              "      async function convertToInteractive(key) {\n",
              "        const element = document.querySelector('#df-75de6154-19e8-4d49-9840-53152a857a74');\n",
              "        const dataTable =\n",
              "          await google.colab.kernel.invokeFunction('convertToInteractive',\n",
              "                                                    [key], {});\n",
              "        if (!dataTable) return;\n",
              "\n",
              "        const docLinkHtml = 'Like what you see? Visit the ' +\n",
              "          '<a target=\"_blank\" href=https://colab.research.google.com/notebooks/data_table.ipynb>data table notebook</a>'\n",
              "          + ' to learn more about interactive tables.';\n",
              "        element.innerHTML = '';\n",
              "        dataTable['output_type'] = 'display_data';\n",
              "        await google.colab.output.renderOutput(dataTable, element);\n",
              "        const docLink = document.createElement('div');\n",
              "        docLink.innerHTML = docLinkHtml;\n",
              "        element.appendChild(docLink);\n",
              "      }\n",
              "    </script>\n",
              "  </div>\n",
              "\n",
              "\n",
              "<div id=\"df-460ef4b6-3625-4dac-976f-625a60fabaee\">\n",
              "  <button class=\"colab-df-quickchart\" onclick=\"quickchart('df-460ef4b6-3625-4dac-976f-625a60fabaee')\"\n",
              "            title=\"Suggest charts\"\n",
              "            style=\"display:none;\">\n",
              "\n",
              "<svg xmlns=\"http://www.w3.org/2000/svg\" height=\"24px\"viewBox=\"0 0 24 24\"\n",
              "     width=\"24px\">\n",
              "    <g>\n",
              "        <path d=\"M19 3H5c-1.1 0-2 .9-2 2v14c0 1.1.9 2 2 2h14c1.1 0 2-.9 2-2V5c0-1.1-.9-2-2-2zM9 17H7v-7h2v7zm4 0h-2V7h2v10zm4 0h-2v-4h2v4z\"/>\n",
              "    </g>\n",
              "</svg>\n",
              "  </button>\n",
              "\n",
              "<style>\n",
              "  .colab-df-quickchart {\n",
              "      --bg-color: #E8F0FE;\n",
              "      --fill-color: #1967D2;\n",
              "      --hover-bg-color: #E2EBFA;\n",
              "      --hover-fill-color: #174EA6;\n",
              "      --disabled-fill-color: #AAA;\n",
              "      --disabled-bg-color: #DDD;\n",
              "  }\n",
              "\n",
              "  [theme=dark] .colab-df-quickchart {\n",
              "      --bg-color: #3B4455;\n",
              "      --fill-color: #D2E3FC;\n",
              "      --hover-bg-color: #434B5C;\n",
              "      --hover-fill-color: #FFFFFF;\n",
              "      --disabled-bg-color: #3B4455;\n",
              "      --disabled-fill-color: #666;\n",
              "  }\n",
              "\n",
              "  .colab-df-quickchart {\n",
              "    background-color: var(--bg-color);\n",
              "    border: none;\n",
              "    border-radius: 50%;\n",
              "    cursor: pointer;\n",
              "    display: none;\n",
              "    fill: var(--fill-color);\n",
              "    height: 32px;\n",
              "    padding: 0;\n",
              "    width: 32px;\n",
              "  }\n",
              "\n",
              "  .colab-df-quickchart:hover {\n",
              "    background-color: var(--hover-bg-color);\n",
              "    box-shadow: 0 1px 2px rgba(60, 64, 67, 0.3), 0 1px 3px 1px rgba(60, 64, 67, 0.15);\n",
              "    fill: var(--button-hover-fill-color);\n",
              "  }\n",
              "\n",
              "  .colab-df-quickchart-complete:disabled,\n",
              "  .colab-df-quickchart-complete:disabled:hover {\n",
              "    background-color: var(--disabled-bg-color);\n",
              "    fill: var(--disabled-fill-color);\n",
              "    box-shadow: none;\n",
              "  }\n",
              "\n",
              "  .colab-df-spinner {\n",
              "    border: 2px solid var(--fill-color);\n",
              "    border-color: transparent;\n",
              "    border-bottom-color: var(--fill-color);\n",
              "    animation:\n",
              "      spin 1s steps(1) infinite;\n",
              "  }\n",
              "\n",
              "  @keyframes spin {\n",
              "    0% {\n",
              "      border-color: transparent;\n",
              "      border-bottom-color: var(--fill-color);\n",
              "      border-left-color: var(--fill-color);\n",
              "    }\n",
              "    20% {\n",
              "      border-color: transparent;\n",
              "      border-left-color: var(--fill-color);\n",
              "      border-top-color: var(--fill-color);\n",
              "    }\n",
              "    30% {\n",
              "      border-color: transparent;\n",
              "      border-left-color: var(--fill-color);\n",
              "      border-top-color: var(--fill-color);\n",
              "      border-right-color: var(--fill-color);\n",
              "    }\n",
              "    40% {\n",
              "      border-color: transparent;\n",
              "      border-right-color: var(--fill-color);\n",
              "      border-top-color: var(--fill-color);\n",
              "    }\n",
              "    60% {\n",
              "      border-color: transparent;\n",
              "      border-right-color: var(--fill-color);\n",
              "    }\n",
              "    80% {\n",
              "      border-color: transparent;\n",
              "      border-right-color: var(--fill-color);\n",
              "      border-bottom-color: var(--fill-color);\n",
              "    }\n",
              "    90% {\n",
              "      border-color: transparent;\n",
              "      border-bottom-color: var(--fill-color);\n",
              "    }\n",
              "  }\n",
              "</style>\n",
              "\n",
              "  <script>\n",
              "    async function quickchart(key) {\n",
              "      const quickchartButtonEl =\n",
              "        document.querySelector('#' + key + ' button');\n",
              "      quickchartButtonEl.disabled = true;  // To prevent multiple clicks.\n",
              "      quickchartButtonEl.classList.add('colab-df-spinner');\n",
              "      try {\n",
              "        const charts = await google.colab.kernel.invokeFunction(\n",
              "            'suggestCharts', [key], {});\n",
              "      } catch (error) {\n",
              "        console.error('Error during call to suggestCharts:', error);\n",
              "      }\n",
              "      quickchartButtonEl.classList.remove('colab-df-spinner');\n",
              "      quickchartButtonEl.classList.add('colab-df-quickchart-complete');\n",
              "    }\n",
              "    (() => {\n",
              "      let quickchartButtonEl =\n",
              "        document.querySelector('#df-460ef4b6-3625-4dac-976f-625a60fabaee button');\n",
              "      quickchartButtonEl.style.display =\n",
              "        google.colab.kernel.accessAllowed ? 'block' : 'none';\n",
              "    })();\n",
              "  </script>\n",
              "</div>\n",
              "    </div>\n",
              "  </div>\n"
            ],
            "application/vnd.google.colaboratory.intrinsic+json": {
              "type": "dataframe",
              "variable_name": "bace_df",
              "summary": "{\n  \"name\": \"bace_df\",\n  \"rows\": 1513,\n  \"fields\": [\n    {\n      \"column\": \"mol\",\n      \"properties\": {\n        \"dtype\": \"string\",\n        \"num_unique_values\": 1513,\n        \"samples\": [\n          \"s1nc(cc1)-c1cc2c(OC(CC23N=C(N)N(C)C3=O)(C)C)cc1\",\n          \"FC(F)Oc1ccc(cc1)[C@@]1(N=C(N)N(C)C1=O)c1cc(ccc1)\\\\C=C\\\\CCCO\",\n          \"S1(=O)(=O)N(CCCC1)c1cc(cc(NCC)c1)C(=O)NC(Cc1ccccc1)C(O)C[NH2+]C1CC1\"\n        ],\n        \"semantic_type\": \"\",\n        \"description\": \"\"\n      }\n    },\n    {\n      \"column\": \"CID\",\n      \"properties\": {\n        \"dtype\": \"string\",\n        \"num_unique_values\": 1513,\n        \"samples\": [\n          \"BACE_1034\",\n          \"BACE_649\",\n          \"BACE_839\"\n        ],\n        \"semantic_type\": \"\",\n        \"description\": \"\"\n      }\n    },\n    {\n      \"column\": \"Class\",\n      \"properties\": {\n        \"dtype\": \"number\",\n        \"std\": 0,\n        \"min\": 0,\n        \"max\": 1,\n        \"num_unique_values\": 2,\n        \"samples\": [\n          0,\n          1\n        ],\n        \"semantic_type\": \"\",\n        \"description\": \"\"\n      }\n    },\n    {\n      \"column\": \"Model\",\n      \"properties\": {\n        \"dtype\": \"category\",\n        \"num_unique_values\": 3,\n        \"samples\": [\n          \"Train\",\n          \"Valid\"\n        ],\n        \"semantic_type\": \"\",\n        \"description\": \"\"\n      }\n    },\n    {\n      \"column\": \"pIC50\",\n      \"properties\": {\n        \"dtype\": \"number\",\n        \"std\": 1.342416931106123,\n        \"min\": 2.5445461,\n        \"max\": 10.522879,\n        \"num_unique_values\": 651,\n        \"samples\": [\n          3.4689045,\n          7.167491\n        ],\n        \"semantic_type\": \"\",\n        \"description\": \"\"\n      }\n    }\n  ]\n}"
            }
          },
          "metadata": {},
          "execution_count": 5
        }
      ]
    },
    {
      "cell_type": "code",
      "source": [
        "# Visualise one of the molecules from its SMILE input\n",
        "inhibitor = bace_df[\"mol\"][0]\n",
        "\n",
        "m = Chem.MolFromSmiles(inhibitor)\n",
        "\n",
        "img = Draw.MolToImage(m)\n",
        "\n",
        "display(img)"
      ],
      "metadata": {
        "colab": {
          "base_uri": "https://localhost:8080/",
          "height": 317
        },
        "id": "AAicW09A97b_",
        "outputId": "e1ce114d-8a3c-45e0-9ac3-f978049719bf"
      },
      "execution_count": 6,
      "outputs": [
        {
          "output_type": "display_data",
          "data": {
            "text/plain": [
              "<PIL.PngImagePlugin.PngImageFile image mode=RGB size=300x300>"
            ],
            "image/png": "[encoded data removed]"
          },
          "metadata": {}
        }
      ]
    },
    {
      "cell_type": "code",
      "source": [
        "# Display five random molecules with their SMILES molecules\n",
        "\n",
        "# Create axes and sample SMILES molecules\n",
        "fig, ax = plt.subplots(ncols=5, nrows=1, figsize = (18,6))\n",
        "mols = bace_df.sample(n=5, random_state=42)[\"mol\"]\n",
        "\n",
        "for i in range(len(mols)):\n",
        "\n",
        "  # Convert each molecule to an image\n",
        "  mol = mols.iloc[i]\n",
        "  m = Chem.MolFromSmiles(mol)\n",
        "  img = Draw.MolToImage(m)\n",
        "\n",
        "  # Plot each molecule\n",
        "  ax[i].imshow(img)\n",
        "  ax[i].axis(False);\n",
        "\n",
        "  # Divide the SMILE input into three parts\n",
        "  first_part = mol[:int(len(mol)/3)]\n",
        "  second_part = mol[int(len(mol)//3):int(2*len(mol)//3)]\n",
        "  third_part = mol[int(2*len(mol)//3):]\n",
        "\n",
        "  assert len(mol) == len(first_part)+len(second_part)+len(third_part)\n",
        "\n",
        "  first_title = first_part + \"\\n\"\n",
        "  second_title = second_part + \"\\n\"\n",
        "  third_title = third_part + \"\\n\"\n",
        "\n",
        "  # Title each plot with its respective SMILE input\n",
        "  ax[i].set_title(first_title+second_title+third_title)"
      ],
      "metadata": {
        "colab": {
          "base_uri": "https://localhost:8080/",
          "height": 342
        },
        "id": "FiM-wR6mDlbv",
        "outputId": "7e86d32e-37d3-451d-d013-d91a5f363b6a"
      },
      "execution_count": 7,
      "outputs": [
        {
          "output_type": "display_data",
          "data": {
            "text/plain": [
              "<Figure size 1800x600 with 5 Axes>"
            ],
            "image/png": "[encoded data removed]"
          },
          "metadata": {}
        }
      ]
    },
    {
      "cell_type": "code",
      "source": [
        "# Test converting a molecule into a graph using MolGraphConvFeaturizer and to_pyg_graph\n",
        "\n",
        "# Select first molecule\n",
        "mol = bace_df[\"mol\"][1]\n",
        "\n",
        "# Instantiate MolGraphConvFeaturizer class\n",
        "featurizer=dc.feat.MolGraphConvFeaturizer(use_edges=True)\n",
        "\n",
        "# Convert SMILES molecule into a DeepChem graph\n",
        "out = featurizer.featurize(datapoints=mol)\n",
        "\n",
        "# Convert into torch geometric graph\n",
        "pyg_out = GraphData.to_pyg_graph(out[0])\n",
        "pyg_out.y = torch.tensor([bace_df[\"Class\"][0]])\n",
        "\n",
        "print(pyg_out)"
      ],
      "metadata": {
        "colab": {
          "base_uri": "https://localhost:8080/"
        },
        "id": "REwBMkJ8DwOa",
        "outputId": "be395917-c645-47cf-acb7-b1543ffee298"
      },
      "execution_count": 8,
      "outputs": [
        {
          "output_type": "stream",
          "name": "stdout",
          "text": [
            "Data(x=[47, 30], edge_index=[2, 100], edge_attr=[100, 11], y=[1])\n"
          ]
        }
      ]
    },
    {
      "cell_type": "code",
      "source": [
        "# Custom torch geometric Dataset class to store the samples and their corresponding labels\n",
        "\n",
        "class MoleculeDataset(Dataset):\n",
        "  def __init__(self, root, csv_file, transform=None, pre_transform=None, pre_filter=None):\n",
        "    \"\"\"\n",
        "    root = Where the dataset should be stored. This folder is split\n",
        "    into raw_dir (downloaded dataset) and processed_dir(processed data).\n",
        "    \"\"\"\n",
        "    self.csv_file = csv_file\n",
        "    super().__init__(root, transform, pre_transform, pre_filter)\n",
        "\n",
        "  @property\n",
        "  def raw_file_names(self):\n",
        "    \"\"\"\n",
        "    If this file exists in raw_dir, the download is not triggered/\n",
        "    (the download function is not implemented here)\n",
        "    \"\"\"\n",
        "    return self.csv_file\n",
        "\n",
        "  @property\n",
        "  def processed_file_names(self):\n",
        "    \"\"\"\n",
        "    If these files are found in raw_dir, processing is skipped\n",
        "    \"\"\"\n",
        "    self.data = pd.read_csv(self.raw_paths[0]).reset_index()\n",
        "\n",
        "    return [f'data_{i}.pt' for i in list(self.data.index)]\n",
        "\n",
        "  def download(self):\n",
        "    \"\"\"\n",
        "    No need to download the csv file as it is already downloaded\n",
        "    \"\"\"\n",
        "    pass\n",
        "\n",
        "  def process(self):\n",
        "    \"\"\"\n",
        "    I used Deepchem's MolGraphConvFeaturizer to create a graph and then convert that to a torch graph with to_pyg_graph.\n",
        "    \"\"\"\n",
        "    self.data = pd.read_csv(self.raw_paths[0]).reset_index()\n",
        "    featurizer=dc.feat.MolGraphConvFeaturizer(use_edges=True)\n",
        "\n",
        "    for idx, row in self.data.iterrows():\n",
        "      # Featurize molecule and convert to torch graph\n",
        "      smiles = row['mol']\n",
        "      label = row['Class']\n",
        "      pic50 = row['pIC50']\n",
        "\n",
        "      out = featurizer.featurize(smiles)\n",
        "      pyg_out = GraphData.to_pyg_graph(out[0])\n",
        "      pyg_out.Class = torch.tensor([label])\n",
        "      pyg_out.smiles = smiles\n",
        "      pyg_out.pic50 = pic50\n",
        "\n",
        "      # data = Data(x=pyg_out.x, edge_index=pyg_out.edge_index, edge_attr=pyg_out.edge_attr,\n",
        "      #            y=torch.tensor([label]), dtype = torch.float)\n",
        "\n",
        "      torch.save(pyg_out, osp.join(self.processed_dir, f'data_{idx}.pt'))\n",
        "\n",
        "  def len(self):\n",
        "    \"\"\"\n",
        "    Returns number of samples in the dataset\n",
        "    \"\"\"\n",
        "    return len(self.processed_file_names)\n",
        "\n",
        "  def get(self, idx):\n",
        "    \"\"\"\n",
        "    Loads a single graph\n",
        "    \"\"\"\n",
        "    data = torch.load(osp.join(self.processed_dir, f'data_{idx}.pt'))\n",
        "    return data"
      ],
      "metadata": {
        "id": "FfYq6ypbx8XO"
      },
      "execution_count": 9,
      "outputs": []
    },
    {
      "cell_type": "code",
      "source": [
        "# Instantiate the dataset from the BACE CSV file\n",
        "\n",
        "dataset = MoleculeDataset(root = \"data/\", csv_file = \"bace.csv\").shuffle()\n",
        "\n",
        "train_indices = int(0.8*len(dataset))\n",
        "\n",
        "train_dataset = dataset[:train_indices]\n",
        "test_dataset = dataset[train_indices:]\n",
        "\n",
        "\n",
        "print(f\"Total dataset samples: {len(dataset)}\\nTrain dataset samples: {len(train_dataset)}\\nTest dataset samples: {len(test_dataset)}\")"
      ],
      "metadata": {
        "id": "TDUd7BUl-TaU",
        "colab": {
          "base_uri": "https://localhost:8080/"
        },
        "outputId": "45336611-300a-45d8-efc0-db3c03d64934"
      },
      "execution_count": 10,
      "outputs": [
        {
          "output_type": "stream",
          "name": "stderr",
          "text": [
            "Processing...\n"
          ]
        },
        {
          "output_type": "stream",
          "name": "stdout",
          "text": [
            "Total dataset samples: 1513\n",
            "Train dataset samples: 1210\n",
            "Test dataset samples: 303\n"
          ]
        },
        {
          "output_type": "stream",
          "name": "stderr",
          "text": [
            "Done!\n"
          ]
        }
      ]
    },
    {
      "cell_type": "code",
      "source": [
        "# Create a dataloader from the dataset\n",
        "train_dataloader = DataLoader(train_dataset, batch_size=32, shuffle=True)\n",
        "test_dataloader = DataLoader(test_dataset, batch_size=32, shuffle=True)\n",
        "\n",
        "print(f\"Number of batches: {len(train_dataloader)}\")\n",
        "print(f\"Number of samples: {len(train_dataset)}\")"
      ],
      "metadata": {
        "colab": {
          "base_uri": "https://localhost:8080/"
        },
        "id": "DITcTGVx_F3d",
        "outputId": "30d549be-de28-4ac2-abea-5892c6d71de2"
      },
      "execution_count": 11,
      "outputs": [
        {
          "output_type": "stream",
          "name": "stdout",
          "text": [
            "Number of batches: 38\n",
            "Number of samples: 1210\n"
          ]
        }
      ]
    },
    {
      "cell_type": "code",
      "source": [
        "# Load a single graph\n",
        "\n",
        "print(f\"Number of nodes in graph is: {train_dataset[0].x.shape[0]}\")\n",
        "print(f\"Number of features for each node is {train_dataset[0].num_features}\")\n",
        "print(f\"Number of edges is {train_dataset[0].edge_index.shape[1]}\")\n",
        "print(f\"Data object is {train_dataset[0]}\\n\")"
      ],
      "metadata": {
        "id": "NuE_wWzICdlN",
        "outputId": "6f3b3598-4fe1-4e52-bef3-bb34370024b4",
        "colab": {
          "base_uri": "https://localhost:8080/"
        }
      },
      "execution_count": 12,
      "outputs": [
        {
          "output_type": "stream",
          "name": "stdout",
          "text": [
            "Number of nodes in graph is: 30\n",
            "Number of features for each node is 30\n",
            "Number of edges is 68\n",
            "Data object is Data(x=[30, 30], edge_index=[2, 68], edge_attr=[68, 11], Class=[1], smiles='s1c2c(nc1C)C(=NC2(c1cc(ccc1)-c1cncnc1)c1ccc(OC)cc1)N', pic50=6.2006593)\n",
            "\n"
          ]
        }
      ]
    },
    {
      "cell_type": "code",
      "source": [
        "# See the format for a batch\n",
        "next(iter(train_dataloader))"
      ],
      "metadata": {
        "colab": {
          "base_uri": "https://localhost:8080/"
        },
        "id": "IRpeAGqacSdI",
        "outputId": "56772bd6-2a64-4eca-bb1f-0e2ed321e4a2"
      },
      "execution_count": 13,
      "outputs": [
        {
          "output_type": "execute_result",
          "data": {
            "text/plain": [
              "DataBatch(x=[1088, 30], edge_index=[2, 2352], edge_attr=[2352, 11], Class=[32], smiles=[32], pic50=[32], batch=[1088], ptr=[33])"
            ]
          },
          "metadata": {},
          "execution_count": 13
        }
      ]
    },
    {
      "cell_type": "code",
      "source": [
        "np.random.seed(44)\n",
        "\n",
        "fig, ax = plt.subplots(ncols=2, nrows=1, figsize = (14,6))\n",
        "\n",
        "g = torch_geometric.utils.to_networkx(train_dataset[0], to_undirected=True)\n",
        "nx.draw(g, ax = ax[0])\n",
        "\n",
        "mol = dataset[0].smiles\n",
        "m = Chem.MolFromSmiles(mol)\n",
        "img = Draw.MolToImage(m)\n",
        "\n",
        "ax[1].imshow(img)\n",
        "ax[1].axis(False);"
      ],
      "metadata": {
        "id": "WCWU18-2vusz",
        "colab": {
          "base_uri": "https://localhost:8080/",
          "height": 499
        },
        "outputId": "575d778f-4adc-40b7-eeb8-265df9cd833a"
      },
      "execution_count": 14,
      "outputs": [
        {
          "output_type": "display_data",
          "data": {
            "text/plain": [
              "<Figure size 1400x600 with 2 Axes>"
            ],
            "image/png": "[encoded data removed]"
          },
          "metadata": {}
        }
      ]
    },
    {
      "cell_type": "code",
      "source": [
        "for batch in enumerate(train_dataloader):\n",
        "  print(batch)"
      ],
      "metadata": {
        "colab": {
          "base_uri": "https://localhost:8080/"
        },
        "id": "VEM4-gL9HAYZ",
        "outputId": "e18527ac-191e-422e-f169-9515a1c5cc37"
      },
      "execution_count": 29,
      "outputs": [
        {
          "output_type": "stream",
          "name": "stdout",
          "text": [
            "(0, DataBatch(x=[1070, 30], edge_index=[2, 2324], edge_attr=[2324, 11], Class=[32], smiles=[32], pic50=[32], batch=[1070], ptr=[33]))\n",
            "(1, DataBatch(x=[1038, 30], edge_index=[2, 2268], edge_attr=[2268, 11], Class=[32], smiles=[32], pic50=[32], batch=[1038], ptr=[33]))\n",
            "(2, DataBatch(x=[1053, 30], edge_index=[2, 2288], edge_attr=[2288, 11], Class=[32], smiles=[32], pic50=[32], batch=[1053], ptr=[33]))\n",
            "(3, DataBatch(x=[1104, 30], edge_index=[2, 2386], edge_attr=[2386, 11], Class=[32], smiles=[32], pic50=[32], batch=[1104], ptr=[33]))\n",
            "(4, DataBatch(x=[1176, 30], edge_index=[2, 2536], edge_attr=[2536, 11], Class=[32], smiles=[32], pic50=[32], batch=[1176], ptr=[33]))\n",
            "(5, DataBatch(x=[1082, 30], edge_index=[2, 2356], edge_attr=[2356, 11], Class=[32], smiles=[32], pic50=[32], batch=[1082], ptr=[33]))\n",
            "(6, DataBatch(x=[1054, 30], edge_index=[2, 2282], edge_attr=[2282, 11], Class=[32], smiles=[32], pic50=[32], batch=[1054], ptr=[33]))\n",
            "(7, DataBatch(x=[1094, 30], edge_index=[2, 2362], edge_attr=[2362, 11], Class=[32], smiles=[32], pic50=[32], batch=[1094], ptr=[33]))\n",
            "(8, DataBatch(x=[1095, 30], edge_index=[2, 2382], edge_attr=[2382, 11], Class=[32], smiles=[32], pic50=[32], batch=[1095], ptr=[33]))\n",
            "(9, DataBatch(x=[1077, 30], edge_index=[2, 2334], edge_attr=[2334, 11], Class=[32], smiles=[32], pic50=[32], batch=[1077], ptr=[33]))\n",
            "(10, DataBatch(x=[1060, 30], edge_index=[2, 2298], edge_attr=[2298, 11], Class=[32], smiles=[32], pic50=[32], batch=[1060], ptr=[33]))\n",
            "(11, DataBatch(x=[974, 30], edge_index=[2, 2118], edge_attr=[2118, 11], Class=[32], smiles=[32], pic50=[32], batch=[974], ptr=[33]))\n",
            "(12, DataBatch(x=[1115, 30], edge_index=[2, 2388], edge_attr=[2388, 11], Class=[32], smiles=[32], pic50=[32], batch=[1115], ptr=[33]))\n",
            "(13, DataBatch(x=[1158, 30], edge_index=[2, 2500], edge_attr=[2500, 11], Class=[32], smiles=[32], pic50=[32], batch=[1158], ptr=[33]))\n",
            "(14, DataBatch(x=[1119, 30], edge_index=[2, 2428], edge_attr=[2428, 11], Class=[32], smiles=[32], pic50=[32], batch=[1119], ptr=[33]))\n",
            "(15, DataBatch(x=[1065, 30], edge_index=[2, 2316], edge_attr=[2316, 11], Class=[32], smiles=[32], pic50=[32], batch=[1065], ptr=[33]))\n",
            "(16, DataBatch(x=[1133, 30], edge_index=[2, 2434], edge_attr=[2434, 11], Class=[32], smiles=[32], pic50=[32], batch=[1133], ptr=[33]))\n",
            "(17, DataBatch(x=[1159, 30], edge_index=[2, 2494], edge_attr=[2494, 11], Class=[32], smiles=[32], pic50=[32], batch=[1159], ptr=[33]))\n",
            "(18, DataBatch(x=[1118, 30], edge_index=[2, 2410], edge_attr=[2410, 11], Class=[32], smiles=[32], pic50=[32], batch=[1118], ptr=[33]))\n",
            "(19, DataBatch(x=[1054, 30], edge_index=[2, 2272], edge_attr=[2272, 11], Class=[32], smiles=[32], pic50=[32], batch=[1054], ptr=[33]))\n",
            "(20, DataBatch(x=[1160, 30], edge_index=[2, 2502], edge_attr=[2502, 11], Class=[32], smiles=[32], pic50=[32], batch=[1160], ptr=[33]))\n",
            "(21, DataBatch(x=[1110, 30], edge_index=[2, 2402], edge_attr=[2402, 11], Class=[32], smiles=[32], pic50=[32], batch=[1110], ptr=[33]))\n",
            "(22, DataBatch(x=[1077, 30], edge_index=[2, 2332], edge_attr=[2332, 11], Class=[32], smiles=[32], pic50=[32], batch=[1077], ptr=[33]))\n",
            "(23, DataBatch(x=[1111, 30], edge_index=[2, 2414], edge_attr=[2414, 11], Class=[32], smiles=[32], pic50=[32], batch=[1111], ptr=[33]))\n",
            "(24, DataBatch(x=[1048, 30], edge_index=[2, 2278], edge_attr=[2278, 11], Class=[32], smiles=[32], pic50=[32], batch=[1048], ptr=[33]))\n",
            "(25, DataBatch(x=[1181, 30], edge_index=[2, 2566], edge_attr=[2566, 11], Class=[32], smiles=[32], pic50=[32], batch=[1181], ptr=[33]))\n",
            "(26, DataBatch(x=[1079, 30], edge_index=[2, 2328], edge_attr=[2328, 11], Class=[32], smiles=[32], pic50=[32], batch=[1079], ptr=[33]))\n",
            "(27, DataBatch(x=[1021, 30], edge_index=[2, 2210], edge_attr=[2210, 11], Class=[32], smiles=[32], pic50=[32], batch=[1021], ptr=[33]))\n",
            "(28, DataBatch(x=[1112, 30], edge_index=[2, 2390], edge_attr=[2390, 11], Class=[32], smiles=[32], pic50=[32], batch=[1112], ptr=[33]))\n",
            "(29, DataBatch(x=[1061, 30], edge_index=[2, 2296], edge_attr=[2296, 11], Class=[32], smiles=[32], pic50=[32], batch=[1061], ptr=[33]))\n",
            "(30, DataBatch(x=[1175, 30], edge_index=[2, 2516], edge_attr=[2516, 11], Class=[32], smiles=[32], pic50=[32], batch=[1175], ptr=[33]))\n",
            "(31, DataBatch(x=[1069, 30], edge_index=[2, 2308], edge_attr=[2308, 11], Class=[32], smiles=[32], pic50=[32], batch=[1069], ptr=[33]))\n",
            "(32, DataBatch(x=[1029, 30], edge_index=[2, 2248], edge_attr=[2248, 11], Class=[32], smiles=[32], pic50=[32], batch=[1029], ptr=[33]))\n",
            "(33, DataBatch(x=[1003, 30], edge_index=[2, 2176], edge_attr=[2176, 11], Class=[32], smiles=[32], pic50=[32], batch=[1003], ptr=[33]))\n",
            "(34, DataBatch(x=[1112, 30], edge_index=[2, 2388], edge_attr=[2388, 11], Class=[32], smiles=[32], pic50=[32], batch=[1112], ptr=[33]))\n",
            "(35, DataBatch(x=[1214, 30], edge_index=[2, 2600], edge_attr=[2600, 11], Class=[32], smiles=[32], pic50=[32], batch=[1214], ptr=[33]))\n",
            "(36, DataBatch(x=[1132, 30], edge_index=[2, 2436], edge_attr=[2436, 11], Class=[32], smiles=[32], pic50=[32], batch=[1132], ptr=[33]))\n",
            "(37, DataBatch(x=[864, 30], edge_index=[2, 1878], edge_attr=[1878, 11], Class=[26], smiles=[26], pic50=[26], batch=[864], ptr=[27]))\n"
          ]
        }
      ]
    },
    {
      "cell_type": "code",
      "source": [
        "from torch_geometric.nn import GCNConv, global_mean_pool\n",
        "from torch.nn import Linear, ReLU, Dropout, Softmax\n",
        "\n",
        "class GCNClassifier(torch.nn.Module):\n",
        "  \"\"\"\n",
        "  Standard GCN graph classifier\n",
        "  \"\"\"\n",
        "\n",
        "  def __init__(self, in_channels:int, hidden_channels:int, out_channels:int):\n",
        "    super().__init__()\n",
        "    # GCN Layers\n",
        "    self.conv1 = GCNConv(in_channels, hidden_channels)\n",
        "\n",
        "    self.conv2 = GCNConv(hidden_channels, hidden_channels)\n",
        "\n",
        "    self.conv3 = GCNConv(hidden_channels, hidden_channels)\n",
        "\n",
        "    # Linear layer used in classification\n",
        "    self.lin = Linear(hidden_channels, out_channels)\n",
        "\n",
        "  def forward(self, data):\n",
        "    # Obtain node embeddings\n",
        "    x, edge_index, = data.x, data.edge_index\n",
        "    x = self.conv1(x, edge_index)\n",
        "    x = ReLU(x)\n",
        "    x = self.conv2(x, edge_index)\n",
        "    x = ReLU(x)\n",
        "    x = self.conv3(x, edge_index)\n",
        "\n",
        "    # Aggregate node embeddings\n",
        "    global_mean_pool(x)\n",
        "\n",
        "    # Regularisation\n",
        "    x = Dropout(x, p=0.5)\n",
        "\n",
        "    # Classification\n",
        "    x = self.lin(x, edge_index)\n",
        "\n",
        "    x = Softmax(x)\n",
        "\n",
        "    return x\n",
        "\n",
        "\n",
        "GCNClassifier(42, 20, 2)\n"
      ],
      "metadata": {
        "colab": {
          "base_uri": "https://localhost:8080/"
        },
        "id": "6s5AgpJDG2UK",
        "outputId": "e70e304c-b159-43cd-d4b7-ba47fb7f463e"
      },
      "execution_count": 16,
      "outputs": [
        {
          "output_type": "execute_result",
          "data": {
            "text/plain": [
              "GCNClassifier(\n",
              "  (conv1): GCNConv(42, 20)\n",
              "  (conv2): GCNConv(20, 20)\n",
              "  (conv3): GCNConv(20, 20)\n",
              "  (lin): Linear(in_features=20, out_features=2, bias=True)\n",
              ")"
            ]
          },
          "metadata": {},
          "execution_count": 16
        }
      ]
    },
    {
      "cell_type": "code",
      "source": [
        "device = \"cuda\" if torch.cuda.is_available() else \"cpu\"\n",
        "\n",
        "\n",
        "def train_step(model:torch.nn.Module,\n",
        "               dataloader: torch.utils.data.DataLoader,\n",
        "               loss_fn: torch.nn.Module,\n",
        "               optimizer: torch.optim.Optimizer):\n",
        "  # Send model to device\n",
        "  model.to(device)\n",
        "\n",
        "  train_loss, train_acc = 0, 0\n",
        "\n",
        "  # Loop over the batches\n",
        "  for batch in enumerate(dataloader):\n",
        "    batch = batch.to(device)\n",
        "\n",
        "    # Forward pass\n",
        "    out = model(batch)\n",
        "\n",
        "    # Calculate the loss\n",
        "    loss = loss_fn(out, batch.y)\n",
        "    train_loss += loss.item()\n",
        "\n",
        "    # Calculate the label predictions\n",
        "    label_preds = torch.argmax(out, dim=1)\n",
        "    # Calculate accuracy\n",
        "    accuracy += (label_preds == batch.y).sum()/len(label_preds)\n",
        "\n",
        "    # Optimizer zero grad\n",
        "    optimizer.zero_grad()\n",
        "\n",
        "    # Loss backward\n",
        "    loss.backward()\n",
        "\n",
        "    # Optimizer step\n",
        "    optimizer.step\n",
        "\n",
        "  # Adjust metrics to get average loss and accuracy per batch\n",
        "  train_loss = train_loss/len(dataloader)\n",
        "  train_acc = train_acc/len(dataloader)\n",
        "\n",
        "  return train_loss, train_acc"
      ],
      "metadata": {
        "id": "Qqw12LguVMMa"
      },
      "execution_count": 17,
      "outputs": []
    },
    {
      "cell_type": "code",
      "source": [
        "def test_step(model:torch.nn.Module,\n",
        "               dataloader: torch.utils.data.DataLoader,\n",
        "               loss_fn: torch.nn.Module,\n",
        "               optimizer: torch.optim.Optimizer):\n",
        "  # Put model in eval mode\n",
        "  model.eval()\n",
        "\n",
        "  test_loss, test_acc = 0, 0\n",
        "\n",
        "  # Turn on torch inference manager\n",
        "  with torch.inference_mode():\n",
        "    # Loop through data batches\n",
        "    for batch in enumerate (dataloader):\n",
        "      # Put batch onto device\n",
        "      batch = batch.to(device)\n",
        "\n",
        "      # Forward pass\n",
        "      out = model(batch)\n",
        "\n",
        "      # Calculate the loss\n",
        "      loss = loss_fn(out, batch.y)\n",
        "      test_loss += loss.item()\n",
        "\n",
        "      # Calculate the label predictions\n",
        "      label_preds = torch.argmax(out, dim=1)\n",
        "      # Calculate accuracy\n",
        "      test_accuracy += (label_preds == batch.y).sum()/len(label_preds)\n",
        "\n",
        "    # Adjust metrics to get average loss and accuracy per batch\n",
        "    test_loss = test_loss/len(dataloader)\n",
        "    test_acc = test_acc/len(dataloader)\n",
        "\n",
        "    return test_loss, test_acc\n",
        "\n",
        "\n",
        "\n"
      ],
      "metadata": {
        "id": "but5rpUge8QH"
      },
      "execution_count": 18,
      "outputs": []
    },
    {
      "cell_type": "code",
      "source": [
        "# Take in various parameters required for training and test steps\n",
        "def train(model: torch.nn.Module,\n",
        "          train_dataloader: torch.utils.data.DataLoader,\n",
        "          test_dataloader: torch.utils.data.DataLoader,\n",
        "          optimizer: torch.optim.Optimizer,\n",
        "          loss_fn: torch.nn.Module = torch.nn.CrossEntropyLoss(),\n",
        "          epochs: int = 5):\n",
        "\n",
        "  # 2. Create empty results dictionary\n",
        "  results = {\"train_loss\": [],\n",
        "             \"train_acc\": [],\n",
        "             \"test_loss\": [],\n",
        "             \"test_acc\": []\n",
        "             }\n",
        "  # 3. Loop through training and testing steps for a number of epochs\n",
        "\n",
        "  for i in tqdm(range(epochs)):\n",
        "    train_loss, train_acc = train_step(model,\n",
        "                                       train_dataloader,\n",
        "                                       loss_fn,\n",
        "                                       optimizer)\n",
        "    test_loss, test_acc = test_step(model,\n",
        "                                    test_dataloader,\n",
        "                                    loss_fn,\n",
        "                                    optimizer)\n",
        "\n",
        "\n",
        "    # 4. Print out what's happening\n",
        "\n",
        "    print(f\"Train loss: {train_loss:.4f}, Train acc: {train_acc:.4f}, Test loss: {test_loss:.4f}, Test acc: {test_acc:.4f}\")\n",
        "\n",
        "    # 5. Update results dictionary\n",
        "\n",
        "    results[\"train_loss\"].append(train_loss)\n",
        "    results[\"train_acc\"].append(train_acc)\n",
        "    results[\"test_loss\"].append(test_loss)\n",
        "    results[\"test_acc\"].append(test_acc)\n",
        "\n",
        "\n",
        "   # 6. Return the filled results at the end of the epochs\n",
        "\n",
        "  return results"
      ],
      "metadata": {
        "id": "o2chTxER2o2B"
      },
      "execution_count": 25,
      "outputs": []
    },
    {
      "cell_type": "code",
      "source": [
        "# Number of features of the graphs\n",
        "num_features = next(iter(train_dataloader)).x.shape[1]\n",
        "num_hidden_channels = 16\n",
        "num_out_channels = 2\n",
        "\n",
        "# Instantiating GCN Classifier\n",
        "model = GCNClassifier(num_features, num_hidden_channels, num_out_channels)\n",
        "\n",
        "optimizer = torch.optim.Adam(model.parameters(), lr=0.001)\n",
        "\n",
        "train(model,\n",
        "      train_dataloader,\n",
        "      test_dataloader,\n",
        "      optimizer\n",
        "      )"
      ],
      "metadata": {
        "colab": {
          "base_uri": "https://localhost:8080/",
          "height": 522,
          "referenced_widgets": [
            "be4f8e705e55458b9690bd31bafee374",
            "c1226334cd9a4ba69b923a13fadecd80",
            "048a6f1540a34c61bd53ab785b318caf",
            "2ffa0158fcd942d3b02720499371c93c",
            "190e8f7a255e4fff9fe6da3126584971",
            "445bf05109bc42df914fb709f7ebfd77",
            "7a17dbd134084bb9af0c3cdafc336bea",
            "348d174807c747d3886e5c8466b576b2",
            "cdd801cb2a3f46abaad291cca76df379",
            "444f6b881af042f1b0587270499886bd",
            "2756c2da301f45219ff1c996824b1628"
          ]
        },
        "id": "9HBC4UR65h7U",
        "outputId": "f41bba3f-af66-46f4-c23a-3f020fccd3a4"
      },
      "execution_count": 33,
      "outputs": [
        {
          "output_type": "display_data",
          "data": {
            "text/plain": [
              "  0%|          | 0/5 [00:00<?, ?it/s]"
            ],
            "application/vnd.jupyter.widget-view+json": {
              "version_major": 2,
              "version_minor": 0,
              "model_id": "be4f8e705e55458b9690bd31bafee374"
            }
          },
          "metadata": {}
        },
        {
          "output_type": "error",
          "ename": "AttributeError",
          "evalue": "'tuple' object has no attribute 'to'",
          "traceback": [
            "\u001b[0;31m---------------------------------------------------------------------------\u001b[0m",
            "\u001b[0;31mAttributeError\u001b[0m                            Traceback (most recent call last)",
            "\u001b[0;32m<ipython-input-33-8b78990288b3>\u001b[0m in \u001b[0;36m<cell line: 11>\u001b[0;34m()\u001b[0m\n\u001b[1;32m      9\u001b[0m \u001b[0moptimizer\u001b[0m \u001b[0;34m=\u001b[0m \u001b[0mtorch\u001b[0m\u001b[0;34m.\u001b[0m\u001b[0moptim\u001b[0m\u001b[0;34m.\u001b[0m\u001b[0mAdam\u001b[0m\u001b[0;34m(\u001b[0m\u001b[0mmodel\u001b[0m\u001b[0;34m.\u001b[0m\u001b[0mparameters\u001b[0m\u001b[0;34m(\u001b[0m\u001b[0;34m)\u001b[0m\u001b[0;34m,\u001b[0m \u001b[0mlr\u001b[0m\u001b[0;34m=\u001b[0m\u001b[0;36m0.001\u001b[0m\u001b[0;34m)\u001b[0m\u001b[0;34m\u001b[0m\u001b[0;34m\u001b[0m\u001b[0m\n\u001b[1;32m     10\u001b[0m \u001b[0;34m\u001b[0m\u001b[0m\n\u001b[0;32m---> 11\u001b[0;31m train(model, \n\u001b[0m\u001b[1;32m     12\u001b[0m       \u001b[0mtrain_dataloader\u001b[0m\u001b[0;34m,\u001b[0m\u001b[0;34m\u001b[0m\u001b[0;34m\u001b[0m\u001b[0m\n\u001b[1;32m     13\u001b[0m       \u001b[0mtest_dataloader\u001b[0m\u001b[0;34m,\u001b[0m\u001b[0;34m\u001b[0m\u001b[0;34m\u001b[0m\u001b[0m\n",
            "\u001b[0;32m<ipython-input-25-7664a3e6000e>\u001b[0m in \u001b[0;36mtrain\u001b[0;34m(model, train_dataloader, test_dataloader, optimizer, loss_fn, epochs)\u001b[0m\n\u001b[1;32m     16\u001b[0m \u001b[0;34m\u001b[0m\u001b[0m\n\u001b[1;32m     17\u001b[0m   \u001b[0;32mfor\u001b[0m \u001b[0mi\u001b[0m \u001b[0;32min\u001b[0m \u001b[0mtqdm\u001b[0m\u001b[0;34m(\u001b[0m\u001b[0mrange\u001b[0m\u001b[0;34m(\u001b[0m\u001b[0mepochs\u001b[0m\u001b[0;34m)\u001b[0m\u001b[0;34m)\u001b[0m\u001b[0;34m:\u001b[0m\u001b[0;34m\u001b[0m\u001b[0;34m\u001b[0m\u001b[0m\n\u001b[0;32m---> 18\u001b[0;31m     train_loss, train_acc = train_step(model, \n\u001b[0m\u001b[1;32m     19\u001b[0m                                        \u001b[0mtrain_dataloader\u001b[0m\u001b[0;34m,\u001b[0m\u001b[0;34m\u001b[0m\u001b[0;34m\u001b[0m\u001b[0m\n\u001b[1;32m     20\u001b[0m                                        \u001b[0mloss_fn\u001b[0m\u001b[0;34m,\u001b[0m\u001b[0;34m\u001b[0m\u001b[0;34m\u001b[0m\u001b[0m\n",
            "\u001b[0;32m<ipython-input-17-e96e6733f49b>\u001b[0m in \u001b[0;36mtrain_step\u001b[0;34m(model, dataloader, loss_fn, optimizer)\u001b[0m\n\u001b[1;32m     13\u001b[0m   \u001b[0;31m# Loop over the batches\u001b[0m\u001b[0;34m\u001b[0m\u001b[0;34m\u001b[0m\u001b[0m\n\u001b[1;32m     14\u001b[0m   \u001b[0;32mfor\u001b[0m \u001b[0mbatch\u001b[0m \u001b[0;32min\u001b[0m \u001b[0menumerate\u001b[0m\u001b[0;34m(\u001b[0m\u001b[0mdataloader\u001b[0m\u001b[0;34m)\u001b[0m\u001b[0;34m:\u001b[0m\u001b[0;34m\u001b[0m\u001b[0;34m\u001b[0m\u001b[0m\n\u001b[0;32m---> 15\u001b[0;31m     \u001b[0mbatch\u001b[0m \u001b[0;34m=\u001b[0m \u001b[0mbatch\u001b[0m\u001b[0;34m.\u001b[0m\u001b[0mto\u001b[0m\u001b[0;34m(\u001b[0m\u001b[0mdevice\u001b[0m\u001b[0;34m)\u001b[0m\u001b[0;34m\u001b[0m\u001b[0;34m\u001b[0m\u001b[0m\n\u001b[0m\u001b[1;32m     16\u001b[0m \u001b[0;34m\u001b[0m\u001b[0m\n\u001b[1;32m     17\u001b[0m     \u001b[0;31m# Forward pass\u001b[0m\u001b[0;34m\u001b[0m\u001b[0;34m\u001b[0m\u001b[0m\n",
            "\u001b[0;31mAttributeError\u001b[0m: 'tuple' object has no attribute 'to'"
          ]
        }
      ]
    },
    {
      "cell_type": "code",
      "source": [
        "for batch in enumerate(train_dataloader):\n",
        "  print(batch)"
      ],
      "metadata": {
        "colab": {
          "base_uri": "https://localhost:8080/"
        },
        "id": "oRGo86So7tAV",
        "outputId": "070a37f9-04d2-4e59-93c7-bacf6fd60d92"
      },
      "execution_count": 37,
      "outputs": [
        {
          "output_type": "stream",
          "name": "stdout",
          "text": [
            "(0, DataBatch(x=[1055, 30], edge_index=[2, 2278], edge_attr=[2278, 11], Class=[32], smiles=[32], pic50=[32], batch=[1055], ptr=[33]))\n",
            "(1, DataBatch(x=[1109, 30], edge_index=[2, 2392], edge_attr=[2392, 11], Class=[32], smiles=[32], pic50=[32], batch=[1109], ptr=[33]))\n",
            "(2, DataBatch(x=[1078, 30], edge_index=[2, 2344], edge_attr=[2344, 11], Class=[32], smiles=[32], pic50=[32], batch=[1078], ptr=[33]))\n",
            "(3, DataBatch(x=[1046, 30], edge_index=[2, 2268], edge_attr=[2268, 11], Class=[32], smiles=[32], pic50=[32], batch=[1046], ptr=[33]))\n",
            "(4, DataBatch(x=[1138, 30], edge_index=[2, 2462], edge_attr=[2462, 11], Class=[32], smiles=[32], pic50=[32], batch=[1138], ptr=[33]))\n",
            "(5, DataBatch(x=[1136, 30], edge_index=[2, 2438], edge_attr=[2438, 11], Class=[32], smiles=[32], pic50=[32], batch=[1136], ptr=[33]))\n",
            "(6, DataBatch(x=[1087, 30], edge_index=[2, 2358], edge_attr=[2358, 11], Class=[32], smiles=[32], pic50=[32], batch=[1087], ptr=[33]))\n",
            "(7, DataBatch(x=[1214, 30], edge_index=[2, 2600], edge_attr=[2600, 11], Class=[32], smiles=[32], pic50=[32], batch=[1214], ptr=[33]))\n",
            "(8, DataBatch(x=[1051, 30], edge_index=[2, 2292], edge_attr=[2292, 11], Class=[32], smiles=[32], pic50=[32], batch=[1051], ptr=[33]))\n",
            "(9, DataBatch(x=[1057, 30], edge_index=[2, 2298], edge_attr=[2298, 11], Class=[32], smiles=[32], pic50=[32], batch=[1057], ptr=[33]))\n",
            "(10, DataBatch(x=[1147, 30], edge_index=[2, 2484], edge_attr=[2484, 11], Class=[32], smiles=[32], pic50=[32], batch=[1147], ptr=[33]))\n",
            "(11, DataBatch(x=[1132, 30], edge_index=[2, 2444], edge_attr=[2444, 11], Class=[32], smiles=[32], pic50=[32], batch=[1132], ptr=[33]))\n",
            "(12, DataBatch(x=[1123, 30], edge_index=[2, 2430], edge_attr=[2430, 11], Class=[32], smiles=[32], pic50=[32], batch=[1123], ptr=[33]))\n",
            "(13, DataBatch(x=[1133, 30], edge_index=[2, 2452], edge_attr=[2452, 11], Class=[32], smiles=[32], pic50=[32], batch=[1133], ptr=[33]))\n",
            "(14, DataBatch(x=[1147, 30], edge_index=[2, 2468], edge_attr=[2468, 11], Class=[32], smiles=[32], pic50=[32], batch=[1147], ptr=[33]))\n",
            "(15, DataBatch(x=[1128, 30], edge_index=[2, 2420], edge_attr=[2420, 11], Class=[32], smiles=[32], pic50=[32], batch=[1128], ptr=[33]))\n",
            "(16, DataBatch(x=[1084, 30], edge_index=[2, 2338], edge_attr=[2338, 11], Class=[32], smiles=[32], pic50=[32], batch=[1084], ptr=[33]))\n",
            "(17, DataBatch(x=[1139, 30], edge_index=[2, 2448], edge_attr=[2448, 11], Class=[32], smiles=[32], pic50=[32], batch=[1139], ptr=[33]))\n",
            "(18, DataBatch(x=[1028, 30], edge_index=[2, 2214], edge_attr=[2214, 11], Class=[32], smiles=[32], pic50=[32], batch=[1028], ptr=[33]))\n",
            "(19, DataBatch(x=[1081, 30], edge_index=[2, 2336], edge_attr=[2336, 11], Class=[32], smiles=[32], pic50=[32], batch=[1081], ptr=[33]))\n",
            "(20, DataBatch(x=[1154, 30], edge_index=[2, 2490], edge_attr=[2490, 11], Class=[32], smiles=[32], pic50=[32], batch=[1154], ptr=[33]))\n",
            "(21, DataBatch(x=[1085, 30], edge_index=[2, 2360], edge_attr=[2360, 11], Class=[32], smiles=[32], pic50=[32], batch=[1085], ptr=[33]))\n",
            "(22, DataBatch(x=[1071, 30], edge_index=[2, 2304], edge_attr=[2304, 11], Class=[32], smiles=[32], pic50=[32], batch=[1071], ptr=[33]))\n",
            "(23, DataBatch(x=[1063, 30], edge_index=[2, 2312], edge_attr=[2312, 11], Class=[32], smiles=[32], pic50=[32], batch=[1063], ptr=[33]))\n",
            "(24, DataBatch(x=[1043, 30], edge_index=[2, 2264], edge_attr=[2264, 11], Class=[32], smiles=[32], pic50=[32], batch=[1043], ptr=[33]))\n",
            "(25, DataBatch(x=[1112, 30], edge_index=[2, 2416], edge_attr=[2416, 11], Class=[32], smiles=[32], pic50=[32], batch=[1112], ptr=[33]))\n",
            "(26, DataBatch(x=[1023, 30], edge_index=[2, 2220], edge_attr=[2220, 11], Class=[32], smiles=[32], pic50=[32], batch=[1023], ptr=[33]))\n",
            "(27, DataBatch(x=[1115, 30], edge_index=[2, 2408], edge_attr=[2408, 11], Class=[32], smiles=[32], pic50=[32], batch=[1115], ptr=[33]))\n",
            "(28, DataBatch(x=[1201, 30], edge_index=[2, 2576], edge_attr=[2576, 11], Class=[32], smiles=[32], pic50=[32], batch=[1201], ptr=[33]))\n",
            "(29, DataBatch(x=[1051, 30], edge_index=[2, 2282], edge_attr=[2282, 11], Class=[32], smiles=[32], pic50=[32], batch=[1051], ptr=[33]))\n",
            "(30, DataBatch(x=[1043, 30], edge_index=[2, 2262], edge_attr=[2262, 11], Class=[32], smiles=[32], pic50=[32], batch=[1043], ptr=[33]))\n",
            "(31, DataBatch(x=[1015, 30], edge_index=[2, 2200], edge_attr=[2200, 11], Class=[32], smiles=[32], pic50=[32], batch=[1015], ptr=[33]))\n",
            "(32, DataBatch(x=[1067, 30], edge_index=[2, 2308], edge_attr=[2308, 11], Class=[32], smiles=[32], pic50=[32], batch=[1067], ptr=[33]))\n",
            "(33, DataBatch(x=[1031, 30], edge_index=[2, 2240], edge_attr=[2240, 11], Class=[32], smiles=[32], pic50=[32], batch=[1031], ptr=[33]))\n",
            "(34, DataBatch(x=[1134, 30], edge_index=[2, 2458], edge_attr=[2458, 11], Class=[32], smiles=[32], pic50=[32], batch=[1134], ptr=[33]))\n",
            "(35, DataBatch(x=[1072, 30], edge_index=[2, 2328], edge_attr=[2328, 11], Class=[32], smiles=[32], pic50=[32], batch=[1072], ptr=[33]))\n",
            "(36, DataBatch(x=[1071, 30], edge_index=[2, 2312], edge_attr=[2312, 11], Class=[32], smiles=[32], pic50=[32], batch=[1071], ptr=[33]))\n",
            "(37, DataBatch(x=[892, 30], edge_index=[2, 1940], edge_attr=[1940, 11], Class=[26], smiles=[26], pic50=[26], batch=[892], ptr=[27]))\n"
          ]
        }
      ]
    }
  ]
}