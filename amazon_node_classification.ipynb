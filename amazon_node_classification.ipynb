{
  "nbformat": 4,
  "nbformat_minor": 0,
  "metadata": {
    "colab": {
      "provenance": [],
      "gpuType": "T4",
      "authorship_tag": "ABX9TyMlwRgsHLMwQFw9RfkLKLrB",
      "include_colab_link": true
    },
    "kernelspec": {
      "name": "python3",
      "display_name": "Python 3"
    },
    "language_info": {
      "name": "python"
    },
    "accelerator": "GPU"
  },
  "cells": [
    {
      "cell_type": "markdown",
      "metadata": {
        "id": "view-in-github",
        "colab_type": "text"
      },
      "source": [
        "<a href=\"https://colab.research.google.com/github/lnsayer/personal_repo/blob/main/amazon_node_classification.ipynb\" target=\"_parent\"><img src=\"https://colab.research.google.com/assets/colab-badge.svg\" alt=\"Open In Colab\"/></a>"
      ]
    },
    {
      "cell_type": "markdown",
      "source": [
        "# Amazon Dataset (from PyTorch Geometric) Node Classification Project"
      ],
      "metadata": {
        "id": "TjQq3HSS72s4"
      }
    },
    {
      "cell_type": "markdown",
      "source": [
        "The Amazon Computers and Amazon Photo networks from the “Pitfalls of Graph Neural Network Evaluation” paper. Nodes represent goods and edges represent that two goods are frequently bought together. Given product reviews as bag-of-words node features, the task is to map goods to their respective product category."
      ],
      "metadata": {
        "id": "AsCf6sSx9diS"
      }
    },
    {
      "cell_type": "code",
      "source": [
        "!pip install torch_geometric\n",
        "!pip install torchmetrics"
      ],
      "metadata": {
        "colab": {
          "base_uri": "https://localhost:8080/"
        },
        "id": "rQf3Vnq49eEo",
        "outputId": "be6c28be-fcd0-4f9a-b223-5acdf05c4e1b"
      },
      "execution_count": 1,
      "outputs": [
        {
          "output_type": "stream",
          "name": "stdout",
          "text": [
            "Collecting torch_geometric\n",
            "  Downloading torch_geometric-2.5.3-py3-none-any.whl (1.1 MB)\n",
            "\u001b[?25l     \u001b[90m━━━━━━━━━━━━━━━━━━━━━━━━━━━━━━━━━━━━━━━━\u001b[0m \u001b[32m0.0/1.1 MB\u001b[0m \u001b[31m?\u001b[0m eta \u001b[36m-:--:--\u001b[0m\r\u001b[2K     \u001b[91m━\u001b[0m\u001b[90m╺\u001b[0m\u001b[90m━━━━━━━━━━━━━━━━━━━━━━━━━━━━━━━━━━━━━━\u001b[0m \u001b[32m0.0/1.1 MB\u001b[0m \u001b[31m1.2 MB/s\u001b[0m eta \u001b[36m0:00:01\u001b[0m\r\u001b[2K     \u001b[91m━━━━━━━━━━━━━━━━━━━━━━━━━━━━━━━━━━━━━━━\u001b[0m\u001b[91m╸\u001b[0m \u001b[32m1.1/1.1 MB\u001b[0m \u001b[31m18.7 MB/s\u001b[0m eta \u001b[36m0:00:01\u001b[0m\r\u001b[2K     \u001b[90m━━━━━━━━━━━━━━━━━━━━━━━━━━━━━━━━━━━━━━━━\u001b[0m \u001b[32m1.1/1.1 MB\u001b[0m \u001b[31m14.4 MB/s\u001b[0m eta \u001b[36m0:00:00\u001b[0m\n",
            "\u001b[?25hRequirement already satisfied: tqdm in /usr/local/lib/python3.10/dist-packages (from torch_geometric) (4.66.4)\n",
            "Requirement already satisfied: numpy in /usr/local/lib/python3.10/dist-packages (from torch_geometric) (1.25.2)\n",
            "Requirement already satisfied: scipy in /usr/local/lib/python3.10/dist-packages (from torch_geometric) (1.11.4)\n",
            "Requirement already satisfied: fsspec in /usr/local/lib/python3.10/dist-packages (from torch_geometric) (2023.6.0)\n",
            "Requirement already satisfied: jinja2 in /usr/local/lib/python3.10/dist-packages (from torch_geometric) (3.1.4)\n",
            "Requirement already satisfied: aiohttp in /usr/local/lib/python3.10/dist-packages (from torch_geometric) (3.9.5)\n",
            "Requirement already satisfied: requests in /usr/local/lib/python3.10/dist-packages (from torch_geometric) (2.31.0)\n",
            "Requirement already satisfied: pyparsing in /usr/local/lib/python3.10/dist-packages (from torch_geometric) (3.1.2)\n",
            "Requirement already satisfied: scikit-learn in /usr/local/lib/python3.10/dist-packages (from torch_geometric) (1.2.2)\n",
            "Requirement already satisfied: psutil>=5.8.0 in /usr/local/lib/python3.10/dist-packages (from torch_geometric) (5.9.5)\n",
            "Requirement already satisfied: aiosignal>=1.1.2 in /usr/local/lib/python3.10/dist-packages (from aiohttp->torch_geometric) (1.3.1)\n",
            "Requirement already satisfied: attrs>=17.3.0 in /usr/local/lib/python3.10/dist-packages (from aiohttp->torch_geometric) (23.2.0)\n",
            "Requirement already satisfied: frozenlist>=1.1.1 in /usr/local/lib/python3.10/dist-packages (from aiohttp->torch_geometric) (1.4.1)\n",
            "Requirement already satisfied: multidict<7.0,>=4.5 in /usr/local/lib/python3.10/dist-packages (from aiohttp->torch_geometric) (6.0.5)\n",
            "Requirement already satisfied: yarl<2.0,>=1.0 in /usr/local/lib/python3.10/dist-packages (from aiohttp->torch_geometric) (1.9.4)\n",
            "Requirement already satisfied: async-timeout<5.0,>=4.0 in /usr/local/lib/python3.10/dist-packages (from aiohttp->torch_geometric) (4.0.3)\n",
            "Requirement already satisfied: MarkupSafe>=2.0 in /usr/local/lib/python3.10/dist-packages (from jinja2->torch_geometric) (2.1.5)\n",
            "Requirement already satisfied: charset-normalizer<4,>=2 in /usr/local/lib/python3.10/dist-packages (from requests->torch_geometric) (3.3.2)\n",
            "Requirement already satisfied: idna<4,>=2.5 in /usr/local/lib/python3.10/dist-packages (from requests->torch_geometric) (3.7)\n",
            "Requirement already satisfied: urllib3<3,>=1.21.1 in /usr/local/lib/python3.10/dist-packages (from requests->torch_geometric) (2.0.7)\n",
            "Requirement already satisfied: certifi>=2017.4.17 in /usr/local/lib/python3.10/dist-packages (from requests->torch_geometric) (2024.2.2)\n",
            "Requirement already satisfied: joblib>=1.1.1 in /usr/local/lib/python3.10/dist-packages (from scikit-learn->torch_geometric) (1.4.2)\n",
            "Requirement already satisfied: threadpoolctl>=2.0.0 in /usr/local/lib/python3.10/dist-packages (from scikit-learn->torch_geometric) (3.5.0)\n",
            "Installing collected packages: torch_geometric\n",
            "Successfully installed torch_geometric-2.5.3\n",
            "Collecting torchmetrics\n",
            "  Downloading torchmetrics-1.4.0.post0-py3-none-any.whl (868 kB)\n",
            "\u001b[2K     \u001b[90m━━━━━━━━━━━━━━━━━━━━━━━━━━━━━━━━━━━━━━━━\u001b[0m \u001b[32m868.8/868.8 kB\u001b[0m \u001b[31m7.2 MB/s\u001b[0m eta \u001b[36m0:00:00\u001b[0m\n",
            "\u001b[?25hRequirement already satisfied: numpy>1.20.0 in /usr/local/lib/python3.10/dist-packages (from torchmetrics) (1.25.2)\n",
            "Requirement already satisfied: packaging>17.1 in /usr/local/lib/python3.10/dist-packages (from torchmetrics) (24.0)\n",
            "Requirement already satisfied: torch>=1.10.0 in /usr/local/lib/python3.10/dist-packages (from torchmetrics) (2.2.1+cu121)\n",
            "Collecting lightning-utilities>=0.8.0 (from torchmetrics)\n",
            "  Downloading lightning_utilities-0.11.2-py3-none-any.whl (26 kB)\n",
            "Requirement already satisfied: setuptools in /usr/local/lib/python3.10/dist-packages (from lightning-utilities>=0.8.0->torchmetrics) (67.7.2)\n",
            "Requirement already satisfied: typing-extensions in /usr/local/lib/python3.10/dist-packages (from lightning-utilities>=0.8.0->torchmetrics) (4.11.0)\n",
            "Requirement already satisfied: filelock in /usr/local/lib/python3.10/dist-packages (from torch>=1.10.0->torchmetrics) (3.14.0)\n",
            "Requirement already satisfied: sympy in /usr/local/lib/python3.10/dist-packages (from torch>=1.10.0->torchmetrics) (1.12)\n",
            "Requirement already satisfied: networkx in /usr/local/lib/python3.10/dist-packages (from torch>=1.10.0->torchmetrics) (3.3)\n",
            "Requirement already satisfied: jinja2 in /usr/local/lib/python3.10/dist-packages (from torch>=1.10.0->torchmetrics) (3.1.4)\n",
            "Requirement already satisfied: fsspec in /usr/local/lib/python3.10/dist-packages (from torch>=1.10.0->torchmetrics) (2023.6.0)\n",
            "Collecting nvidia-cuda-nvrtc-cu12==12.1.105 (from torch>=1.10.0->torchmetrics)\n",
            "  Using cached nvidia_cuda_nvrtc_cu12-12.1.105-py3-none-manylinux1_x86_64.whl (23.7 MB)\n",
            "Collecting nvidia-cuda-runtime-cu12==12.1.105 (from torch>=1.10.0->torchmetrics)\n",
            "  Using cached nvidia_cuda_runtime_cu12-12.1.105-py3-none-manylinux1_x86_64.whl (823 kB)\n",
            "Collecting nvidia-cuda-cupti-cu12==12.1.105 (from torch>=1.10.0->torchmetrics)\n",
            "  Using cached nvidia_cuda_cupti_cu12-12.1.105-py3-none-manylinux1_x86_64.whl (14.1 MB)\n",
            "Collecting nvidia-cudnn-cu12==8.9.2.26 (from torch>=1.10.0->torchmetrics)\n",
            "  Using cached nvidia_cudnn_cu12-8.9.2.26-py3-none-manylinux1_x86_64.whl (731.7 MB)\n",
            "Collecting nvidia-cublas-cu12==12.1.3.1 (from torch>=1.10.0->torchmetrics)\n",
            "  Using cached nvidia_cublas_cu12-12.1.3.1-py3-none-manylinux1_x86_64.whl (410.6 MB)\n",
            "Collecting nvidia-cufft-cu12==11.0.2.54 (from torch>=1.10.0->torchmetrics)\n",
            "  Using cached nvidia_cufft_cu12-11.0.2.54-py3-none-manylinux1_x86_64.whl (121.6 MB)\n",
            "Collecting nvidia-curand-cu12==10.3.2.106 (from torch>=1.10.0->torchmetrics)\n",
            "  Using cached nvidia_curand_cu12-10.3.2.106-py3-none-manylinux1_x86_64.whl (56.5 MB)\n",
            "Collecting nvidia-cusolver-cu12==11.4.5.107 (from torch>=1.10.0->torchmetrics)\n",
            "  Using cached nvidia_cusolver_cu12-11.4.5.107-py3-none-manylinux1_x86_64.whl (124.2 MB)\n",
            "Collecting nvidia-cusparse-cu12==12.1.0.106 (from torch>=1.10.0->torchmetrics)\n",
            "  Using cached nvidia_cusparse_cu12-12.1.0.106-py3-none-manylinux1_x86_64.whl (196.0 MB)\n",
            "Collecting nvidia-nccl-cu12==2.19.3 (from torch>=1.10.0->torchmetrics)\n",
            "  Using cached nvidia_nccl_cu12-2.19.3-py3-none-manylinux1_x86_64.whl (166.0 MB)\n",
            "Collecting nvidia-nvtx-cu12==12.1.105 (from torch>=1.10.0->torchmetrics)\n",
            "  Using cached nvidia_nvtx_cu12-12.1.105-py3-none-manylinux1_x86_64.whl (99 kB)\n",
            "Requirement already satisfied: triton==2.2.0 in /usr/local/lib/python3.10/dist-packages (from torch>=1.10.0->torchmetrics) (2.2.0)\n",
            "Collecting nvidia-nvjitlink-cu12 (from nvidia-cusolver-cu12==11.4.5.107->torch>=1.10.0->torchmetrics)\n",
            "  Using cached nvidia_nvjitlink_cu12-12.4.127-py3-none-manylinux2014_x86_64.whl (21.1 MB)\n",
            "Requirement already satisfied: MarkupSafe>=2.0 in /usr/local/lib/python3.10/dist-packages (from jinja2->torch>=1.10.0->torchmetrics) (2.1.5)\n",
            "Requirement already satisfied: mpmath>=0.19 in /usr/local/lib/python3.10/dist-packages (from sympy->torch>=1.10.0->torchmetrics) (1.3.0)\n",
            "Installing collected packages: nvidia-nvtx-cu12, nvidia-nvjitlink-cu12, nvidia-nccl-cu12, nvidia-curand-cu12, nvidia-cufft-cu12, nvidia-cuda-runtime-cu12, nvidia-cuda-nvrtc-cu12, nvidia-cuda-cupti-cu12, nvidia-cublas-cu12, lightning-utilities, nvidia-cusparse-cu12, nvidia-cudnn-cu12, nvidia-cusolver-cu12, torchmetrics\n",
            "Successfully installed lightning-utilities-0.11.2 nvidia-cublas-cu12-12.1.3.1 nvidia-cuda-cupti-cu12-12.1.105 nvidia-cuda-nvrtc-cu12-12.1.105 nvidia-cuda-runtime-cu12-12.1.105 nvidia-cudnn-cu12-8.9.2.26 nvidia-cufft-cu12-11.0.2.54 nvidia-curand-cu12-10.3.2.106 nvidia-cusolver-cu12-11.4.5.107 nvidia-cusparse-cu12-12.1.0.106 nvidia-nccl-cu12-2.19.3 nvidia-nvjitlink-cu12-12.4.127 nvidia-nvtx-cu12-12.1.105 torchmetrics-1.4.0.post0\n"
          ]
        }
      ]
    },
    {
      "cell_type": "code",
      "source": [
        "from torch_geometric.datasets import Amazon\n",
        "import torch\n",
        "import numpy as np\n",
        "import matplotlib.pyplot as plt\n",
        "from torchmetrics.classification import MulticlassAUROC\n"
      ],
      "metadata": {
        "id": "5gaVXYgOBro3"
      },
      "execution_count": 2,
      "outputs": []
    },
    {
      "cell_type": "code",
      "source": [
        "dataset = Amazon(root=\"data/Amazon\", name=\"Computers\")\n",
        "\n",
        "data = dataset[0]\n",
        "\n",
        "print(f\"Number of nodes in graph is: {data.x.shape[0]}\")\n",
        "print(f\"Number of features for each node is {dataset.num_features}\")\n",
        "print(f\"Number of edges is {data.edge_index.shape[1]}\")\n",
        "print(f\"We want to predict the classes of the 13752 Computers\\n\")\n",
        "print(data, \"\\n\")\n",
        "\n",
        "print(f\"The number of class members for each class: {dataset.num_classes}\\n\")\n",
        "print(f\"Class labels: \\n{data.y.unique(return_counts=True)}\")\n",
        "#dir(dataset)"
      ],
      "metadata": {
        "colab": {
          "base_uri": "https://localhost:8080/"
        },
        "id": "qVgKCKir951L",
        "outputId": "3cb5166e-7404-48bb-e053-dd6ca3626317"
      },
      "execution_count": 3,
      "outputs": [
        {
          "output_type": "stream",
          "name": "stderr",
          "text": [
            "Downloading https://github.com/shchur/gnn-benchmark/raw/master/data/npz/amazon_electronics_computers.npz\n",
            "Processing...\n"
          ]
        },
        {
          "output_type": "stream",
          "name": "stdout",
          "text": [
            "Number of nodes in graph is: 13752\n",
            "Number of features for each node is 767\n",
            "Number of edges is 491722\n",
            "We want to predict the classes of the 13752 Computers\n",
            "\n",
            "Data(x=[13752, 767], edge_index=[2, 491722], y=[13752]) \n",
            "\n",
            "The number of class members for each class: 10\n",
            "\n",
            "Class labels: \n",
            "(tensor([0, 1, 2, 3, 4, 5, 6, 7, 8, 9]), tensor([ 436, 2142, 1414,  542, 5158,  308,  487,  818, 2156,  291]))\n"
          ]
        },
        {
          "output_type": "stream",
          "name": "stderr",
          "text": [
            "Done!\n"
          ]
        }
      ]
    },
    {
      "cell_type": "code",
      "source": [
        "# # We will split the data using a transductive method in which the whole input graph is put through the forward method however\n",
        "# we split the labels (classes) for the loss function. We will use a split of train: 80%, val: 10% and test: 10%.\n",
        "torch.manual_seed(42)\n",
        "# indices of the nodes randomly shuffled\n",
        "indices = torch.randperm(data.x.shape[0])\n",
        "print(f\"Shuffled indices are {indices} of length {len(indices)}\\n\")\n",
        "\n",
        "# train:80%, val:10% and test:10%\n",
        "train_indices = indices[:int(0.8*len(indices))]\n",
        "val_indices = indices[int(0.8*len(indices)):int(0.9*len(indices))]\n",
        "test_indices = indices[int(0.9*len(indices)):]\n",
        "print(f\"Train shuffled indices are {train_indices} of length {len(train_indices)}\\n\")\n",
        "print(f\"Test shuffled indices are {test_indices} of length {len(test_indices)}\\n\")\n",
        "print(f\"Validation shuffled indices are {val_indices} of length {len(val_indices)}\\n\")\n",
        "\n",
        "# train labels to pass\n",
        "train_labels = data.y[train_indices]\n",
        "val_labels = data.y[val_indices]\n",
        "test_labels = data.y[test_indices]\n"
      ],
      "metadata": {
        "colab": {
          "base_uri": "https://localhost:8080/"
        },
        "id": "ecEGBWxvDz6a",
        "outputId": "f7edfffc-4e33-46a5-f032-7c7cbc593b02"
      },
      "execution_count": 4,
      "outputs": [
        {
          "output_type": "stream",
          "name": "stdout",
          "text": [
            "Shuffled indices are tensor([11094,  1027,  4378,  ...,  8275,  9941,  4338]) of length 13752\n",
            "\n",
            "Train shuffled indices are tensor([11094,  1027,  4378,  ...,  8049, 12835,    92]) of length 11001\n",
            "\n",
            "Test shuffled indices are tensor([8461, 5630, 8059,  ..., 8275, 9941, 4338]) of length 1376\n",
            "\n",
            "Validation shuffled indices are tensor([  794,  4772,  8150,  ..., 12435,   687,  5437]) of length 1375\n",
            "\n"
          ]
        }
      ]
    },
    {
      "cell_type": "code",
      "source": [
        "data.is_undirected()"
      ],
      "metadata": {
        "colab": {
          "base_uri": "https://localhost:8080/"
        },
        "id": "Z0SXDzTr-VYj",
        "outputId": "9893bfff-ed8c-46c1-c530-7e0487e59154"
      },
      "execution_count": 5,
      "outputs": [
        {
          "output_type": "execute_result",
          "data": {
            "text/plain": [
              "True"
            ]
          },
          "metadata": {},
          "execution_count": 5
        }
      ]
    },
    {
      "cell_type": "code",
      "source": [
        "# Create a model\n",
        "import torch.nn.functional as F\n",
        "from torch_geometric.nn import GCNConv\n",
        "\n",
        "nb_hidden_channels = 32\n",
        "\n",
        "class GCN(torch.nn.Module):\n",
        "  def __init__(self):\n",
        "    super().__init__()\n",
        "    self.conv1 = GCNConv(in_channels = dataset.num_features,\n",
        "                         out_channels = nb_hidden_channels)\n",
        "    self.conv2 = GCNConv(in_channels = nb_hidden_channels,\n",
        "                         out_channels = dataset.num_classes)\n",
        "\n",
        "  def forward(self, data):\n",
        "    x, edge_index = data.x, data.edge_index\n",
        "\n",
        "    x = self.conv1(x, edge_index)\n",
        "    x = F.relu(x)\n",
        "    x = self.conv2(x, edge_index)\n",
        "    #x = F.dropout(x, training=self.training)\n",
        "    # could try log softmax: improved numerical performance and gradient optimisation\n",
        "    x = F.log_softmax(x, dim=1)\n",
        "\n",
        "    return x\n",
        "\n",
        "# defined it later too\n",
        "gcn_model = GCN()\n",
        "gcn_model\n"
      ],
      "metadata": {
        "colab": {
          "base_uri": "https://localhost:8080/"
        },
        "id": "N4TVY2YKBl0k",
        "outputId": "b6adb6a0-9df9-450e-a3b4-b3453e395c4b"
      },
      "execution_count": 6,
      "outputs": [
        {
          "output_type": "execute_result",
          "data": {
            "text/plain": [
              "GCN(\n",
              "  (conv1): GCNConv(767, 32)\n",
              "  (conv2): GCNConv(32, 10)\n",
              ")"
            ]
          },
          "metadata": {},
          "execution_count": 6
        }
      ]
    },
    {
      "cell_type": "code",
      "source": [
        "# Run training\n",
        "torch.manual_seed(42)\n",
        "\n",
        "# set device as GPU\n",
        "device = \"cuda\" if torch.cuda.is_available() else \"cpu\"\n",
        "# instantiate the gcn_model\n",
        "gcn_model = GCN()\n",
        "# move the model to the gpu (or cpu is not available)\n",
        "gcn_model = gcn_model.to(device)\n",
        "\n",
        "optimiser = torch.optim.Adam(gcn_model.parameters(), lr=0.01)\n",
        "loss_fn = torch.nn.NLLLoss()\n",
        "\n",
        "# define the data\n",
        "data = dataset[0]\n",
        "data = data.to(device)\n",
        "\n",
        "nb_epochs = 1001\n",
        "\n",
        "epochs = np.arange(0, 1001)\n",
        "train_loss_array = np.zeros(1001)\n",
        "train_acc_array = np.zeros(1001)\n",
        "test_loss_array = np.zeros(1001)\n",
        "test_acc_array = np.zeros(1001)\n",
        "\n",
        "\n",
        "\n",
        "for epoch in range(nb_epochs):\n",
        "  # Train\n",
        "  # forward pass on the network\n",
        "  gcn_model.train()\n",
        "  out = gcn_model(data)\n",
        "\n",
        "  # calculate the loss\n",
        "  loss = loss_fn(out[train_indices], data.y[train_indices])\n",
        "\n",
        "  # calculate the label probabilities\n",
        "  label_probs = out[train_indices]\n",
        "  # calculate the label predictions\n",
        "  label_preds = torch.argmax(label_probs, dim=1)\n",
        "  # calculate accuracy\n",
        "  accuracy = (label_preds == data.y[train_indices]).sum()/len(label_preds)\n",
        "\n",
        "  train_loss_array[epoch] = loss\n",
        "  train_acc_array[epoch] = accuracy\n",
        "\n",
        "  # zero the gradients\n",
        "  optimiser.zero_grad()\n",
        "  # backpropagate the loss\n",
        "  loss.backward()\n",
        "  # update the optimizer\n",
        "  optimiser.step()\n",
        "\n",
        "  # Test\n",
        "  # Put the model in eval mode\n",
        "  gcn_model.eval()\n",
        "  with torch.inference_mode():\n",
        "    # Calculate the loss for the test set\n",
        "    test_loss = loss_fn(out[test_indices], data.y[test_indices])\n",
        "\n",
        "    # Calculate the predictions for the test set and then calculate the accuracy\n",
        "    test_label_probs = out[test_indices]\n",
        "    test_label_preds = torch.argmax(test_label_probs, dim=1)\n",
        "    test_accuracy = (test_label_preds == data.y[test_indices]).sum()/len(test_label_preds)\n",
        "\n",
        "    test_loss_array[epoch] = test_loss\n",
        "    test_acc_array[epoch] = test_accuracy\n",
        "\n",
        "\n",
        "  if epoch % 10 == 0:\n",
        "    print(f\"Epoch: {epoch}, Train Loss: {loss:.4f}, Train Accuracy: {accuracy:.4f}, Test Loss: {test_loss:.4f}, Test Accuracy: {test_accuracy:.4f}\")\n"
      ],
      "metadata": {
        "colab": {
          "base_uri": "https://localhost:8080/"
        },
        "id": "P9zxBu7-KX2a",
        "outputId": "30da4305-2724-466f-8bc9-3c633bbd016e"
      },
      "execution_count": 7,
      "outputs": [
        {
          "output_type": "stream",
          "name": "stdout",
          "text": [
            "Epoch: 0, Train Loss: 2.4572, Train Accuracy: 0.1576, Test Loss: 2.4824, Test Accuracy: 0.1468\n",
            "Epoch: 10, Train Loss: 1.9014, Train Accuracy: 0.4634, Test Loss: 1.9303, Test Accuracy: 0.4455\n",
            "Epoch: 20, Train Loss: 1.4656, Train Accuracy: 0.6603, Test Loss: 1.5017, Test Accuracy: 0.6257\n",
            "Epoch: 30, Train Loss: 1.2304, Train Accuracy: 0.6843, Test Loss: 1.2750, Test Accuracy: 0.6533\n",
            "Epoch: 40, Train Loss: 1.0095, Train Accuracy: 0.7311, Test Loss: 1.0531, Test Accuracy: 0.6999\n",
            "Epoch: 50, Train Loss: 0.8497, Train Accuracy: 0.7476, Test Loss: 0.8849, Test Accuracy: 0.7246\n",
            "Epoch: 60, Train Loss: 0.7312, Train Accuracy: 0.7957, Test Loss: 0.7653, Test Accuracy: 0.7718\n",
            "Epoch: 70, Train Loss: 0.6261, Train Accuracy: 0.8279, Test Loss: 0.6593, Test Accuracy: 0.8060\n",
            "Epoch: 80, Train Loss: 0.5473, Train Accuracy: 0.8497, Test Loss: 0.5782, Test Accuracy: 0.8256\n",
            "Epoch: 90, Train Loss: 0.4906, Train Accuracy: 0.8649, Test Loss: 0.5264, Test Accuracy: 0.8445\n",
            "Epoch: 100, Train Loss: 0.4496, Train Accuracy: 0.8748, Test Loss: 0.4926, Test Accuracy: 0.8532\n",
            "Epoch: 110, Train Loss: 0.4205, Train Accuracy: 0.8813, Test Loss: 0.4678, Test Accuracy: 0.8612\n",
            "Epoch: 120, Train Loss: 0.3984, Train Accuracy: 0.8875, Test Loss: 0.4498, Test Accuracy: 0.8706\n",
            "Epoch: 130, Train Loss: 0.3793, Train Accuracy: 0.8896, Test Loss: 0.4339, Test Accuracy: 0.8728\n",
            "Epoch: 140, Train Loss: 0.3654, Train Accuracy: 0.8947, Test Loss: 0.4232, Test Accuracy: 0.8772\n",
            "Epoch: 150, Train Loss: 0.3543, Train Accuracy: 0.8953, Test Loss: 0.4130, Test Accuracy: 0.8699\n",
            "Epoch: 160, Train Loss: 0.3420, Train Accuracy: 0.9026, Test Loss: 0.4038, Test Accuracy: 0.8823\n",
            "Epoch: 170, Train Loss: 0.3321, Train Accuracy: 0.9014, Test Loss: 0.3943, Test Accuracy: 0.8750\n",
            "Epoch: 180, Train Loss: 0.3232, Train Accuracy: 0.9059, Test Loss: 0.3881, Test Accuracy: 0.8859\n",
            "Epoch: 190, Train Loss: 0.3170, Train Accuracy: 0.9054, Test Loss: 0.3821, Test Accuracy: 0.8801\n",
            "Epoch: 200, Train Loss: 0.3077, Train Accuracy: 0.9099, Test Loss: 0.3758, Test Accuracy: 0.8895\n",
            "Epoch: 210, Train Loss: 0.3021, Train Accuracy: 0.9118, Test Loss: 0.3720, Test Accuracy: 0.8895\n",
            "Epoch: 220, Train Loss: 0.2974, Train Accuracy: 0.9106, Test Loss: 0.3672, Test Accuracy: 0.8852\n",
            "Epoch: 230, Train Loss: 0.2911, Train Accuracy: 0.9156, Test Loss: 0.3651, Test Accuracy: 0.8961\n",
            "Epoch: 240, Train Loss: 0.2858, Train Accuracy: 0.9173, Test Loss: 0.3615, Test Accuracy: 0.9004\n",
            "Epoch: 250, Train Loss: 0.2853, Train Accuracy: 0.9147, Test Loss: 0.3601, Test Accuracy: 0.8895\n",
            "Epoch: 260, Train Loss: 0.2790, Train Accuracy: 0.9195, Test Loss: 0.3593, Test Accuracy: 0.9033\n",
            "Epoch: 270, Train Loss: 0.2751, Train Accuracy: 0.9176, Test Loss: 0.3534, Test Accuracy: 0.8961\n",
            "Epoch: 280, Train Loss: 0.2691, Train Accuracy: 0.9206, Test Loss: 0.3507, Test Accuracy: 0.9062\n",
            "Epoch: 290, Train Loss: 0.2813, Train Accuracy: 0.9215, Test Loss: 0.3726, Test Accuracy: 0.9062\n",
            "Epoch: 300, Train Loss: 0.2760, Train Accuracy: 0.9224, Test Loss: 0.3692, Test Accuracy: 0.9055\n",
            "Epoch: 310, Train Loss: 0.2615, Train Accuracy: 0.9214, Test Loss: 0.3465, Test Accuracy: 0.8997\n",
            "Epoch: 320, Train Loss: 0.2579, Train Accuracy: 0.9234, Test Loss: 0.3444, Test Accuracy: 0.9041\n",
            "Epoch: 330, Train Loss: 0.2553, Train Accuracy: 0.9266, Test Loss: 0.3450, Test Accuracy: 0.9099\n",
            "Epoch: 340, Train Loss: 0.2528, Train Accuracy: 0.9272, Test Loss: 0.3440, Test Accuracy: 0.9121\n",
            "Epoch: 350, Train Loss: 0.2502, Train Accuracy: 0.9270, Test Loss: 0.3424, Test Accuracy: 0.9084\n",
            "Epoch: 360, Train Loss: 0.2479, Train Accuracy: 0.9261, Test Loss: 0.3408, Test Accuracy: 0.9070\n",
            "Epoch: 370, Train Loss: 0.2457, Train Accuracy: 0.9280, Test Loss: 0.3404, Test Accuracy: 0.9092\n",
            "Epoch: 380, Train Loss: 0.2436, Train Accuracy: 0.9291, Test Loss: 0.3397, Test Accuracy: 0.9099\n",
            "Epoch: 390, Train Loss: 0.2635, Train Accuracy: 0.9257, Test Loss: 0.3684, Test Accuracy: 0.9077\n",
            "Epoch: 400, Train Loss: 0.2455, Train Accuracy: 0.9275, Test Loss: 0.3467, Test Accuracy: 0.9062\n",
            "Epoch: 410, Train Loss: 0.2460, Train Accuracy: 0.9257, Test Loss: 0.3410, Test Accuracy: 0.9012\n",
            "Epoch: 420, Train Loss: 0.2399, Train Accuracy: 0.9291, Test Loss: 0.3358, Test Accuracy: 0.9106\n",
            "Epoch: 430, Train Loss: 0.2363, Train Accuracy: 0.9314, Test Loss: 0.3339, Test Accuracy: 0.9099\n",
            "Epoch: 440, Train Loss: 0.2358, Train Accuracy: 0.9320, Test Loss: 0.3369, Test Accuracy: 0.9106\n",
            "Epoch: 450, Train Loss: 0.2334, Train Accuracy: 0.9323, Test Loss: 0.3359, Test Accuracy: 0.9121\n",
            "Epoch: 460, Train Loss: 0.2317, Train Accuracy: 0.9310, Test Loss: 0.3335, Test Accuracy: 0.9099\n",
            "Epoch: 470, Train Loss: 0.2302, Train Accuracy: 0.9318, Test Loss: 0.3331, Test Accuracy: 0.9092\n",
            "Epoch: 480, Train Loss: 0.2289, Train Accuracy: 0.9327, Test Loss: 0.3329, Test Accuracy: 0.9121\n",
            "Epoch: 490, Train Loss: 0.2275, Train Accuracy: 0.9327, Test Loss: 0.3322, Test Accuracy: 0.9121\n",
            "Epoch: 500, Train Loss: 0.2262, Train Accuracy: 0.9332, Test Loss: 0.3318, Test Accuracy: 0.9121\n",
            "Epoch: 510, Train Loss: 0.2249, Train Accuracy: 0.9336, Test Loss: 0.3313, Test Accuracy: 0.9121\n",
            "Epoch: 520, Train Loss: 0.2256, Train Accuracy: 0.9323, Test Loss: 0.3314, Test Accuracy: 0.9092\n",
            "Epoch: 530, Train Loss: 0.2286, Train Accuracy: 0.9315, Test Loss: 0.3403, Test Accuracy: 0.9070\n",
            "Epoch: 540, Train Loss: 0.2224, Train Accuracy: 0.9339, Test Loss: 0.3329, Test Accuracy: 0.9106\n",
            "Epoch: 550, Train Loss: 0.2206, Train Accuracy: 0.9346, Test Loss: 0.3314, Test Accuracy: 0.9121\n",
            "Epoch: 560, Train Loss: 0.2195, Train Accuracy: 0.9349, Test Loss: 0.3303, Test Accuracy: 0.9106\n",
            "Epoch: 570, Train Loss: 0.2184, Train Accuracy: 0.9352, Test Loss: 0.3300, Test Accuracy: 0.9113\n",
            "Epoch: 580, Train Loss: 0.2173, Train Accuracy: 0.9353, Test Loss: 0.3299, Test Accuracy: 0.9121\n",
            "Epoch: 590, Train Loss: 0.2161, Train Accuracy: 0.9354, Test Loss: 0.3292, Test Accuracy: 0.9113\n",
            "Epoch: 600, Train Loss: 0.2157, Train Accuracy: 0.9369, Test Loss: 0.3297, Test Accuracy: 0.9113\n",
            "Epoch: 610, Train Loss: 0.2493, Train Accuracy: 0.9265, Test Loss: 0.3634, Test Accuracy: 0.9041\n",
            "Epoch: 620, Train Loss: 0.2142, Train Accuracy: 0.9376, Test Loss: 0.3309, Test Accuracy: 0.9128\n",
            "Epoch: 630, Train Loss: 0.2125, Train Accuracy: 0.9360, Test Loss: 0.3278, Test Accuracy: 0.9106\n",
            "Epoch: 640, Train Loss: 0.2119, Train Accuracy: 0.9361, Test Loss: 0.3280, Test Accuracy: 0.9121\n",
            "Epoch: 650, Train Loss: 0.2112, Train Accuracy: 0.9362, Test Loss: 0.3286, Test Accuracy: 0.9113\n",
            "Epoch: 660, Train Loss: 0.2097, Train Accuracy: 0.9369, Test Loss: 0.3282, Test Accuracy: 0.9113\n",
            "Epoch: 670, Train Loss: 0.2105, Train Accuracy: 0.9403, Test Loss: 0.3324, Test Accuracy: 0.9150\n",
            "Epoch: 680, Train Loss: 0.2084, Train Accuracy: 0.9373, Test Loss: 0.3296, Test Accuracy: 0.9121\n",
            "Epoch: 690, Train Loss: 0.2153, Train Accuracy: 0.9377, Test Loss: 0.3415, Test Accuracy: 0.9135\n",
            "Epoch: 700, Train Loss: 0.2434, Train Accuracy: 0.9232, Test Loss: 0.3628, Test Accuracy: 0.8975\n",
            "Epoch: 710, Train Loss: 0.2241, Train Accuracy: 0.9356, Test Loss: 0.3531, Test Accuracy: 0.9128\n",
            "Epoch: 720, Train Loss: 0.3267, Train Accuracy: 0.9014, Test Loss: 0.4571, Test Accuracy: 0.8750\n",
            "Epoch: 730, Train Loss: 0.4013, Train Accuracy: 0.8896, Test Loss: 0.5511, Test Accuracy: 0.8597\n",
            "Epoch: 740, Train Loss: 1.7300, Train Accuracy: 0.7114, Test Loss: 2.0492, Test Accuracy: 0.6722\n",
            "Epoch: 750, Train Loss: 0.4349, Train Accuracy: 0.8658, Test Loss: 0.5424, Test Accuracy: 0.8452\n",
            "Epoch: 760, Train Loss: 0.4202, Train Accuracy: 0.8746, Test Loss: 0.5308, Test Accuracy: 0.8416\n",
            "Epoch: 770, Train Loss: 0.2987, Train Accuracy: 0.9107, Test Loss: 0.3991, Test Accuracy: 0.8888\n",
            "Epoch: 780, Train Loss: 0.2722, Train Accuracy: 0.9182, Test Loss: 0.3926, Test Accuracy: 0.8874\n",
            "Epoch: 790, Train Loss: 0.2559, Train Accuracy: 0.9254, Test Loss: 0.3720, Test Accuracy: 0.8975\n",
            "Epoch: 800, Train Loss: 0.2456, Train Accuracy: 0.9306, Test Loss: 0.3646, Test Accuracy: 0.9026\n",
            "Epoch: 810, Train Loss: 0.2399, Train Accuracy: 0.9313, Test Loss: 0.3611, Test Accuracy: 0.9041\n",
            "Epoch: 820, Train Loss: 0.2358, Train Accuracy: 0.9310, Test Loss: 0.3573, Test Accuracy: 0.9033\n",
            "Epoch: 830, Train Loss: 0.2328, Train Accuracy: 0.9320, Test Loss: 0.3559, Test Accuracy: 0.9048\n",
            "Epoch: 840, Train Loss: 0.2303, Train Accuracy: 0.9330, Test Loss: 0.3546, Test Accuracy: 0.9055\n",
            "Epoch: 850, Train Loss: 0.2282, Train Accuracy: 0.9342, Test Loss: 0.3535, Test Accuracy: 0.9062\n",
            "Epoch: 860, Train Loss: 0.2264, Train Accuracy: 0.9342, Test Loss: 0.3525, Test Accuracy: 0.9084\n",
            "Epoch: 870, Train Loss: 0.2248, Train Accuracy: 0.9347, Test Loss: 0.3513, Test Accuracy: 0.9084\n",
            "Epoch: 880, Train Loss: 0.2234, Train Accuracy: 0.9348, Test Loss: 0.3504, Test Accuracy: 0.9084\n",
            "Epoch: 890, Train Loss: 0.2220, Train Accuracy: 0.9350, Test Loss: 0.3493, Test Accuracy: 0.9084\n",
            "Epoch: 900, Train Loss: 0.2208, Train Accuracy: 0.9355, Test Loss: 0.3483, Test Accuracy: 0.9092\n",
            "Epoch: 910, Train Loss: 0.2197, Train Accuracy: 0.9356, Test Loss: 0.3474, Test Accuracy: 0.9106\n",
            "Epoch: 920, Train Loss: 0.2187, Train Accuracy: 0.9359, Test Loss: 0.3463, Test Accuracy: 0.9106\n",
            "Epoch: 930, Train Loss: 0.2178, Train Accuracy: 0.9361, Test Loss: 0.3452, Test Accuracy: 0.9113\n",
            "Epoch: 940, Train Loss: 0.2169, Train Accuracy: 0.9362, Test Loss: 0.3441, Test Accuracy: 0.9121\n",
            "Epoch: 950, Train Loss: 0.2161, Train Accuracy: 0.9361, Test Loss: 0.3431, Test Accuracy: 0.9113\n",
            "Epoch: 960, Train Loss: 0.2153, Train Accuracy: 0.9365, Test Loss: 0.3421, Test Accuracy: 0.9113\n",
            "Epoch: 970, Train Loss: 0.2146, Train Accuracy: 0.9366, Test Loss: 0.3413, Test Accuracy: 0.9113\n",
            "Epoch: 980, Train Loss: 0.2139, Train Accuracy: 0.9367, Test Loss: 0.3404, Test Accuracy: 0.9121\n",
            "Epoch: 990, Train Loss: 0.2132, Train Accuracy: 0.9368, Test Loss: 0.3396, Test Accuracy: 0.9128\n",
            "Epoch: 1000, Train Loss: 0.2125, Train Accuracy: 0.9370, Test Loss: 0.3389, Test Accuracy: 0.9128\n"
          ]
        }
      ]
    },
    {
      "cell_type": "code",
      "source": [
        "fig, (ax0, ax1) = plt.subplots(nrows=1, ncols=2, figsize=(18, 6))\n",
        "\n",
        "ax0.plot(epochs, train_loss_array, label = \"Train set\")\n",
        "ax0.plot(epochs, test_loss_array, label = \"Test set\")\n",
        "\n",
        "ax1.plot(epochs, train_acc_array, label=\"Train set\")\n",
        "ax1.plot(epochs, test_acc_array, label = \"Test set\")\n",
        "\n",
        "ax0.set_xlabel(\"Epoch\", size=16)\n",
        "ax0.set_ylabel(\"Loss\", size=16)\n",
        "\n",
        "ax1.set_xlabel(\"Epoch\", size=16)\n",
        "ax1.set_ylabel(\"Loss\", size=16)\n",
        "\n",
        "ax0.legend(fontsize=14);\n",
        "ax1.legend(fontsize=14);\n",
        "\n",
        "ax0.set_title(\"Cross Entropy Loss values\", size=16);\n",
        "ax1.set_title(\"Accuracy\", size=16);"
      ],
      "metadata": {
        "colab": {
          "base_uri": "https://localhost:8080/",
          "height": 524
        },
        "id": "wL8AL7WQK_5I",
        "outputId": "233bbe2b-ef02-4ef0-8721-8ea64b8b58d2"
      },
      "execution_count": 8,
      "outputs": [
        {
          "output_type": "display_data",
          "data": {
            "text/plain": [
              "<Figure size 1800x600 with 2 Axes>"
            ],
            "image/png": "[encoded data removed]"
          },
          "metadata": {}
        }
      ]
    },
    {
      "cell_type": "code",
      "source": [
        "test_label_probs.shape"
      ],
      "metadata": {
        "colab": {
          "base_uri": "https://localhost:8080/"
        },
        "id": "mWQZO6N5UWin",
        "outputId": "05722e17-56c4-4359-faf6-a23f9c0cef78"
      },
      "execution_count": 9,
      "outputs": [
        {
          "output_type": "execute_result",
          "data": {
            "text/plain": [
              "torch.Size([1376, 10])"
            ]
          },
          "metadata": {},
          "execution_count": 9
        }
      ]
    },
    {
      "cell_type": "code",
      "source": [
        "from torchmetrics.classification import MulticlassConfusionMatrix"
      ],
      "metadata": {
        "id": "ErxpgJtieW9k"
      },
      "execution_count": 10,
      "outputs": []
    },
    {
      "cell_type": "code",
      "source": [
        "auc_metric = MulticlassAUROC(num_classes=dataset.num_classes, average=\"macro\", thresholds=None)\n",
        "\n",
        "train_auc = auc_metric(label_probs, data.y[train_indices])\n",
        "test_auc = auc_metric(test_label_probs, data.y[test_indices])\n",
        "\n",
        "print(f\"Train AUC: {train_auc:.4f}, Test AUC: {test_auc:.4f}\")"
      ],
      "metadata": {
        "colab": {
          "base_uri": "https://localhost:8080/"
        },
        "id": "kUYsAlvNcgEP",
        "outputId": "1169ba5f-dffe-4fd1-fba0-c1a2d2714a58"
      },
      "execution_count": 11,
      "outputs": [
        {
          "output_type": "stream",
          "name": "stdout",
          "text": [
            "Train AUC: 0.9951, Test AUC: 0.9901\n"
          ]
        }
      ]
    },
    {
      "cell_type": "code",
      "source": [
        "conf_matrix_metric = MulticlassConfusionMatrix(num_classes = dataset.num_classes).to(device)\n",
        "\n",
        "print(test_label_preds.shape)\n",
        "print(data.y[test_indices].shape)\n",
        "\n",
        "test_conf_matrix = conf_matrix_metric(test_label_preds, data.y[test_indices])\n",
        "\n",
        "test_conf_matrix"
      ],
      "metadata": {
        "colab": {
          "base_uri": "https://localhost:8080/"
        },
        "id": "amJO2_18eBOO",
        "outputId": "dcf9174f-6c1a-432f-88e2-b49317fa7f41"
      },
      "execution_count": 12,
      "outputs": [
        {
          "output_type": "stream",
          "name": "stdout",
          "text": [
            "torch.Size([1376])\n",
            "torch.Size([1376])\n"
          ]
        },
        {
          "output_type": "execute_result",
          "data": {
            "text/plain": [
              "tensor([[ 47,   1,   0,   1,   1,   0,   0,   0,   0,   0],\n",
              "        [  0, 211,   1,   0,   9,   0,   0,   0,   6,   0],\n",
              "        [  0,   0, 147,   0,   0,   0,   0,   2,   0,   0],\n",
              "        [  1,   1,   0,  44,   1,   0,   0,   0,   0,   0],\n",
              "        [  0,   6,   3,   3, 467,   2,   1,   1,  15,   5],\n",
              "        [  0,   0,   0,   1,   1,  35,   0,   0,   0,   0],\n",
              "        [  0,   0,   0,   0,   1,   0,  30,   0,  17,   0],\n",
              "        [  0,   0,   1,   0,   2,   0,   0,  80,   0,   0],\n",
              "        [  0,   3,   0,   1,  21,   1,   7,   0, 173,   1],\n",
              "        [  0,   0,   0,   0,   2,   0,   0,   0,   1,  22]], device='cuda:0')"
            ]
          },
          "metadata": {},
          "execution_count": 12
        }
      ]
    },
    {
      "cell_type": "code",
      "source": [
        "from torch_geometric.nn import GATConv\n",
        "nb_hidden_channels = 32\n",
        "\n",
        "class GAT(torch.nn.Module):\n",
        "  def __init__(self):\n",
        "    super().__init__()\n",
        "\n",
        "    self.conv1 = GATConv(in_channels = dataset.num_features,\n",
        "                         out_channels = nb_hidden_channels,\n",
        "                         heads = 8,\n",
        "                         concat = True)\n",
        "    self.conv2 = GATConv(in_channels = nb_hidden_channels,\n",
        "                         out_channels = dataset.num_classes,\n",
        "                         heads = 1,\n",
        "                         concat = False)\n",
        "  def forward(self, data):\n",
        "    x, edge_index = data.x, data.edge_index\n",
        "\n",
        "    x = self.conv1(x, edge_index)\n",
        "    x = F.elu(x)\n",
        "    x = self.conv2(x)\n",
        "    x = torch.softmax(x, dim=1)\n",
        "\n",
        "    return x\n",
        "\n",
        "gat_model = GAT()\n",
        "gat_model"
      ],
      "metadata": {
        "colab": {
          "base_uri": "https://localhost:8080/"
        },
        "id": "7JRqKJKUf3Zf",
        "outputId": "6529d304-7b16-4664-d7b5-36f33c8c638a"
      },
      "execution_count": 17,
      "outputs": [
        {
          "output_type": "execute_result",
          "data": {
            "text/plain": [
              "GAT(\n",
              "  (conv1): GATConv(767, 32, heads=8)\n",
              "  (conv2): GATConv(32, 10, heads=1)\n",
              ")"
            ]
          },
          "metadata": {},
          "execution_count": 17
        }
      ]
    }
  ]
}