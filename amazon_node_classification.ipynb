{
  "nbformat": 4,
  "nbformat_minor": 0,
  "metadata": {
    "colab": {
      "provenance": [],
      "gpuType": "T4",
      "authorship_tag": "ABX9TyPH8wcvjapW3VPgdNuowA8B",
      "include_colab_link": true
    },
    "kernelspec": {
      "name": "python3",
      "display_name": "Python 3"
    },
    "language_info": {
      "name": "python"
    },
    "accelerator": "GPU"
  },
  "cells": [
    {
      "cell_type": "markdown",
      "metadata": {
        "id": "view-in-github",
        "colab_type": "text"
      },
      "source": [
        "<a href=\"https://colab.research.google.com/github/lnsayer/personal_repo/blob/main/amazon_node_classification.ipynb\" target=\"_parent\"><img src=\"https://colab.research.google.com/assets/colab-badge.svg\" alt=\"Open In Colab\"/></a>"
      ]
    },
    {
      "cell_type": "markdown",
      "source": [
        "# Amazon Dataset (from PyTorch Geometric) Node Classification Project"
      ],
      "metadata": {
        "id": "TjQq3HSS72s4"
      }
    },
    {
      "cell_type": "markdown",
      "source": [
        "The Amazon Computers and Amazon Photo networks from the “Pitfalls of Graph Neural Network Evaluation” paper. Nodes represent goods and edges represent that two goods are frequently bought together. Given product reviews as bag-of-words node features, the task is to map goods to their respective product category."
      ],
      "metadata": {
        "id": "AsCf6sSx9diS"
      }
    },
    {
      "cell_type": "code",
      "source": [
        "!pip install torch_geometric\n",
        "!pip install torchmetrics"
      ],
      "metadata": {
        "colab": {
          "base_uri": "https://localhost:8080/"
        },
        "id": "rQf3Vnq49eEo",
        "outputId": "4ae996ae-4951-4214-98d0-e5d8cbae7ece"
      },
      "execution_count": 1,
      "outputs": [
        {
          "output_type": "stream",
          "name": "stdout",
          "text": [
            "Collecting torch_geometric\n",
            "  Downloading torch_geometric-2.5.3-py3-none-any.whl (1.1 MB)\n",
            "\u001b[?25l     \u001b[90m━━━━━━━━━━━━━━━━━━━━━━━━━━━━━━━━━━━━━━━━\u001b[0m \u001b[32m0.0/1.1 MB\u001b[0m \u001b[31m?\u001b[0m eta \u001b[36m-:--:--\u001b[0m\r\u001b[2K     \u001b[91m━━━━━━━\u001b[0m\u001b[90m╺\u001b[0m\u001b[90m━━━━━━━━━━━━━━━━━━━━━━━━━━━━━━━━\u001b[0m \u001b[32m0.2/1.1 MB\u001b[0m \u001b[31m5.7 MB/s\u001b[0m eta \u001b[36m0:00:01\u001b[0m\r\u001b[2K     \u001b[91m━━━━━━━━━━━━━━━━━━━━━━━━━━━━━━━━━━\u001b[0m\u001b[91m╸\u001b[0m\u001b[90m━━━━━\u001b[0m \u001b[32m1.0/1.1 MB\u001b[0m \u001b[31m13.2 MB/s\u001b[0m eta \u001b[36m0:00:01\u001b[0m\r\u001b[2K     \u001b[90m━━━━━━━━━━━━━━━━━━━━━━━━━━━━━━━━━━━━━━━━\u001b[0m \u001b[32m1.1/1.1 MB\u001b[0m \u001b[31m11.6 MB/s\u001b[0m eta \u001b[36m0:00:00\u001b[0m\n",
            "\u001b[?25hRequirement already satisfied: tqdm in /usr/local/lib/python3.10/dist-packages (from torch_geometric) (4.66.4)\n",
            "Requirement already satisfied: numpy in /usr/local/lib/python3.10/dist-packages (from torch_geometric) (1.25.2)\n",
            "Requirement already satisfied: scipy in /usr/local/lib/python3.10/dist-packages (from torch_geometric) (1.11.4)\n",
            "Requirement already satisfied: fsspec in /usr/local/lib/python3.10/dist-packages (from torch_geometric) (2023.6.0)\n",
            "Requirement already satisfied: jinja2 in /usr/local/lib/python3.10/dist-packages (from torch_geometric) (3.1.4)\n",
            "Requirement already satisfied: aiohttp in /usr/local/lib/python3.10/dist-packages (from torch_geometric) (3.9.5)\n",
            "Requirement already satisfied: requests in /usr/local/lib/python3.10/dist-packages (from torch_geometric) (2.31.0)\n",
            "Requirement already satisfied: pyparsing in /usr/local/lib/python3.10/dist-packages (from torch_geometric) (3.1.2)\n",
            "Requirement already satisfied: scikit-learn in /usr/local/lib/python3.10/dist-packages (from torch_geometric) (1.2.2)\n",
            "Requirement already satisfied: psutil>=5.8.0 in /usr/local/lib/python3.10/dist-packages (from torch_geometric) (5.9.5)\n",
            "Requirement already satisfied: aiosignal>=1.1.2 in /usr/local/lib/python3.10/dist-packages (from aiohttp->torch_geometric) (1.3.1)\n",
            "Requirement already satisfied: attrs>=17.3.0 in /usr/local/lib/python3.10/dist-packages (from aiohttp->torch_geometric) (23.2.0)\n",
            "Requirement already satisfied: frozenlist>=1.1.1 in /usr/local/lib/python3.10/dist-packages (from aiohttp->torch_geometric) (1.4.1)\n",
            "Requirement already satisfied: multidict<7.0,>=4.5 in /usr/local/lib/python3.10/dist-packages (from aiohttp->torch_geometric) (6.0.5)\n",
            "Requirement already satisfied: yarl<2.0,>=1.0 in /usr/local/lib/python3.10/dist-packages (from aiohttp->torch_geometric) (1.9.4)\n",
            "Requirement already satisfied: async-timeout<5.0,>=4.0 in /usr/local/lib/python3.10/dist-packages (from aiohttp->torch_geometric) (4.0.3)\n",
            "Requirement already satisfied: MarkupSafe>=2.0 in /usr/local/lib/python3.10/dist-packages (from jinja2->torch_geometric) (2.1.5)\n",
            "Requirement already satisfied: charset-normalizer<4,>=2 in /usr/local/lib/python3.10/dist-packages (from requests->torch_geometric) (3.3.2)\n",
            "Requirement already satisfied: idna<4,>=2.5 in /usr/local/lib/python3.10/dist-packages (from requests->torch_geometric) (3.7)\n",
            "Requirement already satisfied: urllib3<3,>=1.21.1 in /usr/local/lib/python3.10/dist-packages (from requests->torch_geometric) (2.0.7)\n",
            "Requirement already satisfied: certifi>=2017.4.17 in /usr/local/lib/python3.10/dist-packages (from requests->torch_geometric) (2024.2.2)\n",
            "Requirement already satisfied: joblib>=1.1.1 in /usr/local/lib/python3.10/dist-packages (from scikit-learn->torch_geometric) (1.4.2)\n",
            "Requirement already satisfied: threadpoolctl>=2.0.0 in /usr/local/lib/python3.10/dist-packages (from scikit-learn->torch_geometric) (3.5.0)\n",
            "Installing collected packages: torch_geometric\n",
            "Successfully installed torch_geometric-2.5.3\n",
            "Collecting torchmetrics\n",
            "  Downloading torchmetrics-1.4.0.post0-py3-none-any.whl (868 kB)\n",
            "\u001b[2K     \u001b[90m━━━━━━━━━━━━━━━━━━━━━━━━━━━━━━━━━━━━━━━━\u001b[0m \u001b[32m868.8/868.8 kB\u001b[0m \u001b[31m7.3 MB/s\u001b[0m eta \u001b[36m0:00:00\u001b[0m\n",
            "\u001b[?25hRequirement already satisfied: numpy>1.20.0 in /usr/local/lib/python3.10/dist-packages (from torchmetrics) (1.25.2)\n",
            "Requirement already satisfied: packaging>17.1 in /usr/local/lib/python3.10/dist-packages (from torchmetrics) (24.0)\n",
            "Requirement already satisfied: torch>=1.10.0 in /usr/local/lib/python3.10/dist-packages (from torchmetrics) (2.2.1+cu121)\n",
            "Collecting lightning-utilities>=0.8.0 (from torchmetrics)\n",
            "  Downloading lightning_utilities-0.11.2-py3-none-any.whl (26 kB)\n",
            "Requirement already satisfied: setuptools in /usr/local/lib/python3.10/dist-packages (from lightning-utilities>=0.8.0->torchmetrics) (67.7.2)\n",
            "Requirement already satisfied: typing-extensions in /usr/local/lib/python3.10/dist-packages (from lightning-utilities>=0.8.0->torchmetrics) (4.11.0)\n",
            "Requirement already satisfied: filelock in /usr/local/lib/python3.10/dist-packages (from torch>=1.10.0->torchmetrics) (3.14.0)\n",
            "Requirement already satisfied: sympy in /usr/local/lib/python3.10/dist-packages (from torch>=1.10.0->torchmetrics) (1.12)\n",
            "Requirement already satisfied: networkx in /usr/local/lib/python3.10/dist-packages (from torch>=1.10.0->torchmetrics) (3.3)\n",
            "Requirement already satisfied: jinja2 in /usr/local/lib/python3.10/dist-packages (from torch>=1.10.0->torchmetrics) (3.1.4)\n",
            "Requirement already satisfied: fsspec in /usr/local/lib/python3.10/dist-packages (from torch>=1.10.0->torchmetrics) (2023.6.0)\n",
            "Collecting nvidia-cuda-nvrtc-cu12==12.1.105 (from torch>=1.10.0->torchmetrics)\n",
            "  Using cached nvidia_cuda_nvrtc_cu12-12.1.105-py3-none-manylinux1_x86_64.whl (23.7 MB)\n",
            "Collecting nvidia-cuda-runtime-cu12==12.1.105 (from torch>=1.10.0->torchmetrics)\n",
            "  Using cached nvidia_cuda_runtime_cu12-12.1.105-py3-none-manylinux1_x86_64.whl (823 kB)\n",
            "Collecting nvidia-cuda-cupti-cu12==12.1.105 (from torch>=1.10.0->torchmetrics)\n",
            "  Using cached nvidia_cuda_cupti_cu12-12.1.105-py3-none-manylinux1_x86_64.whl (14.1 MB)\n",
            "Collecting nvidia-cudnn-cu12==8.9.2.26 (from torch>=1.10.0->torchmetrics)\n",
            "  Using cached nvidia_cudnn_cu12-8.9.2.26-py3-none-manylinux1_x86_64.whl (731.7 MB)\n",
            "Collecting nvidia-cublas-cu12==12.1.3.1 (from torch>=1.10.0->torchmetrics)\n",
            "  Using cached nvidia_cublas_cu12-12.1.3.1-py3-none-manylinux1_x86_64.whl (410.6 MB)\n",
            "Collecting nvidia-cufft-cu12==11.0.2.54 (from torch>=1.10.0->torchmetrics)\n",
            "  Using cached nvidia_cufft_cu12-11.0.2.54-py3-none-manylinux1_x86_64.whl (121.6 MB)\n",
            "Collecting nvidia-curand-cu12==10.3.2.106 (from torch>=1.10.0->torchmetrics)\n",
            "  Using cached nvidia_curand_cu12-10.3.2.106-py3-none-manylinux1_x86_64.whl (56.5 MB)\n",
            "Collecting nvidia-cusolver-cu12==11.4.5.107 (from torch>=1.10.0->torchmetrics)\n",
            "  Using cached nvidia_cusolver_cu12-11.4.5.107-py3-none-manylinux1_x86_64.whl (124.2 MB)\n",
            "Collecting nvidia-cusparse-cu12==12.1.0.106 (from torch>=1.10.0->torchmetrics)\n",
            "  Using cached nvidia_cusparse_cu12-12.1.0.106-py3-none-manylinux1_x86_64.whl (196.0 MB)\n",
            "Collecting nvidia-nccl-cu12==2.19.3 (from torch>=1.10.0->torchmetrics)\n",
            "  Using cached nvidia_nccl_cu12-2.19.3-py3-none-manylinux1_x86_64.whl (166.0 MB)\n",
            "Collecting nvidia-nvtx-cu12==12.1.105 (from torch>=1.10.0->torchmetrics)\n",
            "  Using cached nvidia_nvtx_cu12-12.1.105-py3-none-manylinux1_x86_64.whl (99 kB)\n",
            "Requirement already satisfied: triton==2.2.0 in /usr/local/lib/python3.10/dist-packages (from torch>=1.10.0->torchmetrics) (2.2.0)\n",
            "Collecting nvidia-nvjitlink-cu12 (from nvidia-cusolver-cu12==11.4.5.107->torch>=1.10.0->torchmetrics)\n",
            "  Using cached nvidia_nvjitlink_cu12-12.4.127-py3-none-manylinux2014_x86_64.whl (21.1 MB)\n",
            "Requirement already satisfied: MarkupSafe>=2.0 in /usr/local/lib/python3.10/dist-packages (from jinja2->torch>=1.10.0->torchmetrics) (2.1.5)\n",
            "Requirement already satisfied: mpmath>=0.19 in /usr/local/lib/python3.10/dist-packages (from sympy->torch>=1.10.0->torchmetrics) (1.3.0)\n",
            "Installing collected packages: nvidia-nvtx-cu12, nvidia-nvjitlink-cu12, nvidia-nccl-cu12, nvidia-curand-cu12, nvidia-cufft-cu12, nvidia-cuda-runtime-cu12, nvidia-cuda-nvrtc-cu12, nvidia-cuda-cupti-cu12, nvidia-cublas-cu12, lightning-utilities, nvidia-cusparse-cu12, nvidia-cudnn-cu12, nvidia-cusolver-cu12, torchmetrics\n",
            "Successfully installed lightning-utilities-0.11.2 nvidia-cublas-cu12-12.1.3.1 nvidia-cuda-cupti-cu12-12.1.105 nvidia-cuda-nvrtc-cu12-12.1.105 nvidia-cuda-runtime-cu12-12.1.105 nvidia-cudnn-cu12-8.9.2.26 nvidia-cufft-cu12-11.0.2.54 nvidia-curand-cu12-10.3.2.106 nvidia-cusolver-cu12-11.4.5.107 nvidia-cusparse-cu12-12.1.0.106 nvidia-nccl-cu12-2.19.3 nvidia-nvjitlink-cu12-12.4.127 nvidia-nvtx-cu12-12.1.105 torchmetrics-1.4.0.post0\n"
          ]
        }
      ]
    },
    {
      "cell_type": "code",
      "source": [
        "from torch_geometric.datasets import Amazon\n",
        "import torch\n",
        "import numpy as np\n",
        "import matplotlib.pyplot as plt\n",
        "from torchmetrics.classification import MulticlassAUROC\n"
      ],
      "metadata": {
        "id": "5gaVXYgOBro3"
      },
      "execution_count": 2,
      "outputs": []
    },
    {
      "cell_type": "code",
      "source": [
        "dataset = Amazon(root=\"data/Amazon\", name=\"Computers\")\n",
        "\n",
        "data = dataset[0]\n",
        "\n",
        "print(f\"Number of nodes in graph is: {data.x.shape[0]}\")\n",
        "print(f\"Number of features for each node is {dataset.num_features}\")\n",
        "print(f\"Number of edges is {data.edge_index.shape[1]}\")\n",
        "print(f\"We want to predict the classes of the 13752 Computers\\n\")\n",
        "print(data, \"\\n\")\n",
        "\n",
        "print(f\"The number of class members for each class: {dataset.num_classes}\\n\")\n",
        "print(f\"Class labels: \\n{data.y.unique(return_counts=True)}\")\n",
        "#dir(dataset)"
      ],
      "metadata": {
        "colab": {
          "base_uri": "https://localhost:8080/"
        },
        "id": "qVgKCKir951L",
        "outputId": "65a92a06-3a25-4d71-d1f3-06b1114a1f7c"
      },
      "execution_count": 3,
      "outputs": [
        {
          "output_type": "stream",
          "name": "stderr",
          "text": [
            "Downloading https://github.com/shchur/gnn-benchmark/raw/master/data/npz/amazon_electronics_computers.npz\n",
            "Processing...\n"
          ]
        },
        {
          "output_type": "stream",
          "name": "stdout",
          "text": [
            "Number of nodes in graph is: 13752\n",
            "Number of features for each node is 767\n",
            "Number of edges is 491722\n",
            "We want to predict the classes of the 13752 Computers\n",
            "\n",
            "Data(x=[13752, 767], edge_index=[2, 491722], y=[13752]) \n",
            "\n",
            "The number of class members for each class: 10\n",
            "\n",
            "Class labels: \n",
            "(tensor([0, 1, 2, 3, 4, 5, 6, 7, 8, 9]), tensor([ 436, 2142, 1414,  542, 5158,  308,  487,  818, 2156,  291]))\n"
          ]
        },
        {
          "output_type": "stream",
          "name": "stderr",
          "text": [
            "Done!\n"
          ]
        }
      ]
    },
    {
      "cell_type": "code",
      "source": [
        "# # We will split the data using a transductive method in which the whole input graph is put through the forward method however\n",
        "# we split the labels (classes) for the loss function. We will use a split of train: 80%, val: 10% and test: 10%.\n",
        "torch.manual_seed(42)\n",
        "# indices of the nodes randomly shuffled\n",
        "indices = torch.randperm(data.x.shape[0])\n",
        "print(f\"Shuffled indices are {indices} of length {len(indices)}\\n\")\n",
        "\n",
        "# train:80%, val:10% and test:10%\n",
        "train_indices = indices[:int(0.8*len(indices))]\n",
        "val_indices = indices[int(0.8*len(indices)):int(0.9*len(indices))]\n",
        "test_indices = indices[int(0.9*len(indices)):]\n",
        "print(f\"Train shuffled indices are {train_indices} of length {len(train_indices)}\\n\")\n",
        "print(f\"Test shuffled indices are {test_indices} of length {len(test_indices)}\\n\")\n",
        "print(f\"Validation shuffled indices are {val_indices} of length {len(val_indices)}\\n\")\n",
        "\n",
        "# train labels to pass\n",
        "train_labels = data.y[train_indices]\n",
        "val_labels = data.y[val_indices]\n",
        "test_labels = data.y[test_indices]\n"
      ],
      "metadata": {
        "colab": {
          "base_uri": "https://localhost:8080/"
        },
        "id": "ecEGBWxvDz6a",
        "outputId": "6ba1085b-1f8d-47c7-f5fd-8286b22737af"
      },
      "execution_count": 4,
      "outputs": [
        {
          "output_type": "stream",
          "name": "stdout",
          "text": [
            "Shuffled indices are tensor([11094,  1027,  4378,  ...,  8275,  9941,  4338]) of length 13752\n",
            "\n",
            "Train shuffled indices are tensor([11094,  1027,  4378,  ...,  8049, 12835,    92]) of length 11001\n",
            "\n",
            "Test shuffled indices are tensor([8461, 5630, 8059,  ..., 8275, 9941, 4338]) of length 1376\n",
            "\n",
            "Validation shuffled indices are tensor([  794,  4772,  8150,  ..., 12435,   687,  5437]) of length 1375\n",
            "\n"
          ]
        }
      ]
    },
    {
      "cell_type": "code",
      "source": [
        "data.is_undirected()"
      ],
      "metadata": {
        "colab": {
          "base_uri": "https://localhost:8080/"
        },
        "id": "Z0SXDzTr-VYj",
        "outputId": "e36014db-ffb1-4d06-e3d8-b94c466107b1"
      },
      "execution_count": 5,
      "outputs": [
        {
          "output_type": "execute_result",
          "data": {
            "text/plain": [
              "True"
            ]
          },
          "metadata": {},
          "execution_count": 5
        }
      ]
    },
    {
      "cell_type": "code",
      "source": [
        "# Create a model\n",
        "import torch.nn.functional as F\n",
        "from torch_geometric.nn import GCNConv\n",
        "\n",
        "nb_hidden_channels = 32\n",
        "\n",
        "class GCN(torch.nn.Module):\n",
        "  def __init__(self):\n",
        "    super().__init__()\n",
        "    self.conv1 = GCNConv(in_channels = dataset.num_features,\n",
        "                         out_channels = nb_hidden_channels)\n",
        "    self.conv2 = GCNConv(in_channels = nb_hidden_channels,\n",
        "                         out_channels = dataset.num_classes)\n",
        "\n",
        "  def forward(self, data):\n",
        "    x, edge_index = data.x, data.edge_index\n",
        "\n",
        "    x = self.conv1(x, edge_index)\n",
        "    x = F.relu(x)\n",
        "    x = self.conv2(x, edge_index)\n",
        "    #x = F.dropout(x, training=self.training)\n",
        "    # could try log softmax: improved numerical performance and gradient optimisation\n",
        "    x = F.log_softmax(x, dim=1)\n",
        "\n",
        "    return x\n",
        "\n",
        "# defined it later too\n",
        "gcn_model = GCN()\n",
        "gcn_model\n"
      ],
      "metadata": {
        "colab": {
          "base_uri": "https://localhost:8080/"
        },
        "id": "N4TVY2YKBl0k",
        "outputId": "3a6a4eaf-2db3-436a-ccbf-dab4aa50b741"
      },
      "execution_count": 6,
      "outputs": [
        {
          "output_type": "execute_result",
          "data": {
            "text/plain": [
              "GCN(\n",
              "  (conv1): GCNConv(767, 32)\n",
              "  (conv2): GCNConv(32, 10)\n",
              ")"
            ]
          },
          "metadata": {},
          "execution_count": 6
        }
      ]
    },
    {
      "cell_type": "code",
      "source": [
        "# Run training\n",
        "torch.manual_seed(42)\n",
        "\n",
        "# set device as GPU\n",
        "device = \"cuda\" if torch.cuda.is_available() else \"cpu\"\n",
        "# instantiate the gcn_model\n",
        "gcn_model = GCN()\n",
        "# move the model to the gpu (or cpu is not available)\n",
        "gcn_model = gcn_model.to(device)\n",
        "\n",
        "optimiser = torch.optim.Adam(gcn_model.parameters(), lr=0.01)\n",
        "loss_fn = torch.nn.NLLLoss()\n",
        "\n",
        "# define the data\n",
        "data = dataset[0]\n",
        "data = data.to(device)\n",
        "\n",
        "nb_epochs = 1001\n",
        "\n",
        "epochs = np.arange(0, 1001)\n",
        "train_loss_array = np.zeros(1001)\n",
        "train_acc_array = np.zeros(1001)\n",
        "test_loss_array = np.zeros(1001)\n",
        "test_acc_array = np.zeros(1001)\n",
        "\n",
        "\n",
        "\n",
        "for epoch in range(nb_epochs):\n",
        "  # Train\n",
        "  # forward pass on the network\n",
        "  gcn_model.train()\n",
        "  out = gcn_model(data)\n",
        "\n",
        "  # calculate the loss\n",
        "  loss = loss_fn(out[train_indices], data.y[train_indices])\n",
        "\n",
        "  # calculate the label probabilities\n",
        "  label_probs = out[train_indices]\n",
        "  # calculate the label predictions\n",
        "  label_preds = torch.argmax(label_probs, dim=1)\n",
        "  # calculate accuracy\n",
        "  accuracy = (label_preds == data.y[train_indices]).sum()/len(label_preds)\n",
        "\n",
        "  train_loss_array[epoch] = loss\n",
        "  train_acc_array[epoch] = accuracy\n",
        "\n",
        "  # zero the gradients\n",
        "  optimiser.zero_grad()\n",
        "  # backpropagate the loss\n",
        "  loss.backward()\n",
        "  # update the optimizer\n",
        "  optimiser.step()\n",
        "\n",
        "  # Test\n",
        "  # Put the model in eval mode\n",
        "  gcn_model.eval()\n",
        "  with torch.inference_mode():\n",
        "    # Calculate the loss for the test set\n",
        "    test_loss = loss_fn(out[test_indices], data.y[test_indices])\n",
        "\n",
        "    # Calculate the predictions for the test set and then calculate the accuracy\n",
        "    test_label_probs = out[test_indices]\n",
        "    test_label_preds = torch.argmax(test_label_probs, dim=1)\n",
        "    test_accuracy = (test_label_preds == data.y[test_indices]).sum()/len(test_label_preds)\n",
        "\n",
        "    test_loss_array[epoch] = test_loss\n",
        "    test_acc_array[epoch] = test_accuracy\n",
        "\n",
        "\n",
        "  if epoch % 10 == 0:\n",
        "    print(f\"Epoch: {epoch}, Train Loss: {loss:.4f}, Train Accuracy: {accuracy:.4f}, Test Loss: {test_loss:.4f}, Test Accuracy: {test_accuracy:.4f}\")\n"
      ],
      "metadata": {
        "colab": {
          "base_uri": "https://localhost:8080/"
        },
        "id": "P9zxBu7-KX2a",
        "outputId": "23bf8546-0b35-433e-b37a-f97f24188942"
      },
      "execution_count": 7,
      "outputs": [
        {
          "output_type": "stream",
          "name": "stdout",
          "text": [
            "Epoch: 0, Train Loss: 2.4572, Train Accuracy: 0.1576, Test Loss: 2.4824, Test Accuracy: 0.1468\n",
            "Epoch: 10, Train Loss: 1.9014, Train Accuracy: 0.4634, Test Loss: 1.9303, Test Accuracy: 0.4455\n",
            "Epoch: 20, Train Loss: 1.4656, Train Accuracy: 0.6603, Test Loss: 1.5017, Test Accuracy: 0.6257\n",
            "Epoch: 30, Train Loss: 1.2304, Train Accuracy: 0.6843, Test Loss: 1.2750, Test Accuracy: 0.6533\n",
            "Epoch: 40, Train Loss: 1.0095, Train Accuracy: 0.7311, Test Loss: 1.0531, Test Accuracy: 0.6999\n",
            "Epoch: 50, Train Loss: 0.8497, Train Accuracy: 0.7476, Test Loss: 0.8849, Test Accuracy: 0.7246\n",
            "Epoch: 60, Train Loss: 0.7312, Train Accuracy: 0.7957, Test Loss: 0.7653, Test Accuracy: 0.7718\n",
            "Epoch: 70, Train Loss: 0.6261, Train Accuracy: 0.8279, Test Loss: 0.6593, Test Accuracy: 0.8060\n",
            "Epoch: 80, Train Loss: 0.5473, Train Accuracy: 0.8497, Test Loss: 0.5782, Test Accuracy: 0.8256\n",
            "Epoch: 90, Train Loss: 0.4906, Train Accuracy: 0.8649, Test Loss: 0.5264, Test Accuracy: 0.8445\n",
            "Epoch: 100, Train Loss: 0.4496, Train Accuracy: 0.8748, Test Loss: 0.4926, Test Accuracy: 0.8532\n",
            "Epoch: 110, Train Loss: 0.4205, Train Accuracy: 0.8813, Test Loss: 0.4678, Test Accuracy: 0.8612\n",
            "Epoch: 120, Train Loss: 0.3984, Train Accuracy: 0.8875, Test Loss: 0.4498, Test Accuracy: 0.8706\n",
            "Epoch: 130, Train Loss: 0.3793, Train Accuracy: 0.8896, Test Loss: 0.4339, Test Accuracy: 0.8728\n",
            "Epoch: 140, Train Loss: 0.3654, Train Accuracy: 0.8947, Test Loss: 0.4232, Test Accuracy: 0.8772\n",
            "Epoch: 150, Train Loss: 0.3543, Train Accuracy: 0.8953, Test Loss: 0.4130, Test Accuracy: 0.8699\n",
            "Epoch: 160, Train Loss: 0.3419, Train Accuracy: 0.9024, Test Loss: 0.4037, Test Accuracy: 0.8823\n",
            "Epoch: 170, Train Loss: 0.3323, Train Accuracy: 0.9012, Test Loss: 0.3944, Test Accuracy: 0.8750\n",
            "Epoch: 180, Train Loss: 0.3228, Train Accuracy: 0.9065, Test Loss: 0.3875, Test Accuracy: 0.8859\n",
            "Epoch: 190, Train Loss: 0.3162, Train Accuracy: 0.9052, Test Loss: 0.3814, Test Accuracy: 0.8808\n",
            "Epoch: 200, Train Loss: 0.3078, Train Accuracy: 0.9097, Test Loss: 0.3761, Test Accuracy: 0.8895\n",
            "Epoch: 210, Train Loss: 0.3020, Train Accuracy: 0.9118, Test Loss: 0.3719, Test Accuracy: 0.8903\n",
            "Epoch: 220, Train Loss: 0.2968, Train Accuracy: 0.9106, Test Loss: 0.3667, Test Accuracy: 0.8859\n",
            "Epoch: 230, Train Loss: 0.2900, Train Accuracy: 0.9140, Test Loss: 0.3630, Test Accuracy: 0.8939\n",
            "Epoch: 240, Train Loss: 0.2964, Train Accuracy: 0.9164, Test Loss: 0.3771, Test Accuracy: 0.8997\n",
            "Epoch: 250, Train Loss: 0.2865, Train Accuracy: 0.9181, Test Loss: 0.3667, Test Accuracy: 0.9041\n",
            "Epoch: 260, Train Loss: 0.2787, Train Accuracy: 0.9196, Test Loss: 0.3584, Test Accuracy: 0.9048\n",
            "Epoch: 270, Train Loss: 0.2740, Train Accuracy: 0.9212, Test Loss: 0.3547, Test Accuracy: 0.9041\n",
            "Epoch: 280, Train Loss: 0.2695, Train Accuracy: 0.9202, Test Loss: 0.3507, Test Accuracy: 0.9033\n",
            "Epoch: 290, Train Loss: 0.2662, Train Accuracy: 0.9214, Test Loss: 0.3498, Test Accuracy: 0.9084\n",
            "Epoch: 300, Train Loss: 0.2629, Train Accuracy: 0.9226, Test Loss: 0.3478, Test Accuracy: 0.9077\n",
            "Epoch: 310, Train Loss: 0.2890, Train Accuracy: 0.9200, Test Loss: 0.3867, Test Accuracy: 0.8990\n",
            "Epoch: 320, Train Loss: 0.3690, Train Accuracy: 0.8919, Test Loss: 0.4659, Test Accuracy: 0.8677\n",
            "Epoch: 330, Train Loss: 0.2758, Train Accuracy: 0.9184, Test Loss: 0.3694, Test Accuracy: 0.8946\n",
            "Epoch: 340, Train Loss: 0.2703, Train Accuracy: 0.9219, Test Loss: 0.3617, Test Accuracy: 0.9055\n",
            "Epoch: 350, Train Loss: 0.2554, Train Accuracy: 0.9248, Test Loss: 0.3402, Test Accuracy: 0.9048\n",
            "Epoch: 360, Train Loss: 0.2522, Train Accuracy: 0.9256, Test Loss: 0.3390, Test Accuracy: 0.9048\n",
            "Epoch: 370, Train Loss: 0.2497, Train Accuracy: 0.9274, Test Loss: 0.3399, Test Accuracy: 0.9062\n",
            "Epoch: 380, Train Loss: 0.2477, Train Accuracy: 0.9266, Test Loss: 0.3392, Test Accuracy: 0.9077\n",
            "Epoch: 390, Train Loss: 0.2459, Train Accuracy: 0.9275, Test Loss: 0.3387, Test Accuracy: 0.9077\n",
            "Epoch: 400, Train Loss: 0.2442, Train Accuracy: 0.9284, Test Loss: 0.3379, Test Accuracy: 0.9099\n",
            "Epoch: 410, Train Loss: 0.2426, Train Accuracy: 0.9288, Test Loss: 0.3367, Test Accuracy: 0.9077\n",
            "Epoch: 420, Train Loss: 0.2410, Train Accuracy: 0.9291, Test Loss: 0.3361, Test Accuracy: 0.9084\n",
            "Epoch: 430, Train Loss: 0.2394, Train Accuracy: 0.9297, Test Loss: 0.3354, Test Accuracy: 0.9092\n",
            "Epoch: 440, Train Loss: 0.2379, Train Accuracy: 0.9302, Test Loss: 0.3347, Test Accuracy: 0.9106\n",
            "Epoch: 450, Train Loss: 0.2365, Train Accuracy: 0.9307, Test Loss: 0.3340, Test Accuracy: 0.9106\n",
            "Epoch: 460, Train Loss: 0.2350, Train Accuracy: 0.9310, Test Loss: 0.3335, Test Accuracy: 0.9106\n",
            "Epoch: 470, Train Loss: 0.2336, Train Accuracy: 0.9314, Test Loss: 0.3329, Test Accuracy: 0.9099\n",
            "Epoch: 480, Train Loss: 0.2323, Train Accuracy: 0.9317, Test Loss: 0.3324, Test Accuracy: 0.9106\n",
            "Epoch: 490, Train Loss: 0.2309, Train Accuracy: 0.9317, Test Loss: 0.3319, Test Accuracy: 0.9106\n",
            "Epoch: 500, Train Loss: 0.2296, Train Accuracy: 0.9324, Test Loss: 0.3314, Test Accuracy: 0.9113\n",
            "Epoch: 510, Train Loss: 0.2283, Train Accuracy: 0.9326, Test Loss: 0.3310, Test Accuracy: 0.9113\n",
            "Epoch: 520, Train Loss: 0.2270, Train Accuracy: 0.9328, Test Loss: 0.3306, Test Accuracy: 0.9128\n",
            "Epoch: 530, Train Loss: 0.2258, Train Accuracy: 0.9335, Test Loss: 0.3302, Test Accuracy: 0.9135\n",
            "Epoch: 540, Train Loss: 0.2247, Train Accuracy: 0.9327, Test Loss: 0.3296, Test Accuracy: 0.9113\n",
            "Epoch: 550, Train Loss: 0.2497, Train Accuracy: 0.9244, Test Loss: 0.3508, Test Accuracy: 0.8997\n",
            "Epoch: 560, Train Loss: 0.2323, Train Accuracy: 0.9298, Test Loss: 0.3364, Test Accuracy: 0.9048\n",
            "Epoch: 570, Train Loss: 0.2252, Train Accuracy: 0.9328, Test Loss: 0.3313, Test Accuracy: 0.9092\n",
            "Epoch: 580, Train Loss: 0.2217, Train Accuracy: 0.9340, Test Loss: 0.3293, Test Accuracy: 0.9099\n",
            "Epoch: 590, Train Loss: 0.2197, Train Accuracy: 0.9342, Test Loss: 0.3286, Test Accuracy: 0.9113\n",
            "Epoch: 600, Train Loss: 0.2181, Train Accuracy: 0.9352, Test Loss: 0.3283, Test Accuracy: 0.9128\n",
            "Epoch: 610, Train Loss: 0.2171, Train Accuracy: 0.9352, Test Loss: 0.3282, Test Accuracy: 0.9113\n",
            "Epoch: 620, Train Loss: 0.2161, Train Accuracy: 0.9356, Test Loss: 0.3276, Test Accuracy: 0.9121\n",
            "Epoch: 630, Train Loss: 0.2151, Train Accuracy: 0.9356, Test Loss: 0.3274, Test Accuracy: 0.9128\n",
            "Epoch: 640, Train Loss: 0.2146, Train Accuracy: 0.9359, Test Loss: 0.3274, Test Accuracy: 0.9128\n",
            "Epoch: 650, Train Loss: 0.2431, Train Accuracy: 0.9284, Test Loss: 0.3563, Test Accuracy: 0.9041\n",
            "Epoch: 660, Train Loss: 0.2181, Train Accuracy: 0.9356, Test Loss: 0.3322, Test Accuracy: 0.9092\n",
            "Epoch: 670, Train Loss: 0.2136, Train Accuracy: 0.9356, Test Loss: 0.3270, Test Accuracy: 0.9092\n",
            "Epoch: 680, Train Loss: 0.2112, Train Accuracy: 0.9347, Test Loss: 0.3260, Test Accuracy: 0.9106\n",
            "Epoch: 690, Train Loss: 0.2104, Train Accuracy: 0.9364, Test Loss: 0.3268, Test Accuracy: 0.9106\n",
            "Epoch: 700, Train Loss: 0.2091, Train Accuracy: 0.9368, Test Loss: 0.3263, Test Accuracy: 0.9106\n",
            "Epoch: 710, Train Loss: 0.2080, Train Accuracy: 0.9373, Test Loss: 0.3263, Test Accuracy: 0.9121\n",
            "Epoch: 720, Train Loss: 0.2083, Train Accuracy: 0.9366, Test Loss: 0.3278, Test Accuracy: 0.9121\n",
            "Epoch: 730, Train Loss: 0.2342, Train Accuracy: 0.9249, Test Loss: 0.3574, Test Accuracy: 0.8968\n",
            "Epoch: 740, Train Loss: 0.2059, Train Accuracy: 0.9379, Test Loss: 0.3264, Test Accuracy: 0.9121\n",
            "Epoch: 750, Train Loss: 0.2075, Train Accuracy: 0.9399, Test Loss: 0.3289, Test Accuracy: 0.9135\n",
            "Epoch: 760, Train Loss: 0.2046, Train Accuracy: 0.9376, Test Loss: 0.3251, Test Accuracy: 0.9121\n",
            "Epoch: 770, Train Loss: 0.2034, Train Accuracy: 0.9394, Test Loss: 0.3266, Test Accuracy: 0.9135\n",
            "Epoch: 780, Train Loss: 0.2030, Train Accuracy: 0.9376, Test Loss: 0.3256, Test Accuracy: 0.9128\n",
            "Epoch: 790, Train Loss: 0.2049, Train Accuracy: 0.9367, Test Loss: 0.3284, Test Accuracy: 0.9113\n",
            "Epoch: 800, Train Loss: 0.2157, Train Accuracy: 0.9331, Test Loss: 0.3434, Test Accuracy: 0.9055\n",
            "Epoch: 810, Train Loss: 0.2081, Train Accuracy: 0.9336, Test Loss: 0.3295, Test Accuracy: 0.9099\n",
            "Epoch: 820, Train Loss: 0.2047, Train Accuracy: 0.9426, Test Loss: 0.3352, Test Accuracy: 0.9164\n",
            "Epoch: 830, Train Loss: 0.2016, Train Accuracy: 0.9411, Test Loss: 0.3306, Test Accuracy: 0.9142\n",
            "Epoch: 840, Train Loss: 0.2012, Train Accuracy: 0.9358, Test Loss: 0.3267, Test Accuracy: 0.9099\n",
            "Epoch: 850, Train Loss: 0.1991, Train Accuracy: 0.9409, Test Loss: 0.3295, Test Accuracy: 0.9142\n",
            "Epoch: 860, Train Loss: 0.2695, Train Accuracy: 0.9107, Test Loss: 0.4039, Test Accuracy: 0.8866\n",
            "Epoch: 870, Train Loss: 0.6675, Train Accuracy: 0.8508, Test Loss: 0.8712, Test Accuracy: 0.8140\n",
            "Epoch: 880, Train Loss: 0.4536, Train Accuracy: 0.8814, Test Loss: 0.6146, Test Accuracy: 0.8634\n",
            "Epoch: 890, Train Loss: 0.3450, Train Accuracy: 0.9114, Test Loss: 0.5029, Test Accuracy: 0.8750\n",
            "Epoch: 900, Train Loss: 0.2798, Train Accuracy: 0.9168, Test Loss: 0.4018, Test Accuracy: 0.8823\n",
            "Epoch: 910, Train Loss: 0.2402, Train Accuracy: 0.9296, Test Loss: 0.3658, Test Accuracy: 0.9026\n",
            "Epoch: 920, Train Loss: 0.2226, Train Accuracy: 0.9335, Test Loss: 0.3405, Test Accuracy: 0.9113\n",
            "Epoch: 930, Train Loss: 0.2170, Train Accuracy: 0.9365, Test Loss: 0.3398, Test Accuracy: 0.9113\n",
            "Epoch: 940, Train Loss: 0.2125, Train Accuracy: 0.9360, Test Loss: 0.3381, Test Accuracy: 0.9121\n",
            "Epoch: 950, Train Loss: 0.2095, Train Accuracy: 0.9369, Test Loss: 0.3365, Test Accuracy: 0.9092\n",
            "Epoch: 960, Train Loss: 0.2074, Train Accuracy: 0.9374, Test Loss: 0.3342, Test Accuracy: 0.9084\n",
            "Epoch: 970, Train Loss: 0.2056, Train Accuracy: 0.9380, Test Loss: 0.3329, Test Accuracy: 0.9092\n",
            "Epoch: 980, Train Loss: 0.2041, Train Accuracy: 0.9378, Test Loss: 0.3312, Test Accuracy: 0.9106\n",
            "Epoch: 990, Train Loss: 0.2028, Train Accuracy: 0.9386, Test Loss: 0.3298, Test Accuracy: 0.9121\n",
            "Epoch: 1000, Train Loss: 0.2017, Train Accuracy: 0.9390, Test Loss: 0.3287, Test Accuracy: 0.9121\n"
          ]
        }
      ]
    },
    {
      "cell_type": "code",
      "source": [
        "fig, (ax0, ax1) = plt.subplots(nrows=1, ncols=2, figsize=(18, 6))\n",
        "\n",
        "ax0.plot(epochs, train_loss_array, label = \"Train set\")\n",
        "ax0.plot(epochs, test_loss_array, label = \"Test set\")\n",
        "\n",
        "ax1.plot(epochs, train_acc_array, label=\"Train set\")\n",
        "ax1.plot(epochs, test_acc_array, label = \"Test set\")\n",
        "\n",
        "ax0.set_xlabel(\"Epoch\", size=16)\n",
        "ax0.set_ylabel(\"Loss\", size=16)\n",
        "\n",
        "ax1.set_xlabel(\"Epoch\", size=16)\n",
        "ax1.set_ylabel(\"Loss\", size=16)\n",
        "\n",
        "ax0.legend(fontsize=14);\n",
        "ax1.legend(fontsize=14);\n",
        "\n",
        "ax0.set_title(\"Cross Entropy Loss values\", size=16);\n",
        "ax1.set_title(\"Accuracy\", size=16);"
      ],
      "metadata": {
        "id": "wL8AL7WQK_5I"
      },
      "execution_count": null,
      "outputs": []
    },
    {
      "cell_type": "code",
      "source": [
        "test_label_probs.shape"
      ],
      "metadata": {
        "id": "mWQZO6N5UWin"
      },
      "execution_count": null,
      "outputs": []
    },
    {
      "cell_type": "code",
      "source": [
        "from torchmetrics.classification import MulticlassConfusionMatrix"
      ],
      "metadata": {
        "id": "ErxpgJtieW9k"
      },
      "execution_count": 10,
      "outputs": []
    },
    {
      "cell_type": "code",
      "source": [
        "auc_metric = MulticlassAUROC(num_classes=dataset.num_classes, average=\"macro\", thresholds=None)\n",
        "\n",
        "train_auc = auc_metric(label_probs, data.y[train_indices])\n",
        "test_auc = auc_metric(test_label_probs, data.y[test_indices])\n",
        "\n",
        "print(f\"Train AUC: {train_auc:.4f}, Test AUC: {test_auc:.4f}\")"
      ],
      "metadata": {
        "colab": {
          "base_uri": "https://localhost:8080/"
        },
        "id": "kUYsAlvNcgEP",
        "outputId": "e84ad45c-9389-4260-f493-38cab0395164"
      },
      "execution_count": 11,
      "outputs": [
        {
          "output_type": "stream",
          "name": "stdout",
          "text": [
            "Train AUC: 0.9956, Test AUC: 0.9902\n"
          ]
        }
      ]
    },
    {
      "cell_type": "code",
      "source": [
        "conf_matrix_metric = MulticlassConfusionMatrix(num_classes = dataset.num_classes).to(device)\n",
        "\n",
        "print(test_label_preds.shape)\n",
        "print(data.y[test_indices].shape)\n",
        "\n",
        "test_conf_matrix = conf_matrix_metric(test_label_preds, data.y[test_indices])\n",
        "\n",
        "test_conf_matrix"
      ],
      "metadata": {
        "colab": {
          "base_uri": "https://localhost:8080/"
        },
        "id": "amJO2_18eBOO",
        "outputId": "d13d4910-b8be-4697-9ac3-a7242685e19c"
      },
      "execution_count": 12,
      "outputs": [
        {
          "output_type": "stream",
          "name": "stdout",
          "text": [
            "torch.Size([1376])\n",
            "torch.Size([1376])\n"
          ]
        },
        {
          "output_type": "execute_result",
          "data": {
            "text/plain": [
              "tensor([[ 48,   1,   0,   0,   1,   0,   0,   0,   0,   0],\n",
              "        [  0, 206,   1,   0,  14,   0,   0,   0,   6,   0],\n",
              "        [  0,   0, 147,   0,   0,   0,   0,   2,   0,   0],\n",
              "        [  1,   1,   0,  44,   1,   0,   0,   0,   0,   0],\n",
              "        [  0,   7,   3,   3, 466,   2,   1,   1,  15,   5],\n",
              "        [  0,   0,   0,   1,   1,  35,   0,   0,   0,   0],\n",
              "        [  0,   0,   0,   0,   0,   0,  30,   0,  18,   0],\n",
              "        [  0,   0,   1,   0,   1,   0,   0,  81,   0,   0],\n",
              "        [  0,   3,   0,   1,  20,   1,   7,   0, 174,   1],\n",
              "        [  0,   0,   0,   0,   1,   0,   0,   0,   0,  24]], device='cuda:0')"
            ]
          },
          "metadata": {},
          "execution_count": 12
        }
      ]
    },
    {
      "cell_type": "code",
      "source": [
        "from torch_geometric.nn import GATConv\n",
        "nb_hidden_channels = 32\n",
        "\n",
        "class GAT(torch.nn.Module):\n",
        "  def __init__(self):\n",
        "    super().__init__()\n",
        "\n",
        "    self.conv1 = GATConv(in_channels = dataset.num_features,\n",
        "                         out_channels = nb_hidden_channels,\n",
        "                         heads = 8,\n",
        "                         concat = True)\n",
        "    self.conv2 = GATConv(in_channels = nb_hidden_channels*8,\n",
        "                         out_channels = dataset.num_classes,\n",
        "                         heads = 1,\n",
        "                         concat = False)\n",
        "  def forward(self, data):\n",
        "    x, edge_index = data.x, data.edge_index\n",
        "\n",
        "    x = self.conv1(x, edge_index)\n",
        "    # x = F.leaky_relu(x, negative_slope=0.2)\n",
        "    x = F.relu(x)\n",
        "    x = self.conv2(x, edge_index)\n",
        "    x = torch.softmax(x, dim=1)\n",
        "\n",
        "    return x\n",
        "\n",
        "gat_model = GAT()\n",
        "gat_model"
      ],
      "metadata": {
        "colab": {
          "base_uri": "https://localhost:8080/"
        },
        "id": "7JRqKJKUf3Zf",
        "outputId": "4ca0a656-ca72-4438-9708-d0f0aee2bd71"
      },
      "execution_count": 34,
      "outputs": [
        {
          "output_type": "execute_result",
          "data": {
            "text/plain": [
              "GAT(\n",
              "  (conv1): GATConv(767, 32, heads=8)\n",
              "  (conv2): GATConv(256, 10, heads=1)\n",
              ")"
            ]
          },
          "metadata": {},
          "execution_count": 34
        }
      ]
    },
    {
      "cell_type": "code",
      "source": [
        "# Run training\n",
        "torch.manual_seed(42)\n",
        "\n",
        "# set device as GPU\n",
        "device = \"cuda\" if torch.cuda.is_available() else \"cpu\"\n",
        "# instantiate the gcn_model\n",
        "gat_model = GAT()\n",
        "# move the model to the gpu (or cpu is not available)\n",
        "gat_model = gat_model.to(device)\n",
        "\n",
        "optimiser = torch.optim.Adam(gat_model.parameters(), lr=0.001)\n",
        "loss_fn = torch.nn.NLLLoss()\n",
        "\n",
        "# define the data\n",
        "data = dataset[0]\n",
        "data = data.to(device)\n",
        "\n",
        "nb_epochs = 501\n",
        "\n",
        "epochs = np.arange(0, nb_epochs)\n",
        "gat_train_loss_array = np.zeros(nb_epochs)\n",
        "gat_train_acc_array = np.zeros(nb_epochs)\n",
        "gat_test_loss_array = np.zeros(nb_epochs)\n",
        "gat_test_acc_array = np.zeros(nb_epochs)\n",
        "\n",
        "\n",
        "for epoch in range(nb_epochs):\n",
        "  # Train\n",
        "  # forward pass on the network\n",
        "  gat_model.train()\n",
        "  out = gat_model(data)\n",
        "\n",
        "  # calculate the loss\n",
        "  loss = loss_fn(out[train_indices], data.y[train_indices])\n",
        "\n",
        "  # calculate the label probabilities\n",
        "  label_probs = out[train_indices]\n",
        "  # calculate the label predictions\n",
        "  label_preds = torch.argmax(label_probs, dim=1)\n",
        "  # calculate accuracy\n",
        "  accuracy = (label_preds == data.y[train_indices]).sum()/len(label_preds)\n",
        "\n",
        "  gat_train_loss_array[epoch] = loss\n",
        "  gat_train_acc_array[epoch] = accuracy\n",
        "\n",
        "  # zero the gradients\n",
        "  optimiser.zero_grad()\n",
        "  # backpropagate the loss\n",
        "  loss.backward()\n",
        "  # update the optimizer\n",
        "  optimiser.step()\n",
        "\n",
        "  # Test\n",
        "  # Put the model in eval mode\n",
        "  gat_model.eval()\n",
        "  with torch.inference_mode():\n",
        "    # Calculate the loss for the test set\n",
        "    test_loss = loss_fn(out[test_indices], data.y[test_indices])\n",
        "\n",
        "    # Calculate the predictions for the test set and then calculate the accuracy\n",
        "    test_label_probs = out[test_indices]\n",
        "    test_label_preds = torch.argmax(test_label_probs, dim=1)\n",
        "    test_accuracy = (test_label_preds == data.y[test_indices]).sum()/len(test_label_preds)\n",
        "\n",
        "    gat_test_loss_array[epoch] = test_loss\n",
        "    gat_test_acc_array[epoch] = test_accuracy\n",
        "\n",
        "\n",
        "  if epoch % 10 == 0:\n",
        "    print(f\"Epoch: {epoch}, Train Loss: {loss:.4f}, Train Accuracy: {accuracy:.4f}, Test Loss: {test_loss:.4f}, Test Accuracy: {test_accuracy:.4f}\")\n"
      ],
      "metadata": {
        "colab": {
          "base_uri": "https://localhost:8080/"
        },
        "id": "nkNtjxpRDfG4",
        "outputId": "bdd21240-4e89-4a86-eecc-4855888cafd4"
      },
      "execution_count": 35,
      "outputs": [
        {
          "output_type": "stream",
          "name": "stdout",
          "text": [
            "Epoch: 0, Train Loss: -0.0835, Train Accuracy: 0.1294, Test Loss: -0.0840, Test Accuracy: 0.1323\n",
            "Epoch: 10, Train Loss: -0.3733, Train Accuracy: 0.3766, Test Loss: -0.3622, Test Accuracy: 0.3656\n",
            "Epoch: 20, Train Loss: -0.3753, Train Accuracy: 0.3766, Test Loss: -0.3645, Test Accuracy: 0.3656\n",
            "Epoch: 30, Train Loss: -0.3758, Train Accuracy: 0.3766, Test Loss: -0.3649, Test Accuracy: 0.3656\n",
            "Epoch: 40, Train Loss: -0.3761, Train Accuracy: 0.3766, Test Loss: -0.3651, Test Accuracy: 0.3656\n",
            "Epoch: 50, Train Loss: -0.3763, Train Accuracy: 0.3766, Test Loss: -0.3652, Test Accuracy: 0.3656\n",
            "Epoch: 60, Train Loss: -0.3764, Train Accuracy: 0.3766, Test Loss: -0.3652, Test Accuracy: 0.3656\n",
            "Epoch: 70, Train Loss: -0.3765, Train Accuracy: 0.3766, Test Loss: -0.3652, Test Accuracy: 0.3656\n",
            "Epoch: 80, Train Loss: -0.3765, Train Accuracy: 0.3766, Test Loss: -0.3653, Test Accuracy: 0.3656\n",
            "Epoch: 90, Train Loss: -0.3766, Train Accuracy: 0.3766, Test Loss: -0.3653, Test Accuracy: 0.3656\n",
            "Epoch: 100, Train Loss: -0.3766, Train Accuracy: 0.3766, Test Loss: -0.3654, Test Accuracy: 0.3656\n",
            "Epoch: 110, Train Loss: -0.3766, Train Accuracy: 0.3766, Test Loss: -0.3654, Test Accuracy: 0.3656\n",
            "Epoch: 120, Train Loss: -0.3766, Train Accuracy: 0.3766, Test Loss: -0.3654, Test Accuracy: 0.3656\n",
            "Epoch: 130, Train Loss: -0.3766, Train Accuracy: 0.3766, Test Loss: -0.3654, Test Accuracy: 0.3656\n",
            "Epoch: 140, Train Loss: -0.3767, Train Accuracy: 0.3766, Test Loss: -0.3654, Test Accuracy: 0.3656\n",
            "Epoch: 150, Train Loss: -0.3767, Train Accuracy: 0.3767, Test Loss: -0.3654, Test Accuracy: 0.3656\n",
            "Epoch: 160, Train Loss: -0.3768, Train Accuracy: 0.3767, Test Loss: -0.3654, Test Accuracy: 0.3656\n",
            "Epoch: 170, Train Loss: -0.3770, Train Accuracy: 0.3771, Test Loss: -0.3653, Test Accuracy: 0.3656\n",
            "Epoch: 180, Train Loss: -0.3776, Train Accuracy: 0.3776, Test Loss: -0.3653, Test Accuracy: 0.3656\n",
            "Epoch: 190, Train Loss: -0.4025, Train Accuracy: 0.4041, Test Loss: -0.3866, Test Accuracy: 0.3895\n",
            "Epoch: 200, Train Loss: -0.3783, Train Accuracy: 0.3780, Test Loss: -0.3657, Test Accuracy: 0.3656\n",
            "Epoch: 210, Train Loss: -0.3781, Train Accuracy: 0.3780, Test Loss: -0.3656, Test Accuracy: 0.3656\n",
            "Epoch: 220, Train Loss: -0.3785, Train Accuracy: 0.3782, Test Loss: -0.3658, Test Accuracy: 0.3656\n",
            "Epoch: 230, Train Loss: -0.3815, Train Accuracy: 0.3813, Test Loss: -0.3687, Test Accuracy: 0.3692\n",
            "Epoch: 240, Train Loss: -0.4025, Train Accuracy: 0.4036, Test Loss: -0.3848, Test Accuracy: 0.3852\n",
            "Epoch: 250, Train Loss: -0.4066, Train Accuracy: 0.4072, Test Loss: -0.3875, Test Accuracy: 0.3874\n",
            "Epoch: 260, Train Loss: -0.4071, Train Accuracy: 0.4072, Test Loss: -0.3874, Test Accuracy: 0.3866\n",
            "Epoch: 270, Train Loss: -0.4334, Train Accuracy: 0.4371, Test Loss: -0.4101, Test Accuracy: 0.4128\n",
            "Epoch: 280, Train Loss: -0.4526, Train Accuracy: 0.4586, Test Loss: -0.4446, Test Accuracy: 0.4491\n",
            "Epoch: 290, Train Loss: -0.4636, Train Accuracy: 0.4652, Test Loss: -0.4455, Test Accuracy: 0.4455\n",
            "Epoch: 300, Train Loss: -0.4903, Train Accuracy: 0.4947, Test Loss: -0.4834, Test Accuracy: 0.4906\n",
            "Epoch: 310, Train Loss: -0.4982, Train Accuracy: 0.5010, Test Loss: -0.4897, Test Accuracy: 0.4920\n",
            "Epoch: 320, Train Loss: -0.5053, Train Accuracy: 0.5075, Test Loss: -0.4972, Test Accuracy: 0.4985\n",
            "Epoch: 330, Train Loss: -0.5087, Train Accuracy: 0.5107, Test Loss: -0.4997, Test Accuracy: 0.5015\n",
            "Epoch: 340, Train Loss: -0.5110, Train Accuracy: 0.5126, Test Loss: -0.4996, Test Accuracy: 0.5022\n",
            "Epoch: 350, Train Loss: -0.5125, Train Accuracy: 0.5137, Test Loss: -0.5004, Test Accuracy: 0.5044\n",
            "Epoch: 360, Train Loss: -0.5138, Train Accuracy: 0.5150, Test Loss: -0.5017, Test Accuracy: 0.5065\n",
            "Epoch: 370, Train Loss: -0.5151, Train Accuracy: 0.5163, Test Loss: -0.5025, Test Accuracy: 0.5065\n",
            "Epoch: 380, Train Loss: -0.5162, Train Accuracy: 0.5171, Test Loss: -0.5022, Test Accuracy: 0.5073\n",
            "Epoch: 390, Train Loss: -0.5169, Train Accuracy: 0.5180, Test Loss: -0.5018, Test Accuracy: 0.5058\n",
            "Epoch: 400, Train Loss: -0.5175, Train Accuracy: 0.5184, Test Loss: -0.5015, Test Accuracy: 0.5044\n",
            "Epoch: 410, Train Loss: -0.5179, Train Accuracy: 0.5187, Test Loss: -0.5017, Test Accuracy: 0.5022\n",
            "Epoch: 420, Train Loss: -0.5183, Train Accuracy: 0.5192, Test Loss: -0.5018, Test Accuracy: 0.5029\n",
            "Epoch: 430, Train Loss: -0.5188, Train Accuracy: 0.5193, Test Loss: -0.5017, Test Accuracy: 0.5036\n",
            "Epoch: 440, Train Loss: -0.5193, Train Accuracy: 0.5200, Test Loss: -0.5022, Test Accuracy: 0.5044\n",
            "Epoch: 450, Train Loss: -0.5197, Train Accuracy: 0.5202, Test Loss: -0.5023, Test Accuracy: 0.5044\n",
            "Epoch: 460, Train Loss: -0.5199, Train Accuracy: 0.5203, Test Loss: -0.5022, Test Accuracy: 0.5036\n",
            "Epoch: 470, Train Loss: -0.5202, Train Accuracy: 0.5206, Test Loss: -0.5022, Test Accuracy: 0.5036\n",
            "Epoch: 480, Train Loss: -0.5204, Train Accuracy: 0.5209, Test Loss: -0.5018, Test Accuracy: 0.5036\n",
            "Epoch: 490, Train Loss: -0.5206, Train Accuracy: 0.5209, Test Loss: -0.5020, Test Accuracy: 0.5036\n",
            "Epoch: 500, Train Loss: -0.5207, Train Accuracy: 0.5210, Test Loss: -0.5017, Test Accuracy: 0.5029\n"
          ]
        }
      ]
    },
    {
      "cell_type": "code",
      "source": [
        "fig, (ax0, ax1) = plt.subplots(nrows=1, ncols=2, figsize=(18, 6))\n",
        "\n",
        "ax0.plot(epochs, gat_train_loss_array, label = \"Train set\")\n",
        "ax0.plot(epochs, gat_test_loss_array, label = \"Test set\")\n",
        "\n",
        "ax1.plot(epochs, gat_train_acc_array, label=\"Train set\")\n",
        "ax1.plot(epochs, gat_test_acc_array, label = \"Test set\")\n",
        "\n",
        "ax0.set_xlabel(\"Epoch\", size=16)\n",
        "ax0.set_ylabel(\"Loss\", size=16)\n",
        "\n",
        "ax1.set_xlabel(\"Epoch\", size=16)\n",
        "ax1.set_ylabel(\"Loss\", size=16)\n",
        "\n",
        "ax0.legend(fontsize=14);\n",
        "ax1.legend(fontsize=14);\n",
        "\n",
        "ax0.set_title(\"Cross Entropy Loss values\", size=16);\n",
        "ax1.set_title(\"Accuracy\", size=16);"
      ],
      "metadata": {
        "colab": {
          "base_uri": "https://localhost:8080/",
          "height": 521
        },
        "id": "E3jqgdn7EE5Z",
        "outputId": "51b92336-12bd-4c54-b748-b20a7d90a9b2"
      },
      "execution_count": 36,
      "outputs": [
        {
          "output_type": "display_data",
          "data": {
            "text/plain": [
              "<Figure size 1800x600 with 2 Axes>"
            ],
            "image/png": "[encoded data removed]"
          },
          "metadata": {}
        }
      ]
    },
    {
      "cell_type": "code",
      "source": [],
      "metadata": {
        "id": "3JLDaVTpHW5O"
      },
      "execution_count": null,
      "outputs": []
    }
  ]
}