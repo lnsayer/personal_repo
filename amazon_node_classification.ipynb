{
  "nbformat": 4,
  "nbformat_minor": 0,
  "metadata": {
    "colab": {
      "provenance": [],
      "gpuType": "T4",
      "authorship_tag": "ABX9TyPueYp1roPZbimgTuaqblFO",
      "include_colab_link": true
    },
    "kernelspec": {
      "name": "python3",
      "display_name": "Python 3"
    },
    "language_info": {
      "name": "python"
    },
    "accelerator": "GPU"
  },
  "cells": [
    {
      "cell_type": "markdown",
      "metadata": {
        "id": "view-in-github",
        "colab_type": "text"
      },
      "source": [
        "<a href=\"https://colab.research.google.com/github/lnsayer/personal_repo/blob/main/amazon_node_classification.ipynb\" target=\"_parent\"><img src=\"https://colab.research.google.com/assets/colab-badge.svg\" alt=\"Open In Colab\"/></a>"
      ]
    },
    {
      "cell_type": "markdown",
      "source": [
        "# Amazon Dataset (from PyTorch Geometric) Node Classification Project"
      ],
      "metadata": {
        "id": "TjQq3HSS72s4"
      }
    },
    {
      "cell_type": "markdown",
      "source": [
        "The Amazon Computers and Amazon Photo networks from the “Pitfalls of Graph Neural Network Evaluation” paper. Nodes represent goods and edges represent that two goods are frequently bought together. Given product reviews as bag-of-words node features, the task is to map goods to their respective product category."
      ],
      "metadata": {
        "id": "AsCf6sSx9diS"
      }
    },
    {
      "cell_type": "code",
      "source": [
        "!pip install torch_geometric"
      ],
      "metadata": {
        "colab": {
          "base_uri": "https://localhost:8080/"
        },
        "id": "rQf3Vnq49eEo",
        "outputId": "50889709-ac7b-46da-c4c6-2cbeac3142ec"
      },
      "execution_count": 1,
      "outputs": [
        {
          "output_type": "stream",
          "name": "stdout",
          "text": [
            "Requirement already satisfied: torch_geometric in /usr/local/lib/python3.10/dist-packages (2.5.3)\n",
            "Requirement already satisfied: tqdm in /usr/local/lib/python3.10/dist-packages (from torch_geometric) (4.66.4)\n",
            "Requirement already satisfied: numpy in /usr/local/lib/python3.10/dist-packages (from torch_geometric) (1.25.2)\n",
            "Requirement already satisfied: scipy in /usr/local/lib/python3.10/dist-packages (from torch_geometric) (1.11.4)\n",
            "Requirement already satisfied: fsspec in /usr/local/lib/python3.10/dist-packages (from torch_geometric) (2023.6.0)\n",
            "Requirement already satisfied: jinja2 in /usr/local/lib/python3.10/dist-packages (from torch_geometric) (3.1.4)\n",
            "Requirement already satisfied: aiohttp in /usr/local/lib/python3.10/dist-packages (from torch_geometric) (3.9.5)\n",
            "Requirement already satisfied: requests in /usr/local/lib/python3.10/dist-packages (from torch_geometric) (2.31.0)\n",
            "Requirement already satisfied: pyparsing in /usr/local/lib/python3.10/dist-packages (from torch_geometric) (3.1.2)\n",
            "Requirement already satisfied: scikit-learn in /usr/local/lib/python3.10/dist-packages (from torch_geometric) (1.2.2)\n",
            "Requirement already satisfied: psutil>=5.8.0 in /usr/local/lib/python3.10/dist-packages (from torch_geometric) (5.9.5)\n",
            "Requirement already satisfied: aiosignal>=1.1.2 in /usr/local/lib/python3.10/dist-packages (from aiohttp->torch_geometric) (1.3.1)\n",
            "Requirement already satisfied: attrs>=17.3.0 in /usr/local/lib/python3.10/dist-packages (from aiohttp->torch_geometric) (23.2.0)\n",
            "Requirement already satisfied: frozenlist>=1.1.1 in /usr/local/lib/python3.10/dist-packages (from aiohttp->torch_geometric) (1.4.1)\n",
            "Requirement already satisfied: multidict<7.0,>=4.5 in /usr/local/lib/python3.10/dist-packages (from aiohttp->torch_geometric) (6.0.5)\n",
            "Requirement already satisfied: yarl<2.0,>=1.0 in /usr/local/lib/python3.10/dist-packages (from aiohttp->torch_geometric) (1.9.4)\n",
            "Requirement already satisfied: async-timeout<5.0,>=4.0 in /usr/local/lib/python3.10/dist-packages (from aiohttp->torch_geometric) (4.0.3)\n",
            "Requirement already satisfied: MarkupSafe>=2.0 in /usr/local/lib/python3.10/dist-packages (from jinja2->torch_geometric) (2.1.5)\n",
            "Requirement already satisfied: charset-normalizer<4,>=2 in /usr/local/lib/python3.10/dist-packages (from requests->torch_geometric) (3.3.2)\n",
            "Requirement already satisfied: idna<4,>=2.5 in /usr/local/lib/python3.10/dist-packages (from requests->torch_geometric) (3.7)\n",
            "Requirement already satisfied: urllib3<3,>=1.21.1 in /usr/local/lib/python3.10/dist-packages (from requests->torch_geometric) (2.0.7)\n",
            "Requirement already satisfied: certifi>=2017.4.17 in /usr/local/lib/python3.10/dist-packages (from requests->torch_geometric) (2024.2.2)\n",
            "Requirement already satisfied: joblib>=1.1.1 in /usr/local/lib/python3.10/dist-packages (from scikit-learn->torch_geometric) (1.4.2)\n",
            "Requirement already satisfied: threadpoolctl>=2.0.0 in /usr/local/lib/python3.10/dist-packages (from scikit-learn->torch_geometric) (3.5.0)\n"
          ]
        }
      ]
    },
    {
      "cell_type": "code",
      "source": [
        "from torch_geometric.datasets import Amazon\n",
        "import torch"
      ],
      "metadata": {
        "id": "5gaVXYgOBro3"
      },
      "execution_count": 2,
      "outputs": []
    },
    {
      "cell_type": "code",
      "source": [
        "dataset = Amazon(root=\"data/Amazon\", name=\"Computers\")\n",
        "\n",
        "data = dataset[0]\n",
        "\n",
        "print(f\"Number of nodes in graph is: {data.x.shape[0]}\")\n",
        "print(f\"Number of features for each node is {dataset.num_features}\")\n",
        "print(f\"Number of edges is {data.edge_index.shape[1]}\")\n",
        "print(f\"We want to predict the classes of the 13752 Computers\\n\")\n",
        "print(data, \"\\n\")\n",
        "\n",
        "print(f\"The number of class members for each class: {dataset.num_classes}\\n\")\n",
        "print(f\"Class labels: \\n{data.y.unique(return_counts=True)}\")\n",
        "#dir(dataset)"
      ],
      "metadata": {
        "colab": {
          "base_uri": "https://localhost:8080/"
        },
        "id": "qVgKCKir951L",
        "outputId": "ca1e1bd2-e81a-45fe-ba10-dab2b5ce6d92"
      },
      "execution_count": 3,
      "outputs": [
        {
          "output_type": "stream",
          "name": "stdout",
          "text": [
            "Number of nodes in graph is: 13752\n",
            "Number of features for each node is 767\n",
            "Number of edges is 491722\n",
            "We want to predict the classes of the 13752 Computers\n",
            "\n",
            "Data(x=[13752, 767], edge_index=[2, 491722], y=[13752]) \n",
            "\n",
            "The number of class members for each class: 10\n",
            "\n",
            "Class labels: \n",
            "(tensor([0, 1, 2, 3, 4, 5, 6, 7, 8, 9]), tensor([ 436, 2142, 1414,  542, 5158,  308,  487,  818, 2156,  291]))\n"
          ]
        }
      ]
    },
    {
      "cell_type": "code",
      "source": [
        "# We will split the data using a transductive method in which the whole input graph is put through the forward method however\n",
        "# we split the labels (classes) for the loss function. We will use a split of train:80%, val:10% and test:10%.\n",
        "\n",
        "# indices of the nodes randomly shuffled\n",
        "indices = torch.randperm(data.x.shape[0])\n",
        "\n",
        "# train:80%, val:10% and test:10%\n",
        "train_indices = indices[:int(0.8*len(indices))]\n",
        "val_indices = indices[int(0.8*len(indices)):int(0.9*len(indices))]\n",
        "test_indices = indices[int(0.9*len(indices)):]\n",
        "\n",
        "# train labels to pass\n",
        "train_labels = data.y[train_indices]\n",
        "val_labels = data.y[val_indices]\n",
        "test_labels = data.y[test_indices]\n",
        "\n",
        "print(len(val_labels), len(test_labels))\n",
        "len(torch.concat((data.y[val_indices], data.y[test_indices])))"
      ],
      "metadata": {
        "colab": {
          "base_uri": "https://localhost:8080/"
        },
        "id": "ecEGBWxvDz6a",
        "outputId": "1a624663-6929-474c-a7a5-3aa365ca8af9"
      },
      "execution_count": 4,
      "outputs": [
        {
          "output_type": "stream",
          "name": "stdout",
          "text": [
            "1375 1376\n"
          ]
        },
        {
          "output_type": "execute_result",
          "data": {
            "text/plain": [
              "2751"
            ]
          },
          "metadata": {},
          "execution_count": 4
        }
      ]
    },
    {
      "cell_type": "code",
      "source": [
        "data.is_undirected()"
      ],
      "metadata": {
        "colab": {
          "base_uri": "https://localhost:8080/"
        },
        "id": "Z0SXDzTr-VYj",
        "outputId": "7be011ee-e2eb-463d-f1f2-e9f1ad796431"
      },
      "execution_count": 5,
      "outputs": [
        {
          "output_type": "execute_result",
          "data": {
            "text/plain": [
              "True"
            ]
          },
          "metadata": {},
          "execution_count": 5
        }
      ]
    },
    {
      "cell_type": "code",
      "source": [
        "# Create a model\n",
        "import torch.nn.functional as F\n",
        "from torch_geometric.nn import GCNConv\n",
        "\n",
        "nb_hidden_channels = 32\n",
        "\n",
        "class GCN(torch.nn.Module):\n",
        "  def __init__(self):\n",
        "    super().__init__()\n",
        "    self.conv1 = GCNConv(in_channels = dataset.num_features,\n",
        "                         out_channels = nb_hidden_channels)\n",
        "    self.conv2 = GCNConv(in_channels = nb_hidden_channels,\n",
        "                         out_channels = dataset.num_classes)\n",
        "\n",
        "  def forward(self, data):\n",
        "    x, edge_index = data.x, data.edge_index\n",
        "\n",
        "    x = self.conv1(x, edge_index)\n",
        "    x = F.relu(x)\n",
        "    x = self.conv2(x, edge_index)\n",
        "    # could try log softmax: improved numerical performance and gradient optimisation\n",
        "    x = F.softmax(x, dim = 1)\n",
        "\n",
        "    return x\n",
        "\n",
        "# defined it later too\n",
        "gcn_model = GCN()\n",
        "gcn_model\n"
      ],
      "metadata": {
        "colab": {
          "base_uri": "https://localhost:8080/"
        },
        "id": "N4TVY2YKBl0k",
        "outputId": "08802f23-76f7-4f4c-a414-9930137e7319"
      },
      "execution_count": 6,
      "outputs": [
        {
          "output_type": "execute_result",
          "data": {
            "text/plain": [
              "GCN(\n",
              "  (conv1): GCNConv(767, 32)\n",
              "  (conv2): GCNConv(32, 10)\n",
              ")"
            ]
          },
          "metadata": {},
          "execution_count": 6
        }
      ]
    },
    {
      "cell_type": "code",
      "source": [
        "optimiser = torch.optim.Adam(gcn_model.parameters(), lr = 0.001)\n",
        "loss_fn = torch.nn.CrossEntropyLoss()"
      ],
      "metadata": {
        "id": "ecabmS3lIo74"
      },
      "execution_count": 7,
      "outputs": []
    },
    {
      "cell_type": "code",
      "source": [],
      "metadata": {
        "id": "N6L_0bY4JOsU"
      },
      "execution_count": 7,
      "outputs": []
    },
    {
      "cell_type": "code",
      "source": [
        "# Run training\n",
        "device = \"cuda\" if torch.cuda.is_available() else \"cpu\"\n",
        "gcn_model = GCN()\n",
        "gcn_model = gcn_model.to(device)\n",
        "data = data.to(device)\n",
        "torch.manual_seed(42)\n",
        "\n",
        "nb_epochs = 100\n",
        "\n",
        "for epoch in range(nb_epochs):\n",
        "  # forward pass on the network\n",
        "  out = gcn_model(data)\n",
        "  # calculate the loss\n",
        "  loss = loss_fn(out[train_indices], data.y[train_indices])\n",
        "\n",
        "  label_probs = out[torch.concat((data.y[val_indices], data.y[test_indices]))]\n",
        "  label_preds = torch.argmax(label_probs, dim=1)\n",
        "  accuracy = (label_preds == data.y[torch.concat((data.y[val_indices], data.y[test_indices]))]).sum()/len(label_preds)\n",
        "\n",
        "\n",
        "\n",
        "  # zero the gradients\n",
        "  optimiser.zero_grad()\n",
        "  # backpropagate the loss\n",
        "  loss.backward()\n",
        "  # update the optimizer\n",
        "  optimiser.step()\n",
        "\n",
        "  if epoch % 10 == 0:\n",
        "    print(label_preds.shape)\n",
        "    print(f\"Epoch: {epoch}, Loss: {loss}, Accuracy: {accuracy}\")\n"
      ],
      "metadata": {
        "colab": {
          "base_uri": "https://localhost:8080/"
        },
        "id": "P9zxBu7-KX2a",
        "outputId": "5b0bf6b1-9f22-4ab8-ab7f-f57d74ee1fbf"
      },
      "execution_count": 13,
      "outputs": [
        {
          "output_type": "stream",
          "name": "stdout",
          "text": [
            "torch.Size([2751])\n",
            "Epoch: 0, Loss: 2.303694248199463, Accuracy: 0.12250091135501862\n",
            "torch.Size([2751])\n",
            "Epoch: 10, Loss: 2.303694248199463, Accuracy: 0.12250091135501862\n",
            "torch.Size([2751])\n",
            "Epoch: 20, Loss: 2.303694248199463, Accuracy: 0.12250091135501862\n",
            "torch.Size([2751])\n",
            "Epoch: 30, Loss: 2.303694248199463, Accuracy: 0.12250091135501862\n",
            "torch.Size([2751])\n",
            "Epoch: 40, Loss: 2.303694248199463, Accuracy: 0.12250091135501862\n",
            "torch.Size([2751])\n",
            "Epoch: 50, Loss: 2.303694248199463, Accuracy: 0.12250091135501862\n",
            "torch.Size([2751])\n",
            "Epoch: 60, Loss: 2.303694248199463, Accuracy: 0.12250091135501862\n",
            "torch.Size([2751])\n",
            "Epoch: 70, Loss: 2.303694248199463, Accuracy: 0.12250091135501862\n",
            "torch.Size([2751])\n",
            "Epoch: 80, Loss: 2.303694248199463, Accuracy: 0.12250091135501862\n",
            "torch.Size([2751])\n",
            "Epoch: 90, Loss: 2.303694248199463, Accuracy: 0.12250091135501862\n"
          ]
        }
      ]
    },
    {
      "cell_type": "code",
      "source": [],
      "metadata": {
        "id": "TjC2A84xMaY_"
      },
      "execution_count": 8,
      "outputs": []
    }
  ]
}