{
 "cells": [
  {
   "cell_type": "code",
   "execution_count": 68,
   "id": "5a2bde59-7acc-4992-a4c2-959a8063d208",
   "metadata": {},
   "outputs": [],
   "source": [
    "import numpy as np\n",
    "import pandas as pd"
   ]
  },
  {
   "cell_type": "code",
   "execution_count": 74,
   "id": "a3e9d8d0-3d99-4fbd-a954-f0fadcbb3ddc",
   "metadata": {},
   "outputs": [
    {
     "data": {
      "text/html": [
       "<div>\n",
       "<style scoped>\n",
       "    .dataframe tbody tr th:only-of-type {\n",
       "        vertical-align: middle;\n",
       "    }\n",
       "\n",
       "    .dataframe tbody tr th {\n",
       "        vertical-align: top;\n",
       "    }\n",
       "\n",
       "    .dataframe thead th {\n",
       "        text-align: right;\n",
       "    }\n",
       "</style>\n",
       "<table border=\"1\" class=\"dataframe\">\n",
       "  <thead>\n",
       "    <tr style=\"text-align: right;\">\n",
       "      <th></th>\n",
       "      <th>Age group (years)</th>\n",
       "      <th>Death rate, United States, 2019</th>\n",
       "      <th>Death rate, Uganda, 2019</th>\n",
       "    </tr>\n",
       "  </thead>\n",
       "  <tbody>\n",
       "    <tr>\n",
       "      <th>0</th>\n",
       "      <td>0-4</td>\n",
       "      <td>0.04</td>\n",
       "      <td>0.40</td>\n",
       "    </tr>\n",
       "    <tr>\n",
       "      <th>1</th>\n",
       "      <td>5-9</td>\n",
       "      <td>0.02</td>\n",
       "      <td>0.17</td>\n",
       "    </tr>\n",
       "    <tr>\n",
       "      <th>2</th>\n",
       "      <td>10-14</td>\n",
       "      <td>0.02</td>\n",
       "      <td>0.07</td>\n",
       "    </tr>\n",
       "    <tr>\n",
       "      <th>3</th>\n",
       "      <td>15-19</td>\n",
       "      <td>0.02</td>\n",
       "      <td>0.23</td>\n",
       "    </tr>\n",
       "    <tr>\n",
       "      <th>4</th>\n",
       "      <td>20-24</td>\n",
       "      <td>0.06</td>\n",
       "      <td>0.38</td>\n",
       "    </tr>\n",
       "    <tr>\n",
       "      <th>5</th>\n",
       "      <td>25-29</td>\n",
       "      <td>0.11</td>\n",
       "      <td>0.40</td>\n",
       "    </tr>\n",
       "    <tr>\n",
       "      <th>6</th>\n",
       "      <td>30-34</td>\n",
       "      <td>0.29</td>\n",
       "      <td>0.75</td>\n",
       "    </tr>\n",
       "    <tr>\n",
       "      <th>7</th>\n",
       "      <td>35-39</td>\n",
       "      <td>0.56</td>\n",
       "      <td>1.11</td>\n",
       "    </tr>\n",
       "    <tr>\n",
       "      <th>8</th>\n",
       "      <td>40-44</td>\n",
       "      <td>1.42</td>\n",
       "      <td>2.04</td>\n",
       "    </tr>\n",
       "    <tr>\n",
       "      <th>9</th>\n",
       "      <td>45-49</td>\n",
       "      <td>4.00</td>\n",
       "      <td>5.51</td>\n",
       "    </tr>\n",
       "    <tr>\n",
       "      <th>10</th>\n",
       "      <td>50-54</td>\n",
       "      <td>14.13</td>\n",
       "      <td>13.26</td>\n",
       "    </tr>\n",
       "    <tr>\n",
       "      <th>11</th>\n",
       "      <td>55-59</td>\n",
       "      <td>37.22</td>\n",
       "      <td>33.25</td>\n",
       "    </tr>\n",
       "    <tr>\n",
       "      <th>12</th>\n",
       "      <td>60-64</td>\n",
       "      <td>66.48</td>\n",
       "      <td>69.62</td>\n",
       "    </tr>\n",
       "    <tr>\n",
       "      <th>13</th>\n",
       "      <td>65-69</td>\n",
       "      <td>108.66</td>\n",
       "      <td>120.78</td>\n",
       "    </tr>\n",
       "    <tr>\n",
       "      <th>14</th>\n",
       "      <td>70-74</td>\n",
       "      <td>213.10</td>\n",
       "      <td>229.88</td>\n",
       "    </tr>\n",
       "    <tr>\n",
       "      <th>15</th>\n",
       "      <td>75-79</td>\n",
       "      <td>333.06</td>\n",
       "      <td>341.06</td>\n",
       "    </tr>\n",
       "    <tr>\n",
       "      <th>16</th>\n",
       "      <td>80-84</td>\n",
       "      <td>491.10</td>\n",
       "      <td>529.31</td>\n",
       "    </tr>\n",
       "    <tr>\n",
       "      <th>17</th>\n",
       "      <td>85+</td>\n",
       "      <td>894.45</td>\n",
       "      <td>710.40</td>\n",
       "    </tr>\n",
       "  </tbody>\n",
       "</table>\n",
       "</div>"
      ],
      "text/plain": [
       "   Age group (years)  Death rate, United States, 2019  \\\n",
       "0                0-4                             0.04   \n",
       "1                5-9                             0.02   \n",
       "2              10-14                             0.02   \n",
       "3              15-19                             0.02   \n",
       "4              20-24                             0.06   \n",
       "5              25-29                             0.11   \n",
       "6              30-34                             0.29   \n",
       "7              35-39                             0.56   \n",
       "8              40-44                             1.42   \n",
       "9              45-49                             4.00   \n",
       "10             50-54                            14.13   \n",
       "11             55-59                            37.22   \n",
       "12             60-64                            66.48   \n",
       "13             65-69                           108.66   \n",
       "14             70-74                           213.10   \n",
       "15             75-79                           333.06   \n",
       "16             80-84                           491.10   \n",
       "17               85+                           894.45   \n",
       "\n",
       "    Death rate, Uganda, 2019  \n",
       "0                       0.40  \n",
       "1                       0.17  \n",
       "2                       0.07  \n",
       "3                       0.23  \n",
       "4                       0.38  \n",
       "5                       0.40  \n",
       "6                       0.75  \n",
       "7                       1.11  \n",
       "8                       2.04  \n",
       "9                       5.51  \n",
       "10                     13.26  \n",
       "11                     33.25  \n",
       "12                     69.62  \n",
       "13                    120.78  \n",
       "14                    229.88  \n",
       "15                    341.06  \n",
       "16                    529.31  \n",
       "17                    710.40  "
      ]
     },
     "execution_count": 74,
     "metadata": {},
     "output_type": "execute_result"
    }
   ],
   "source": [
    "death_rate = pd.read_csv(\"our_world_in_data.csv\")\n",
    "death_rate_pd = pd.DataFrame(death_rate)\n",
    "death_rate_pd"
   ]
  },
  {
   "cell_type": "code",
   "execution_count": 100,
   "id": "5e986046-a5da-448d-a343-d30e31d296c0",
   "metadata": {},
   "outputs": [
    {
     "name": "stdout",
     "output_type": "stream",
     "text": [
      "Crude death rate for COPD (death rate per 100,000 people) of USA is 2058.6\n",
      "Crude death rate for COPD (death rate per 100,000 people) of Uganda is 2164.7\n"
     ]
    }
   ],
   "source": [
    "print(\"Crude death rate for COPD (death rate per 100,000 people) of USA is\",np.sum(death_rate_pd[\"Death rate, Uganda, 2019\"]).round(1))\n",
    "print(\"Crude death rate for COPD (death rate per 100,000 people) of Uganda is\", np.sum(death_rate_pd[\"Death rate, United States, 2019\"]).round(1))"
   ]
  },
  {
   "cell_type": "code",
   "execution_count": 101,
   "id": "6a5bdb17-53dc-49b5-afae-b8ad00f25d26",
   "metadata": {},
   "outputs": [
    {
     "data": {
      "text/plain": [
       "1.0023000000000002"
      ]
     },
     "execution_count": 101,
     "metadata": {},
     "output_type": "execute_result"
    }
   ],
   "source": [
    "standard_population_distribution = np.array([8.86, 8.89, 8.60, 8.47, 8.22, 7.93, 7.61,\n",
    "                                              7.15, 6.59, 6.04, 5.37, 4.55, 3.72, 2.96,\n",
    "                                              2.21, 1.52, 0.91, 0.63])/100\n",
    "standard_population_distribution.sum() #should equal 1"
   ]
  },
  {
   "cell_type": "code",
   "execution_count": 102,
   "id": "feb1eed2-ec6e-4a2f-a0b3-88473974ded5",
   "metadata": {},
   "outputs": [],
   "source": [
    "uganda_population = 42949000\n",
    "usa_population = 334320000"
   ]
  },
  {
   "cell_type": "code",
   "execution_count": 103,
   "id": "609daa5e-d087-48a3-9656-0221a0724954",
   "metadata": {},
   "outputs": [],
   "source": [
    "usa_standardised_death_rate = np.multiply(death_rate_pd[\"Death rate, United States, 2019\"],standard_population_distribution)\n",
    "uganda_standardised_death_rate = np.multiply(death_rate_pd[\"Death rate, Uganda, 2019\"],standard_population_distribution)"
   ]
  },
  {
   "cell_type": "code",
   "execution_count": 104,
   "id": "103abe36-8dc9-4490-9afe-18a174ea6a89",
   "metadata": {},
   "outputs": [
    {
     "name": "stdout",
     "output_type": "stream",
     "text": [
      "Standardised death rate for COPD (death rate per 100,000 people) of USA is 28.4\n",
      "Standardised death rate for COPD (death rate per 100,000 people) of Uganda is 28.7\n"
     ]
    }
   ],
   "source": [
    "print(\"Standardised death rate for COPD (death rate per 100,000 people) of USA is\", np.sum(usa_standardised_death_rate).round(1))\n",
    "print(\"Standardised death rate for COPD (death rate per 100,000 people) of Uganda is\", np.sum(uganda_standardised_death_rate).round(1))"
   ]
  }
 ],
 "metadata": {
  "kernelspec": {
   "display_name": "Python 3 (ipykernel)",
   "language": "python",
   "name": "python3"
  },
  "language_info": {
   "codemirror_mode": {
    "name": "ipython",
    "version": 3
   },
   "file_extension": ".py",
   "mimetype": "text/x-python",
   "name": "python",
   "nbconvert_exporter": "python",
   "pygments_lexer": "ipython3",
   "version": "3.11.5"
  }
 },
 "nbformat": 4,
 "nbformat_minor": 5
}
