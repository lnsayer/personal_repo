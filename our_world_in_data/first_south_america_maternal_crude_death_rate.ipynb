{
 "cells": [
  {
   "cell_type": "markdown",
   "id": "f9db1e85-f8fc-474e-a317-285bb45d6a3f",
   "metadata": {},
   "source": [
    "# Crude Death Date from maternal conditions, per 100,000 females, for the continent of South America"
   ]
  },
  {
   "cell_type": "markdown",
   "id": "b55e2f33-89de-419b-952e-f00cc237b094",
   "metadata": {},
   "source": [
    "## First, obtain a list of countries in South America"
   ]
  },
  {
   "cell_type": "code",
   "execution_count": 1,
   "id": "6837a082-9637-4d8a-8ba7-e330fb1f2b9a",
   "metadata": {},
   "outputs": [],
   "source": [
    "# Import necessary modules \n",
    "import numpy as np\n",
    "import pandas as pd"
   ]
  },
  {
   "cell_type": "markdown",
   "id": "ca274de1-7c77-4394-bca9-b6371f376d98",
   "metadata": {},
   "source": [
    "## Show list containing South American countries classed by Our World in Data"
   ]
  },
  {
   "cell_type": "code",
   "execution_count": 15,
   "id": "66531fe9-2cae-4026-8b62-91b375ce6309",
   "metadata": {},
   "outputs": [
    {
     "name": "stdout",
     "output_type": "stream",
     "text": [
      "['Argentina', 'Bolivia', 'Brazil', 'Chile', 'Colombia', 'Ecuador', 'Falkland Islands', 'French Guiana', 'Guyana', 'Paraguay', 'Peru', 'South Georgia and the South Sandwich Islands', 'Suriname', 'Uruguay', 'Venezuela']\n"
     ]
    }
   ],
   "source": [
    "# Load csv file and visualise it\n",
    "df_continent_class = pd.read_csv(\"data/continents-according-to-our-world-in-data.csv\")\n",
    "# display(df_continent_class)\n",
    "# print(df_continent_class[\"Continent\"].unique())\n",
    "\n",
    "# List of South American countries\n",
    "sa_countries = df_continent_class[df_continent_class[\"Continent\"]==\"South America\"][\"Entity\"]\n",
    "sa_countries_list = list(sa_countries)\n",
    "print(sa_countries_list)"
   ]
  },
  {
   "cell_type": "markdown",
   "id": "7dda43a3-0671-4cdc-a827-529b1369d2f5",
   "metadata": {},
   "source": [
    "## Show populations of South America at each year"
   ]
  },
  {
   "cell_type": "code",
   "execution_count": 17,
   "id": "71cd16ef-89f1-4a14-8649-3db2daeb3654",
   "metadata": {},
   "outputs": [
    {
     "name": "stdout",
     "output_type": "stream",
     "text": [
      "Population of South America:\n"
     ]
    },
    {
     "data": {
      "text/plain": [
       "{1970: 96582000,\n",
       " 1979: 118634000,\n",
       " 1986: 138041000,\n",
       " 2011: 200669000,\n",
       " 2017: 213020000}"
      ]
     },
     "execution_count": 17,
     "metadata": {},
     "output_type": "execute_result"
    }
   ],
   "source": [
    "years = [1970, 1979, 1986, 2011, 2017]\n",
    "\n",
    "# Load the UN dataset\n",
    "total_population = pd.read_csv(\"data/WPP2022_GEN_F01_DEMOGRAPHIC_INDICATORS_COMPACT_REV1.csv\",\n",
    "                                       low_memory=False)\n",
    "# display(total_population)\n",
    "\n",
    "# Initiate dictionary of the population of whole of the South America at each year\n",
    "south_america_female_populations = {}\n",
    "\n",
    "# Loop through each year and fill the dictionary with the year and population of South America in that year\n",
    "for i in years:\n",
    "    string = total_population.loc[(total_population['Region, subregion, country or area *'] == \"South America\") \\\n",
    "    & (total_population['Year'] == i)][\"Female Population, as of 1 July (thousands)\"]\n",
    "    string.values[0] = string.values[0].replace(\" \", \"\")\n",
    "    south_america_female_populations[i] = int(string.values[0])*1000\n",
    "\n",
    "# Show results\n",
    "print(\"Population of South America:\")\n",
    "south_america_female_populations"
   ]
  },
  {
   "cell_type": "markdown",
   "id": "d65f44bc-23cf-46d3-b17e-2a1a34d3f5ee",
   "metadata": {},
   "source": [
    "## Load data for 1970 maternal deaths for the whole world"
   ]
  },
  {
   "cell_type": "code",
   "execution_count": 9,
   "id": "27f3eeac-f616-4076-ab12-3567d91f970f",
   "metadata": {},
   "outputs": [],
   "source": [
    "crude_maternal_deaths_1970 = pd.read_csv(\"data/1970_crude_maternal_deaths.csv\")\n",
    "# display(crude_maternal_deaths_1970[\"Country Name\"])"
   ]
  },
  {
   "cell_type": "markdown",
   "id": "13a3935d-1cc6-44c3-83be-a6d1b2877d13",
   "metadata": {},
   "source": [
    "## Display crude maternal deaths for each country in South America (according to Our World in Data)"
   ]
  },
  {
   "cell_type": "code",
   "execution_count": 20,
   "id": "c419ae87-437c-43e4-b0ca-666014bb9885",
   "metadata": {},
   "outputs": [
    {
     "data": {
      "text/html": [
       "<div>\n",
       "<style scoped>\n",
       "    .dataframe tbody tr th:only-of-type {\n",
       "        vertical-align: middle;\n",
       "    }\n",
       "\n",
       "    .dataframe tbody tr th {\n",
       "        vertical-align: top;\n",
       "    }\n",
       "\n",
       "    .dataframe thead th {\n",
       "        text-align: right;\n",
       "    }\n",
       "</style>\n",
       "<table border=\"1\" class=\"dataframe\">\n",
       "  <thead>\n",
       "    <tr style=\"text-align: right;\">\n",
       "      <th></th>\n",
       "      <th>Country Name</th>\n",
       "      <th>Number</th>\n",
       "    </tr>\n",
       "  </thead>\n",
       "  <tbody>\n",
       "    <tr>\n",
       "      <th>1</th>\n",
       "      <td>Argentina</td>\n",
       "      <td>757</td>\n",
       "    </tr>\n",
       "    <tr>\n",
       "      <th>9</th>\n",
       "      <td>Chile</td>\n",
       "      <td>439</td>\n",
       "    </tr>\n",
       "    <tr>\n",
       "      <th>15</th>\n",
       "      <td>Ecuador</td>\n",
       "      <td>529</td>\n",
       "    </tr>\n",
       "    <tr>\n",
       "      <th>19</th>\n",
       "      <td>French Guiana</td>\n",
       "      <td>3</td>\n",
       "    </tr>\n",
       "    <tr>\n",
       "      <th>51</th>\n",
       "      <td>Uruguay</td>\n",
       "      <td>50</td>\n",
       "    </tr>\n",
       "  </tbody>\n",
       "</table>\n",
       "</div>"
      ],
      "text/plain": [
       "     Country Name  Number\n",
       "1       Argentina     757\n",
       "9           Chile     439\n",
       "15        Ecuador     529\n",
       "19  French Guiana       3\n",
       "51        Uruguay      50"
      ]
     },
     "metadata": {},
     "output_type": "display_data"
    },
    {
     "name": "stdout",
     "output_type": "stream",
     "text": [
      "Total maternal deaths in South America in 1970:  1778\n",
      "South American countries with data in that year ['Argentina', 'Chile', 'Ecuador', 'French Guiana', 'Uruguay']\n"
     ]
    }
   ],
   "source": [
    "# Show maternal deaths per country for data in 1970\n",
    "sa_crude_maternal_deaths_1970 = crude_maternal_deaths_1970[crude_maternal_deaths_1970[\"Country Name\"]\\\n",
    ".isin(sa_countries_list)][[\"Country Name\", \"Number\"]]\n",
    "\n",
    "display(sa_crude_maternal_deaths_1970)\n",
    "# Total maternal deaths in South America in that year\n",
    "total_maternal_deaths_sa_1970 = sum(sa_crude_maternal_deaths_1970[\"Number\"])\n",
    "print(\"Total maternal deaths in South America in 1970: \", total_maternal_deaths_sa_1970)\n",
    "\n",
    "# Show countries displayed in that year\n",
    "country_list_1970 = list(sa_crude_maternal_deaths_1970[\"Country Name\"])\n",
    "print(\"South American countries with data in that year\",country_list_1970)"
   ]
  },
  {
   "cell_type": "markdown",
   "id": "25b54a5d-120b-4261-8471-c75639976221",
   "metadata": {},
   "source": [
    "## Populations of displayed South American countries in a given year and the total crude death rates"
   ]
  },
  {
   "cell_type": "code",
   "execution_count": 21,
   "id": "f963b95a-11a9-4da9-9e73-9566f93911cd",
   "metadata": {},
   "outputs": [
    {
     "name": "stdout",
     "output_type": "stream",
     "text": [
      "{'Argentina': 12005000, 'Chile': 4911000, 'Ecuador': 3081000, 'French Guiana': 22000, 'Uruguay': 1404000}\n",
      "Population of females in displayed countries in 1970 21423000\n",
      "Proportion of South American population 22.18 %\n",
      "Crude death rate from maternal conditions in South America in 1970, per 100,000 females is 8.3\n"
     ]
    }
   ],
   "source": [
    "# Population of countries included in the morta\n",
    "total_population = pd.read_csv(\"data/WPP2022_GEN_F01_DEMOGRAPHIC_INDICATORS_COMPACT_REV1.csv\",\n",
    "                              low_memory=False)\n",
    "# display(total_population)\n",
    "\n",
    "displayed_country_dict_1970 = {}\n",
    "# Show populations of displayed countries at each year\n",
    "for country in country_list_1970:\n",
    "    string  = total_population.loc[(total_population['Region, subregion, country or area *'] == f\"{country}\") & (total_population['Year'] == 1970)][\"Female Population, as of 1 July (thousands)\"] \n",
    "    string.values[0] = string.values[0].replace(\" \", \"\")\n",
    "    displayed_country_dict_1970[country] = int(string.values[0])*1000\n",
    "# Population of displayed countries in South America in 1970\n",
    "print(displayed_country_dict_1970)\n",
    "# Total population of displayed countries in South America in 1970\n",
    "displayed_female_sa_population_1970 = sum(displayed_country_dict_1970.values())\n",
    "print(\"Population of females in displayed countries in 1970\", displayed_female_sa_population_1970)\n",
    "\n",
    "\n",
    "# For the countries with data, show their proportion of the South American population\n",
    "print(\"Proportion of South American population\", round((displayed_female_sa_population_1970/list(south_america_female_populations.values())[0] )*100, 2),\"%\")\n",
    "# Crude death rate from maternal conditions in South America in 1970, per 100,000 people\n",
    "print(\"Crude death rate from maternal conditions in South America in 1970, per 100,000 females is\", round((total_maternal_deaths_sa_1970/displayed_female_sa_population_1970)*100000,2))"
   ]
  },
  {
   "cell_type": "code",
   "execution_count": null,
   "id": "cb4ad23f-a410-4100-bc9f-1944c50b9715",
   "metadata": {},
   "outputs": [],
   "source": []
  }
 ],
 "metadata": {
  "kernelspec": {
   "display_name": "Python 3 (ipykernel)",
   "language": "python",
   "name": "python3"
  },
  "language_info": {
   "codemirror_mode": {
    "name": "ipython",
    "version": 3
   },
   "file_extension": ".py",
   "mimetype": "text/x-python",
   "name": "python",
   "nbconvert_exporter": "python",
   "pygments_lexer": "ipython3",
   "version": "3.12.2"
  }
 },
 "nbformat": 4,
 "nbformat_minor": 5
}
