{
 "cells": [
  {
   "cell_type": "code",
   "execution_count": 103,
   "id": "f8249e6b-54d8-4ae5-b97c-8a6619037797",
   "metadata": {},
   "outputs": [],
   "source": [
    "# Really inefficient solution:\n",
    "\n",
    "def solution(N):\n",
    "    # Implement your solution here\n",
    "    power_of_2 = 0\n",
    "\n",
    "    remainder = N-2**power_of_2\n",
    "    \n",
    "    while remainder > 0:\n",
    "        # print(remainder)\n",
    "        power_of_2 += 1\n",
    "        remainder = N - 2**power_of_2\n",
    "    highest_power = power_of_2-1\n",
    "\n",
    "    binary_number = [1] + highest_power*[0]\n",
    "    # print(binary_number, highest_power)\n",
    "\n",
    "    power = highest_power -1\n",
    "    index = 1\n",
    "    remainder = N - 2**highest_power\n",
    "\n",
    "    if N-2**(highest_power+1) ==0:\n",
    "        binary_number = [1] + (highest_power+1)*[0]\n",
    "        return ''.join(str(number) for number in binary_number)\n",
    "        \n",
    "    else:\n",
    "        while remainder > 0:\n",
    "            # print(f\"remainder is {remainder}\")\n",
    "            # print(f\"power is {power}\")\n",
    "            # print(f\"index is {index}\")\n",
    "            \n",
    "            if remainder >= 2**power:\n",
    "                # print(\"remainder >= 2**power\")\n",
    "                binary_number[index] = 1\n",
    "                index += 1\n",
    "                remainder = remainder - 2**power\n",
    "                power -= 1\n",
    "                # print(binary_number)\n",
    "                \n",
    "            elif remainder < 2**power:\n",
    "                # print(\"remainder < 2**power\")\n",
    "                binary_number[index] = 0\n",
    "                index += 1\n",
    "                power -= 1\n",
    "                # print(binary_number)\n",
    "   \n",
    "    \n",
    "    return ''.join(str(number) for number in binary_number)\n",
    "            \n"
   ]
  },
  {
   "cell_type": "code",
   "execution_count": 108,
   "id": "80b7d6e3-6f3e-4aaa-8dcc-fc97b9713c38",
   "metadata": {},
   "outputs": [
    {
     "data": {
      "text/plain": [
       "'10000010001'"
      ]
     },
     "execution_count": 108,
     "metadata": {},
     "output_type": "execute_result"
    }
   ],
   "source": [
    "solution(1041)"
   ]
  },
  {
   "cell_type": "code",
   "execution_count": null,
   "id": "b8ec1b41-d590-48e0-b47c-86bf08997bfe",
   "metadata": {},
   "outputs": [],
   "source": []
  },
  {
   "cell_type": "code",
   "execution_count": 105,
   "id": "27020401-d958-4bd5-b2e1-82a8b2f02e11",
   "metadata": {},
   "outputs": [],
   "source": [
    "def convert_to_binary(n):\n",
    "    return bin(n)[2:]\n",
    "\n",
    "    "
   ]
  },
  {
   "cell_type": "code",
   "execution_count": 106,
   "id": "1b4cd970-38be-4a17-9b45-a10c6b10df97",
   "metadata": {},
   "outputs": [
    {
     "data": {
      "text/plain": [
       "True"
      ]
     },
     "execution_count": 106,
     "metadata": {},
     "output_type": "execute_result"
    }
   ],
   "source": [
    "test = 5\n",
    "solution(test) == convert_to_binary(test)"
   ]
  },
  {
   "cell_type": "code",
   "execution_count": 107,
   "id": "83d9494b-0ae2-4aa7-9492-8feb50a6e6c6",
   "metadata": {},
   "outputs": [],
   "source": [
    "for i in range(1, 1000000):\n",
    "    # print(i)\n",
    "    if not solution(i) == convert_to_binary(i):\n",
    "        print(i)"
   ]
  },
  {
   "cell_type": "code",
   "execution_count": null,
   "id": "9ba21c0c-f5b7-4060-b981-ad5552f2e52d",
   "metadata": {},
   "outputs": [],
   "source": []
  }
 ],
 "metadata": {
  "kernelspec": {
   "display_name": "Python 3 (ipykernel)",
   "language": "python",
   "name": "python3"
  },
  "language_info": {
   "codemirror_mode": {
    "name": "ipython",
    "version": 3
   },
   "file_extension": ".py",
   "mimetype": "text/x-python",
   "name": "python",
   "nbconvert_exporter": "python",
   "pygments_lexer": "ipython3",
   "version": "3.12.2"
  }
 },
 "nbformat": 4,
 "nbformat_minor": 5
}
