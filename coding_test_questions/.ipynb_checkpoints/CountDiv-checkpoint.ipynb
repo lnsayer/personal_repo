{
 "cells": [
  {
   "cell_type": "code",
   "execution_count": 5,
   "id": "c8945d04-d1ac-4c7c-9097-047c502ceb50",
   "metadata": {},
   "outputs": [],
   "source": [
    "def solution(A, B, K):\n",
    "    # Implement your solution here\n",
    "    num = 0 \n",
    "    for i in range(A, B+1):\n",
    "        if i % K  == 0:\n",
    "            num+=1\n",
    "    return num \n",
    "    "
   ]
  },
  {
   "cell_type": "code",
   "execution_count": 12,
   "id": "c3ee43b2-463c-47e4-96a9-7ae5c4b12b5c",
   "metadata": {},
   "outputs": [
    {
     "data": {
      "text/plain": [
       "3"
      ]
     },
     "execution_count": 12,
     "metadata": {},
     "output_type": "execute_result"
    }
   ],
   "source": [
    "solution(6, 13, 3)"
   ]
  },
  {
   "cell_type": "code",
   "execution_count": 51,
   "id": "edc2e10b-9210-4601-83e9-410dde3b6e3a",
   "metadata": {},
   "outputs": [],
   "source": [
    "def solution2(A, B, K):\n",
    "    diff = B-A\n",
    "    if diff % K == 0 and A % K == 0 or B % K ==0:\n",
    "        return int(diff/K)+1\n",
    "    else:\n",
    "        return diff // K \n",
    "    "
   ]
  },
  {
   "cell_type": "code",
   "execution_count": 52,
   "id": "72ebd4b8-d3ae-41f6-9f9f-bdca0726ba23",
   "metadata": {},
   "outputs": [
    {
     "data": {
      "text/plain": [
       "0"
      ]
     },
     "execution_count": 52,
     "metadata": {},
     "output_type": "execute_result"
    }
   ],
   "source": [
    "solution2(3, 5, 3)"
   ]
  },
  {
   "cell_type": "code",
   "execution_count": 53,
   "id": "345bd011-e067-4709-878b-a460bfde3952",
   "metadata": {},
   "outputs": [
    {
     "data": {
      "text/plain": [
       "5"
      ]
     },
     "execution_count": 53,
     "metadata": {},
     "output_type": "execute_result"
    }
   ],
   "source": [
    "16//3"
   ]
  },
  {
   "cell_type": "code",
   "execution_count": 56,
   "id": "d780a8b3-66df-4471-8c96-c089e8e06079",
   "metadata": {},
   "outputs": [],
   "source": [
    "def solution3(A, B, K):\n",
    "    # Number of multiples of K up to B\n",
    "    count_B = B // K\n",
    "    print(count_B)\n",
    "    \n",
    "    # Number of multiples of K up to A-1\n",
    "    count_A_minus_1 = (A - 1) // K\n",
    "    print(count_A_minus_1)\n",
    "    \n",
    "    # The number of multiples of K in the range [A, B]\n",
    "    return count_B - count_A_minus_1"
   ]
  },
  {
   "cell_type": "code",
   "execution_count": 57,
   "id": "3104245b-2479-40b8-adfc-9d722010a34b",
   "metadata": {},
   "outputs": [
    {
     "name": "stdout",
     "output_type": "stream",
     "text": [
      "5\n",
      "2\n"
     ]
    },
    {
     "data": {
      "text/plain": [
       "3"
      ]
     },
     "execution_count": 57,
     "metadata": {},
     "output_type": "execute_result"
    }
   ],
   "source": [
    "solution3(6, 11, 2)"
   ]
  },
  {
   "cell_type": "code",
   "execution_count": 61,
   "id": "a244cb53-7a03-41de-8801-3fca41270d56",
   "metadata": {},
   "outputs": [
    {
     "data": {
      "text/plain": [
       "2"
      ]
     },
     "execution_count": 61,
     "metadata": {},
     "output_type": "execute_result"
    }
   ],
   "source": [
    "5//2"
   ]
  },
  {
   "cell_type": "code",
   "execution_count": null,
   "id": "8a6bf364-ea22-42ca-8e8c-ee4773064895",
   "metadata": {},
   "outputs": [],
   "source": []
  }
 ],
 "metadata": {
  "kernelspec": {
   "display_name": "Python 3 (ipykernel)",
   "language": "python",
   "name": "python3"
  },
  "language_info": {
   "codemirror_mode": {
    "name": "ipython",
    "version": 3
   },
   "file_extension": ".py",
   "mimetype": "text/x-python",
   "name": "python",
   "nbconvert_exporter": "python",
   "pygments_lexer": "ipython3",
   "version": "3.12.2"
  }
 },
 "nbformat": 4,
 "nbformat_minor": 5
}
