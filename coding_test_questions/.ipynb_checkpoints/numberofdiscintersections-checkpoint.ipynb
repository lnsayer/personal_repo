{
 "cells": [
  {
   "cell_type": "code",
   "execution_count": 7,
   "id": "d7995b85-8ba5-4650-8059-dd3b0044f2e0",
   "metadata": {},
   "outputs": [],
   "source": [
    "def solution(A):\n",
    "    N = len(A)\n",
    "    if N < 2:\n",
    "        return 0\n",
    "    \n",
    "    starts_list = []\n",
    "    ends_list = []\n",
    "    \n",
    "    for i in range(N):\n",
    "        starts_list.append(i - A[i])\n",
    "        ends_list.append(i + A[i])\n",
    "    \n",
    "    starts_list.sort()\n",
    "    ends_list.sort()\n",
    "    \n",
    "    active_discs = 0\n",
    "    num_intersections = 0\n",
    "    j = 0\n",
    "    \n",
    "    for i in range(N):\n",
    "        while j < N and starts_list[j] <= ends_list[i]:\n",
    "            num_intersections += active_discs\n",
    "            if num_intersections > 10000000:\n",
    "                return -1\n",
    "            active_discs += 1\n",
    "            j += 1\n",
    "        active_discs -= 1\n",
    "    \n",
    "    return num_intersections"
   ]
  },
  {
   "cell_type": "code",
   "execution_count": 8,
   "id": "be0c7f02-2d6e-4c5b-9ba5-3544e0a45189",
   "metadata": {},
   "outputs": [
    {
     "data": {
      "text/plain": [
       "11"
      ]
     },
     "execution_count": 8,
     "metadata": {},
     "output_type": "execute_result"
    }
   ],
   "source": [
    "solution([1, 5, 2, 1, 4, 0])"
   ]
  },
  {
   "cell_type": "code",
   "execution_count": null,
   "id": "22021098-6708-4e55-8b04-4dd8ab58a5ec",
   "metadata": {},
   "outputs": [],
   "source": []
  }
 ],
 "metadata": {
  "kernelspec": {
   "display_name": "Python 3 (ipykernel)",
   "language": "python",
   "name": "python3"
  },
  "language_info": {
   "codemirror_mode": {
    "name": "ipython",
    "version": 3
   },
   "file_extension": ".py",
   "mimetype": "text/x-python",
   "name": "python",
   "nbconvert_exporter": "python",
   "pygments_lexer": "ipython3",
   "version": "3.12.2"
  }
 },
 "nbformat": 4,
 "nbformat_minor": 5
}
