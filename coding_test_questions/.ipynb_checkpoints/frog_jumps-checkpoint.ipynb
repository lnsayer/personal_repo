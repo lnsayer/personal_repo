{
 "cells": [
  {
   "cell_type": "code",
   "execution_count": 27,
   "id": "5028e6c5-1ff8-459c-9669-a3d2441b972d",
   "metadata": {},
   "outputs": [],
   "source": [
    "def solution(X, Y, D):\n",
    "    # Implement your solution here\n",
    "    distance = Y-X\n",
    "    \n",
    "    if distance % D == 0:\n",
    "        num_jumps = distance/D\n",
    "    else:\n",
    "        num_jumps = distance//D + 1\n",
    "    \n",
    "    return int(num_jumps)\n"
   ]
  },
  {
   "cell_type": "code",
   "execution_count": 28,
   "id": "872dab4d-a4c4-4f0b-ae32-4d036d8a4bb7",
   "metadata": {},
   "outputs": [
    {
     "data": {
      "text/plain": [
       "1"
      ]
     },
     "execution_count": 28,
     "metadata": {},
     "output_type": "execute_result"
    }
   ],
   "source": [
    "solution(0, 20, 30)"
   ]
  },
  {
   "cell_type": "code",
   "execution_count": 29,
   "id": "b078e214-465e-43af-9d4b-c01fad1dfb66",
   "metadata": {},
   "outputs": [],
   "source": [
    "def efficient_solution(X, Y, D):\n",
    "    # Calculate the distance to cover\n",
    "    distance_to_cover = Y - X\n",
    "    \n",
    "    # Calculate the minimal number of jumps needed\n",
    "    print(distance_to_cover + D - 1)\n",
    "    jumps = (distance_to_cover + D - 1) // D\n",
    "    \n",
    "    return jumps"
   ]
  },
  {
   "cell_type": "code",
   "execution_count": 30,
   "id": "8681fc99-0f88-46ca-a6f5-f21f53f63e84",
   "metadata": {},
   "outputs": [
    {
     "name": "stdout",
     "output_type": "stream",
     "text": [
      "120\n"
     ]
    },
    {
     "data": {
      "text/plain": [
       "4"
      ]
     },
     "execution_count": 30,
     "metadata": {},
     "output_type": "execute_result"
    }
   ],
   "source": [
    "efficient_solution(0, 91, 30)"
   ]
  },
  {
   "cell_type": "code",
   "execution_count": null,
   "id": "d2eec811-83ca-4e9c-80af-e0d7e30432d7",
   "metadata": {},
   "outputs": [],
   "source": []
  }
 ],
 "metadata": {
  "kernelspec": {
   "display_name": "Python 3 (ipykernel)",
   "language": "python",
   "name": "python3"
  },
  "language_info": {
   "codemirror_mode": {
    "name": "ipython",
    "version": 3
   },
   "file_extension": ".py",
   "mimetype": "text/x-python",
   "name": "python",
   "nbconvert_exporter": "python",
   "pygments_lexer": "ipython3",
   "version": "3.12.2"
  }
 },
 "nbformat": 4,
 "nbformat_minor": 5
}
