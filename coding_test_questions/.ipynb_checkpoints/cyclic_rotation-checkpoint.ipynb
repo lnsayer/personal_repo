{
 "cells": [
  {
   "cell_type": "code",
   "execution_count": 25,
   "id": "bc3d3186-98ba-4fd7-b849-eebdf1b49d19",
   "metadata": {},
   "outputs": [],
   "source": [
    "def solution(A, K):\n",
    "    # Implement your solution here\n",
    "    for _ in range(K):\n",
    "        last_element = A[-1]\n",
    "        A = [last_element]+A[:-1]\n",
    "    return A\n"
   ]
  },
  {
   "cell_type": "code",
   "execution_count": 35,
   "id": "43acbd7d-9b7d-4815-bcc9-55a32331459f",
   "metadata": {},
   "outputs": [
    {
     "name": "stdout",
     "output_type": "stream",
     "text": [
      "0\n",
      "0\n",
      "1\n",
      "0\n",
      "0\n",
      "1\n"
     ]
    },
    {
     "data": {
      "text/plain": [
       "[1, 0, 0]"
      ]
     },
     "execution_count": 35,
     "metadata": {},
     "output_type": "execute_result"
    }
   ],
   "source": [
    "solution([1,0,0], 6)"
   ]
  },
  {
   "cell_type": "code",
   "execution_count": null,
   "id": "75720170-011f-498a-b6de-38ae1c92c2c0",
   "metadata": {},
   "outputs": [],
   "source": []
  },
  {
   "cell_type": "code",
   "execution_count": null,
   "id": "43841405-79d1-464a-a0c1-a474c5d659de",
   "metadata": {},
   "outputs": [],
   "source": []
  }
 ],
 "metadata": {
  "kernelspec": {
   "display_name": "Python 3 (ipykernel)",
   "language": "python",
   "name": "python3"
  },
  "language_info": {
   "codemirror_mode": {
    "name": "ipython",
    "version": 3
   },
   "file_extension": ".py",
   "mimetype": "text/x-python",
   "name": "python",
   "nbconvert_exporter": "python",
   "pygments_lexer": "ipython3",
   "version": "3.12.2"
  }
 },
 "nbformat": 4,
 "nbformat_minor": 5
}
