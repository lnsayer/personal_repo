{
 "cells": [
  {
   "cell_type": "code",
   "execution_count": 15,
   "id": "983e8dc1-3eb9-4245-b23c-ccc462387beb",
   "metadata": {},
   "outputs": [],
   "source": [
    "def solution(A):\n",
    "    # Implement your solution here\n",
    "    part_sums = []\n",
    "    for i in range(1, len(A)):\n",
    "        print(A[:i], A[i:])\n",
    "        difference = abs(sum(A[:i]) - sum(A[i:]))\n",
    "        part_sums.append(difference)\n",
    "    return min(part_sums)\n",
    "        \n"
   ]
  },
  {
   "cell_type": "code",
   "execution_count": 16,
   "id": "de682fe6-a443-44d0-97e6-0e95bd271e93",
   "metadata": {},
   "outputs": [
    {
     "name": "stdout",
     "output_type": "stream",
     "text": [
      "[3] [1, 2, 4, 3]\n",
      "[3, 1] [2, 4, 3]\n",
      "[3, 1, 2] [4, 3]\n",
      "[3, 1, 2, 4] [3]\n"
     ]
    },
    {
     "data": {
      "text/plain": [
       "1"
      ]
     },
     "execution_count": 16,
     "metadata": {},
     "output_type": "execute_result"
    }
   ],
   "source": [
    "solution([3, 1, 2, 4, 3])"
   ]
  },
  {
   "cell_type": "code",
   "execution_count": null,
   "id": "b8983716-a55c-46f3-8932-789eea99261c",
   "metadata": {},
   "outputs": [],
   "source": []
  }
 ],
 "metadata": {
  "kernelspec": {
   "display_name": "Python 3 (ipykernel)",
   "language": "python",
   "name": "python3"
  },
  "language_info": {
   "codemirror_mode": {
    "name": "ipython",
    "version": 3
   },
   "file_extension": ".py",
   "mimetype": "text/x-python",
   "name": "python",
   "nbconvert_exporter": "python",
   "pygments_lexer": "ipython3",
   "version": "3.12.2"
  }
 },
 "nbformat": 4,
 "nbformat_minor": 5
}
