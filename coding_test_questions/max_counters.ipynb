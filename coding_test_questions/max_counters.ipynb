{
 "cells": [
  {
   "cell_type": "code",
   "execution_count": 51,
   "id": "5d102710-8982-4e00-a8c4-c18bf963ed71",
   "metadata": {},
   "outputs": [],
   "source": [
    "def solution(N, A):\n",
    "    # Implement your solution here\n",
    "    array = [0]*N\n",
    "    print(array)\n",
    "    for i in A:\n",
    "        if 1 <= i and i<= N:\n",
    "            array[i-1] += 1\n",
    "        elif i == N+1:\n",
    "            array = [max(array)]*N\n",
    "        else:\n",
    "            pass\n",
    "    return array\n",
    "    "
   ]
  },
  {
   "cell_type": "code",
   "execution_count": 52,
   "id": "dc087a10-dd6e-41ae-847a-eb0906c3a860",
   "metadata": {},
   "outputs": [
    {
     "name": "stdout",
     "output_type": "stream",
     "text": [
      "[0, 0, 0, 0, 0]\n"
     ]
    },
    {
     "data": {
      "text/plain": [
       "[3, 2, 2, 4, 2]"
      ]
     },
     "execution_count": 52,
     "metadata": {},
     "output_type": "execute_result"
    }
   ],
   "source": [
    "solution(5, [3, 4, 4, 6, 1, 4, 4])"
   ]
  },
  {
   "cell_type": "code",
   "execution_count": 53,
   "id": "0f9ec23c-1c39-4fd2-97c0-674534c8acb9",
   "metadata": {},
   "outputs": [],
   "source": [
    "# efficient Solution: \n",
    "def efficient_solution(N, A):\n",
    "    # Initialize the counters and auxiliary variables\n",
    "    counters = [0] * N\n",
    "    max_value = 0\n",
    "    current_max = 0\n",
    "    \n",
    "    for operation in A:\n",
    "        print(f\"counters: {counters}\")\n",
    "        print(f\"max_value: {max_value}\")\n",
    "        print(f\"current_max: {current_max}\")\n",
    "        print(f\"operation: {operation}\")\n",
    "        \n",
    "        if 1 <= operation <= N:\n",
    "            # Convert the operation to zero-indexed\n",
    "            index = operation - 1\n",
    "            # Ensure the counter is at least current_max\n",
    "            if counters[index] < current_max:\n",
    "                print(\"if counters[index] < current_max:\", counters[index], current_max)\n",
    "                counters[index] = current_max\n",
    "            # Increase the counter\n",
    "            counters[index] += 1\n",
    "            # Update max_value if necessary\n",
    "            if counters[index] > max_value:\n",
    "                max_value = counters[index]\n",
    "        elif operation == N + 1:\n",
    "            # Update current_max to the max_value\n",
    "            current_max = max_value\n",
    "    \n",
    "    # Ensure all counters are at least current_max\n",
    "    for i in range(N):\n",
    "        if counters[i] < current_max:\n",
    "            counters[i] = current_max\n",
    "    \n",
    "    return counters"
   ]
  },
  {
   "cell_type": "code",
   "execution_count": 54,
   "id": "da4eca21-df5c-4cd8-a020-05e40939be8c",
   "metadata": {},
   "outputs": [
    {
     "name": "stdout",
     "output_type": "stream",
     "text": [
      "counters: [0, 0, 0, 0, 0]\n",
      "max_value: 0\n",
      "current_max: 0\n",
      "operation: 3\n",
      "counters: [0, 0, 1, 0, 0]\n",
      "max_value: 1\n",
      "current_max: 0\n",
      "operation: 4\n",
      "counters: [0, 0, 1, 1, 0]\n",
      "max_value: 1\n",
      "current_max: 0\n",
      "operation: 4\n",
      "counters: [0, 0, 1, 2, 0]\n",
      "max_value: 2\n",
      "current_max: 0\n",
      "operation: 6\n",
      "counters: [0, 0, 1, 2, 0]\n",
      "max_value: 2\n",
      "current_max: 2\n",
      "operation: 1\n",
      "if counters[index] < current_max: 0 2\n",
      "counters: [3, 0, 1, 2, 0]\n",
      "max_value: 3\n",
      "current_max: 2\n",
      "operation: 4\n",
      "counters: [3, 0, 1, 3, 0]\n",
      "max_value: 3\n",
      "current_max: 2\n",
      "operation: 4\n"
     ]
    },
    {
     "data": {
      "text/plain": [
       "[3, 2, 2, 4, 2]"
      ]
     },
     "execution_count": 54,
     "metadata": {},
     "output_type": "execute_result"
    }
   ],
   "source": [
    "efficient_solution(5, [3, 4, 4, 6, 1, 4, 4])"
   ]
  },
  {
   "cell_type": "code",
   "execution_count": null,
   "id": "0e3c335d-7cfb-41b1-837f-50af12114f6d",
   "metadata": {},
   "outputs": [],
   "source": []
  },
  {
   "cell_type": "code",
   "execution_count": null,
   "id": "33610eb5-e405-42fb-9255-45821c9a4c2b",
   "metadata": {},
   "outputs": [],
   "source": []
  }
 ],
 "metadata": {
  "kernelspec": {
   "display_name": "Python 3 (ipykernel)",
   "language": "python",
   "name": "python3"
  },
  "language_info": {
   "codemirror_mode": {
    "name": "ipython",
    "version": 3
   },
   "file_extension": ".py",
   "mimetype": "text/x-python",
   "name": "python",
   "nbconvert_exporter": "python",
   "pygments_lexer": "ipython3",
   "version": "3.12.2"
  }
 },
 "nbformat": 4,
 "nbformat_minor": 5
}
